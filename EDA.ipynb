{
  "cells": [
    {
      "cell_type": "code",
      "metadata": {
        "cell_id": "00000-48697490-59ef-4614-a3dd-568e0292272b",
        "deepnote_to_be_reexecuted": false,
        "source_hash": "97550935",
        "execution_millis": 9171,
        "execution_start": 1612899458003,
        "deepnote_cell_type": "code"
      },
      "source": "import time\nimport nltk\nimport spacy\nimport pandas as pd\nimport numpy as np\nimport seaborn as sns\nimport matplotlib.pyplot as plt\nimport matplotlib",
      "execution_count": null,
      "outputs": []
    },
    {
      "cell_type": "code",
      "metadata": {
        "tags": [],
        "cell_id": "00001-7a992beb-c938-47b5-88d9-708a6e2c748b",
        "deepnote_to_be_reexecuted": false,
        "source_hash": "4fd71912",
        "execution_millis": 91,
        "execution_start": 1612899467174,
        "deepnote_cell_type": "code"
      },
      "source": "from plotly.offline import iplot",
      "execution_count": null,
      "outputs": []
    },
    {
      "cell_type": "code",
      "metadata": {
        "tags": [],
        "cell_id": "00002-9d8e3c83-5d6b-43fe-8189-25c0e11e5bdb",
        "deepnote_to_be_reexecuted": false,
        "source_hash": "d5355d33",
        "execution_millis": 4192,
        "execution_start": 1612899467266,
        "deepnote_cell_type": "code"
      },
      "source": "!pip3 install wordcloud",
      "execution_count": null,
      "outputs": [
        {
          "name": "stdout",
          "text": "Collecting wordcloud\n  Downloading wordcloud-1.8.1-cp37-cp37m-manylinux1_x86_64.whl (366 kB)\n\u001b[K     |████████████████████████████████| 366 kB 24.5 MB/s \n\u001b[?25hRequirement already satisfied: numpy>=1.6.1 in /shared-libs/python3.7/py/lib/python3.7/site-packages (from wordcloud) (1.19.5)\nRequirement already satisfied: pillow in /shared-libs/python3.7/py/lib/python3.7/site-packages (from wordcloud) (8.1.0)\nRequirement already satisfied: matplotlib in /shared-libs/python3.7/py/lib/python3.7/site-packages (from wordcloud) (3.3.4)\nRequirement already satisfied: pyparsing!=2.0.4,!=2.1.2,!=2.1.6,>=2.0.3 in /shared-libs/python3.7/py-core/lib/python3.7/site-packages (from matplotlib->wordcloud) (2.4.7)\nRequirement already satisfied: cycler>=0.10 in /shared-libs/python3.7/py/lib/python3.7/site-packages (from matplotlib->wordcloud) (0.10.0)\nRequirement already satisfied: kiwisolver>=1.0.1 in /shared-libs/python3.7/py/lib/python3.7/site-packages (from matplotlib->wordcloud) (1.3.1)\nRequirement already satisfied: python-dateutil>=2.1 in /shared-libs/python3.7/py-core/lib/python3.7/site-packages (from matplotlib->wordcloud) (2.8.1)\nRequirement already satisfied: six in /shared-libs/python3.7/py-core/lib/python3.7/site-packages (from cycler>=0.10->matplotlib->wordcloud) (1.15.0)\nInstalling collected packages: wordcloud\nSuccessfully installed wordcloud-1.8.1\n\u001b[33mWARNING: You are using pip version 20.1.1; however, version 21.0.1 is available.\nYou should consider upgrading via the '/root/venv/bin/python -m pip install --upgrade pip' command.\u001b[0m\n",
          "output_type": "stream"
        }
      ]
    },
    {
      "cell_type": "markdown",
      "source": "### Import data",
      "metadata": {
        "cell_id": "00001-a80b3554-c15b-4bd5-8d70-ffd934eeaad5",
        "deepnote_cell_type": "markdown"
      }
    },
    {
      "cell_type": "code",
      "metadata": {
        "cell_id": "00002-337faf12-9136-4665-91b6-89b7bded481d",
        "deepnote_to_be_reexecuted": false,
        "source_hash": "f438e6b8",
        "execution_millis": 3927,
        "execution_start": 1612899471457,
        "deepnote_cell_type": "code"
      },
      "source": "data = pd.read_csv('data/train.csv')",
      "execution_count": null,
      "outputs": []
    },
    {
      "cell_type": "code",
      "metadata": {
        "tags": [],
        "cell_id": "00003-e6e086ce-ef21-44ad-9f1b-d86a02a2ba46",
        "deepnote_to_be_reexecuted": false,
        "source_hash": "f7ee9676",
        "execution_millis": 44,
        "execution_start": 1612899475552,
        "deepnote_cell_type": "code"
      },
      "source": "print(data.info())",
      "execution_count": null,
      "outputs": [
        {
          "name": "stdout",
          "text": "<class 'pandas.core.frame.DataFrame'>\nRangeIndex: 426340 entries, 0 to 426339\nData columns (total 10 columns):\n #   Column                  Non-Null Count   Dtype \n---  ------                  --------------   ----- \n 0   Id                      426340 non-null  int64 \n 1   ProductId               426340 non-null  object\n 2   UserId                  426340 non-null  object\n 3   ProfileName             426326 non-null  object\n 4   HelpfulnessNumerator    426340 non-null  int64 \n 5   HelpfulnessDenominator  426340 non-null  int64 \n 6   Score                   426340 non-null  int64 \n 7   Time                    426340 non-null  int64 \n 8   Summary                 426320 non-null  object\n 9   Text                    426340 non-null  object\ndtypes: int64(5), object(5)\nmemory usage: 32.5+ MB\nNone\n",
          "output_type": "stream"
        }
      ]
    },
    {
      "cell_type": "code",
      "metadata": {
        "scrolled": true,
        "cell_id": "00003-c8de7b61-1a78-4420-9672-a9d48091f84e",
        "deepnote_to_be_reexecuted": false,
        "source_hash": "ae3db336",
        "execution_millis": 36,
        "execution_start": 1612899475590,
        "deepnote_cell_type": "code"
      },
      "source": "data.dtypes",
      "execution_count": null,
      "outputs": [
        {
          "output_type": "execute_result",
          "execution_count": 6,
          "data": {
            "text/plain": "Id                         int64\nProductId                 object\nUserId                    object\nProfileName               object\nHelpfulnessNumerator       int64\nHelpfulnessDenominator     int64\nScore                      int64\nTime                       int64\nSummary                   object\nText                      object\ndtype: object"
          },
          "metadata": {}
        }
      ]
    },
    {
      "cell_type": "code",
      "metadata": {
        "tags": [],
        "cell_id": "00006-a96f94c1-b75b-486f-a1b6-f67efce9db74",
        "deepnote_to_be_reexecuted": false,
        "source_hash": "d786443f",
        "execution_millis": 242,
        "execution_start": 1612899475629,
        "deepnote_cell_type": "code"
      },
      "source": "data.describe()",
      "execution_count": null,
      "outputs": [
        {
          "output_type": "execute_result",
          "execution_count": 7,
          "data": {
            "application/vnd.deepnote.dataframe.v2+json": {
              "row_count": 8,
              "column_count": 5,
              "columns": [
                {
                  "name": "Id",
                  "dtype": "float64",
                  "stats": {
                    "unique_count": 8,
                    "nan_count": 0,
                    "min": 1,
                    "max": 568454,
                    "histogram": [
                      {
                        "bin_start": 1,
                        "bin_end": 56846.3,
                        "count": 1
                      },
                      {
                        "bin_start": 56846.3,
                        "bin_end": 113691.6,
                        "count": 0
                      },
                      {
                        "bin_start": 113691.6,
                        "bin_end": 170536.90000000002,
                        "count": 2
                      },
                      {
                        "bin_start": 170536.90000000002,
                        "bin_end": 227382.2,
                        "count": 0
                      },
                      {
                        "bin_start": 227382.2,
                        "bin_end": 284227.5,
                        "count": 0
                      },
                      {
                        "bin_start": 284227.5,
                        "bin_end": 341072.80000000005,
                        "count": 2
                      },
                      {
                        "bin_start": 341072.80000000005,
                        "bin_end": 397918.10000000003,
                        "count": 0
                      },
                      {
                        "bin_start": 397918.10000000003,
                        "bin_end": 454763.4,
                        "count": 2
                      },
                      {
                        "bin_start": 454763.4,
                        "bin_end": 511608.7,
                        "count": 0
                      },
                      {
                        "bin_start": 511608.7,
                        "bin_end": 568454,
                        "count": 1
                      }
                    ]
                  }
                },
                {
                  "name": "HelpfulnessNumerator",
                  "dtype": "float64",
                  "stats": {
                    "unique_count": 6,
                    "nan_count": 0,
                    "min": 0,
                    "max": 426340,
                    "histogram": [
                      {
                        "bin_start": 0,
                        "bin_end": 42634,
                        "count": 7
                      },
                      {
                        "bin_start": 42634,
                        "bin_end": 85268,
                        "count": 0
                      },
                      {
                        "bin_start": 85268,
                        "bin_end": 127902,
                        "count": 0
                      },
                      {
                        "bin_start": 127902,
                        "bin_end": 170536,
                        "count": 0
                      },
                      {
                        "bin_start": 170536,
                        "bin_end": 213170,
                        "count": 0
                      },
                      {
                        "bin_start": 213170,
                        "bin_end": 255804,
                        "count": 0
                      },
                      {
                        "bin_start": 255804,
                        "bin_end": 298438,
                        "count": 0
                      },
                      {
                        "bin_start": 298438,
                        "bin_end": 341072,
                        "count": 0
                      },
                      {
                        "bin_start": 341072,
                        "bin_end": 383706,
                        "count": 0
                      },
                      {
                        "bin_start": 383706,
                        "bin_end": 426340,
                        "count": 1
                      }
                    ]
                  }
                },
                {
                  "name": "HelpfulnessDenominator",
                  "dtype": "float64",
                  "stats": {
                    "unique_count": 7,
                    "nan_count": 0,
                    "min": 0,
                    "max": 426340,
                    "histogram": [
                      {
                        "bin_start": 0,
                        "bin_end": 42634,
                        "count": 7
                      },
                      {
                        "bin_start": 42634,
                        "bin_end": 85268,
                        "count": 0
                      },
                      {
                        "bin_start": 85268,
                        "bin_end": 127902,
                        "count": 0
                      },
                      {
                        "bin_start": 127902,
                        "bin_end": 170536,
                        "count": 0
                      },
                      {
                        "bin_start": 170536,
                        "bin_end": 213170,
                        "count": 0
                      },
                      {
                        "bin_start": 213170,
                        "bin_end": 255804,
                        "count": 0
                      },
                      {
                        "bin_start": 255804,
                        "bin_end": 298438,
                        "count": 0
                      },
                      {
                        "bin_start": 298438,
                        "bin_end": 341072,
                        "count": 0
                      },
                      {
                        "bin_start": 341072,
                        "bin_end": 383706,
                        "count": 0
                      },
                      {
                        "bin_start": 383706,
                        "bin_end": 426340,
                        "count": 1
                      }
                    ]
                  }
                },
                {
                  "name": "Score",
                  "dtype": "float64",
                  "stats": {
                    "unique_count": 6,
                    "nan_count": 0,
                    "min": 1,
                    "max": 426340,
                    "histogram": [
                      {
                        "bin_start": 1,
                        "bin_end": 42634.9,
                        "count": 7
                      },
                      {
                        "bin_start": 42634.9,
                        "bin_end": 85268.8,
                        "count": 0
                      },
                      {
                        "bin_start": 85268.8,
                        "bin_end": 127902.70000000001,
                        "count": 0
                      },
                      {
                        "bin_start": 127902.70000000001,
                        "bin_end": 170536.6,
                        "count": 0
                      },
                      {
                        "bin_start": 170536.6,
                        "bin_end": 213170.5,
                        "count": 0
                      },
                      {
                        "bin_start": 213170.5,
                        "bin_end": 255804.40000000002,
                        "count": 0
                      },
                      {
                        "bin_start": 255804.40000000002,
                        "bin_end": 298438.3,
                        "count": 0
                      },
                      {
                        "bin_start": 298438.3,
                        "bin_end": 341072.2,
                        "count": 0
                      },
                      {
                        "bin_start": 341072.2,
                        "bin_end": 383706.10000000003,
                        "count": 0
                      },
                      {
                        "bin_start": 383706.10000000003,
                        "bin_end": 426340,
                        "count": 1
                      }
                    ]
                  }
                },
                {
                  "name": "Time",
                  "dtype": "float64",
                  "stats": {
                    "unique_count": 8,
                    "nan_count": 0,
                    "min": 426340,
                    "max": 1351209600,
                    "histogram": [
                      {
                        "bin_start": 426340,
                        "bin_end": 135504666,
                        "count": 2
                      },
                      {
                        "bin_start": 135504666,
                        "bin_end": 270582992,
                        "count": 0
                      },
                      {
                        "bin_start": 270582992,
                        "bin_end": 405661318,
                        "count": 0
                      },
                      {
                        "bin_start": 405661318,
                        "bin_end": 540739644,
                        "count": 0
                      },
                      {
                        "bin_start": 540739644,
                        "bin_end": 675817970,
                        "count": 0
                      },
                      {
                        "bin_start": 675817970,
                        "bin_end": 810896296,
                        "count": 0
                      },
                      {
                        "bin_start": 810896296,
                        "bin_end": 945974622,
                        "count": 1
                      },
                      {
                        "bin_start": 945974622,
                        "bin_end": 1081052948,
                        "count": 0
                      },
                      {
                        "bin_start": 1081052948,
                        "bin_end": 1216131274,
                        "count": 0
                      },
                      {
                        "bin_start": 1216131274,
                        "bin_end": 1351209600,
                        "count": 5
                      }
                    ]
                  }
                },
                {
                  "name": "_deepnote_index_column",
                  "dtype": "object"
                }
              ],
              "rows_top": [
                {
                  "Id": 426340,
                  "HelpfulnessNumerator": 426340,
                  "HelpfulnessDenominator": 426340,
                  "Score": 426340,
                  "Time": 426340,
                  "_deepnote_index_column": "count"
                },
                {
                  "Id": 284300.799617676,
                  "HelpfulnessNumerator": 1.7331589810949009,
                  "HelpfulnessDenominator": 2.2202444058732467,
                  "Score": 4.183454519866773,
                  "Time": 1296221826.1331332,
                  "_deepnote_index_column": "mean"
                },
                {
                  "Id": 164012.600602299,
                  "HelpfulnessNumerator": 7.328183546134954,
                  "HelpfulnessDenominator": 8.014894498406171,
                  "Score": 1.3105772457472882,
                  "Time": 48080606.83869421,
                  "_deepnote_index_column": "std"
                },
                {
                  "Id": 1,
                  "HelpfulnessNumerator": 0,
                  "HelpfulnessDenominator": 0,
                  "Score": 1,
                  "Time": 940809600,
                  "_deepnote_index_column": "min"
                },
                {
                  "Id": 142363.75,
                  "HelpfulnessNumerator": 0,
                  "HelpfulnessDenominator": 0,
                  "Score": 4,
                  "Time": 1271203200,
                  "_deepnote_index_column": "25%"
                },
                {
                  "Id": 284308.5,
                  "HelpfulnessNumerator": 0,
                  "HelpfulnessDenominator": 1,
                  "Score": 5,
                  "Time": 1311033600,
                  "_deepnote_index_column": "50%"
                },
                {
                  "Id": 426183.25,
                  "HelpfulnessNumerator": 2,
                  "HelpfulnessDenominator": 2,
                  "Score": 5,
                  "Time": 1332720000,
                  "_deepnote_index_column": "75%"
                },
                {
                  "Id": 568454,
                  "HelpfulnessNumerator": 844,
                  "HelpfulnessDenominator": 923,
                  "Score": 5,
                  "Time": 1351209600,
                  "_deepnote_index_column": "max"
                }
              ],
              "rows_bottom": null
            },
            "text/plain": "                  Id  HelpfulnessNumerator  HelpfulnessDenominator  \\\ncount  426340.000000         426340.000000           426340.000000   \nmean   284300.799618              1.733159                2.220244   \nstd    164012.600602              7.328184                8.014894   \nmin         1.000000              0.000000                0.000000   \n25%    142363.750000              0.000000                0.000000   \n50%    284308.500000              0.000000                1.000000   \n75%    426183.250000              2.000000                2.000000   \nmax    568454.000000            844.000000              923.000000   \n\n               Score          Time  \ncount  426340.000000  4.263400e+05  \nmean        4.183455  1.296222e+09  \nstd         1.310577  4.808061e+07  \nmin         1.000000  9.408096e+08  \n25%         4.000000  1.271203e+09  \n50%         5.000000  1.311034e+09  \n75%         5.000000  1.332720e+09  \nmax         5.000000  1.351210e+09  ",
            "text/html": "<div>\n<style scoped>\n    .dataframe tbody tr th:only-of-type {\n        vertical-align: middle;\n    }\n\n    .dataframe tbody tr th {\n        vertical-align: top;\n    }\n\n    .dataframe thead th {\n        text-align: right;\n    }\n</style>\n<table border=\"1\" class=\"dataframe\">\n  <thead>\n    <tr style=\"text-align: right;\">\n      <th></th>\n      <th>Id</th>\n      <th>HelpfulnessNumerator</th>\n      <th>HelpfulnessDenominator</th>\n      <th>Score</th>\n      <th>Time</th>\n    </tr>\n  </thead>\n  <tbody>\n    <tr>\n      <th>count</th>\n      <td>426340.000000</td>\n      <td>426340.000000</td>\n      <td>426340.000000</td>\n      <td>426340.000000</td>\n      <td>4.263400e+05</td>\n    </tr>\n    <tr>\n      <th>mean</th>\n      <td>284300.799618</td>\n      <td>1.733159</td>\n      <td>2.220244</td>\n      <td>4.183455</td>\n      <td>1.296222e+09</td>\n    </tr>\n    <tr>\n      <th>std</th>\n      <td>164012.600602</td>\n      <td>7.328184</td>\n      <td>8.014894</td>\n      <td>1.310577</td>\n      <td>4.808061e+07</td>\n    </tr>\n    <tr>\n      <th>min</th>\n      <td>1.000000</td>\n      <td>0.000000</td>\n      <td>0.000000</td>\n      <td>1.000000</td>\n      <td>9.408096e+08</td>\n    </tr>\n    <tr>\n      <th>25%</th>\n      <td>142363.750000</td>\n      <td>0.000000</td>\n      <td>0.000000</td>\n      <td>4.000000</td>\n      <td>1.271203e+09</td>\n    </tr>\n    <tr>\n      <th>50%</th>\n      <td>284308.500000</td>\n      <td>0.000000</td>\n      <td>1.000000</td>\n      <td>5.000000</td>\n      <td>1.311034e+09</td>\n    </tr>\n    <tr>\n      <th>75%</th>\n      <td>426183.250000</td>\n      <td>2.000000</td>\n      <td>2.000000</td>\n      <td>5.000000</td>\n      <td>1.332720e+09</td>\n    </tr>\n    <tr>\n      <th>max</th>\n      <td>568454.000000</td>\n      <td>844.000000</td>\n      <td>923.000000</td>\n      <td>5.000000</td>\n      <td>1.351210e+09</td>\n    </tr>\n  </tbody>\n</table>\n</div>"
          },
          "metadata": {}
        }
      ]
    },
    {
      "cell_type": "code",
      "metadata": {
        "tags": [],
        "cell_id": "00008-0f95263a-6e03-480d-9a5a-93849b046402",
        "deepnote_to_be_reexecuted": false,
        "source_hash": "e0784a89",
        "execution_millis": 614,
        "execution_start": 1612899553033,
        "deepnote_cell_type": "code"
      },
      "source": "print('Number of unique products:', len(data['ProductId'].unique()))\nprint('Number of unique users:', len(data['UserId'].unique()))\nprint('Number of unique reviews:', len(data['Text'].unique()))\nprint('Number of unique summaries:', len(data['Summary'].unique()))\n\n",
      "execution_count": null,
      "outputs": [
        {
          "name": "stdout",
          "text": "Number of unique products: 63294\nNumber of unique users: 209987\nNumber of unique reviews: 308235\nNumber of unique summaries: 234596\n",
          "output_type": "stream"
        }
      ]
    },
    {
      "cell_type": "markdown",
      "source": "#### Check for null/empty values ",
      "metadata": {
        "cell_id": "00004-c1ab6b8d-f78a-4818-b5e4-03d3fee8521e",
        "deepnote_cell_type": "markdown"
      }
    },
    {
      "cell_type": "code",
      "metadata": {
        "scrolled": true,
        "cell_id": "00005-440d430f-590b-44ec-831c-d1ffe7224912",
        "deepnote_to_be_reexecuted": false,
        "source_hash": "28b1de53",
        "execution_millis": 5,
        "execution_start": 1612899476294,
        "deepnote_cell_type": "code"
      },
      "source": "nulls = data.isnull().sum()\nnulls[nulls > 0]",
      "execution_count": null,
      "outputs": [
        {
          "output_type": "execute_result",
          "execution_count": 9,
          "data": {
            "text/plain": "ProfileName    14\nSummary        20\ndtype: int64"
          },
          "metadata": {}
        }
      ]
    },
    {
      "cell_type": "markdown",
      "source": "We will remove rows where any column value is empty/null",
      "metadata": {
        "cell_id": "00006-af2e30c1-a0da-40c3-a868-3d369ff8cdf4",
        "deepnote_cell_type": "markdown"
      }
    },
    {
      "cell_type": "code",
      "metadata": {
        "cell_id": "00007-57abd2ff-2255-4654-8442-99c2bcd44026",
        "deepnote_to_be_reexecuted": false,
        "source_hash": "86cc93ed",
        "execution_millis": 319,
        "execution_start": 1612899476480,
        "deepnote_cell_type": "code"
      },
      "source": "data = data.dropna() # Remove all rows with NaN values\n\n# Recheck for nulls\nnulls = data.isnull().sum()\nnulls[nulls > 0]",
      "execution_count": null,
      "outputs": [
        {
          "output_type": "execute_result",
          "execution_count": 10,
          "data": {
            "text/plain": "Series([], dtype: int64)"
          },
          "metadata": {}
        }
      ]
    },
    {
      "cell_type": "markdown",
      "source": "We have no more empty data",
      "metadata": {
        "cell_id": "00008-c268f1a1-7211-466a-830f-082b526d80f8",
        "deepnote_cell_type": "markdown"
      }
    },
    {
      "cell_type": "markdown",
      "source": "### Analyze score distribution",
      "metadata": {
        "cell_id": "00009-e080f04b-44fc-4e68-bce9-2b384f35b874",
        "deepnote_cell_type": "markdown"
      }
    },
    {
      "cell_type": "code",
      "metadata": {
        "scrolled": false,
        "cell_id": "00010-0070fc74-a10c-43d4-ba26-b86b7d1c916a",
        "deepnote_to_be_reexecuted": false,
        "source_hash": "cdcad8e7",
        "execution_millis": 310,
        "execution_start": 1612899476772,
        "deepnote_cell_type": "code"
      },
      "source": "# Columns to analyze with histograms\ndata.Score.value_counts().sort_index().plot(\n    kind='bar',\n    color='0.3',\n    figsize=(7,7)\n)\nplt.title('Distribution of Scores')\nplt.ylabel('Frequency')\nplt.xlabel('Score')\nplt.xticks(rotation=0) # set axis rotation to normal\nplt.show()",
      "execution_count": null,
      "outputs": [
        {
          "data": {
            "text/plain": "<Figure size 504x504 with 1 Axes>",
            "image/png": "[encoded data removed]"
          },
          "metadata": {
            "needs_background": "light"
          },
          "output_type": "display_data"
        }
      ]
    },
    {
      "cell_type": "markdown",
      "source": "We can see that the reviews are overwhelmingly 5 star rated. This may impose a bias on our model due to the uneven distribution of our training data.",
      "metadata": {
        "cell_id": "00011-fc5b60df-9796-42bf-8fa6-9d0bbe47a15b",
        "deepnote_cell_type": "markdown"
      }
    },
    {
      "cell_type": "code",
      "metadata": {
        "tags": [],
        "cell_id": "00016-0d4ee08d-6beb-4944-bab4-af96cdfe44cd",
        "deepnote_to_be_reexecuted": false,
        "source_hash": "38ac6b57",
        "execution_millis": 1,
        "execution_start": 1612900692678,
        "deepnote_cell_type": "code"
      },
      "source": "from wordcloud import WordCloud, STOPWORDS ",
      "execution_count": null,
      "outputs": []
    },
    {
      "cell_type": "code",
      "metadata": {
        "tags": [],
        "cell_id": "00018-050744bd-49e0-4ac4-a16a-5ca6f44fed02",
        "deepnote_to_be_reexecuted": false,
        "source_hash": "61606614",
        "execution_millis": 48,
        "deepnote_cell_type": "code"
      },
      "source": "data['date'] = pd.to_datetime(data['Time'],unit='s')\ndate_data = data[['date','Score']]\ndate_data.date = date_data.date.dt.strftime('%Y-%m-%d')\ndate_data = date_data.sort_values(by=['date'])\ndate_data.head()",
      "execution_count": null,
      "outputs": [
        {
          "name": "stderr",
          "text": "/shared-libs/python3.7/py/lib/python3.7/site-packages/pandas/core/generic.py:5491: SettingWithCopyWarning:\n\n\nA value is trying to be set on a copy of a slice from a DataFrame.\nTry using .loc[row_indexer,col_indexer] = value instead\n\nSee the caveats in the documentation: https://pandas.pydata.org/pandas-docs/stable/user_guide/indexing.html#returning-a-view-versus-a-copy\n\n",
          "output_type": "stream"
        },
        {
          "output_type": "error",
          "ename": "KeyboardInterrupt",
          "evalue": "",
          "traceback": [
            "\u001b[0;31m---------------------------------------------------------------------------\u001b[0m",
            "\u001b[0;31mKeyboardInterrupt\u001b[0m                         Traceback (most recent call last)",
            "\u001b[0;32m<ipython-input-77-e1267a41355f>\u001b[0m in \u001b[0;36m<module>\u001b[0;34m\u001b[0m\n\u001b[1;32m      2\u001b[0m \u001b[0mdate_data\u001b[0m \u001b[0;34m=\u001b[0m \u001b[0mdata\u001b[0m\u001b[0;34m[\u001b[0m\u001b[0;34m[\u001b[0m\u001b[0;34m'date'\u001b[0m\u001b[0;34m,\u001b[0m\u001b[0;34m'Score'\u001b[0m\u001b[0;34m]\u001b[0m\u001b[0;34m]\u001b[0m\u001b[0;34m\u001b[0m\u001b[0;34m\u001b[0m\u001b[0m\n\u001b[1;32m      3\u001b[0m \u001b[0mdate_data\u001b[0m\u001b[0;34m.\u001b[0m\u001b[0mdate\u001b[0m \u001b[0;34m=\u001b[0m \u001b[0mdate_data\u001b[0m\u001b[0;34m.\u001b[0m\u001b[0mdate\u001b[0m\u001b[0;34m.\u001b[0m\u001b[0mdt\u001b[0m\u001b[0;34m.\u001b[0m\u001b[0mstrftime\u001b[0m\u001b[0;34m(\u001b[0m\u001b[0;34m'%Y-%m-%d'\u001b[0m\u001b[0;34m)\u001b[0m\u001b[0;34m\u001b[0m\u001b[0;34m\u001b[0m\u001b[0m\n\u001b[0;32m----> 4\u001b[0;31m \u001b[0mdate_data\u001b[0m \u001b[0;34m=\u001b[0m \u001b[0mdate_data\u001b[0m\u001b[0;34m.\u001b[0m\u001b[0msort_values\u001b[0m\u001b[0;34m(\u001b[0m\u001b[0mby\u001b[0m\u001b[0;34m=\u001b[0m\u001b[0;34m[\u001b[0m\u001b[0;34m'date'\u001b[0m\u001b[0;34m]\u001b[0m\u001b[0;34m)\u001b[0m\u001b[0;34m\u001b[0m\u001b[0;34m\u001b[0m\u001b[0m\n\u001b[0m\u001b[1;32m      5\u001b[0m \u001b[0mdate_data\u001b[0m\u001b[0;34m.\u001b[0m\u001b[0mhead\u001b[0m\u001b[0;34m(\u001b[0m\u001b[0;34m)\u001b[0m\u001b[0;34m\u001b[0m\u001b[0;34m\u001b[0m\u001b[0m\n",
            "\u001b[0;32m/shared-libs/python3.7/py/lib/python3.7/site-packages/pandas/core/frame.py\u001b[0m in \u001b[0;36msort_values\u001b[0;34m(self, by, axis, ascending, inplace, kind, na_position, ignore_index, key)\u001b[0m\n\u001b[1;32m   5460\u001b[0m \u001b[0;34m\u001b[0m\u001b[0m\n\u001b[1;32m   5461\u001b[0m             indexer = nargsort(\n\u001b[0;32m-> 5462\u001b[0;31m                 \u001b[0mk\u001b[0m\u001b[0;34m,\u001b[0m \u001b[0mkind\u001b[0m\u001b[0;34m=\u001b[0m\u001b[0mkind\u001b[0m\u001b[0;34m,\u001b[0m \u001b[0mascending\u001b[0m\u001b[0;34m=\u001b[0m\u001b[0mascending\u001b[0m\u001b[0;34m,\u001b[0m \u001b[0mna_position\u001b[0m\u001b[0;34m=\u001b[0m\u001b[0mna_position\u001b[0m\u001b[0;34m,\u001b[0m \u001b[0mkey\u001b[0m\u001b[0;34m=\u001b[0m\u001b[0mkey\u001b[0m\u001b[0;34m\u001b[0m\u001b[0;34m\u001b[0m\u001b[0m\n\u001b[0m\u001b[1;32m   5463\u001b[0m             )\n\u001b[1;32m   5464\u001b[0m \u001b[0;34m\u001b[0m\u001b[0m\n",
            "\u001b[0;32m/shared-libs/python3.7/py/lib/python3.7/site-packages/pandas/core/sorting.py\u001b[0m in \u001b[0;36mnargsort\u001b[0;34m(items, kind, ascending, na_position, key, mask)\u001b[0m\n\u001b[1;32m    377\u001b[0m         \u001b[0mnon_nans\u001b[0m \u001b[0;34m=\u001b[0m \u001b[0mnon_nans\u001b[0m\u001b[0;34m[\u001b[0m\u001b[0;34m:\u001b[0m\u001b[0;34m:\u001b[0m\u001b[0;34m-\u001b[0m\u001b[0;36m1\u001b[0m\u001b[0;34m]\u001b[0m\u001b[0;34m\u001b[0m\u001b[0;34m\u001b[0m\u001b[0m\n\u001b[1;32m    378\u001b[0m         \u001b[0mnon_nan_idx\u001b[0m \u001b[0;34m=\u001b[0m \u001b[0mnon_nan_idx\u001b[0m\u001b[0;34m[\u001b[0m\u001b[0;34m:\u001b[0m\u001b[0;34m:\u001b[0m\u001b[0;34m-\u001b[0m\u001b[0;36m1\u001b[0m\u001b[0;34m]\u001b[0m\u001b[0;34m\u001b[0m\u001b[0;34m\u001b[0m\u001b[0m\n\u001b[0;32m--> 379\u001b[0;31m     \u001b[0mindexer\u001b[0m \u001b[0;34m=\u001b[0m \u001b[0mnon_nan_idx\u001b[0m\u001b[0;34m[\u001b[0m\u001b[0mnon_nans\u001b[0m\u001b[0;34m.\u001b[0m\u001b[0margsort\u001b[0m\u001b[0;34m(\u001b[0m\u001b[0mkind\u001b[0m\u001b[0;34m=\u001b[0m\u001b[0mkind\u001b[0m\u001b[0;34m)\u001b[0m\u001b[0;34m]\u001b[0m\u001b[0;34m\u001b[0m\u001b[0;34m\u001b[0m\u001b[0m\n\u001b[0m\u001b[1;32m    380\u001b[0m     \u001b[0;32mif\u001b[0m \u001b[0;32mnot\u001b[0m \u001b[0mascending\u001b[0m\u001b[0;34m:\u001b[0m\u001b[0;34m\u001b[0m\u001b[0;34m\u001b[0m\u001b[0m\n\u001b[1;32m    381\u001b[0m         \u001b[0mindexer\u001b[0m \u001b[0;34m=\u001b[0m \u001b[0mindexer\u001b[0m\u001b[0;34m[\u001b[0m\u001b[0;34m:\u001b[0m\u001b[0;34m:\u001b[0m\u001b[0;34m-\u001b[0m\u001b[0;36m1\u001b[0m\u001b[0;34m]\u001b[0m\u001b[0;34m\u001b[0m\u001b[0;34m\u001b[0m\u001b[0m\n",
            "\u001b[0;31mKeyboardInterrupt\u001b[0m: "
          ]
        }
      ]
    },
    {
      "cell_type": "markdown",
      "source": "### Analyze helpfulness score",
      "metadata": {
        "cell_id": "00012-1f4f9bc2-9318-4acd-8283-3184bb874709",
        "deepnote_cell_type": "markdown"
      }
    },
    {
      "cell_type": "markdown",
      "source": "#### Generate a column for helpfulness score ",
      "metadata": {
        "cell_id": "00013-df58a1d7-6ea0-497f-9d64-471aca1f077d",
        "deepnote_cell_type": "markdown"
      }
    },
    {
      "cell_type": "code",
      "metadata": {
        "cell_id": "00014-f5287cde-7d19-4edc-a945-f6f258990220",
        "deepnote_to_be_reexecuted": false,
        "source_hash": "acc932b9",
        "execution_millis": 149,
        "execution_start": 1612900699394,
        "deepnote_cell_type": "code"
      },
      "source": "# Calculate the helpfulness\ndata['Helpfulness'] = data['HelpfulnessNumerator']/data['HelpfulnessDenominator']\n# For scores where the denominator was 0, replace NaN with zeros\ndata['Helpfulness'] = data['Helpfulness'].fillna(0)\ndata[['HelpfulnessNumerator', 'HelpfulnessDenominator', 'Helpfulness']].head()",
      "execution_count": null,
      "outputs": [
        {
          "output_type": "execute_result",
          "execution_count": 38,
          "data": {
            "application/vnd.deepnote.dataframe.v2+json": {
              "row_count": 5,
              "column_count": 3,
              "columns": [
                {
                  "name": "HelpfulnessNumerator",
                  "dtype": "int64",
                  "stats": {
                    "unique_count": 2,
                    "nan_count": 0,
                    "min": 0,
                    "max": 1,
                    "histogram": [
                      {
                        "bin_start": 0,
                        "bin_end": 0.1,
                        "count": 4
                      },
                      {
                        "bin_start": 0.1,
                        "bin_end": 0.2,
                        "count": 0
                      },
                      {
                        "bin_start": 0.2,
                        "bin_end": 0.30000000000000004,
                        "count": 0
                      },
                      {
                        "bin_start": 0.30000000000000004,
                        "bin_end": 0.4,
                        "count": 0
                      },
                      {
                        "bin_start": 0.4,
                        "bin_end": 0.5,
                        "count": 0
                      },
                      {
                        "bin_start": 0.5,
                        "bin_end": 0.6000000000000001,
                        "count": 0
                      },
                      {
                        "bin_start": 0.6000000000000001,
                        "bin_end": 0.7000000000000001,
                        "count": 0
                      },
                      {
                        "bin_start": 0.7000000000000001,
                        "bin_end": 0.8,
                        "count": 0
                      },
                      {
                        "bin_start": 0.8,
                        "bin_end": 0.9,
                        "count": 0
                      },
                      {
                        "bin_start": 0.9,
                        "bin_end": 1,
                        "count": 1
                      }
                    ]
                  }
                },
                {
                  "name": "HelpfulnessDenominator",
                  "dtype": "int64",
                  "stats": {
                    "unique_count": 2,
                    "nan_count": 0,
                    "min": 0,
                    "max": 1,
                    "histogram": [
                      {
                        "bin_start": 0,
                        "bin_end": 0.1,
                        "count": 4
                      },
                      {
                        "bin_start": 0.1,
                        "bin_end": 0.2,
                        "count": 0
                      },
                      {
                        "bin_start": 0.2,
                        "bin_end": 0.30000000000000004,
                        "count": 0
                      },
                      {
                        "bin_start": 0.30000000000000004,
                        "bin_end": 0.4,
                        "count": 0
                      },
                      {
                        "bin_start": 0.4,
                        "bin_end": 0.5,
                        "count": 0
                      },
                      {
                        "bin_start": 0.5,
                        "bin_end": 0.6000000000000001,
                        "count": 0
                      },
                      {
                        "bin_start": 0.6000000000000001,
                        "bin_end": 0.7000000000000001,
                        "count": 0
                      },
                      {
                        "bin_start": 0.7000000000000001,
                        "bin_end": 0.8,
                        "count": 0
                      },
                      {
                        "bin_start": 0.8,
                        "bin_end": 0.9,
                        "count": 0
                      },
                      {
                        "bin_start": 0.9,
                        "bin_end": 1,
                        "count": 1
                      }
                    ]
                  }
                },
                {
                  "name": "Helpfulness",
                  "dtype": "float64",
                  "stats": {
                    "unique_count": 2,
                    "nan_count": 0,
                    "min": 0,
                    "max": 1,
                    "histogram": [
                      {
                        "bin_start": 0,
                        "bin_end": 0.1,
                        "count": 4
                      },
                      {
                        "bin_start": 0.1,
                        "bin_end": 0.2,
                        "count": 0
                      },
                      {
                        "bin_start": 0.2,
                        "bin_end": 0.30000000000000004,
                        "count": 0
                      },
                      {
                        "bin_start": 0.30000000000000004,
                        "bin_end": 0.4,
                        "count": 0
                      },
                      {
                        "bin_start": 0.4,
                        "bin_end": 0.5,
                        "count": 0
                      },
                      {
                        "bin_start": 0.5,
                        "bin_end": 0.6000000000000001,
                        "count": 0
                      },
                      {
                        "bin_start": 0.6000000000000001,
                        "bin_end": 0.7000000000000001,
                        "count": 0
                      },
                      {
                        "bin_start": 0.7000000000000001,
                        "bin_end": 0.8,
                        "count": 0
                      },
                      {
                        "bin_start": 0.8,
                        "bin_end": 0.9,
                        "count": 0
                      },
                      {
                        "bin_start": 0.9,
                        "bin_end": 1,
                        "count": 1
                      }
                    ]
                  }
                },
                {
                  "name": "_deepnote_index_column",
                  "dtype": "int64"
                }
              ],
              "rows_top": [
                {
                  "HelpfulnessNumerator": 0,
                  "HelpfulnessDenominator": 0,
                  "Helpfulness": 0,
                  "_deepnote_index_column": 0
                },
                {
                  "HelpfulnessNumerator": 1,
                  "HelpfulnessDenominator": 1,
                  "Helpfulness": 1,
                  "_deepnote_index_column": 1
                },
                {
                  "HelpfulnessNumerator": 0,
                  "HelpfulnessDenominator": 0,
                  "Helpfulness": 0,
                  "_deepnote_index_column": 2
                },
                {
                  "HelpfulnessNumerator": 0,
                  "HelpfulnessDenominator": 0,
                  "Helpfulness": 0,
                  "_deepnote_index_column": 3
                },
                {
                  "HelpfulnessNumerator": 0,
                  "HelpfulnessDenominator": 0,
                  "Helpfulness": 0,
                  "_deepnote_index_column": 4
                }
              ],
              "rows_bottom": null
            },
            "text/plain": "   HelpfulnessNumerator  HelpfulnessDenominator  Helpfulness\n0                     0                       0          0.0\n1                     1                       1          1.0\n2                     0                       0          0.0\n3                     0                       0          0.0\n4                     0                       0          0.0",
            "text/html": "<div>\n<style scoped>\n    .dataframe tbody tr th:only-of-type {\n        vertical-align: middle;\n    }\n\n    .dataframe tbody tr th {\n        vertical-align: top;\n    }\n\n    .dataframe thead th {\n        text-align: right;\n    }\n</style>\n<table border=\"1\" class=\"dataframe\">\n  <thead>\n    <tr style=\"text-align: right;\">\n      <th></th>\n      <th>HelpfulnessNumerator</th>\n      <th>HelpfulnessDenominator</th>\n      <th>Helpfulness</th>\n    </tr>\n  </thead>\n  <tbody>\n    <tr>\n      <th>0</th>\n      <td>0</td>\n      <td>0</td>\n      <td>0.0</td>\n    </tr>\n    <tr>\n      <th>1</th>\n      <td>1</td>\n      <td>1</td>\n      <td>1.0</td>\n    </tr>\n    <tr>\n      <th>2</th>\n      <td>0</td>\n      <td>0</td>\n      <td>0.0</td>\n    </tr>\n    <tr>\n      <th>3</th>\n      <td>0</td>\n      <td>0</td>\n      <td>0.0</td>\n    </tr>\n    <tr>\n      <th>4</th>\n      <td>0</td>\n      <td>0</td>\n      <td>0.0</td>\n    </tr>\n  </tbody>\n</table>\n</div>"
          },
          "metadata": {}
        }
      ]
    },
    {
      "cell_type": "code",
      "metadata": {
        "scrolled": true,
        "cell_id": "00015-a782498b-5455-44c4-a039-b41551f675f3",
        "deepnote_to_be_reexecuted": false,
        "source_hash": "c4885126",
        "execution_millis": 43,
        "execution_start": 1612899477203,
        "deepnote_cell_type": "code"
      },
      "source": "data['Helpfulness'].describe()",
      "execution_count": null,
      "outputs": [
        {
          "output_type": "execute_result",
          "execution_count": 14,
          "data": {
            "text/plain": "count    426306.000000\nmean          0.407614\nstd           0.461951\nmin           0.000000\n25%           0.000000\n50%           0.000000\n75%           1.000000\nmax           3.000000\nName: Helpfulness, dtype: float64"
          },
          "metadata": {}
        }
      ]
    },
    {
      "cell_type": "markdown",
      "source": "Strangely, the maximum helpfulness score is greater than one, at 3. This is impossible since the helpfulness score is the fraction of people that found the review helpful, therefore it cannot be higher than one. Let's look at the entries that have a helpfulness score above 1:",
      "metadata": {
        "cell_id": "00016-47b96055-df8c-4814-8a66-c6f213e907cc",
        "deepnote_cell_type": "markdown"
      }
    },
    {
      "cell_type": "code",
      "metadata": {
        "scrolled": false,
        "cell_id": "00017-2feb316d-95f3-4e52-8bb1-b3eb8cc222e0",
        "deepnote_to_be_reexecuted": false,
        "source_hash": "b7b45d8d",
        "execution_millis": 29,
        "execution_start": 1612899477239,
        "deepnote_cell_type": "code"
      },
      "source": "data[data['Helpfulness']>1][\n    ['HelpfulnessNumerator',\n     'HelpfulnessDenominator', \n     'Helpfulness']\n]",
      "execution_count": null,
      "outputs": [
        {
          "output_type": "execute_result",
          "execution_count": 15,
          "data": {
            "application/vnd.deepnote.dataframe.v2+json": {
              "row_count": 1,
              "column_count": 3,
              "columns": [
                {
                  "name": "HelpfulnessNumerator",
                  "dtype": "int64",
                  "stats": {
                    "unique_count": 1,
                    "nan_count": 0,
                    "min": 3,
                    "max": 3,
                    "histogram": [
                      {
                        "bin_start": 2.5,
                        "bin_end": 2.6,
                        "count": 0
                      },
                      {
                        "bin_start": 2.6,
                        "bin_end": 2.7,
                        "count": 0
                      },
                      {
                        "bin_start": 2.7,
                        "bin_end": 2.8,
                        "count": 0
                      },
                      {
                        "bin_start": 2.8,
                        "bin_end": 2.9,
                        "count": 0
                      },
                      {
                        "bin_start": 2.9,
                        "bin_end": 3,
                        "count": 0
                      },
                      {
                        "bin_start": 3,
                        "bin_end": 3.1,
                        "count": 1
                      },
                      {
                        "bin_start": 3.1,
                        "bin_end": 3.2,
                        "count": 0
                      },
                      {
                        "bin_start": 3.2,
                        "bin_end": 3.3,
                        "count": 0
                      },
                      {
                        "bin_start": 3.3,
                        "bin_end": 3.4,
                        "count": 0
                      },
                      {
                        "bin_start": 3.4,
                        "bin_end": 3.5,
                        "count": 0
                      }
                    ]
                  }
                },
                {
                  "name": "HelpfulnessDenominator",
                  "dtype": "int64",
                  "stats": {
                    "unique_count": 1,
                    "nan_count": 0,
                    "min": 1,
                    "max": 1,
                    "histogram": [
                      {
                        "bin_start": 0.5,
                        "bin_end": 0.6,
                        "count": 0
                      },
                      {
                        "bin_start": 0.6,
                        "bin_end": 0.7,
                        "count": 0
                      },
                      {
                        "bin_start": 0.7,
                        "bin_end": 0.8,
                        "count": 0
                      },
                      {
                        "bin_start": 0.8,
                        "bin_end": 0.9,
                        "count": 0
                      },
                      {
                        "bin_start": 0.9,
                        "bin_end": 1,
                        "count": 0
                      },
                      {
                        "bin_start": 1,
                        "bin_end": 1.1,
                        "count": 1
                      },
                      {
                        "bin_start": 1.1,
                        "bin_end": 1.2000000000000002,
                        "count": 0
                      },
                      {
                        "bin_start": 1.2000000000000002,
                        "bin_end": 1.3,
                        "count": 0
                      },
                      {
                        "bin_start": 1.3,
                        "bin_end": 1.4,
                        "count": 0
                      },
                      {
                        "bin_start": 1.4,
                        "bin_end": 1.5,
                        "count": 0
                      }
                    ]
                  }
                },
                {
                  "name": "Helpfulness",
                  "dtype": "float64",
                  "stats": {
                    "unique_count": 1,
                    "nan_count": 0,
                    "min": 3,
                    "max": 3,
                    "histogram": [
                      {
                        "bin_start": 2.5,
                        "bin_end": 2.6,
                        "count": 0
                      },
                      {
                        "bin_start": 2.6,
                        "bin_end": 2.7,
                        "count": 0
                      },
                      {
                        "bin_start": 2.7,
                        "bin_end": 2.8,
                        "count": 0
                      },
                      {
                        "bin_start": 2.8,
                        "bin_end": 2.9,
                        "count": 0
                      },
                      {
                        "bin_start": 2.9,
                        "bin_end": 3,
                        "count": 0
                      },
                      {
                        "bin_start": 3,
                        "bin_end": 3.1,
                        "count": 1
                      },
                      {
                        "bin_start": 3.1,
                        "bin_end": 3.2,
                        "count": 0
                      },
                      {
                        "bin_start": 3.2,
                        "bin_end": 3.3,
                        "count": 0
                      },
                      {
                        "bin_start": 3.3,
                        "bin_end": 3.4,
                        "count": 0
                      },
                      {
                        "bin_start": 3.4,
                        "bin_end": 3.5,
                        "count": 0
                      }
                    ]
                  }
                },
                {
                  "name": "_deepnote_index_column",
                  "dtype": "int64"
                }
              ],
              "rows_top": [
                {
                  "HelpfulnessNumerator": 3,
                  "HelpfulnessDenominator": 1,
                  "Helpfulness": 3,
                  "_deepnote_index_column": 104703
                }
              ],
              "rows_bottom": null
            },
            "text/plain": "        HelpfulnessNumerator  HelpfulnessDenominator  Helpfulness\n104703                     3                       1          3.0",
            "text/html": "<div>\n<style scoped>\n    .dataframe tbody tr th:only-of-type {\n        vertical-align: middle;\n    }\n\n    .dataframe tbody tr th {\n        vertical-align: top;\n    }\n\n    .dataframe thead th {\n        text-align: right;\n    }\n</style>\n<table border=\"1\" class=\"dataframe\">\n  <thead>\n    <tr style=\"text-align: right;\">\n      <th></th>\n      <th>HelpfulnessNumerator</th>\n      <th>HelpfulnessDenominator</th>\n      <th>Helpfulness</th>\n    </tr>\n  </thead>\n  <tbody>\n    <tr>\n      <th>104703</th>\n      <td>3</td>\n      <td>1</td>\n      <td>3.0</td>\n    </tr>\n  </tbody>\n</table>\n</div>"
          },
          "metadata": {}
        }
      ]
    },
    {
      "cell_type": "markdown",
      "source": "There is one entry, where the numerator is higher than the denominator, we will remove this entry from our data.",
      "metadata": {
        "cell_id": "00018-1f7644cd-1c2a-4430-9a1d-28bd79982665",
        "deepnote_cell_type": "markdown"
      }
    },
    {
      "cell_type": "code",
      "metadata": {
        "cell_id": "00019-f24b4068-7f9f-4774-ad48-9375b0f0dc2c",
        "deepnote_to_be_reexecuted": false,
        "source_hash": "cafc85b4",
        "execution_millis": 173,
        "execution_start": 1612899477263,
        "deepnote_cell_type": "code"
      },
      "source": "# Remove all entries (actually just one) where the helpfulness score is above 1\ndata = data[data.Helpfulness <= 1]",
      "execution_count": null,
      "outputs": []
    },
    {
      "cell_type": "code",
      "metadata": {
        "scrolled": false,
        "cell_id": "00020-220d82a8-d24e-422d-8a9a-9b1c50c37a03",
        "deepnote_to_be_reexecuted": false,
        "source_hash": "73db3083",
        "execution_millis": 337,
        "execution_start": 1612899477450,
        "deepnote_cell_type": "code"
      },
      "source": "# Columns to analyze with histograms\ndata['Helpfulness'].hist(bins=10, figsize=(7,7), color='0.3')\nplt.title('Distribution of Helpfulness Scores')\nplt.ylabel('Frequency')\nplt.xlabel('Helpfulness')\nplt.grid(b=None) # disable grid\nplt.show()",
      "execution_count": null,
      "outputs": [
        {
          "data": {
            "text/plain": "<Figure size 504x504 with 1 Axes>",
            "image/png": "[encoded data removed]"
          },
          "metadata": {
            "needs_background": "light"
          },
          "output_type": "display_data"
        }
      ]
    },
    {
      "cell_type": "markdown",
      "source": "#### Analyze String field lengths by number of words",
      "metadata": {
        "cell_id": "00021-a29882dc-6975-4df4-822d-1d1a2bf6ad84",
        "deepnote_cell_type": "markdown"
      }
    },
    {
      "cell_type": "code",
      "metadata": {
        "cell_id": "00022-173ec5dd-5e35-4d68-a265-6a495d36391d",
        "deepnote_to_be_reexecuted": false,
        "source_hash": "3eff4476",
        "execution_millis": 3566,
        "execution_start": 1612899477778,
        "deepnote_cell_type": "code"
      },
      "source": "data[\"summary_size\"] = data['Summary'].apply(lambda x: len(str(x).split(' ')))\ndata[\"text_size\"] = data['Text'].apply(lambda x: len(str(x).split(' ')))",
      "execution_count": null,
      "outputs": []
    },
    {
      "cell_type": "code",
      "metadata": {
        "cell_id": "00023-811f6816-b22c-407f-b5e9-b21af45b05f6",
        "deepnote_to_be_reexecuted": false,
        "source_hash": "49e88568",
        "execution_millis": 80,
        "execution_start": 1612899481344,
        "deepnote_cell_type": "code"
      },
      "source": "data[['Summary', 'summary_size', 'Text', 'text_size']].head()",
      "execution_count": null,
      "outputs": [
        {
          "output_type": "execute_result",
          "execution_count": 19,
          "data": {
            "application/vnd.deepnote.dataframe.v2+json": {
              "row_count": 5,
              "column_count": 4,
              "columns": [
                {
                  "name": "Summary",
                  "dtype": "object",
                  "stats": {
                    "unique_count": 5,
                    "nan_count": 0,
                    "categories": [
                      {
                        "name": "Very Good",
                        "count": 1
                      },
                      {
                        "name": "Organic, Kosher, Tasty Assortment of Premium Teas & Teasans",
                        "count": 1
                      },
                      {
                        "name": "3 others",
                        "count": 3
                      }
                    ]
                  }
                },
                {
                  "name": "summary_size",
                  "dtype": "int64",
                  "stats": {
                    "unique_count": 5,
                    "nan_count": 0,
                    "min": 1,
                    "max": 9,
                    "histogram": [
                      {
                        "bin_start": 1,
                        "bin_end": 1.8,
                        "count": 1
                      },
                      {
                        "bin_start": 1.8,
                        "bin_end": 2.6,
                        "count": 1
                      },
                      {
                        "bin_start": 2.6,
                        "bin_end": 3.4000000000000004,
                        "count": 1
                      },
                      {
                        "bin_start": 3.4000000000000004,
                        "bin_end": 4.2,
                        "count": 0
                      },
                      {
                        "bin_start": 4.2,
                        "bin_end": 5,
                        "count": 0
                      },
                      {
                        "bin_start": 5,
                        "bin_end": 5.800000000000001,
                        "count": 0
                      },
                      {
                        "bin_start": 5.800000000000001,
                        "bin_end": 6.6000000000000005,
                        "count": 0
                      },
                      {
                        "bin_start": 6.6000000000000005,
                        "bin_end": 7.4,
                        "count": 1
                      },
                      {
                        "bin_start": 7.4,
                        "bin_end": 8.2,
                        "count": 0
                      },
                      {
                        "bin_start": 8.2,
                        "bin_end": 9,
                        "count": 1
                      }
                    ]
                  }
                },
                {
                  "name": "Text",
                  "dtype": "object",
                  "stats": {
                    "unique_count": 5,
                    "nan_count": 0,
                    "categories": [
                      {
                        "name": "I received this product early from the seller! They are a very tastey & a Great mid-day snack. I have shared them with my Glutten Free Friends & they will be ordering this product & more very soon.",
                        "count": 1
                      },
                      {
                        "name": "*****<br />Numi's Collection Assortment Melange includes:<br />5 Herbal Teas (caffeine-free, also called \"teasans\"):<br />* Dry Desert Lime: Lime Herbal Teasan<br />* Fields of Gold: Lemongrass Herbal Teasan<br />* Red Mellow Bush: Rooibos Herbal Teasan<br />* Bushmen's Brew: Honeybush Herbal Teasan<br />* Simply Mint: Moroccan Mint<br /><br />2 Green Teas (lower in caffeine):<br />* Temple of Heaven: Gunpowder Green Tea<br />* Monkey King: Jasmine Green Tea<br /><br />2 Black Teas (contain caffeine):<br />* Chinese Breakfast: Yunnan Black Tea<br />* Smoky Tarry: Lapsang Souchong Black Tea<br /><br />This is a total of nine different teas, two tea bags of each one in each box. Numi teas are known for their high-quality, organic and kosher ingredients, and in my opinion, are some of the tastiest and best teas I have ever tried. They do not include artificial ingredients or flavorings.<br /><br />On the box, the manufacturer writes: \"From mist-covered mountains to sun-drenched deserts to fertile fields, we proudly bring you our tea palette. The flavors range from smooth earthiness, and light floral scents, to refreshingly sweet and sour notes. What they all share is the recollection of how some Ancient One tamed fire and water to coexist harmoniously, and steeped in them the gifts of Nature. Since that distant past, people have soothed, roused, healed, explored and celebrated with these wonderful infusions. We encourage you to do the same with Numi's finest.\"<br /><br />The price is perfect, a big savings over single boxes. If you like Numi teas and want to sample a wonderful assortment, get it---you won't be sorry. There may be some you like and others you don't, but sampling them will be a delightful experience. If you are new to Numi this is an excellent way to sample their high-quality teas. I do not think you could find a better source of premium tea than Numi.<br /><br />Highly recommended.<br />*****",
                        "count": 1
                      },
                      {
                        "name": "3 others",
                        "count": 3
                      }
                    ]
                  }
                },
                {
                  "name": "text_size",
                  "dtype": "int64",
                  "stats": {
                    "unique_count": 5,
                    "nan_count": 0,
                    "min": 28,
                    "max": 310,
                    "histogram": [
                      {
                        "bin_start": 28,
                        "bin_end": 56.2,
                        "count": 3
                      },
                      {
                        "bin_start": 56.2,
                        "bin_end": 84.4,
                        "count": 0
                      },
                      {
                        "bin_start": 84.4,
                        "bin_end": 112.6,
                        "count": 0
                      },
                      {
                        "bin_start": 112.6,
                        "bin_end": 140.8,
                        "count": 0
                      },
                      {
                        "bin_start": 140.8,
                        "bin_end": 169,
                        "count": 0
                      },
                      {
                        "bin_start": 169,
                        "bin_end": 197.2,
                        "count": 1
                      },
                      {
                        "bin_start": 197.2,
                        "bin_end": 225.4,
                        "count": 0
                      },
                      {
                        "bin_start": 225.4,
                        "bin_end": 253.6,
                        "count": 0
                      },
                      {
                        "bin_start": 253.6,
                        "bin_end": 281.79999999999995,
                        "count": 0
                      },
                      {
                        "bin_start": 281.79999999999995,
                        "bin_end": 310,
                        "count": 1
                      }
                    ]
                  }
                },
                {
                  "name": "_deepnote_index_column",
                  "dtype": "int64"
                }
              ],
              "rows_top": [
                {
                  "Summary": "Very Good",
                  "summary_size": 2,
                  "Text": "I received this product early from the seller! They are a very tastey & a Great mid-day snack. I have shared them with my Glutten Free Friends & they will be ordering this product & more very soon.",
                  "text_size": 38,
                  "_deepnote_index_column": 0
                },
                {
                  "Summary": "Organic, Kosher, Tasty Assortment of Premium Teas & Teasans",
                  "summary_size": 9,
                  "Text": "*****<br />Numi's Collection Assortment Melange includes:<br />5 Herbal Teas (caffeine-free, also called \"teasans\"):<br />* Dry Desert Lime: Lime Herbal Teasan<br />* Fields of Gold: Lemongrass Herbal Teasan<br />* Red Mellow Bush: Rooibos Herbal Teasan<br />* Bushmen's Brew: Honeybush Herbal Teasan<br />* Simply Mint: Moroccan Mint<br /><br />2 Green Teas (lower in caffeine):<br />* Temple of Heaven: Gunpowder Green Tea<br />* Monkey King: Jasmine Green Tea<br /><br />2 Black Teas (contain caffeine):<br />* Chinese Breakfast: Yunnan Black Tea<br />* Smoky Tarry: Lapsang Souchong Black Tea<br /><br />This is a total of nine different teas, two tea bags of each one in each box. Numi teas are known for their high-quality, organic and kosher ingredients, and in my opinion, are some of the tastiest and best teas I have ever tried. They do not include artificial ingredients or flavorings.<br /><br />On the box, the manufacturer writes: \"From mist-covered mountains to sun-drenched deserts to fertile fields, we proudly bring you our tea palette. The flavors range from smooth earthiness, and light floral scents, to refreshingly sweet and sour notes. What they all share is the recollection of how some Ancient One tamed fire and water to coexist harmoniously, and steeped in them the gifts of Nature. Since that distant past, people have soothed, roused, healed, explored and celebrated with these wonderful infusions. We encourage you to do the same with Numi's finest.\"<br /><br />The price is perfect, a big savings over single boxes. If you like Numi teas and want to sample a wonderful assortment, get it---you won't be sorry. There may be some you like and others you don't, but sampling them will be a delightful experience. If you are new to Numi this is an excellent way to sample their high-quality teas. I do not think you could find a better source of premium tea than Numi.<br /><br />Highly recommended.<br />*****",
                  "text_size": 310,
                  "_deepnote_index_column": 1
                },
                {
                  "Summary": "excellent gluten-free spaghetti: great taste, great structure",
                  "summary_size": 7,
                  "Text": "I was very careful not to overcook this pasta, making sure to take a bite every minute or so, and rinsed it with water as soon as it was al dente. It was all very easy and the result was absolutely *PERFECT*. This is one great tasting gluten-free pasta! My wife is Italian and she claims it is on par with some of the best wheat-based pasta she has had. My daughter has celiac disease and loved it too. I did notice a slight corn taste, but it was very pleasant and certainly not too pronounced. You could serve this pasta to your guests and they'd have no idea that this is a gluten-free, quinoa-based pasta.<br /><br />This product has tremendous value to us because it uses quinoa flour (one of my favorite \"grains\"), there are only two (2!) ingredients (quinoa and corn flour) that are both are organic, it is produced in a gluten-free facility, tastes great and has great structure (very nice al dente). A perfect combination!<br /><br />This product gets 5 stars and a glowing endorsement from all of us, and we are 2 discriminating foodies and a 7 year old with celiac disease.",
                  "text_size": 197,
                  "_deepnote_index_column": 2
                },
                {
                  "Summary": "Lindt is Lindt",
                  "summary_size": 3,
                  "Text": "Buying this multi-pack I was misled by the picture with whole hazel nuts. (Another proof how important is to read). But no problem. The chocolate is delicious like any Lindt's chocolate.",
                  "text_size": 31,
                  "_deepnote_index_column": 3
                },
                {
                  "Summary": "YUM!!!!!",
                  "summary_size": 1,
                  "Text": "These bars are so good! I loved them warmed up! I definitely think these are a great snack or breakfast! I received this product for free from influenster!",
                  "text_size": 28,
                  "_deepnote_index_column": 4
                }
              ],
              "rows_bottom": null
            },
            "text/plain": "                                             Summary  summary_size  \\\n0                                          Very Good             2   \n1  Organic, Kosher, Tasty Assortment of Premium T...             9   \n2  excellent gluten-free spaghetti: great taste, ...             7   \n3                                     Lindt is Lindt             3   \n4                                           YUM!!!!!             1   \n\n                                                Text  text_size  \n0  I received this product early from the seller!...         38  \n1  *****<br />Numi's Collection Assortment Melang...        310  \n2  I was very careful not to overcook this pasta,...        197  \n3  Buying this multi-pack I was misled by the pic...         31  \n4  These bars are so good! I loved them warmed up...         28  ",
            "text/html": "<div>\n<style scoped>\n    .dataframe tbody tr th:only-of-type {\n        vertical-align: middle;\n    }\n\n    .dataframe tbody tr th {\n        vertical-align: top;\n    }\n\n    .dataframe thead th {\n        text-align: right;\n    }\n</style>\n<table border=\"1\" class=\"dataframe\">\n  <thead>\n    <tr style=\"text-align: right;\">\n      <th></th>\n      <th>Summary</th>\n      <th>summary_size</th>\n      <th>Text</th>\n      <th>text_size</th>\n    </tr>\n  </thead>\n  <tbody>\n    <tr>\n      <th>0</th>\n      <td>Very Good</td>\n      <td>2</td>\n      <td>I received this product early from the seller!...</td>\n      <td>38</td>\n    </tr>\n    <tr>\n      <th>1</th>\n      <td>Organic, Kosher, Tasty Assortment of Premium T...</td>\n      <td>9</td>\n      <td>*****&lt;br /&gt;Numi's Collection Assortment Melang...</td>\n      <td>310</td>\n    </tr>\n    <tr>\n      <th>2</th>\n      <td>excellent gluten-free spaghetti: great taste, ...</td>\n      <td>7</td>\n      <td>I was very careful not to overcook this pasta,...</td>\n      <td>197</td>\n    </tr>\n    <tr>\n      <th>3</th>\n      <td>Lindt is Lindt</td>\n      <td>3</td>\n      <td>Buying this multi-pack I was misled by the pic...</td>\n      <td>31</td>\n    </tr>\n    <tr>\n      <th>4</th>\n      <td>YUM!!!!!</td>\n      <td>1</td>\n      <td>These bars are so good! I loved them warmed up...</td>\n      <td>28</td>\n    </tr>\n  </tbody>\n</table>\n</div>"
          },
          "metadata": {}
        }
      ]
    },
    {
      "cell_type": "code",
      "metadata": {
        "cell_id": "00024-5e9ac847-3151-447c-ab24-70d48379af77",
        "deepnote_to_be_reexecuted": false,
        "source_hash": "b714de39",
        "execution_millis": 253,
        "execution_start": 1612899481462,
        "deepnote_cell_type": "code"
      },
      "source": "# Columns to analyze with histograms\nunique_vals = data['summary_size'].unique()\ndata['summary_size'].hist(bins=len(unique_vals), figsize=(7,7), color='0.3')\nplt.title('Distribution of Summary Lengths')\nplt.ylabel('Frequency')\nplt.xlabel('Length (words)')\nplt.grid(b=None) # disable grid\nplt.show()",
      "execution_count": null,
      "outputs": [
        {
          "data": {
            "text/plain": "<Figure size 504x504 with 1 Axes>",
            "image/png": "[encoded data removed]"
          },
          "metadata": {
            "needs_background": "light"
          },
          "output_type": "display_data"
        }
      ]
    },
    {
      "cell_type": "code",
      "metadata": {
        "scrolled": false,
        "cell_id": "00025-886e8009-0bf3-422e-ba63-4cb2f50dd540",
        "deepnote_to_be_reexecuted": false,
        "source_hash": "17a808e",
        "execution_millis": 458,
        "execution_start": 1612899481712,
        "deepnote_cell_type": "code"
      },
      "source": "# Columns to analyze with histograms\ndata['text_size'].hist(bins=20, figsize=(7,7), color='0.3')\nplt.title('Distribution of Review Length')\nplt.ylabel('Frequency')\nplt.xlabel('Length (words)')\nplt.xticks(range(0, 4000, 200), rotation=45)\nplt.grid(b=None) # disable grid\nplt.show()\n\ndata['text_size'].describe()",
      "execution_count": null,
      "outputs": [
        {
          "data": {
            "text/plain": "<Figure size 504x504 with 1 Axes>",
            "image/png": "[encoded data removed]"
          },
          "metadata": {
            "needs_background": "light"
          },
          "output_type": "display_data"
        },
        {
          "output_type": "execute_result",
          "execution_count": 21,
          "data": {
            "text/plain": "count    426305.000000\nmean         81.863086\nstd          80.502554\nmin           3.000000\n25%          34.000000\n50%          58.000000\n75%         100.000000\nmax        3526.000000\nName: text_size, dtype: float64"
          },
          "metadata": {}
        }
      ]
    },
    {
      "cell_type": "markdown",
      "source": "We can see that whereas most reviews are 100 words or shorter, there are some that are incredibly long, with the largest having 3,526 words. We will examine how many reviews are large (larger than 1,000 words)",
      "metadata": {
        "cell_id": "00026-69f30bba-1762-4062-ba9c-6b372ba0f0ad",
        "deepnote_cell_type": "markdown"
      }
    },
    {
      "cell_type": "code",
      "metadata": {
        "scrolled": false,
        "cell_id": "00027-0927ff88-25f2-4a12-a0e0-75418dd0e6b2",
        "deepnote_to_be_reexecuted": false,
        "source_hash": "1fe911d2",
        "execution_millis": 368,
        "execution_start": 1612899482172,
        "deepnote_cell_type": "code"
      },
      "source": "temp_data = data[data['text_size']>1000]\n# Columns to analyze with histograms\ntemp_data['text_size'].hist(bins=20, figsize=(7,7), color='0.3')\nplt.title('Distribution of Review Length')\nplt.ylabel('Frequency')\nplt.xlabel('Length (words)')\nplt.xticks(range(1000, 4000, 200), rotation=45)\nplt.grid(b=None) # disable grid\nplt.show()\n\ntemp_data['text_size'].describe()",
      "execution_count": null,
      "outputs": [
        {
          "data": {
            "text/plain": "<Figure size 504x504 with 1 Axes>",
            "image/png": "[encoded data removed]"
          },
          "metadata": {
            "needs_background": "light"
          },
          "output_type": "display_data"
        },
        {
          "output_type": "execute_result",
          "execution_count": 22,
          "data": {
            "text/plain": "count     139.000000\nmean     1343.115108\nstd       423.588262\nmin      1009.000000\n25%      1109.000000\n50%      1212.000000\n75%      1451.000000\nmax      3526.000000\nName: text_size, dtype: float64"
          },
          "metadata": {}
        }
      ]
    },
    {
      "cell_type": "markdown",
      "source": "There seem to be an unusually large number of reviews that have > 3400 words, let's analyze this.",
      "metadata": {
        "cell_id": "00028-ea88e61c-5fbf-47dd-8cb8-31ca8f015299",
        "deepnote_cell_type": "markdown"
      }
    },
    {
      "cell_type": "code",
      "metadata": {
        "scrolled": true,
        "cell_id": "00029-b269e1a0-c713-48f6-a93f-63cda230bee9",
        "deepnote_to_be_reexecuted": false,
        "source_hash": "30a7021a",
        "execution_millis": 14,
        "execution_start": 1612899482538,
        "deepnote_cell_type": "code"
      },
      "source": "large_reviews = data[data.text_size > 3000]\nlarge_reviews.text_size.describe()",
      "execution_count": null,
      "outputs": [
        {
          "output_type": "execute_result",
          "execution_count": 23,
          "data": {
            "text/plain": "count       3.0\nmean     3526.0\nstd         0.0\nmin      3526.0\n25%      3526.0\n50%      3526.0\n75%      3526.0\nmax      3526.0\nName: text_size, dtype: float64"
          },
          "metadata": {}
        }
      ]
    },
    {
      "cell_type": "markdown",
      "source": "There seems to be 3 entries with the exact same number of words, let's look at them",
      "metadata": {
        "cell_id": "00030-b818ba7e-8ae7-417f-924c-9765c83497d7",
        "deepnote_cell_type": "markdown"
      }
    },
    {
      "cell_type": "code",
      "metadata": {
        "cell_id": "00031-9a6be9ca-1120-4521-8c94-d439778fbca4",
        "deepnote_to_be_reexecuted": false,
        "source_hash": "801208d6",
        "execution_millis": 99,
        "execution_start": 1612899482553,
        "deepnote_cell_type": "code"
      },
      "source": "large_reviews[['ProductId', 'UserId', 'Text', 'text_size']]",
      "execution_count": null,
      "outputs": [
        {
          "output_type": "execute_result",
          "execution_count": 24,
          "data": {
            "application/vnd.deepnote.dataframe.v2+json": {
              "row_count": 3,
              "column_count": 4,
              "columns": [
                {
                  "name": "ProductId",
                  "dtype": "object",
                  "stats": {
                    "unique_count": 3,
                    "nan_count": 0,
                    "categories": [
                      {
                        "name": "B005HG9ESG",
                        "count": 1
                      },
                      {
                        "name": "B005HG9ET0",
                        "count": 1
                      },
                      {
                        "name": "B005HG9ERW",
                        "count": 1
                      }
                    ]
                  }
                },
                {
                  "name": "UserId",
                  "dtype": "object",
                  "stats": {
                    "unique_count": 1,
                    "nan_count": 0,
                    "categories": [
                      {
                        "name": "A24HWYHR28JJ7A",
                        "count": 3
                      }
                    ]
                  }
                },
                {
                  "name": "Text",
                  "dtype": "object",
                  "stats": {
                    "unique_count": 1,
                    "nan_count": 0,
                    "categories": [
                      {
                        "name": "Fuzzy Wuzzy's Summary:<br />*** Somewhat recommended, with reservations and only lukewarm fuzzies.<br /><br />Positives:<br /><br />+ Not too expensive compared to other bottled water, although it is not cheap either.<br /><br />Negatives:<br /><br />- This bottled water product's labeling, product descriptions, and health claims are misleading.<br /><br />At first glance, this 1.5-liter bottle of water that I am reviewing looks like another one of the many varieties of bottled water on the market.  There are many kinds of bottled water: \"spring water\" produced from an underground formation where the groundwater naturally flows up to the Earth's surface, \"artesian water\" obtained from a well that taps into an underground aquifer, \"mineral water\" produced from a well or spring that naturally contains trace amounts of minerals that some people consider to provide health benefits, \"ground/well water\" produced from a well that tapes into an aquifer, \"sparkling water\" from a spring or well that is naturally carbonated, and \"purified water\" produced by distillation, deionization, reverse osmosis, or other purification processes.  This Essentia Drinking Water is \"purified water\"; this bottle contains municipal water (i.e. tap water that comes from your faucet) that is purified using reverse osmosis and ultraviolet light for disinfection.<br /><br />The label on this Essentia water bottle is filled with marketing hype and technical terms designed to make it sound exotic:<br />* \"Infused with Electrolytes For A Difference You Can Taste\"<br />* \"Silky Smooth Taste\"<br />* \"Hydrates Better\"<br />* \"Electrolytes Infused\"<br />* \"Best Available pH at 9.5\"<br />* \"Doctor recommended to protect, improve, and enhance the quality of your health.\"<br />* \"Our Proprietary Technology: Water purified by reverse osmosis; infused with electrolytes for taste; alkalinized and restructured using Ionic Separation Technology.\"<br />* \"Ingredients: purified water, sodium bicarbonate, dipotassium phosphate, magnesium sulfate, calcium chloride.\"<br /><br />There are two ways to evaluate this water product.  One way to review this water is based on how it tastes, how safe are its added ingredients, and its cost.  Since Essentia includes a variety of health claims and marketing statements on the water bottle's label, on the Amazon product listing, and on the company's Web site, the veracity of this statements must also be scrutinized since the marketing hype of most other brands of bottled water is just limited to the \"freshness\" or \"purity\" of their taste without making other health-related claims.<br /><br />First, on the basis on its cost, with all of its marketing hype and hoopla, at least this water is not priced far more expensive than most other brands of bottled water.  But there are various other bottled water products on Amazon that cost less on a per-liter basis.  And if you think that this slightly pricey water can be justified based on its health \"merits\", keep reading...<br /><br />As for taste, that can be a highly personal preference, but I like my water to simply taste \"wet\".  :-)  If I want some kind of flavored drink - tea, wine, beer, fruit juice, etc. - I will drink that instead.  But nothing hydrates and quenches as easily as pure and simple water, with no additives or flavorings added to it.  This particular Essentia water does have a smooth texture to it.  Most other bottled waters taste more crisp than this Essentia water.  Again, you may either like the smooth texture of this water or you may think that its texture is rather flat and bland.  Unlike drinking \"distilled water\", or bottled water that was purified using distillation with no additives, this water has a very slight subtle aftertaste that might be considered as either \"chalky\" or \"metallic\".  Those are my highly subjective adjectives that I associate with this water.  I can only surmise that this is due to the small amounts of additives that were used in this water.  This aftertaste is not too objectionable, but if I just want to hydrate myself drinking \"water\", I really prefer my water to be without any identifiable taste, texture, or odor.<br /><br />Next, since this is not just a bottle of pure H2O water, let's consider what was added to this water: sodium bicarbonate, dipotassium phosphate, magnesium sulfate, and calcium chloride.  Sodium bicarbonate is the same thing as baking soda.  This water was made to have a slightly alkaline pH of 9.5 by adding sodium bicarbonate.  People sometimes also adjust and raise the pH of their swimming pool water by adding sodium bicarbonate.  Dipotassium phosphate is sometimes added to various food products as a buffering agent or emulsifier.  In this water, it serves as one of the \"electrolytes\" that is added.  The term \"electrolytes\" is just a subset of minerals that are found in both the Earth and the food that we eat.  Also serving as an electrolyte is the addition of magnesium sulfate.  Magnesium sulfate is sold in drug stores as \"Epsom Salt\", and you can either soak your feet or body in an Epsom Salt bath to soothe sore muscles, or when ingested in larger quantities, magnesium sulfate also can serve as a laxative.  Calcium chloride serves as another electrolyte in this water.  Calcium chloride is sometimes used as a food additive.  The trace amounts of calcium, magnesium, and phosphorus in this water do not qualify as a measurable part of your daily nutritional intake of these minerals, regardless of how much of this water you drink each day.<br /><br />Essentia is definitely not the first bottled water manufacturer to add electrolytes to either bottled water or drinks.  During the 1960s, Gatorade was possibly the first large-scale commercial drink that was produced with the goal of adding electrolytes of sodium, sugar, potassium, and phosphate to hydrate and replenish athletes who lost fluids during physical exertion in hot weather.  On Essentia's Web site, they have an FAQ question/answer of: \"Why should I drink Essentia if I get my electrolytes through sports drinks?  Essentia provides a blend of dissolved minerals that emulate the ratio of the body's own mixture and concentration - providing the correct proportion of electrolytes without all the sugars and other additives you typically find in sports and energy drinks.\"  There are several problems with that statement.  First, if you are actively exercising and sweating, your body can actually use those extra calories, and if you are just sitting in front of the computer or television, guzzling Gatorade just adds useless calories and electrolytes.  Second, if you are drinking Essentia at home, this product's claim that it provides \"the correct proportion of electrolytes\" implies a one-size-fits-all balance of electrolytes, which is simply not true as we all have different bodies, diets, and lifestyles.<br /><br />None of what Essentia refers to as \"Our Proprietary Technology\" is really that \"proprietary\" or exotic.  The reverse osmosis purification of municipal tap water is commonly used to produce bottled water, and the addition of various electrolytes or minerals to water has been practiced by other bottled water manufacturers for many decades now.  Some people think that drinking plain distilled water tastes boring and, mentally at least, they like the idea that drinking water that is naturally infused with minerals from a spring or well/aquifer adds an extra measure of health benefits.  The addition of trace minerals do add noticeable flavor that mimics natural spring water.  Also, slightly flavoring the water with minerals masks the residual odors that can be left by the plastic water bottle; the plastic odor is still there, but you notice it less.  The same principle applies to using a room deodorizer to mask the existing odors in a house; that old cat urine smell is still present inside the house, but you notice it less and therefore the house smells fresher.  The most common electrolytes/minerals in spring water are calcium, magnesium, potassium, sodium, sulfate, and chloride.  The Coca-Cola company markets a \"Dasani\" bottled water that, like this Essentia, is municipal tap water purified via reverse osmosis.  Dasani has magnesium sulfate and potassium chloride added to it.  Perhaps the Dasani taste testing panels decided that their water tastes better without the addition of calcium?  But for whatever reasons, this Essentia water has a slight residual \"chalky\" or \"metallic\" aftertaste, as if it had a tannic undertone like the aftertaste after drinking a dry red wine, that I do not really care for.  I do not want my drinking water to leave a subtle aftertaste in my mouth.<br /><br />Essentia also competes directly with \"Glaceau Smart Water\", which takes an approach similar to Essentia's water.  Glaceau Smart Water is municipal water purified via distillation, and then infused with the similar ingredients of calcium chloride, magnesium chloride, and potassium bicarbonate.<br /><br />Not to be outdone, another of Essentia's alkaline/electrolyte water competitors, named \"NEO Water\" (to ride on the futuristic coattails of \"The Matrix\" fame??), pumps out even more junk science drivel filled with fear-mongering misleading statements, calling itself \"Alkaline, Electrolyte, Antioxidant Super Hydrator ... ultra purified healthy and refreshing water formulated through proprietary technology to balance, revitalize and propel you unlike any traditional water\", and \"NEO's unique antioxidants neutralize free radicals the body releases when under exertion\".  But when you really dig further into NEO Water's claims, there are *NO* antioxidants in NEO Water... just potassium bicarbonate, calcium chloride, magnesium chloride, which is similar to the mundane chemicals added to Essentia and Dasani water.  NEO Water's marketing nonsense says that its \"alkalinity allows its molecules to carry more oxygen than normal with an extra attached electron (hydroxyl ions). As a result, these molecules are able to seek and neutralize free radicals in your body and prevent free radical damage to your cells. These natural antioxidant benefits leave your body rich in oxygen and energy.\"  Again, like Essentia, NEO Water hopes to blind and persuade the consumer by overwhelming you with exotic totally false techno-babble; it ascribes its antioxidant benefits entirely to its 9.5 pH alkalinity.  So if you really believe in this nonsense, you could, in theory, obtain far more amazing antioxidant protection simply by dissolving an antacid tablet into your tap water once a day.  As with Essentia's water, NEO Water's \"ultra purified\" water is simply municipal tap water purified using the common method of reverse osmosis.<br /><br />This Essentia Drinking Water is not the first product to tout the benefits of \"alkaline water\".  There have been previous highly-hyped products based on ionized water, alkaline water, and combination alkaline-ionized water.  There have even been so-called \"liquid oxygen\" drops that supposedly contained \"O4\" molecules (instead of the \"O2\" oxygen that is in the air) dissolved in a liquid, and by ingesting 10 drops each day, you feel more energized, but this quackery completely ignores the fact that oxygen is best utilized in the lungs, and not in the stomach.  Just as the \"liquid oxygen\" drops are a distorted version of twisted junk science based on the concept of oxygen bars (at least in oxygen bars, you do breathe in the oxygen instead of putting drops of useless oxygen in your stomach), this \"alkaline water\" concept is a distortion of the \"alkaline diet\" alternative medicine belief that the foods we eat can affect the acidity of urine and blood, which can then affect our well-being, susceptibility to disease, and energy level.  If you are an avid vegan/vegetarian practitioner of an alkaline diet, then this 9.5-pH alkaline water can keep your diet on its alkaline-based theme.  But if you regularly eat meats, poultry, seafood, dairy products, eggs, grains, processed sugar foods, and colas/sodas, all of which significantly boost the acidic levels of your food consumption, then drinking a slightly alkaline water makes absolutely no difference to your health.<br /><br />Your stomach has a healthily acidic pH that ranges between 1.45 to 3.5; your stomach must be very acidic to aid in digestion.  However, blood must always be slightly alkaline, with a pH of 7.35 to 7.45.  If the blood's pH drops below 6.8 (more acidic) or rises above 7.8 (more alkaline), death may occur.  But your blood automatically stays within its healthy pH range regardless of what you eat or drink because your blood utilizes several buffering systems.  The most important buffer for maintaining acidity/alkalinity balance in the blood is called the carbonic-acid-bicarbonate buffer.  To form the bicarbonate in this buffering system, your body uses carbon dioxide... guess what, carbon dioxide is in (over)abundance in the air that you breathe and you do not need sodium bicarbonate baking soda added to your drinking water to maintain a healthy pH in your body.  In fact, consuming too much supplemental sodium bicarbonate can actually lead to constipation, convulsions, diarrhea, frequent urination, and vomiting.  There is only a tiny amount of sodium bicarbonate in each bottle of Essentia water, so you do not have to worry about overdose.  But my point is that all this hoopla and hype about this water being of the \"Best Available pH at 9.5\" is purified nonsense.  Some other fear-mongering alkaline water sales gimmicks claim that, to quote another Web site, \"Excess acidity weakens all our systems and forces the body to take minerals from vital organs and bones to buffer/neutralize the acid and safely remove it from the body.\"  But this is totally false fear-based junk science contrived to mislead you into thinking that your body will rob its vital organs and bones of minerals to neutralize excess acidity.  But our body's carbonic-acid-bicarbonate buffer simply combines carbon dioxide (CO2) in the air with water to make the blood plasma more acidic if it needs to, and it can prevent excess plasma acidity and raise its pH to be more alkaline by having the lungs convert the bicarbonate back into CO2 which you then breathe out.  A similar phosphate buffering system also helps to maintain the pH of cellular fluids, using phosphate instead of bicarbonate.  Phosphorus is present in nearly all foods, and regardless of whether you like to eat lots of meats or lots of vegetables, you can get plenty of sufficient phosphorus in your diet without needing to add it to your drinking water!<br /><br />Drinking too many acidic drinks such as sodas and colas can have a detrimental effect of eroding your tooth enamel, but guzzling all those colas have absolutely no effect on the pH of your cells and bodily fluids.  And regardless of how much alkalinity you consume and put in your stomach, your body is going to make sure that your stomach stays within a healthy acidic pH range and your body will use its pH buffering systems to keep your blood pH between 7.35 and 7.45 regardless of how much acidic or alkaline food and drink you consume. If you are familiar with logarithms, also realize that the pH scale is logarithmic (pH is not a linear scale) and drinking 9.5 pH water really has no effect on your various bodily fluids compared with drinking tap water or any other bottled water. And if you really could somehow artifically adjust your stomach, blood, and bodily fluids entirely to a 9.5 pH, you would be immediately wheeled into a hospital's emergency room because your body and its stomach cannot handle that kind of alkalinity.<br /><br />If you suffer from frequent heartburn or acid reflux disease (gastroesophageal reflux disease), drinking this 9.5 pH water will NOT help the least bit.  Your stomach acids need to constantly stay very acidic to maintain proper digestive functions, and the slight alkalinity of this water has no effect on the stomach acid that is entering into the esophagus of people with GERD.<br /><br />Trying to market bottled water based on its \"silky smooth taste\" and \"hydrates better\" claims, its over-hyped \"9.5 pH\" attribute, and all its overexaggerated health claims constitute marketing trickery to fool consumers by utilizing the \"if you believe that it can really work, it does indeed work\" placebo effect.  The placebo effect is a very powerful phenomenon that can frequently affect everything from clinical trials of pharmacological substances to faith healing.  Basically, if you have a hopeful mindset of expectancy and conditioning that makes you think that something will work, then that perception can become 100% of your subjectively observed reality and outcome of the treatment.  For examples of other placebo effects: If I told you that you can get stronger bones by breathing milk through your nose instead of drinking it through your mouth, or if I told you that you could be revitalized by just holding broccoli in your hands for two minutes every day instead of eating it, if you really believe or hope that to be true, then after breathing the milk into your nose or holding the broccoli in your hands, you may think to yourself, \"Gee, I feel better, stronger, and more energetic after having done that!\"  Likewise, if you really HOPE to feel more hydrated after drinking this Essentia water, you may actually feel more refreshed simply because you BELIEVE that this water is hydrating you better than drinking other sources of water, when in fact the tap water from your faucet could have hydrated you just as refreshingly.<br /><br />The Amazon 'Product Description' for this Essentia water falsely states even more overexaggerated health claims: \"Essentia Water provides unmatched hydration, health benefits and smooth taste.  Its superior hydrating qualities come from a special electrolyte formula and optimal pH level of 9.5, which gives your body more of what it needs to thrive.  Drinking Essentia Water boosts the antioxidant properties of your immune system and helps bring your body back into balance.  It also helps maintain normal blood pressure, restful sleep, heart health, muscle strength and more.\"  Again... these claims are way wayyyy overexaggerated!  Compared to your overall health, fitness level, and daily food diet, the trace minerals found in this water and this water's slight alkalinity really make no difference in boosting the \"antioxidant properties of your immune system\", nor does it \"help maintain normal blood pressure, restful sleep, heart health, muscle strength and more\".  With this litany of false health claims, I am surprised that they also did not pile on claims that this water \"increases libido, cures erectile dysfunction, grows hair on balding men, makes women sexy, and fixes the national debt\" too.<br /><br />Fuzzy Wuzzy's Conclusion:<br /><br />I must admit that I personally do not regularly purchase bottled water for home use, even though I will sometimes buy it while I am away from home, both because I think that filtering my tap water through a Brita filter produces water that is just as tasty and healthy as bottled water and, just as important, I think that too much plastic (and petroleum) is used in the production of bottled water and most plastic bottles end up in our overflowing landfills.  Roughly 1.5 million tons of plastic is used to make water bottles.  And this does not include the energy used to make the plastic and the oil used for transporting all the bottled water.  It takes about two liters of water used during the production process just to make one liter of bottled water.  So behind each 1-liter bottle of water is another two liters of water that was expended during its production.  Essentia states that their plastic bottles are \"safe and recyclable\", but we can all reduce our carbon footprint if we drink less bottled water.  In many developing countries, tap water is either unavailable or unsafe, making bottled water a better option if residents cannot boil their tap water before consumption.  But here in the U.S., some bottled water manufacturers, including this Essentia bottled water, use fear-based advertising claims that their water is healthier than tap water, which it really is not.  The concerns for the taste of tap water are valid, however, especially with tap water that has residual smell or taste of chlorination.  But residual smells and taste issues can be easily and economically remedied by using various activated charcoal/carbon filters at home to treat your tap water.  Anyway, the tap water that comes out of my faucet at home is also slightly alkaline like this Essentia water, and many municipal water supplies are also slightly alkaline, so there is no need to purchase this bottled water that has baking soda added to it.<br /><br />This is not a bad bottled water.  It is priced competitively with other bottled waters.  But it has an odd aftertaste that I do not like.  And the techno-jargon claims that revolve around this water's selling points - 9.5 pH, \"ionically separated water\", \"Infused With Electrolytes\", and even falsely stating that this water boosts your immune system - amount to nothing but purified snake oil hogwash.  To quote William Shakespeare, all this marketing hype about 9.5 pH and electrolytes is really \"much ado about nothing\"!",
                        "count": 3
                      }
                    ]
                  }
                },
                {
                  "name": "text_size",
                  "dtype": "int64",
                  "stats": {
                    "unique_count": 1,
                    "nan_count": 0,
                    "min": 3526,
                    "max": 3526,
                    "histogram": [
                      {
                        "bin_start": 3525.5,
                        "bin_end": 3525.6,
                        "count": 0
                      },
                      {
                        "bin_start": 3525.6,
                        "bin_end": 3525.7,
                        "count": 0
                      },
                      {
                        "bin_start": 3525.7,
                        "bin_end": 3525.8,
                        "count": 0
                      },
                      {
                        "bin_start": 3525.8,
                        "bin_end": 3525.9,
                        "count": 0
                      },
                      {
                        "bin_start": 3525.9,
                        "bin_end": 3526,
                        "count": 0
                      },
                      {
                        "bin_start": 3526,
                        "bin_end": 3526.1,
                        "count": 3
                      },
                      {
                        "bin_start": 3526.1,
                        "bin_end": 3526.2,
                        "count": 0
                      },
                      {
                        "bin_start": 3526.2,
                        "bin_end": 3526.3,
                        "count": 0
                      },
                      {
                        "bin_start": 3526.3,
                        "bin_end": 3526.4,
                        "count": 0
                      },
                      {
                        "bin_start": 3526.4,
                        "bin_end": 3526.5,
                        "count": 0
                      }
                    ]
                  }
                },
                {
                  "name": "_deepnote_index_column",
                  "dtype": "int64"
                }
              ],
              "rows_top": [
                {
                  "ProductId": "B005HG9ESG",
                  "UserId": "A24HWYHR28JJ7A",
                  "Text": "Fuzzy Wuzzy's Summary:<br />*** Somewhat recommended, with reservations and only lukewarm fuzzies.<br /><br />Positives:<br /><br />+ Not too expensive compared to other bottled water, although it is not cheap either.<br /><br />Negatives:<br /><br />- This bottled water product's labeling, product descriptions, and health claims are misleading.<br /><br />At first glance, this 1.5-liter bottle of water that I am reviewing looks like another one of the many varieties of bottled water on the market.  There are many kinds of bottled water: \"spring water\" produced from an underground formation where the groundwater naturally flows up to the Earth's surface, \"artesian water\" obtained from a well that taps into an underground aquifer, \"mineral water\" produced from a well or spring that naturally contains trace amounts of minerals that some people consider to provide health benefits, \"ground/well water\" produced from a well that tapes into an aquifer, \"sparkling water\" from a spring or well that is naturally carbonated, and \"purified water\" produced by distillation, deionization, reverse osmosis, or other purification processes.  This Essentia Drinking Water is \"purified water\"; this bottle contains municipal water (i.e. tap water that comes from your faucet) that is purified using reverse osmosis and ultraviolet light for disinfection.<br /><br />The label on this Essentia water bottle is filled with marketing hype and technical terms designed to make it sound exotic:<br />* \"Infused with Electrolytes For A Difference You Can Taste\"<br />* \"Silky Smooth Taste\"<br />* \"Hydrates Better\"<br />* \"Electrolytes Infused\"<br />* \"Best Available pH at 9.5\"<br />* \"Doctor recommended to protect, improve, and enhance the quality of your health.\"<br />* \"Our Proprietary Technology: Water purified by reverse osmosis; infused with electrolytes for taste; alkalinized and restructured using Ionic Separation Technology.\"<br />* \"Ingredients: purified water, sodium bicarbonate, dipotassium phosphate, magnesium sulfate, calcium chloride.\"<br /><br />There are two ways to evaluate this water product.  One way to review this water is based on how it tastes, how safe are its added ingredients, and its cost.  Since Essentia includes a variety of health claims and marketing statements on the water bottle's label, on the Amazon product listing, and on the company's Web site, the veracity of this statements must also be scrutinized since the marketing hype of most other brands of bottled water is just limited to the \"freshness\" or \"purity\" of their taste without making other health-related claims.<br /><br />First, on the basis on its cost, with all of its marketing hype and hoopla, at least this water is not priced far more expensive than most other brands of bottled water.  But there are various other bottled water products on Amazon that cost less on a per-liter basis.  And if you think that this slightly pricey water can be justified based on its health \"merits\", keep reading...<br /><br />As for taste, that can be a highly personal preference, but I like my water to simply taste \"wet\".  :-)  If I want some kind of flavored drink - tea, wine, beer, fruit juice, etc. - I will drink that instead.  But nothing hydrates and quenches as easily as pure and simple water, with no additives or flavorings added to it.  This particular Essentia water does have a smooth texture to it.  Most other bottled waters taste more crisp than this Essentia water.  Again, you may either like the smooth texture of this water or you may think that its texture is rather flat and bland.  Unlike drinking \"distilled water\", or bottled water that was purified using distillation with no additives, this water has a very slight subtle aftertaste that might be considered as either \"chalky\" or \"metallic\".  Those are my highly subjective adjectives that I associate with this water.  I can only surmise that this is due to the small amounts of additives that were used in this water.  This aftertaste is not too objectionable, but if I just want to hydrate myself drinking \"water\", I really prefer my water to be without any identifiable taste, texture, or odor.<br /><br />Next, since this is not just a bottle of pure H2O water, let's consider what was added to this water: sodium bicarbonate, dipotassium phosphate, magnesium sulfate, and calcium chloride.  Sodium bicarbonate is the same thing as baking soda.  This water was made to have a slightly alkaline pH of 9.5 by adding sodium bicarbonate.  People sometimes also adjust and raise the pH of their swimming pool water by adding sodium bicarbonate.  Dipotassium phosphate is sometimes added to various food products as a buffering agent or emulsifier.  In this water, it serves as one of the \"electrolytes\" that is added.  The term \"electrolytes\" is just a subset of minerals that are found in both the Earth and the food that we eat.  Also serving as an electrolyte is the addition of magnesium sulfate.  Magnesium sulfate is sold in drug stores as \"Epsom Salt\", and you can either soak your feet or body in an Epsom Salt bath to soothe sore muscles, or when ingested in larger quantities, magnesium sulfate also can serve as a laxative.  Calcium chloride serves as another electrolyte in this water.  Calcium chloride is sometimes used as a food additive.  The trace amounts of calcium, magnesium, and phosphorus in this water do not qualify as a measurable part of your daily nutritional intake of these minerals, regardless of how much of this water you drink each day.<br /><br />Essentia is definitely not the first bottled water manufacturer to add electrolytes to either bottled water or drinks.  During the 1960s, Gatorade was possibly the first large-scale commercial drink that was produced with the goal of adding electrolytes of sodium, sugar, potassium, and phosphate to hydrate and replenish athletes who lost fluids during physical exertion in hot weather.  On Essentia's Web site, they have an FAQ question/answer of: \"Why should I drink Essentia if I get my electrolytes through sports drinks?  Essentia provides a blend of dissolved minerals that emulate the ratio of the body's own mixture and concentration - providing the correct proportion of electrolytes without all the sugars and other additives you typically find in sports and energy drinks.\"  There are several problems with that statement.  First, if you are actively exercising and sweating, your body can actually use those extra calories, and if you are just sitting in front of the computer or television, guzzling Gatorade just adds useless calories and electrolytes.  Second, if you are drinking Essentia at home, this product's claim that it provides \"the correct proportion of electrolytes\" implies a one-size-fits-all balance of electrolytes, which is simply not true as we all have different bodies, diets, and lifestyles.<br /><br />None of what Essentia refers to as \"Our Proprietary Technology\" is really that \"proprietary\" or exotic.  The reverse osmosis purification of municipal tap water is commonly used to produce bottled water, and the addition of various electrolytes or minerals to water has been practiced by other bottled water manufacturers for many decades now.  Some people think that drinking plain distilled water tastes boring and, mentally at least, they like the idea that drinking water that is naturally infused with minerals from a spring or well/aquifer adds an extra measure of health benefits.  The addition of trace minerals do add noticeable flavor that mimics natural spring water.  Also, slightly flavoring the water with minerals masks the residual odors that can be left by the plastic water bottle; the plastic odor is still there, but you notice it less.  The same principle applies to using a room deodorizer to mask the existing odors in a house; that old cat urine smell is still present inside the house, but you notice it less and therefore the house smells fresher.  The most common electrolytes/minerals in spring water are calcium, magnesium, potassium, sodium, sulfate, and chloride.  The Coca-Cola company markets a \"Dasani\" bottled water that, like this Essentia, is municipal tap water purified via reverse osmosis.  Dasani has magnesium sulfate and potassium chloride added to it.  Perhaps the Dasani taste testing panels decided that their water tastes better without the addition of calcium?  But for whatever reasons, this Essentia water has a slight residual \"chalky\" or \"metallic\" aftertaste, as if it had a tannic undertone like the aftertaste after drinking a dry red wine, that I do not really care for.  I do not want my drinking water to leave a subtle aftertaste in my mouth.<br /><br />Essentia also competes directly with \"Glaceau Smart Water\", which takes an approach similar to Essentia's water.  Glaceau Smart Water is municipal water purified via distillation, and then infused with the similar ingredients of calcium chloride, magnesium chloride, and potassium bicarbonate.<br /><br />Not to be outdone, another of Essentia's alkaline/electrolyte water competitors, named \"NEO Water\" (to ride on the futuristic coattails of \"The Matrix\" fame??), pumps out even more junk science drivel filled with fear-mongering misleading statements, calling itself \"Alkaline, Electrolyte, Antioxidant Super Hydrator ... ultra purified healthy and refreshing water formulated through proprietary technology to balance, revitalize and propel you unlike any traditional water\", and \"NEO's unique antioxidants neutralize free radicals the body releases when under exertion\".  But when you really dig further into NEO Water's claims, there are *NO* antioxidants in NEO Water... just potassium bicarbonate, calcium chloride, magnesium chloride, which is similar to the mundane chemicals added to Essentia and Dasani water.  NEO Water's marketing nonsense says that its \"alkalinity allows its molecules to carry more oxygen than normal with an extra attached electron (hydroxyl ions). As a result, these molecules are able to seek and neutralize free radicals in your body and prevent free radical damage to your cells. These natural antioxidant benefits leave your body rich in oxygen and energy.\"  Again, like Essentia, NEO Water hopes to blind and persuade the consumer by overwhelming you with exotic totally false techno-babble; it ascribes its antioxidant benefits entirely to its 9.5 pH alkalinity.  So if you really believe in this nonsense, you could, in theory, obtain far more amazing antioxidant protection simply by dissolving an antacid tablet into your tap water once a day.  As with Essentia's water, NEO Water's \"ultra purified\" water is simply municipal tap water purified using the common method of reverse osmosis.<br /><br />This Essentia Drinking Water is not the first product to tout the benefits of \"alkaline water\".  There have been previous highly-hyped products based on ionized water, alkaline water, and combination alkaline-ionized water.  There have even been so-called \"liquid oxygen\" drops that supposedly contained \"O4\" molecules (instead of the \"O2\" oxygen that is in the air) dissolved in a liquid, and by ingesting 10 drops each day, you feel more energized, but this quackery completely ignores the fact that oxygen is best utilized in the lungs, and not in the stomach.  Just as the \"liquid oxygen\" drops are a distorted version of twisted junk science based on the concept of oxygen bars (at least in oxygen bars, you do breathe in the oxygen instead of putting drops of useless oxygen in your stomach), this \"alkaline water\" concept is a distortion of the \"alkaline diet\" alternative medicine belief that the foods we eat can affect the acidity of urine and blood, which can then affect our well-being, susceptibility to disease, and energy level.  If you are an avid vegan/vegetarian practitioner of an alkaline diet, then this 9.5-pH alkaline water can keep your diet on its alkaline-based theme.  But if you regularly eat meats, poultry, seafood, dairy products, eggs, grains, processed sugar foods, and colas/sodas, all of which significantly boost the acidic levels of your food consumption, then drinking a slightly alkaline water makes absolutely no difference to your health.<br /><br />Your stomach has a healthily acidic pH that ranges between 1.45 to 3.5; your stomach must be very acidic to aid in digestion.  However, blood must always be slightly alkaline, with a pH of 7.35 to 7.45.  If the blood's pH drops below 6.8 (more acidic) or rises above 7.8 (more alkaline), death may occur.  But your blood automatically stays within its healthy pH range regardless of what you eat or drink because your blood utilizes several buffering systems.  The most important buffer for maintaining acidity/alkalinity balance in the blood is called the carbonic-acid-bicarbonate buffer.  To form the bicarbonate in this buffering system, your body uses carbon dioxide... guess what, carbon dioxide is in (over)abundance in the air that you breathe and you do not need sodium bicarbonate baking soda added to your drinking water to maintain a healthy pH in your body.  In fact, consuming too much supplemental sodium bicarbonate can actually lead to constipation, convulsions, diarrhea, frequent urination, and vomiting.  There is only a tiny amount of sodium bicarbonate in each bottle of Essentia water, so you do not have to worry about overdose.  But my point is that all this hoopla and hype about this water being of the \"Best Available pH at 9.5\" is purified nonsense.  Some other fear-mongering alkaline water sales gimmicks claim that, to quote another Web site, \"Excess acidity weakens all our systems and forces the body to take minerals from vital organs and bones to buffer/neutralize the acid and safely remove it from the body.\"  But this is totally false fear-based junk science contrived to mislead you into thinking that your body will rob its vital organs and bones of minerals to neutralize excess acidity.  But our body's carbonic-acid-bicarbonate buffer simply combines carbon dioxide (CO2) in the air with water to make the blood plasma more acidic if it needs to, and it can prevent excess plasma acidity and raise its pH to be more alkaline by having the lungs convert the bicarbonate back into CO2 which you then breathe out.  A similar phosphate buffering system also helps to maintain the pH of cellular fluids, using phosphate instead of bicarbonate.  Phosphorus is present in nearly all foods, and regardless of whether you like to eat lots of meats or lots of vegetables, you can get plenty of sufficient phosphorus in your diet without needing to add it to your drinking water!<br /><br />Drinking too many acidic drinks such as sodas and colas can have a detrimental effect of eroding your tooth enamel, but guzzling all those colas have absolutely no effect on the pH of your cells and bodily fluids.  And regardless of how much alkalinity you consume and put in your stomach, your body is going to make sure that your stomach stays within a healthy acidic pH range and your body will use its pH buffering systems to keep your blood pH between 7.35 and 7.45 regardless of how much acidic or alkaline food and drink you consume. If you are familiar with logarithms, also realize that the pH scale is logarithmic (pH is not a linear scale) and drinking 9.5 pH water really has no effect on your various bodily fluids compared with drinking tap water or any other bottled water. And if you really could somehow artifically adjust your stomach, blood, and bodily fluids entirely to a 9.5 pH, you would be immediately wheeled into a hospital's emergency room because your body and its stomach cannot handle that kind of alkalinity.<br /><br />If you suffer from frequent heartburn or acid reflux disease (gastroesophageal reflux disease), drinking this 9.5 pH water will NOT help the least bit.  Your stomach acids need to constantly stay very acidic to maintain proper digestive functions, and the slight alkalinity of this water has no effect on the stomach acid that is entering into the esophagus of people with GERD.<br /><br />Trying to market bottled water based on its \"silky smooth taste\" and \"hydrates better\" claims, its over-hyped \"9.5 pH\" attribute, and all its overexaggerated health claims constitute marketing trickery to fool consumers by utilizing the \"if you believe that it can really work, it does indeed work\" placebo effect.  The placebo effect is a very powerful phenomenon that can frequently affect everything from clinical trials of pharmacological substances to faith healing.  Basically, if you have a hopeful mindset of expectancy and conditioning that makes you think that something will work, then that perception can become 100% of your subjectively observed reality and outcome of the treatment.  For examples of other placebo effects: If I told you that you can get stronger bones by breathing milk through your nose instead of drinking it through your mouth, or if I told you that you could be revitalized by just holding broccoli in your hands for two minutes every day instead of eating it, if you really believe or hope that to be true, then after breathing the milk into your nose or holding the broccoli in your hands, you may think to yourself, \"Gee, I feel better, stronger, and more energetic after having done that!\"  Likewise, if you really HOPE to feel more hydrated after drinking this Essentia water, you may actually feel more refreshed simply because you BELIEVE that this water is hydrating you better than drinking other sources of water, when in fact the tap water from your faucet could have hydrated you just as refreshingly.<br /><br />The Amazon 'Product Description' for this Essentia water falsely states even more overexaggerated health claims: \"Essentia Water provides unmatched hydration, health benefits and smooth taste.  Its superior hydrating qualities come from a special electrolyte formula and optimal pH level of 9.5, which gives your body more of what it needs to thrive.  Drinking Essentia Water boosts the antioxidant properties of your immune system and helps bring your body back into balance.  It also helps maintain normal blood pressure, restful sleep, heart health, muscle strength and more.\"  Again... these claims are way wayyyy overexaggerated!  Compared to your overall health, fitness level, and daily food diet, the trace minerals found in this water and this water's slight alkalinity really make no difference in boosting the \"antioxidant properties of your immune system\", nor does it \"help maintain normal blood pressure, restful sleep, heart health, muscle strength and more\".  With this litany of false health claims, I am surprised that they also did not pile on claims that this water \"increases libido, cures erectile dysfunction, grows hair on balding men, makes women sexy, and fixes the national debt\" too.<br /><br />Fuzzy Wuzzy's Conclusion:<br /><br />I must admit that I personally do not regularly purchase bottled water for home use, even though I will sometimes buy it while I am away from home, both because I think that filtering my tap water through a Brita filter produces water that is just as tasty and healthy as bottled water and, just as important, I think that too much plastic (and petroleum) is used in the production of bottled water and most plastic bottles end up in our overflowing landfills.  Roughly 1.5 million tons of plastic is used to make water bottles.  And this does not include the energy used to make the plastic and the oil used for transporting all the bottled water.  It takes about two liters of water used during the production process just to make one liter of bottled water.  So behind each 1-liter bottle of water is another two liters of water that was expended during its production.  Essentia states that their plastic bottles are \"safe and recyclable\", but we can all reduce our carbon footprint if we drink less bottled water.  In many developing countries, tap water is either unavailable or unsafe, making bottled water a better option if residents cannot boil their tap water before consumption.  But here in the U.S., some bottled water manufacturers, including this Essentia bottled water, use fear-based advertising claims that their water is healthier than tap water, which it really is not.  The concerns for the taste of tap water are valid, however, especially with tap water that has residual smell or taste of chlorination.  But residual smells and taste issues can be easily and economically remedied by using various activated charcoal/carbon filters at home to treat your tap water.  Anyway, the tap water that comes out of my faucet at home is also slightly alkaline like this Essentia water, and many municipal water supplies are also slightly alkaline, so there is no need to purchase this bottled water that has baking soda added to it.<br /><br />This is not a bad bottled water.  It is priced competitively with other bottled waters.  But it has an odd aftertaste that I do not like.  And the techno-jargon claims that revolve around this water's selling points - 9.5 pH, \"ionically separated water\", \"Infused With Electrolytes\", and even falsely stating that this water boosts your immune system - amount to nothing but purified snake oil hogwash.  To quote William Shakespeare, all this marketing hype about 9.5 pH and electrolytes is really \"much ado about nothing\"!",
                  "text_size": 3526,
                  "_deepnote_index_column": 21756
                },
                {
                  "ProductId": "B005HG9ET0",
                  "UserId": "A24HWYHR28JJ7A",
                  "Text": "Fuzzy Wuzzy's Summary:<br />*** Somewhat recommended, with reservations and only lukewarm fuzzies.<br /><br />Positives:<br /><br />+ Not too expensive compared to other bottled water, although it is not cheap either.<br /><br />Negatives:<br /><br />- This bottled water product's labeling, product descriptions, and health claims are misleading.<br /><br />At first glance, this 1.5-liter bottle of water that I am reviewing looks like another one of the many varieties of bottled water on the market.  There are many kinds of bottled water: \"spring water\" produced from an underground formation where the groundwater naturally flows up to the Earth's surface, \"artesian water\" obtained from a well that taps into an underground aquifer, \"mineral water\" produced from a well or spring that naturally contains trace amounts of minerals that some people consider to provide health benefits, \"ground/well water\" produced from a well that tapes into an aquifer, \"sparkling water\" from a spring or well that is naturally carbonated, and \"purified water\" produced by distillation, deionization, reverse osmosis, or other purification processes.  This Essentia Drinking Water is \"purified water\"; this bottle contains municipal water (i.e. tap water that comes from your faucet) that is purified using reverse osmosis and ultraviolet light for disinfection.<br /><br />The label on this Essentia water bottle is filled with marketing hype and technical terms designed to make it sound exotic:<br />* \"Infused with Electrolytes For A Difference You Can Taste\"<br />* \"Silky Smooth Taste\"<br />* \"Hydrates Better\"<br />* \"Electrolytes Infused\"<br />* \"Best Available pH at 9.5\"<br />* \"Doctor recommended to protect, improve, and enhance the quality of your health.\"<br />* \"Our Proprietary Technology: Water purified by reverse osmosis; infused with electrolytes for taste; alkalinized and restructured using Ionic Separation Technology.\"<br />* \"Ingredients: purified water, sodium bicarbonate, dipotassium phosphate, magnesium sulfate, calcium chloride.\"<br /><br />There are two ways to evaluate this water product.  One way to review this water is based on how it tastes, how safe are its added ingredients, and its cost.  Since Essentia includes a variety of health claims and marketing statements on the water bottle's label, on the Amazon product listing, and on the company's Web site, the veracity of this statements must also be scrutinized since the marketing hype of most other brands of bottled water is just limited to the \"freshness\" or \"purity\" of their taste without making other health-related claims.<br /><br />First, on the basis on its cost, with all of its marketing hype and hoopla, at least this water is not priced far more expensive than most other brands of bottled water.  But there are various other bottled water products on Amazon that cost less on a per-liter basis.  And if you think that this slightly pricey water can be justified based on its health \"merits\", keep reading...<br /><br />As for taste, that can be a highly personal preference, but I like my water to simply taste \"wet\".  :-)  If I want some kind of flavored drink - tea, wine, beer, fruit juice, etc. - I will drink that instead.  But nothing hydrates and quenches as easily as pure and simple water, with no additives or flavorings added to it.  This particular Essentia water does have a smooth texture to it.  Most other bottled waters taste more crisp than this Essentia water.  Again, you may either like the smooth texture of this water or you may think that its texture is rather flat and bland.  Unlike drinking \"distilled water\", or bottled water that was purified using distillation with no additives, this water has a very slight subtle aftertaste that might be considered as either \"chalky\" or \"metallic\".  Those are my highly subjective adjectives that I associate with this water.  I can only surmise that this is due to the small amounts of additives that were used in this water.  This aftertaste is not too objectionable, but if I just want to hydrate myself drinking \"water\", I really prefer my water to be without any identifiable taste, texture, or odor.<br /><br />Next, since this is not just a bottle of pure H2O water, let's consider what was added to this water: sodium bicarbonate, dipotassium phosphate, magnesium sulfate, and calcium chloride.  Sodium bicarbonate is the same thing as baking soda.  This water was made to have a slightly alkaline pH of 9.5 by adding sodium bicarbonate.  People sometimes also adjust and raise the pH of their swimming pool water by adding sodium bicarbonate.  Dipotassium phosphate is sometimes added to various food products as a buffering agent or emulsifier.  In this water, it serves as one of the \"electrolytes\" that is added.  The term \"electrolytes\" is just a subset of minerals that are found in both the Earth and the food that we eat.  Also serving as an electrolyte is the addition of magnesium sulfate.  Magnesium sulfate is sold in drug stores as \"Epsom Salt\", and you can either soak your feet or body in an Epsom Salt bath to soothe sore muscles, or when ingested in larger quantities, magnesium sulfate also can serve as a laxative.  Calcium chloride serves as another electrolyte in this water.  Calcium chloride is sometimes used as a food additive.  The trace amounts of calcium, magnesium, and phosphorus in this water do not qualify as a measurable part of your daily nutritional intake of these minerals, regardless of how much of this water you drink each day.<br /><br />Essentia is definitely not the first bottled water manufacturer to add electrolytes to either bottled water or drinks.  During the 1960s, Gatorade was possibly the first large-scale commercial drink that was produced with the goal of adding electrolytes of sodium, sugar, potassium, and phosphate to hydrate and replenish athletes who lost fluids during physical exertion in hot weather.  On Essentia's Web site, they have an FAQ question/answer of: \"Why should I drink Essentia if I get my electrolytes through sports drinks?  Essentia provides a blend of dissolved minerals that emulate the ratio of the body's own mixture and concentration - providing the correct proportion of electrolytes without all the sugars and other additives you typically find in sports and energy drinks.\"  There are several problems with that statement.  First, if you are actively exercising and sweating, your body can actually use those extra calories, and if you are just sitting in front of the computer or television, guzzling Gatorade just adds useless calories and electrolytes.  Second, if you are drinking Essentia at home, this product's claim that it provides \"the correct proportion of electrolytes\" implies a one-size-fits-all balance of electrolytes, which is simply not true as we all have different bodies, diets, and lifestyles.<br /><br />None of what Essentia refers to as \"Our Proprietary Technology\" is really that \"proprietary\" or exotic.  The reverse osmosis purification of municipal tap water is commonly used to produce bottled water, and the addition of various electrolytes or minerals to water has been practiced by other bottled water manufacturers for many decades now.  Some people think that drinking plain distilled water tastes boring and, mentally at least, they like the idea that drinking water that is naturally infused with minerals from a spring or well/aquifer adds an extra measure of health benefits.  The addition of trace minerals do add noticeable flavor that mimics natural spring water.  Also, slightly flavoring the water with minerals masks the residual odors that can be left by the plastic water bottle; the plastic odor is still there, but you notice it less.  The same principle applies to using a room deodorizer to mask the existing odors in a house; that old cat urine smell is still present inside the house, but you notice it less and therefore the house smells fresher.  The most common electrolytes/minerals in spring water are calcium, magnesium, potassium, sodium, sulfate, and chloride.  The Coca-Cola company markets a \"Dasani\" bottled water that, like this Essentia, is municipal tap water purified via reverse osmosis.  Dasani has magnesium sulfate and potassium chloride added to it.  Perhaps the Dasani taste testing panels decided that their water tastes better without the addition of calcium?  But for whatever reasons, this Essentia water has a slight residual \"chalky\" or \"metallic\" aftertaste, as if it had a tannic undertone like the aftertaste after drinking a dry red wine, that I do not really care for.  I do not want my drinking water to leave a subtle aftertaste in my mouth.<br /><br />Essentia also competes directly with \"Glaceau Smart Water\", which takes an approach similar to Essentia's water.  Glaceau Smart Water is municipal water purified via distillation, and then infused with the similar ingredients of calcium chloride, magnesium chloride, and potassium bicarbonate.<br /><br />Not to be outdone, another of Essentia's alkaline/electrolyte water competitors, named \"NEO Water\" (to ride on the futuristic coattails of \"The Matrix\" fame??), pumps out even more junk science drivel filled with fear-mongering misleading statements, calling itself \"Alkaline, Electrolyte, Antioxidant Super Hydrator ... ultra purified healthy and refreshing water formulated through proprietary technology to balance, revitalize and propel you unlike any traditional water\", and \"NEO's unique antioxidants neutralize free radicals the body releases when under exertion\".  But when you really dig further into NEO Water's claims, there are *NO* antioxidants in NEO Water... just potassium bicarbonate, calcium chloride, magnesium chloride, which is similar to the mundane chemicals added to Essentia and Dasani water.  NEO Water's marketing nonsense says that its \"alkalinity allows its molecules to carry more oxygen than normal with an extra attached electron (hydroxyl ions). As a result, these molecules are able to seek and neutralize free radicals in your body and prevent free radical damage to your cells. These natural antioxidant benefits leave your body rich in oxygen and energy.\"  Again, like Essentia, NEO Water hopes to blind and persuade the consumer by overwhelming you with exotic totally false techno-babble; it ascribes its antioxidant benefits entirely to its 9.5 pH alkalinity.  So if you really believe in this nonsense, you could, in theory, obtain far more amazing antioxidant protection simply by dissolving an antacid tablet into your tap water once a day.  As with Essentia's water, NEO Water's \"ultra purified\" water is simply municipal tap water purified using the common method of reverse osmosis.<br /><br />This Essentia Drinking Water is not the first product to tout the benefits of \"alkaline water\".  There have been previous highly-hyped products based on ionized water, alkaline water, and combination alkaline-ionized water.  There have even been so-called \"liquid oxygen\" drops that supposedly contained \"O4\" molecules (instead of the \"O2\" oxygen that is in the air) dissolved in a liquid, and by ingesting 10 drops each day, you feel more energized, but this quackery completely ignores the fact that oxygen is best utilized in the lungs, and not in the stomach.  Just as the \"liquid oxygen\" drops are a distorted version of twisted junk science based on the concept of oxygen bars (at least in oxygen bars, you do breathe in the oxygen instead of putting drops of useless oxygen in your stomach), this \"alkaline water\" concept is a distortion of the \"alkaline diet\" alternative medicine belief that the foods we eat can affect the acidity of urine and blood, which can then affect our well-being, susceptibility to disease, and energy level.  If you are an avid vegan/vegetarian practitioner of an alkaline diet, then this 9.5-pH alkaline water can keep your diet on its alkaline-based theme.  But if you regularly eat meats, poultry, seafood, dairy products, eggs, grains, processed sugar foods, and colas/sodas, all of which significantly boost the acidic levels of your food consumption, then drinking a slightly alkaline water makes absolutely no difference to your health.<br /><br />Your stomach has a healthily acidic pH that ranges between 1.45 to 3.5; your stomach must be very acidic to aid in digestion.  However, blood must always be slightly alkaline, with a pH of 7.35 to 7.45.  If the blood's pH drops below 6.8 (more acidic) or rises above 7.8 (more alkaline), death may occur.  But your blood automatically stays within its healthy pH range regardless of what you eat or drink because your blood utilizes several buffering systems.  The most important buffer for maintaining acidity/alkalinity balance in the blood is called the carbonic-acid-bicarbonate buffer.  To form the bicarbonate in this buffering system, your body uses carbon dioxide... guess what, carbon dioxide is in (over)abundance in the air that you breathe and you do not need sodium bicarbonate baking soda added to your drinking water to maintain a healthy pH in your body.  In fact, consuming too much supplemental sodium bicarbonate can actually lead to constipation, convulsions, diarrhea, frequent urination, and vomiting.  There is only a tiny amount of sodium bicarbonate in each bottle of Essentia water, so you do not have to worry about overdose.  But my point is that all this hoopla and hype about this water being of the \"Best Available pH at 9.5\" is purified nonsense.  Some other fear-mongering alkaline water sales gimmicks claim that, to quote another Web site, \"Excess acidity weakens all our systems and forces the body to take minerals from vital organs and bones to buffer/neutralize the acid and safely remove it from the body.\"  But this is totally false fear-based junk science contrived to mislead you into thinking that your body will rob its vital organs and bones of minerals to neutralize excess acidity.  But our body's carbonic-acid-bicarbonate buffer simply combines carbon dioxide (CO2) in the air with water to make the blood plasma more acidic if it needs to, and it can prevent excess plasma acidity and raise its pH to be more alkaline by having the lungs convert the bicarbonate back into CO2 which you then breathe out.  A similar phosphate buffering system also helps to maintain the pH of cellular fluids, using phosphate instead of bicarbonate.  Phosphorus is present in nearly all foods, and regardless of whether you like to eat lots of meats or lots of vegetables, you can get plenty of sufficient phosphorus in your diet without needing to add it to your drinking water!<br /><br />Drinking too many acidic drinks such as sodas and colas can have a detrimental effect of eroding your tooth enamel, but guzzling all those colas have absolutely no effect on the pH of your cells and bodily fluids.  And regardless of how much alkalinity you consume and put in your stomach, your body is going to make sure that your stomach stays within a healthy acidic pH range and your body will use its pH buffering systems to keep your blood pH between 7.35 and 7.45 regardless of how much acidic or alkaline food and drink you consume. If you are familiar with logarithms, also realize that the pH scale is logarithmic (pH is not a linear scale) and drinking 9.5 pH water really has no effect on your various bodily fluids compared with drinking tap water or any other bottled water. And if you really could somehow artifically adjust your stomach, blood, and bodily fluids entirely to a 9.5 pH, you would be immediately wheeled into a hospital's emergency room because your body and its stomach cannot handle that kind of alkalinity.<br /><br />If you suffer from frequent heartburn or acid reflux disease (gastroesophageal reflux disease), drinking this 9.5 pH water will NOT help the least bit.  Your stomach acids need to constantly stay very acidic to maintain proper digestive functions, and the slight alkalinity of this water has no effect on the stomach acid that is entering into the esophagus of people with GERD.<br /><br />Trying to market bottled water based on its \"silky smooth taste\" and \"hydrates better\" claims, its over-hyped \"9.5 pH\" attribute, and all its overexaggerated health claims constitute marketing trickery to fool consumers by utilizing the \"if you believe that it can really work, it does indeed work\" placebo effect.  The placebo effect is a very powerful phenomenon that can frequently affect everything from clinical trials of pharmacological substances to faith healing.  Basically, if you have a hopeful mindset of expectancy and conditioning that makes you think that something will work, then that perception can become 100% of your subjectively observed reality and outcome of the treatment.  For examples of other placebo effects: If I told you that you can get stronger bones by breathing milk through your nose instead of drinking it through your mouth, or if I told you that you could be revitalized by just holding broccoli in your hands for two minutes every day instead of eating it, if you really believe or hope that to be true, then after breathing the milk into your nose or holding the broccoli in your hands, you may think to yourself, \"Gee, I feel better, stronger, and more energetic after having done that!\"  Likewise, if you really HOPE to feel more hydrated after drinking this Essentia water, you may actually feel more refreshed simply because you BELIEVE that this water is hydrating you better than drinking other sources of water, when in fact the tap water from your faucet could have hydrated you just as refreshingly.<br /><br />The Amazon 'Product Description' for this Essentia water falsely states even more overexaggerated health claims: \"Essentia Water provides unmatched hydration, health benefits and smooth taste.  Its superior hydrating qualities come from a special electrolyte formula and optimal pH level of 9.5, which gives your body more of what it needs to thrive.  Drinking Essentia Water boosts the antioxidant properties of your immune system and helps bring your body back into balance.  It also helps maintain normal blood pressure, restful sleep, heart health, muscle strength and more.\"  Again... these claims are way wayyyy overexaggerated!  Compared to your overall health, fitness level, and daily food diet, the trace minerals found in this water and this water's slight alkalinity really make no difference in boosting the \"antioxidant properties of your immune system\", nor does it \"help maintain normal blood pressure, restful sleep, heart health, muscle strength and more\".  With this litany of false health claims, I am surprised that they also did not pile on claims that this water \"increases libido, cures erectile dysfunction, grows hair on balding men, makes women sexy, and fixes the national debt\" too.<br /><br />Fuzzy Wuzzy's Conclusion:<br /><br />I must admit that I personally do not regularly purchase bottled water for home use, even though I will sometimes buy it while I am away from home, both because I think that filtering my tap water through a Brita filter produces water that is just as tasty and healthy as bottled water and, just as important, I think that too much plastic (and petroleum) is used in the production of bottled water and most plastic bottles end up in our overflowing landfills.  Roughly 1.5 million tons of plastic is used to make water bottles.  And this does not include the energy used to make the plastic and the oil used for transporting all the bottled water.  It takes about two liters of water used during the production process just to make one liter of bottled water.  So behind each 1-liter bottle of water is another two liters of water that was expended during its production.  Essentia states that their plastic bottles are \"safe and recyclable\", but we can all reduce our carbon footprint if we drink less bottled water.  In many developing countries, tap water is either unavailable or unsafe, making bottled water a better option if residents cannot boil their tap water before consumption.  But here in the U.S., some bottled water manufacturers, including this Essentia bottled water, use fear-based advertising claims that their water is healthier than tap water, which it really is not.  The concerns for the taste of tap water are valid, however, especially with tap water that has residual smell or taste of chlorination.  But residual smells and taste issues can be easily and economically remedied by using various activated charcoal/carbon filters at home to treat your tap water.  Anyway, the tap water that comes out of my faucet at home is also slightly alkaline like this Essentia water, and many municipal water supplies are also slightly alkaline, so there is no need to purchase this bottled water that has baking soda added to it.<br /><br />This is not a bad bottled water.  It is priced competitively with other bottled waters.  But it has an odd aftertaste that I do not like.  And the techno-jargon claims that revolve around this water's selling points - 9.5 pH, \"ionically separated water\", \"Infused With Electrolytes\", and even falsely stating that this water boosts your immune system - amount to nothing but purified snake oil hogwash.  To quote William Shakespeare, all this marketing hype about 9.5 pH and electrolytes is really \"much ado about nothing\"!",
                  "text_size": 3526,
                  "_deepnote_index_column": 66592
                },
                {
                  "ProductId": "B005HG9ERW",
                  "UserId": "A24HWYHR28JJ7A",
                  "Text": "Fuzzy Wuzzy's Summary:<br />*** Somewhat recommended, with reservations and only lukewarm fuzzies.<br /><br />Positives:<br /><br />+ Not too expensive compared to other bottled water, although it is not cheap either.<br /><br />Negatives:<br /><br />- This bottled water product's labeling, product descriptions, and health claims are misleading.<br /><br />At first glance, this 1.5-liter bottle of water that I am reviewing looks like another one of the many varieties of bottled water on the market.  There are many kinds of bottled water: \"spring water\" produced from an underground formation where the groundwater naturally flows up to the Earth's surface, \"artesian water\" obtained from a well that taps into an underground aquifer, \"mineral water\" produced from a well or spring that naturally contains trace amounts of minerals that some people consider to provide health benefits, \"ground/well water\" produced from a well that tapes into an aquifer, \"sparkling water\" from a spring or well that is naturally carbonated, and \"purified water\" produced by distillation, deionization, reverse osmosis, or other purification processes.  This Essentia Drinking Water is \"purified water\"; this bottle contains municipal water (i.e. tap water that comes from your faucet) that is purified using reverse osmosis and ultraviolet light for disinfection.<br /><br />The label on this Essentia water bottle is filled with marketing hype and technical terms designed to make it sound exotic:<br />* \"Infused with Electrolytes For A Difference You Can Taste\"<br />* \"Silky Smooth Taste\"<br />* \"Hydrates Better\"<br />* \"Electrolytes Infused\"<br />* \"Best Available pH at 9.5\"<br />* \"Doctor recommended to protect, improve, and enhance the quality of your health.\"<br />* \"Our Proprietary Technology: Water purified by reverse osmosis; infused with electrolytes for taste; alkalinized and restructured using Ionic Separation Technology.\"<br />* \"Ingredients: purified water, sodium bicarbonate, dipotassium phosphate, magnesium sulfate, calcium chloride.\"<br /><br />There are two ways to evaluate this water product.  One way to review this water is based on how it tastes, how safe are its added ingredients, and its cost.  Since Essentia includes a variety of health claims and marketing statements on the water bottle's label, on the Amazon product listing, and on the company's Web site, the veracity of this statements must also be scrutinized since the marketing hype of most other brands of bottled water is just limited to the \"freshness\" or \"purity\" of their taste without making other health-related claims.<br /><br />First, on the basis on its cost, with all of its marketing hype and hoopla, at least this water is not priced far more expensive than most other brands of bottled water.  But there are various other bottled water products on Amazon that cost less on a per-liter basis.  And if you think that this slightly pricey water can be justified based on its health \"merits\", keep reading...<br /><br />As for taste, that can be a highly personal preference, but I like my water to simply taste \"wet\".  :-)  If I want some kind of flavored drink - tea, wine, beer, fruit juice, etc. - I will drink that instead.  But nothing hydrates and quenches as easily as pure and simple water, with no additives or flavorings added to it.  This particular Essentia water does have a smooth texture to it.  Most other bottled waters taste more crisp than this Essentia water.  Again, you may either like the smooth texture of this water or you may think that its texture is rather flat and bland.  Unlike drinking \"distilled water\", or bottled water that was purified using distillation with no additives, this water has a very slight subtle aftertaste that might be considered as either \"chalky\" or \"metallic\".  Those are my highly subjective adjectives that I associate with this water.  I can only surmise that this is due to the small amounts of additives that were used in this water.  This aftertaste is not too objectionable, but if I just want to hydrate myself drinking \"water\", I really prefer my water to be without any identifiable taste, texture, or odor.<br /><br />Next, since this is not just a bottle of pure H2O water, let's consider what was added to this water: sodium bicarbonate, dipotassium phosphate, magnesium sulfate, and calcium chloride.  Sodium bicarbonate is the same thing as baking soda.  This water was made to have a slightly alkaline pH of 9.5 by adding sodium bicarbonate.  People sometimes also adjust and raise the pH of their swimming pool water by adding sodium bicarbonate.  Dipotassium phosphate is sometimes added to various food products as a buffering agent or emulsifier.  In this water, it serves as one of the \"electrolytes\" that is added.  The term \"electrolytes\" is just a subset of minerals that are found in both the Earth and the food that we eat.  Also serving as an electrolyte is the addition of magnesium sulfate.  Magnesium sulfate is sold in drug stores as \"Epsom Salt\", and you can either soak your feet or body in an Epsom Salt bath to soothe sore muscles, or when ingested in larger quantities, magnesium sulfate also can serve as a laxative.  Calcium chloride serves as another electrolyte in this water.  Calcium chloride is sometimes used as a food additive.  The trace amounts of calcium, magnesium, and phosphorus in this water do not qualify as a measurable part of your daily nutritional intake of these minerals, regardless of how much of this water you drink each day.<br /><br />Essentia is definitely not the first bottled water manufacturer to add electrolytes to either bottled water or drinks.  During the 1960s, Gatorade was possibly the first large-scale commercial drink that was produced with the goal of adding electrolytes of sodium, sugar, potassium, and phosphate to hydrate and replenish athletes who lost fluids during physical exertion in hot weather.  On Essentia's Web site, they have an FAQ question/answer of: \"Why should I drink Essentia if I get my electrolytes through sports drinks?  Essentia provides a blend of dissolved minerals that emulate the ratio of the body's own mixture and concentration - providing the correct proportion of electrolytes without all the sugars and other additives you typically find in sports and energy drinks.\"  There are several problems with that statement.  First, if you are actively exercising and sweating, your body can actually use those extra calories, and if you are just sitting in front of the computer or television, guzzling Gatorade just adds useless calories and electrolytes.  Second, if you are drinking Essentia at home, this product's claim that it provides \"the correct proportion of electrolytes\" implies a one-size-fits-all balance of electrolytes, which is simply not true as we all have different bodies, diets, and lifestyles.<br /><br />None of what Essentia refers to as \"Our Proprietary Technology\" is really that \"proprietary\" or exotic.  The reverse osmosis purification of municipal tap water is commonly used to produce bottled water, and the addition of various electrolytes or minerals to water has been practiced by other bottled water manufacturers for many decades now.  Some people think that drinking plain distilled water tastes boring and, mentally at least, they like the idea that drinking water that is naturally infused with minerals from a spring or well/aquifer adds an extra measure of health benefits.  The addition of trace minerals do add noticeable flavor that mimics natural spring water.  Also, slightly flavoring the water with minerals masks the residual odors that can be left by the plastic water bottle; the plastic odor is still there, but you notice it less.  The same principle applies to using a room deodorizer to mask the existing odors in a house; that old cat urine smell is still present inside the house, but you notice it less and therefore the house smells fresher.  The most common electrolytes/minerals in spring water are calcium, magnesium, potassium, sodium, sulfate, and chloride.  The Coca-Cola company markets a \"Dasani\" bottled water that, like this Essentia, is municipal tap water purified via reverse osmosis.  Dasani has magnesium sulfate and potassium chloride added to it.  Perhaps the Dasani taste testing panels decided that their water tastes better without the addition of calcium?  But for whatever reasons, this Essentia water has a slight residual \"chalky\" or \"metallic\" aftertaste, as if it had a tannic undertone like the aftertaste after drinking a dry red wine, that I do not really care for.  I do not want my drinking water to leave a subtle aftertaste in my mouth.<br /><br />Essentia also competes directly with \"Glaceau Smart Water\", which takes an approach similar to Essentia's water.  Glaceau Smart Water is municipal water purified via distillation, and then infused with the similar ingredients of calcium chloride, magnesium chloride, and potassium bicarbonate.<br /><br />Not to be outdone, another of Essentia's alkaline/electrolyte water competitors, named \"NEO Water\" (to ride on the futuristic coattails of \"The Matrix\" fame??), pumps out even more junk science drivel filled with fear-mongering misleading statements, calling itself \"Alkaline, Electrolyte, Antioxidant Super Hydrator ... ultra purified healthy and refreshing water formulated through proprietary technology to balance, revitalize and propel you unlike any traditional water\", and \"NEO's unique antioxidants neutralize free radicals the body releases when under exertion\".  But when you really dig further into NEO Water's claims, there are *NO* antioxidants in NEO Water... just potassium bicarbonate, calcium chloride, magnesium chloride, which is similar to the mundane chemicals added to Essentia and Dasani water.  NEO Water's marketing nonsense says that its \"alkalinity allows its molecules to carry more oxygen than normal with an extra attached electron (hydroxyl ions). As a result, these molecules are able to seek and neutralize free radicals in your body and prevent free radical damage to your cells. These natural antioxidant benefits leave your body rich in oxygen and energy.\"  Again, like Essentia, NEO Water hopes to blind and persuade the consumer by overwhelming you with exotic totally false techno-babble; it ascribes its antioxidant benefits entirely to its 9.5 pH alkalinity.  So if you really believe in this nonsense, you could, in theory, obtain far more amazing antioxidant protection simply by dissolving an antacid tablet into your tap water once a day.  As with Essentia's water, NEO Water's \"ultra purified\" water is simply municipal tap water purified using the common method of reverse osmosis.<br /><br />This Essentia Drinking Water is not the first product to tout the benefits of \"alkaline water\".  There have been previous highly-hyped products based on ionized water, alkaline water, and combination alkaline-ionized water.  There have even been so-called \"liquid oxygen\" drops that supposedly contained \"O4\" molecules (instead of the \"O2\" oxygen that is in the air) dissolved in a liquid, and by ingesting 10 drops each day, you feel more energized, but this quackery completely ignores the fact that oxygen is best utilized in the lungs, and not in the stomach.  Just as the \"liquid oxygen\" drops are a distorted version of twisted junk science based on the concept of oxygen bars (at least in oxygen bars, you do breathe in the oxygen instead of putting drops of useless oxygen in your stomach), this \"alkaline water\" concept is a distortion of the \"alkaline diet\" alternative medicine belief that the foods we eat can affect the acidity of urine and blood, which can then affect our well-being, susceptibility to disease, and energy level.  If you are an avid vegan/vegetarian practitioner of an alkaline diet, then this 9.5-pH alkaline water can keep your diet on its alkaline-based theme.  But if you regularly eat meats, poultry, seafood, dairy products, eggs, grains, processed sugar foods, and colas/sodas, all of which significantly boost the acidic levels of your food consumption, then drinking a slightly alkaline water makes absolutely no difference to your health.<br /><br />Your stomach has a healthily acidic pH that ranges between 1.45 to 3.5; your stomach must be very acidic to aid in digestion.  However, blood must always be slightly alkaline, with a pH of 7.35 to 7.45.  If the blood's pH drops below 6.8 (more acidic) or rises above 7.8 (more alkaline), death may occur.  But your blood automatically stays within its healthy pH range regardless of what you eat or drink because your blood utilizes several buffering systems.  The most important buffer for maintaining acidity/alkalinity balance in the blood is called the carbonic-acid-bicarbonate buffer.  To form the bicarbonate in this buffering system, your body uses carbon dioxide... guess what, carbon dioxide is in (over)abundance in the air that you breathe and you do not need sodium bicarbonate baking soda added to your drinking water to maintain a healthy pH in your body.  In fact, consuming too much supplemental sodium bicarbonate can actually lead to constipation, convulsions, diarrhea, frequent urination, and vomiting.  There is only a tiny amount of sodium bicarbonate in each bottle of Essentia water, so you do not have to worry about overdose.  But my point is that all this hoopla and hype about this water being of the \"Best Available pH at 9.5\" is purified nonsense.  Some other fear-mongering alkaline water sales gimmicks claim that, to quote another Web site, \"Excess acidity weakens all our systems and forces the body to take minerals from vital organs and bones to buffer/neutralize the acid and safely remove it from the body.\"  But this is totally false fear-based junk science contrived to mislead you into thinking that your body will rob its vital organs and bones of minerals to neutralize excess acidity.  But our body's carbonic-acid-bicarbonate buffer simply combines carbon dioxide (CO2) in the air with water to make the blood plasma more acidic if it needs to, and it can prevent excess plasma acidity and raise its pH to be more alkaline by having the lungs convert the bicarbonate back into CO2 which you then breathe out.  A similar phosphate buffering system also helps to maintain the pH of cellular fluids, using phosphate instead of bicarbonate.  Phosphorus is present in nearly all foods, and regardless of whether you like to eat lots of meats or lots of vegetables, you can get plenty of sufficient phosphorus in your diet without needing to add it to your drinking water!<br /><br />Drinking too many acidic drinks such as sodas and colas can have a detrimental effect of eroding your tooth enamel, but guzzling all those colas have absolutely no effect on the pH of your cells and bodily fluids.  And regardless of how much alkalinity you consume and put in your stomach, your body is going to make sure that your stomach stays within a healthy acidic pH range and your body will use its pH buffering systems to keep your blood pH between 7.35 and 7.45 regardless of how much acidic or alkaline food and drink you consume. If you are familiar with logarithms, also realize that the pH scale is logarithmic (pH is not a linear scale) and drinking 9.5 pH water really has no effect on your various bodily fluids compared with drinking tap water or any other bottled water. And if you really could somehow artifically adjust your stomach, blood, and bodily fluids entirely to a 9.5 pH, you would be immediately wheeled into a hospital's emergency room because your body and its stomach cannot handle that kind of alkalinity.<br /><br />If you suffer from frequent heartburn or acid reflux disease (gastroesophageal reflux disease), drinking this 9.5 pH water will NOT help the least bit.  Your stomach acids need to constantly stay very acidic to maintain proper digestive functions, and the slight alkalinity of this water has no effect on the stomach acid that is entering into the esophagus of people with GERD.<br /><br />Trying to market bottled water based on its \"silky smooth taste\" and \"hydrates better\" claims, its over-hyped \"9.5 pH\" attribute, and all its overexaggerated health claims constitute marketing trickery to fool consumers by utilizing the \"if you believe that it can really work, it does indeed work\" placebo effect.  The placebo effect is a very powerful phenomenon that can frequently affect everything from clinical trials of pharmacological substances to faith healing.  Basically, if you have a hopeful mindset of expectancy and conditioning that makes you think that something will work, then that perception can become 100% of your subjectively observed reality and outcome of the treatment.  For examples of other placebo effects: If I told you that you can get stronger bones by breathing milk through your nose instead of drinking it through your mouth, or if I told you that you could be revitalized by just holding broccoli in your hands for two minutes every day instead of eating it, if you really believe or hope that to be true, then after breathing the milk into your nose or holding the broccoli in your hands, you may think to yourself, \"Gee, I feel better, stronger, and more energetic after having done that!\"  Likewise, if you really HOPE to feel more hydrated after drinking this Essentia water, you may actually feel more refreshed simply because you BELIEVE that this water is hydrating you better than drinking other sources of water, when in fact the tap water from your faucet could have hydrated you just as refreshingly.<br /><br />The Amazon 'Product Description' for this Essentia water falsely states even more overexaggerated health claims: \"Essentia Water provides unmatched hydration, health benefits and smooth taste.  Its superior hydrating qualities come from a special electrolyte formula and optimal pH level of 9.5, which gives your body more of what it needs to thrive.  Drinking Essentia Water boosts the antioxidant properties of your immune system and helps bring your body back into balance.  It also helps maintain normal blood pressure, restful sleep, heart health, muscle strength and more.\"  Again... these claims are way wayyyy overexaggerated!  Compared to your overall health, fitness level, and daily food diet, the trace minerals found in this water and this water's slight alkalinity really make no difference in boosting the \"antioxidant properties of your immune system\", nor does it \"help maintain normal blood pressure, restful sleep, heart health, muscle strength and more\".  With this litany of false health claims, I am surprised that they also did not pile on claims that this water \"increases libido, cures erectile dysfunction, grows hair on balding men, makes women sexy, and fixes the national debt\" too.<br /><br />Fuzzy Wuzzy's Conclusion:<br /><br />I must admit that I personally do not regularly purchase bottled water for home use, even though I will sometimes buy it while I am away from home, both because I think that filtering my tap water through a Brita filter produces water that is just as tasty and healthy as bottled water and, just as important, I think that too much plastic (and petroleum) is used in the production of bottled water and most plastic bottles end up in our overflowing landfills.  Roughly 1.5 million tons of plastic is used to make water bottles.  And this does not include the energy used to make the plastic and the oil used for transporting all the bottled water.  It takes about two liters of water used during the production process just to make one liter of bottled water.  So behind each 1-liter bottle of water is another two liters of water that was expended during its production.  Essentia states that their plastic bottles are \"safe and recyclable\", but we can all reduce our carbon footprint if we drink less bottled water.  In many developing countries, tap water is either unavailable or unsafe, making bottled water a better option if residents cannot boil their tap water before consumption.  But here in the U.S., some bottled water manufacturers, including this Essentia bottled water, use fear-based advertising claims that their water is healthier than tap water, which it really is not.  The concerns for the taste of tap water are valid, however, especially with tap water that has residual smell or taste of chlorination.  But residual smells and taste issues can be easily and economically remedied by using various activated charcoal/carbon filters at home to treat your tap water.  Anyway, the tap water that comes out of my faucet at home is also slightly alkaline like this Essentia water, and many municipal water supplies are also slightly alkaline, so there is no need to purchase this bottled water that has baking soda added to it.<br /><br />This is not a bad bottled water.  It is priced competitively with other bottled waters.  But it has an odd aftertaste that I do not like.  And the techno-jargon claims that revolve around this water's selling points - 9.5 pH, \"ionically separated water\", \"Infused With Electrolytes\", and even falsely stating that this water boosts your immune system - amount to nothing but purified snake oil hogwash.  To quote William Shakespeare, all this marketing hype about 9.5 pH and electrolytes is really \"much ado about nothing\"!",
                  "text_size": 3526,
                  "_deepnote_index_column": 175574
                }
              ],
              "rows_bottom": null
            },
            "text/plain": "         ProductId          UserId  \\\n21756   B005HG9ESG  A24HWYHR28JJ7A   \n66592   B005HG9ET0  A24HWYHR28JJ7A   \n175574  B005HG9ERW  A24HWYHR28JJ7A   \n\n                                                     Text  text_size  \n21756   Fuzzy Wuzzy's Summary:<br />*** Somewhat recom...       3526  \n66592   Fuzzy Wuzzy's Summary:<br />*** Somewhat recom...       3526  \n175574  Fuzzy Wuzzy's Summary:<br />*** Somewhat recom...       3526  ",
            "text/html": "<div>\n<style scoped>\n    .dataframe tbody tr th:only-of-type {\n        vertical-align: middle;\n    }\n\n    .dataframe tbody tr th {\n        vertical-align: top;\n    }\n\n    .dataframe thead th {\n        text-align: right;\n    }\n</style>\n<table border=\"1\" class=\"dataframe\">\n  <thead>\n    <tr style=\"text-align: right;\">\n      <th></th>\n      <th>ProductId</th>\n      <th>UserId</th>\n      <th>Text</th>\n      <th>text_size</th>\n    </tr>\n  </thead>\n  <tbody>\n    <tr>\n      <th>21756</th>\n      <td>B005HG9ESG</td>\n      <td>A24HWYHR28JJ7A</td>\n      <td>Fuzzy Wuzzy's Summary:&lt;br /&gt;*** Somewhat recom...</td>\n      <td>3526</td>\n    </tr>\n    <tr>\n      <th>66592</th>\n      <td>B005HG9ET0</td>\n      <td>A24HWYHR28JJ7A</td>\n      <td>Fuzzy Wuzzy's Summary:&lt;br /&gt;*** Somewhat recom...</td>\n      <td>3526</td>\n    </tr>\n    <tr>\n      <th>175574</th>\n      <td>B005HG9ERW</td>\n      <td>A24HWYHR28JJ7A</td>\n      <td>Fuzzy Wuzzy's Summary:&lt;br /&gt;*** Somewhat recom...</td>\n      <td>3526</td>\n    </tr>\n  </tbody>\n</table>\n</div>"
          },
          "metadata": {}
        }
      ]
    },
    {
      "cell_type": "markdown",
      "source": "We can see that this user has left the exact same review on three different products. How many other reviews have been repeated?",
      "metadata": {
        "cell_id": "00032-2575a09b-5238-4f62-ad3b-8ac23fed0225",
        "deepnote_cell_type": "markdown"
      }
    },
    {
      "cell_type": "code",
      "metadata": {
        "scrolled": false,
        "cell_id": "00033-6d0fa219-126d-41ee-ab04-dadd07b42315",
        "deepnote_to_be_reexecuted": false,
        "source_hash": "f689d95e",
        "execution_millis": 1691,
        "execution_start": 1612899482655,
        "deepnote_cell_type": "code"
      },
      "source": "counts = data.groupby('Text').size().reset_index(name='count')\ncounts[counts['count']>1].sort_values('count', ascending=False)",
      "execution_count": null,
      "outputs": [
        {
          "output_type": "execute_result",
          "execution_count": 25,
          "data": {
            "application/vnd.deepnote.dataframe.v2+json": {
              "row_count": 46054,
              "column_count": 2,
              "columns": [
                {
                  "name": "Text",
                  "dtype": "object",
                  "stats": {
                    "unique_count": 46054,
                    "nan_count": 0,
                    "categories": [
                      {
                        "name": "This review will make me sound really stupid, but whatever. I don't really care as long as people find out what's real and can avoid my mistakes.<br /><br />I got my wonderful little sweet Bella Bean when she was a few days shy of three years old. She had been bounced around from house to house and eating whatever was cheap. I have had cats around me my entire life, for about twenty-five years now. My mother always just fed them whatever, the kinds of food you buy in the supermarket - Friskies, Nine Lives, Kit & Kaboodle, stuff like that. And our cats were always fine, at least in terms of their eating habits. They would eat in the morning, stop when they were done, come back, and eat some more when they got hungry.<br /><br />My housemate at the time was working for Hill's and assured me that this was the best food ever made, so great, so on and so forth. I now know that she is an utter buffoon, but I initially trusted her judgment, which is so unfortunate because she doesn't think. She also had plenty of coupons for free or deeply discounted bags, which made it a much more attractive choice.<br /><br />I first tried feeding the little Bean an unmeasured amount of Science Diet in a bowl, but that didn't work, as she would devour it in one sitting. So then I took to measuring it, and she did the same thing. Then I started parsing it out to twice a day. That didn't work either, because she would start going crazy in the middle of the day, running around, intentionally destroying things, deliberately spilling her water, crying, etc., until she got more food. So then I split it into three servings. Same thing. Then it got to be four servings. That was a little better, but it was too much maintenance and unrealistic to be around every day to feed her four times. So then it went back to three. All the while, I was trying to reduce the amount of food I was feeding her to less than 3/4 of a cup because she was a little chubby. Reducing was hell. She became even more hungry, but I figured she would get used to it. Not really.<br /><br />For over a year, she would wake me up every morning looking for food in a serious way, knocking things off my desk, ripping up any paper she could find, scratching at the door and committing general acts of mischief. As soon as she got food, she was back to her sweet self, but only for three or four hours.<br /><br />We thought she was bored, we thought she was a little nutty, and maybe even had a kitty eating disorder. She always wanted food. It was kind of funny but in the end it was just sad.<br /><br />A few weeks back, we took her to a new (good, non-money factory) vet for her second checkup since I've had her. I talked with him about her being always hungry. He asked what she ate, and I told him the adult indoor Science Diet. Without saying as much, he basically told me that this food is garbage and I should look for something else. He said cat food should have a protein followed by a carbohydrate as the first two ingredients. Science Diet does, in a very loose, by-product kind of way - ground up slaughterhouse leftovers and corn dust. Then they put a bunch of vitamins in it to make it \"healthy,\" instead of just using good ingredients from the beginning. Not that I care about spending money on the Bean, but this food is way too expensive for what it is.<br /><br />So we began transitioning her onto Wellness indoor formula about two weeks ago. She is still eating 50 percent Science Diet with 50 percent Wellness (you really shouldn't just give a cat different food one day out of the blue) but SHE NEVER FREAKS OUT ANYMORE. It's amazing. And it's 100 percent because she is eating real food now, along with that sawdust and chicken hearts I still regrettable have to feed her. We have her down to eating twice a day, only 1/3 cup in TOTAL. She was eating three times a day, 5/8 of a cup in total. Now she eats some in the morning, walks away, eats some more a few hours later, and then looks for dinner about twelve hours after her initial feeding. No more knocking things over, no more trashing Dad's papers on the desk, no more howling, no more deliberately spilled water on the floor. It's incredible.<br /><br />I feel so bad that I was doing this to her for so long. We really thought she was just being dramatic or whatever. But no, she was genuinely hungry because she wasn't eating any real food.<br /><br />Do your cat a favor - buy her or him so food made with real ingredients, things you would eat - Wellness, Halo, Innova, Evo, whatever. Figure it out for yourself, but please don't feed your cat this. It's garbage.",
                        "count": 1
                      },
                      {
                        "name": "Diamond Almonds<br />Almonds are a good source of magnesium. One ounce contain approximately 20% of the RDA for an adult recommended dietary allowance (RDA)<br />Recommended Dietary Allowance (RDA) the amounts of selected nutrients considered adequate to meet the known nutrient needs of healthy people. The RDA is based on scientific knowledge and has been presented by a committee of the Food and Nutrition Board (FNB) of the National Academy of Sciences (NAS). The Canadian equivalent is the Recommended Nutrient Intakes. RDA is generally accepted throughout the world as a valid source of information. At least 40 different nations have as well as organizations have published standards similar to the RDA.<br /><br />Magnesium is the fourth most abundant mineral in the body and is essential to good health. Approximately 50% of total body magnesium is found in bone. The other half is found predominantly inside cells of body tissues and organs. Only 1% of magnesium is found in blood, but the body works very hard to keep blood levels of magnesium constant.<br />Magnesium is needed for more than 300 biochemical reactions in the body. It helps maintain normal muscle and nerve function, keeps heart rhythm steady, supports a healthy immune system, and keeps bones strong. Magnesium also helps regulate blood sugar levels, promotes normal blood pressure, and is known to be involved in energy metabolism and protein synthesis. There is an increased interest in the role of magnesium in preventing and managing disorders such as hypertension, cardiovascular disease, and diabetes. Dietary magnesium is absorbed in the small intestines. Are you taking enough magnesium in the diet? The recommended daily allowance is 300mgs/day for men, 350mgs for women. Magnesium is extremely safe by mouth - too much simply causes diarrhea. Try increasing the amount of magnesium you take by mouth until it causes diarrhea, then reduce the dose slightly so it does not. This is called taking magnesium to bowel tolerance (just like using vitamin C to bowel tolerance.<br /><br />Almonds are a good source of Fiber.<br />One ounce contains approximately 12% of the RDA for an adult.<br />So, in summary, Almonds are a very healthy snack, so what's left to say?<br /><br />Two things:<br />1st be cautious about \"bowel tolerance\" or \"happy bowels\" if you prefer.<br />2nd Taste.  I realize that taste is a personal thing.  That's why they make chocolate, strawberry, and vanilla.<br /><br />Here's my current favorites\"<br /><br /> 1st Blue Diamond Dark mint dark chocolate (reminds me of the chocolate mint Girl Scout Cookies with less sugar).<br /><br />2nd Blue diamond Dark Chocolate Oven Roasted<br />3rd  Blue diamond Blue Butter Toffee<br />4thd Blue Diamond Almonds Bold Habanero BBQ (reminds me of  BBQ potato chips again with less sugar).<br />5th Bold Blazin Buffalo Wing<br />6th Blue Diamond Almonds Cinnamon Brown Sugar<br />7th  Blue Diamond Almonds Lime `n Chili<br />8th  Blue Diamond Almonds Smokehouse<br />9th  Bold Wasabi & Soy Sauce<br /><br />But that's just me: you might have a completely different take on these flavors.<br /> 4th  and 5th are very close.<br /><br />Gunner<br />May, 2012",
                        "count": 1
                      },
                      {
                        "name": "46052 others",
                        "count": 46052
                      }
                    ]
                  }
                },
                {
                  "name": "count",
                  "dtype": "int64",
                  "stats": {
                    "unique_count": 31,
                    "nan_count": 0,
                    "min": 2,
                    "max": 140,
                    "histogram": [
                      {
                        "bin_start": 2,
                        "bin_end": 15.8,
                        "count": 45868
                      },
                      {
                        "bin_start": 15.8,
                        "bin_end": 29.6,
                        "count": 179
                      },
                      {
                        "bin_start": 29.6,
                        "bin_end": 43.400000000000006,
                        "count": 5
                      },
                      {
                        "bin_start": 43.400000000000006,
                        "bin_end": 57.2,
                        "count": 0
                      },
                      {
                        "bin_start": 57.2,
                        "bin_end": 71,
                        "count": 0
                      },
                      {
                        "bin_start": 71,
                        "bin_end": 84.80000000000001,
                        "count": 0
                      },
                      {
                        "bin_start": 84.80000000000001,
                        "bin_end": 98.60000000000001,
                        "count": 1
                      },
                      {
                        "bin_start": 98.60000000000001,
                        "bin_end": 112.4,
                        "count": 0
                      },
                      {
                        "bin_start": 112.4,
                        "bin_end": 126.2,
                        "count": 0
                      },
                      {
                        "bin_start": 126.2,
                        "bin_end": 140,
                        "count": 1
                      }
                    ]
                  }
                },
                {
                  "name": "_deepnote_index_column",
                  "dtype": "int64"
                }
              ],
              "rows_top": [
                {
                  "Text": "This review will make me sound really stupid, but whatever. I don't really care as long as people find out what's real and can avoid my mistakes.<br /><br />I got my wonderful little sweet Bella Bean when she was a few days shy of three years old. She had been bounced around from house to house and eating whatever was cheap. I have had cats around me my entire life, for about twenty-five years now. My mother always just fed them whatever, the kinds of food you buy in the supermarket - Friskies, Nine Lives, Kit & Kaboodle, stuff like that. And our cats were always fine, at least in terms of their eating habits. They would eat in the morning, stop when they were done, come back, and eat some more when they got hungry.<br /><br />My housemate at the time was working for Hill's and assured me that this was the best food ever made, so great, so on and so forth. I now know that she is an utter buffoon, but I initially trusted her judgment, which is so unfortunate because she doesn't think. She also had plenty of coupons for free or deeply discounted bags, which made it a much more attractive choice.<br /><br />I first tried feeding the little Bean an unmeasured amount of Science Diet in a bowl, but that didn't work, as she would devour it in one sitting. So then I took to measuring it, and she did the same thing. Then I started parsing it out to twice a day. That didn't work either, because she would start going crazy in the middle of the day, running around, intentionally destroying things, deliberately spilling her water, crying, etc., until she got more food. So then I split it into three servings. Same thing. Then it got to be four servings. That was a little better, but it was too much maintenance and unrealistic to be around every day to feed her four times. So then it went back to three. All the while, I was trying to reduce the amount of food I was feeding her to less than 3/4 of a cup because she was a little chubby. Reducing was hell. She became even more hungry, but I figured she would get used to it. Not really.<br /><br />For over a year, she would wake me up every morning looking for food in a serious way, knocking things off my desk, ripping up any paper she could find, scratching at the door and committing general acts of mischief. As soon as she got food, she was back to her sweet self, but only for three or four hours.<br /><br />We thought she was bored, we thought she was a little nutty, and maybe even had a kitty eating disorder. She always wanted food. It was kind of funny but in the end it was just sad.<br /><br />A few weeks back, we took her to a new (good, non-money factory) vet for her second checkup since I've had her. I talked with him about her being always hungry. He asked what she ate, and I told him the adult indoor Science Diet. Without saying as much, he basically told me that this food is garbage and I should look for something else. He said cat food should have a protein followed by a carbohydrate as the first two ingredients. Science Diet does, in a very loose, by-product kind of way - ground up slaughterhouse leftovers and corn dust. Then they put a bunch of vitamins in it to make it \"healthy,\" instead of just using good ingredients from the beginning. Not that I care about spending money on the Bean, but this food is way too expensive for what it is.<br /><br />So we began transitioning her onto Wellness indoor formula about two weeks ago. She is still eating 50 percent Science Diet with 50 percent Wellness (you really shouldn't just give a cat different food one day out of the blue) but SHE NEVER FREAKS OUT ANYMORE. It's amazing. And it's 100 percent because she is eating real food now, along with that sawdust and chicken hearts I still regrettable have to feed her. We have her down to eating twice a day, only 1/3 cup in TOTAL. She was eating three times a day, 5/8 of a cup in total. Now she eats some in the morning, walks away, eats some more a few hours later, and then looks for dinner about twelve hours after her initial feeding. No more knocking things over, no more trashing Dad's papers on the desk, no more howling, no more deliberately spilled water on the floor. It's incredible.<br /><br />I feel so bad that I was doing this to her for so long. We really thought she was just being dramatic or whatever. But no, she was genuinely hungry because she wasn't eating any real food.<br /><br />Do your cat a favor - buy her or him so food made with real ingredients, things you would eat - Wellness, Halo, Innova, Evo, whatever. Figure it out for yourself, but please don't feed your cat this. It's garbage.",
                  "count": 140,
                  "_deepnote_index_column": 265760
                },
                {
                  "Text": "Diamond Almonds<br />Almonds are a good source of magnesium. One ounce contain approximately 20% of the RDA for an adult recommended dietary allowance (RDA)<br />Recommended Dietary Allowance (RDA) the amounts of selected nutrients considered adequate to meet the known nutrient needs of healthy people. The RDA is based on scientific knowledge and has been presented by a committee of the Food and Nutrition Board (FNB) of the National Academy of Sciences (NAS). The Canadian equivalent is the Recommended Nutrient Intakes. RDA is generally accepted throughout the world as a valid source of information. At least 40 different nations have as well as organizations have published standards similar to the RDA.<br /><br />Magnesium is the fourth most abundant mineral in the body and is essential to good health. Approximately 50% of total body magnesium is found in bone. The other half is found predominantly inside cells of body tissues and organs. Only 1% of magnesium is found in blood, but the body works very hard to keep blood levels of magnesium constant.<br />Magnesium is needed for more than 300 biochemical reactions in the body. It helps maintain normal muscle and nerve function, keeps heart rhythm steady, supports a healthy immune system, and keeps bones strong. Magnesium also helps regulate blood sugar levels, promotes normal blood pressure, and is known to be involved in energy metabolism and protein synthesis. There is an increased interest in the role of magnesium in preventing and managing disorders such as hypertension, cardiovascular disease, and diabetes. Dietary magnesium is absorbed in the small intestines. Are you taking enough magnesium in the diet? The recommended daily allowance is 300mgs/day for men, 350mgs for women. Magnesium is extremely safe by mouth - too much simply causes diarrhea. Try increasing the amount of magnesium you take by mouth until it causes diarrhea, then reduce the dose slightly so it does not. This is called taking magnesium to bowel tolerance (just like using vitamin C to bowel tolerance.<br /><br />Almonds are a good source of Fiber.<br />One ounce contains approximately 12% of the RDA for an adult.<br />So, in summary, Almonds are a very healthy snack, so what's left to say?<br /><br />Two things:<br />1st be cautious about \"bowel tolerance\" or \"happy bowels\" if you prefer.<br />2nd Taste.  I realize that taste is a personal thing.  That's why they make chocolate, strawberry, and vanilla.<br /><br />Here's my current favorites\"<br /><br /> 1st Blue Diamond Dark mint dark chocolate (reminds me of the chocolate mint Girl Scout Cookies with less sugar).<br /><br />2nd Blue diamond Dark Chocolate Oven Roasted<br />3rd  Blue diamond Blue Butter Toffee<br />4thd Blue Diamond Almonds Bold Habanero BBQ (reminds me of  BBQ potato chips again with less sugar).<br />5th Bold Blazin Buffalo Wing<br />6th Blue Diamond Almonds Cinnamon Brown Sugar<br />7th  Blue Diamond Almonds Lime `n Chili<br />8th  Blue Diamond Almonds Smokehouse<br />9th  Bold Wasabi & Soy Sauce<br /><br />But that's just me: you might have a completely different take on these flavors.<br /> 4th  and 5th are very close.<br /><br />Gunner<br />May, 2012",
                  "count": 94,
                  "_deepnote_index_column": 22744
                },
                {
                  "Text": "I have two cats, one 6 and one 2 years old. Both are indoor cats in excellent health. I saw the negative review and talked to my vet about it. I've also asked a number of veterinary professionals what to feed my cats and they all answer the same thing: Science Diet. Sure, you'll see stories of how one person's cat had issues, but even if that's 100% true, it's 1 case out of millions. Science and fact aren't based on someone's experience.<br /><br />So my point is, I love my cats and I'm very concerned about their health. I trust people who actually have medical degrees and experience with a wide range of animals. My only caution is do not fall for some hype or scare tactic that recommends some unproven or untested food or some fad diet for your pet. Don't listen to me, don't listen to the negative review. ASK YOUR VET what they recommend, and follow their instructions. My guess is you'll end up buying the Science Diet anyhow.",
                  "count": 41,
                  "_deepnote_index_column": 84958
                },
                {
                  "Text": "The pet food industry can be one of the most infuriating as you start doing research and discovering what trash manufacturers (and the vets who get paid off by the manufacturers) push onto the unsuspecting public. For reference, don't ask your vet - do some Internet research at sites like, for example, [...]. What you'll find is that even the supposed \"high-end\" lines from basically every major supermarket label are horrible for your fuzzy friends. People who trust the marketing or trust their vets overpay and feed their cats foods that are full of carcinogens, cheap ingredients that are inappropriate for a cat's digestive system, and byproducts that provide nothing of value and are basically a way to make cheap profit off of literal garbage. It's a tragedy, as these same cats end up with shorter lifespans, kidney problems, UTIs, cancer, and a host of other issues, all of which could have been avoided by a high quality food.<br /><br />This is an A-Grade food. What you'll find here is very high protein content, many meat meals, good carbs and oils, and no grains, which is great as a cat is not an omnivore, it's a carnivore, and it simply does not need grains. It has 50 percent protein, which is among the highest you'll see in cat food. The first 4 ingredients are all meats.<br /><br />What you will NOT find here is the kind of junk you'll see in things like Purina One and Science Diet - byproducts (aka beaks, feathers, bird feet), brewers rice (aka the waste product from making beer), wheat flour (a leading cause of pet allergies), corn gluten (a cheap waste of space), and things like \"liver flavor\" (because they don't want to pay for the real thing). I didn't just pull those ingredients out of the air - I was reading the ingredients list of Purina One. It's pathetic.<br /><br />Don't feed your cats trash. Pay a little more to feed them good food now, and they'll lead longer, healthier, more satisfied lives as a result. It's worth it.",
                  "count": 37,
                  "_deepnote_index_column": 215118
                },
                {
                  "Text": "I'm addicted to salty and tangy flavors, so when I opened my first bag of Sea Salt & Vinegar Kettle Brand chips I knew I had a perfect complement to my vegetable trays of cucumber, carrot, celery and cherry tomatoes. Skip the dip; balance the tangy chips by alternating bites of raw vegetable.<br /><br />As an Oregonian, I'm proud to share these delectable snacks with friends, especially those living outside our state and who haven't experienced gourmet chips. I tell them Kettle Brand does for potato chips what microbrews did for beer.<br /><br />Kettle Brand potato chips are unmistakable--a light gold color, rich flavor and amazing crunch. Kettle Brand chips are also a healthier snacking option than the major chip brands. Kettle Brand chips don't have trans fats, MSG or artificial flavors and colorings. The company also has a line of organic potato chips and all of their products are certified Kosher.<br /><br />I also recommend <a href=\"http://www.amazon.com/gp/product/B000G6MBV4\">Kettle Chips Honey Dijon</a> and <a href=\"http://www.amazon.com/gp/product/B000G6Q4GM\">Kettle Chips Spicy Thai</a>.<br /><br />Annette Solomon, a reporter for the Salem Statesman Journal recently noted that a glass of wine goes nicely with these chips. Solomon wrote, \"...you could be missing out on a wonderful pairing. These chips are spicy, so you would want to select a semi-sweet white wine. Also, a moderate amount of acid will subdue the strong flavors of ginger, lime, garlic and cilantro without over-powering them. Classically, a German-style Riesling fits these parameters perfectly.\"",
                  "count": 32,
                  "_deepnote_index_column": 136541
                },
                {
                  "Text": "Stash Chamomile Herbal Tea is tea bags with dried, crushed chamomile flowers.<br /><br />Honestly, as far as I'm concerned, chamomile is chamomile.  I suppose that when you use loose flowers you get sediment in the cup and I have seen this happen with some brands of chamomile tea bags, these don't do that.<br /><br />I have also had organic chamomile (this isn't) but I can't taste the difference.<br /><br />Each bag is individually packaged and that is either good or bad depending on how and where you use it and if you are concerned about excessive packaging.<br /><br />If you like chamomile tea, this is a good choice.",
                  "count": 31,
                  "_deepnote_index_column": 202674
                },
                {
                  "Text": "According to the manufacturer's website, this (and many of their other products) contains menadione sodium bisulfite complex.<br /><br />Menadione is a synthetic precursor for Vitamin K and has been reported to have toxic effects. The use of menadione over the natural alternatives (such as leafy greens and kelp) is only for cost-saving reasons, hence usually only found in cheaper and lower quality animal food. It's surprising that pet food at this high of a price actually contains this substance.<br /><br />Menadione is banned by the Food & Drug Administration in over-the-counter supplements due to its potential for organ toxicity. It's also banned in Europe for human consumption.<br /><br />A study in rats showed that exposure to menadione \"produced lesions in the kidney, heart, liver and lung.\" Chiou et al. Toxicology 1997.<br /><br />Menadione's toxicity seems to be due to its ability to induce oxidative stress in cells.<br /><br />Do an online search for menadione and you'll find more info from a pet food watchdog trying to stop the inclusion of this substance.<br /><br />In light of recent episodes of toxic pet food and the questionable behaviors of manufacturers and our regulatory agencies, I would advise you to avoid feeding this to your cats.",
                  "count": 30,
                  "_deepnote_index_column": 5498
                },
                {
                  "Text": "The pet food industry can be one of the most infuriating as you start doing research and discovering what trash manufacturers (and the vets who get paid off by the manufacturers) push onto the unsuspecting public. For reference, don't ask your vet - do some Internet research at sites like, for example, [...]. What you'll find is that even the supposed \"high-end\" lines from basically every major supermarket label are horrible for your fuzzy friends. People who trust the marketing or trust their vets overpay and feed their cats foods that are full of carcinogens, cheap ingredients that are inappropriate for a cat's digestive system, and byproducts that provide nothing of value and are basically a way to make cheap profit off of literal garbage. It's a tragedy, as these same cats end up with shorter lifespans, kidney problems, UTIs, cancer, and a host of other issues, all of which could have been avoided by a high quality food.<br /><br />This is an A-Grade food. What you'll find here is very high protein content, many meat meals, potatoes, salmon oil, flax seed, and no grains, which is great as a cat is not an omnivore, it's a carnivore, and it simply does not need grains. It has 50 percent protein, which is among the highest you'll see in cat food. The first 4 ingredients are all meats.<br /><br />What you will NOT find here is the kind of junk you'll see in things like Purina One and Science Diet - byproducts (aka beaks, feathers, bird feet), brewers rice (aka the waste product from making beer), wheat flour (a leading cause of pet allergies), corn gluten (a cheap waste of space), and things like \"liver flavor\" (because they don't want to pay for the real thing). I didn't just pull those ingredients out of the air - I was reading the ingredients list of Purina One. It's pathetic.<br /><br />Don't feed your cats trash. Pay a little more to feed them good food now, and they'll lead longer, healthier, more satisfied lives as a result. It's worth it.",
                  "count": 25,
                  "_deepnote_index_column": 215119
                },
                {
                  "Text": "First Impression: The friendly folks over at \"Exclusively Dog\" heard about my website and sent me 5 of their products to test.<br />Let me just start off by saying that I Love how sweet all of these treats taste. Dad was/is considering trying one because they look and smell so much like human cookies. Plus the ingredients are very straight forward, they are probably healthier than most the stuff Mom eats... But there in lies the problem. Dad thinks that they are too sweet for a puppy of any age. The second ingredient in almost all of them is sugar. As we all know puppies have a hard time processing sugar, and just like humans can develop diabetes.<br /><br />Conclusion: Your puppy is nearly guaranteed to LOVE the taste. However these should only be used as an occasional treat! If you were to feed your puppies these sugary sweet morsels every day, they would soon plump up. If you puppy is already overweight or does not exercise regularly, you may want to think twice. On the PRO side they are all natural, with no animal bi-products! 3 out of 4 paws, because Dad made me! If we were judging on taste alone they would be a 4.",
                  "count": 24,
                  "_deepnote_index_column": 28586
                },
                {
                  "Text": "I got this tea because it is supposed to help with PMS and supposedly helps \"prepare\" the uterus for conception. I figured it can't hurt, so why not? I think this tea is very light flavored. I usually put some honey in it and it goes down great.<br /><br />As for the rest, I've only been using it (3 times a day) for the past 7 days and haven't gone a full cycle yet, so I don't know if it really does work for PMS yet or not.",
                  "count": 23,
                  "_deepnote_index_column": 70233
                },
                {
                  "Text": "Have purchased these tea bas before. I bought them in hope of having stronger . No real success, but will keep trying.<br />Received package in timely manner.",
                  "count": 23,
                  "_deepnote_index_column": 40088
                },
                {
                  "Text": "I had hoped this tea would taste better but it just tastes to me like I steeped weeds from the backyard.",
                  "count": 23,
                  "_deepnote_index_column": 71957
                },
                {
                  "Text": "This tea not only  aids in digestion, but this tea also has a calming affect..it's a very relaxing tea.I drink it alone or w/honey. I always have some in my pantry. Great after a long  stressful day. I definitely recommend this product.",
                  "count": 23,
                  "_deepnote_index_column": 269797
                },
                {
                  "Text": "I understand all the complaints about Science Diet. Believe me I avoided this food for quite awhile based on that information. I'm not thrilled about the filler, would prefer a food with no by-products, and yes in general think it is over priced. But my cat was throwing up everything else. And I do mean EVERYTHING else. I have tried so many top of the line foods for him and every single one he threw up. I took him to the vet, had all the xrays done, all the blood work done, put him on antibotics just in case... nothing. He is a perfectly healthy cat except that he was throwing up food 2 to 3 times a week. I talked to my mom who had 2 Siamese cats that lived into thier late teens and she said she fed them Science Diet. In fact, one of them had urninary tract problems and the SD was the only food that stopped his problems. So yes, I understand everything everyone is saying about why SD is so horrible... yet I can't argue with the results. I fed my cat this and it's been 3 weeks with no vomiting. My mom fed it to her cats and they lived long, healthy lives. I just can't argue with the results. And even if there were risks it's worth it not to have my poor kitty completely emptying his stomach 2-3 times a week from food that is making him sick. If your cat keeps throwing up, you've had the vet check him and there is nothing wrong and no other food is working... try this food. It really did work for my cat.",
                  "count": 23,
                  "_deepnote_index_column": 122683
                },
                {
                  "Text": "Freeze dried liver has a hypnotic effect on dogs. They LOVE it and will do just about anything for it, so it is a great treat to use for training. (Powdered freeze dried liver is even added to many dog medicines nowadays-- heartworm and arthritis tablets, etc.-- because it causes the dog to scarf the medicine down like a treat.)<br /><br />Freeze dried liver has a dry, hard, yet powdery/easy to chew consistency. It comes chopped/cubed. It is extremely lightweight due to the fact there is so little moisture in the product (thus the low weights on product labels).<br /><br />Even though your dog will love liver treats, you shouldn't overfeed it. The manufacturer recommends 1-2 cubes daily for small dogs, 2-3 cubes for medium dogs, and 3-4 cubes for large dogs.<br /><br />The largest package sizes of liver treats tend to be far more economical. I recommend buying the larger tubs, as you will save lots of money, you'll have a handy treat supply around for a longer time, and your dog will never tire of this product.<br /><br />There is really zero waste with this product. When you near the end of the tub you'll find some powdery bits of dried liver at the bottom. Your dogs will go CRAZY if you sprinkle this dust over their dog food-- it's a wonderful reward that is easy to use.<br /><br />~~~~~~~~~~~~~~~~~~<br />Here's the nutritional analysis:<br /><br />-100% freeze dried liver<br />-NO additives or preservatives.<br /><br />-Crude protein..... not less than 50%<br />-Crude fat..... not less than 5%<br />-Crude fiber..... not more than 3%<br />-Moisture..... not more than 6%",
                  "count": 23,
                  "_deepnote_index_column": 32019
                },
                {
                  "Text": "My dogs and I love this food. They never leave a trace and I am happy that it is healthy for them. I mix it up with the Wellness Super 5 mix.",
                  "count": 23,
                  "_deepnote_index_column": 171914
                },
                {
                  "Text": "I bought this for treating symptoms of menopause.  It has been a life saver.  thank you",
                  "count": 22,
                  "_deepnote_index_column": 55604
                },
                {
                  "Text": "My two traditional striped cats eat mostly dry Science Diet cat food with a few NuCat vitamins added.  They also get Iams canned chicken, turkey, or beef once a day.  Brownie prefers the dry food but will eat some canned food only when the can is freshly opened.  Pi likes both.  We tried the Petite Cuisine Variety Pack (Yellowfin, Snapper, Tuna & Sole, Tuna & Shrimp) and the Petite Cuisine Variety Pack (Chinese Chicken & Chicken Pot Pie) over the course of sixteen days. Each cat got about one-quarter can each day.  I alternated cans of chicken and fish varieties.<br /><br />At first, the felines were enthusiastic.  After a while they tired of the chicken.  Pi would only lick up the gravy, while Brownie refused to even look at it.  The fish was better received.  They like the yellowfin and the tuna & shrimp.  The cat vote is for two of the six varieties.<br /><br />There is, however, a question of mercury in ocean fish.  A 1995 study in Japan found that cats that ate tuna had a higher concentration of mercury in their fur than cats that ate dry cat food.  The study and its results are discussed in an article that you can find on the web by using the search term \"all about tuna fish\".  I posted a question on the Petite Cuisine web site as to whether they had tested their products for mercury.  I have not received an answer.  My conclusion is that it may be ok to give the cats fish as an occasional treat but not as a steady diet.",
                  "count": 22,
                  "_deepnote_index_column": 180592
                },
                {
                  "Text": "This is a really good tea.  I am drinking it during my pregnancy to tone the uterus.  Very good taste!",
                  "count": 22,
                  "_deepnote_index_column": 246582
                },
                {
                  "Text": "I've been watching the new Dr. Oz show and he recently recommended nettle tea. So I bought some and this happened to be the brand I chose.<br /><br />Nettle leaf tea is mild and sweet (I augment by using honey). Not absolutely sure of its benefits. It's touted as good for being a diuretic thereby keeping your kidneys clear and keeping bladder infections and kidney stones at bay. It's also suppose to help with arthritis. Dr. Oz had commented that it's suppose to help with head hair growth.<br /><br />I recommend it if for no other reason in that it's pleasant for those who like a less bitter type of tea.<br /><br />Alvita uses minimal packaging. The tea is in simple bags without strings or tags and smelled very fresh upon opening.",
                  "count": 22,
                  "_deepnote_index_column": 141896
                },
                {
                  "Text": "Not enough flavor, murky brown color, lacking in aroma. I enjoy other varieties from this line but prefer a different brand of rose hip tea. I'd drink it over regular black tea though.",
                  "count": 22,
                  "_deepnote_index_column": 184059
                },
                {
                  "Text": "I watched Dr. OZ on television and he was explaining how to minimize and/or avoid crows feet. His advice? Drinking Fenugreek tea, taking L-Arginine supplements and getting a good nights' sleep (6 hour min.). Well, I am going to give it a shot. This tea has an interesting taste-not your typical tea but not bad. It tastes pretty good with a bit of honey added actually. I wasn't able to find this tea in any local supermarkets but here it is on Amazon. Seems they have everything!",
                  "count": 22,
                  "_deepnote_index_column": 133557
                },
                {
                  "Text": "I was a little hesitant to try these, especially after reading such mixed reviews although overall they were positive. However, I liked the idea that they are healthier than regular chips and I figured they would be great for school lunches, quick snacks, etc. I decided to give them a try and figured if we did not like them, they could be donated.  I ordered a mixed case the first time around to see which flavors we liked more (or less) and thought that would give us a good sampling.  After deciding we liked most of the flavors, we decided to try other ones as well.<br /><br />Despite the flavor preferences, these chips do not taste like cardboard.  At first taste, they are a little crunchier and thicker than you might expect. I think this is a good thing, because it means they are not heavily-laden with oil.  The 0.8 oz bags are 100 calories each as well, which is much better than the other alternatives and gives you the enjoyment of chips without the extra calories, trans fat, etc.<br /><br />I have included a summary of opinions below from myself, friends and family for each flavor:<br /><br />Sea Salt & Vinegar - Great, the absolute favorite flavor for everyone<br />BBQ - Very good, I'm not crazy about BBQ to begin with but would say this flavor is \"sweet\" BBQ. Everyone else loved them.<br />Cheddar - Very Good, probably close in preference to the BBQ<br />Original Potato - Good, but a little salty (seems to fluctuate somewhat between bags)<br />Salt & Pepper - Good, everyone liked them but preferred other flavors more<br />Parmesan Garlic - Good, but overall was 50/50. You definitely taste more parmesan than garlic and most people were expecting the latter.<br />Sour Cream & Onion - Not so good, no one really liked these enough to want more or to even finish the bag<br /><br />I know taste is a very subjective thing, but I hope this review helps someone decide to give these a try. I did get them at a reduced price through subscribe & save, and shortly after my first order, Amazon had them on the Gold Box for an even better price.  I think the average price per bag came out to approximately forty six cents a bag and had free shipping under my prime account.",
                  "count": 22,
                  "_deepnote_index_column": 127035
                },
                {
                  "Text": "I feed Hills Science diet to my pet because I love him and the vet tells me I should. But in all honesty, this product has what is quite certainly the worst snap-lock reseal that I have ever encountered. It is painfully difficult to get it to close properly; and even when it is resealed as best it can be there are still gaps on the side that allow air in to oxidize the product.<br /><br />Packaging IS important. It is no better for your pet to live on stale, oxidized food than it would be for you. Oxidized fats are also called rancid. If you imagine how healthy a rancid diet is for a human... well, you get the idea. This is about more than just inconvenience.<br /><br />I am posting this review for all the Hills Science diet products with this kind of packaging. If you have had the same experience as me with this product, please take the time to let this company know about it.<br /><br />I love my animal. I want to keep feeding him what the vet tells me is good for him. But this quite literally the worst reseal that I have ever had the misfortune to encounter.<br /><br />Theo.",
                  "count": 22,
                  "_deepnote_index_column": 65214
                },
                {
                  "Text": "Ok, sounds crazy i know but i heard about this baby food diet and figured whats there to loose. The food tastes good, and im sure your baby will like it too hahaha!",
                  "count": 22,
                  "_deepnote_index_column": 187127
                },
                {
                  "Text": "This is an outstanding product!! The test is great and lives up to it's ancient name Roman Apples. Altogether  a warm comfortable taste and calming nature.",
                  "count": 22,
                  "_deepnote_index_column": 248955
                },
                {
                  "Text": "This tea is lovely for a refreshing iced tea, a comforting hot tea or mixed into a light Sangria.  'Hard to find, but worth the effort.",
                  "count": 22,
                  "_deepnote_index_column": 269359
                },
                {
                  "Text": "My kids (18 mo and 3 yrs) love the HappyBaby Tots.  We have tried every flavor and they eat all of them.  I love that they are getting good, organic nutrition, and that the ingredients are wholesome.  They are very convenient to throw in your diaper bag or purse on-the-go, or to stick in a lunch box for a snack.  We use a spoon and sometimes a bowl at home for self feeding with my little one, but you can also give the pouch to them to eat directly from the squeeze pouch.  Thank you, HappyBaby, for such great products!!",
                  "count": 21,
                  "_deepnote_index_column": 176389
                },
                {
                  "Text": "We've been drinking this tea for about 2 years.  It has a very mild taste--much like regular Lipton tea bags.  When I make Iced tea, I use 2 bags of this and 4 bags of Lipton for 6 quarts of water.  Makes delicious tea.  The herbalist told me it is very healthy to drink--has iron as well.  My kids love it too-as hot tea or iced tea.  This is not a raspberry flavored tea.  It is from the leaves, so you'll need to look elsewhere if you are looking for flavored tea. I like that there are no strings to deal with--or individual wrappers to peel off, just throw the whole bag in.",
                  "count": 21,
                  "_deepnote_index_column": 286892
                },
                {
                  "Text": "Mild taste. Just add some honey and it's just like any other mild tea you would buy. Supposed to be great for allergies and Stomach bloat after drinking/eating poorly, noticed it does calm my stomach down and aid in flattening the post drinking bloat. Worth it! Try to drink a cup before bed each night! Caffeine free!",
                  "count": 21,
                  "_deepnote_index_column": 164031
                },
                {
                  "Text": "I bought this Tea for my girlfriend who is ery health conscious. So far she is loving it and it tastes good too. :)",
                  "count": 21,
                  "_deepnote_index_column": 54154
                },
                {
                  "Text": "I bought this tea at my health food store because I thought it looked interesting. The name and the description really pulled me in, as well as the picture on the box. At first I was confused as to what the taste reminded me of, but then I realized it reminded me of pink Necco mints. I don't drink sugar in tea, but I think if I did and I had put some in this tea it would've made it overbearing. However, after drinking this tea once every day for a week or so, I'm finding it to be almost like a chore. I love the health benefits and this tea has actually helped me feel pretty good after drinking a cup, but the taste is becoming a bit overbearing. As I mentioned early in my review, the taste is reminiscent of pink Necco mints (minus the mint part, of course) but it can be hard for me to get through a cup of it because after awhile that Necco taste begins to remind me more and more of chalk. Yes, it definitely has a chalky flavor. I will still continue to drink this tea until the box is gone but I don't think I'll be buying any more of it unless it has some sort of miraculous effect on me later on down the box. Still, it was worth a try because it was nice at first.",
                  "count": 21,
                  "_deepnote_index_column": 56714
                },
                {
                  "Text": "I have used this product for quite some time on and off.  It is easy to use, drink a cup before bed and<br />excellent results in the morning.  It is very beneficial for those times when life gets you out of sync.",
                  "count": 21,
                  "_deepnote_index_column": 85757
                },
                {
                  "Text": "I am loving this tea. Its very tasty with just a teaspoon of agave nectar.  I was recommended this by a doula to help with upcoming labor! I will let you all know if it helps :) Regardless its yummy.",
                  "count": 21,
                  "_deepnote_index_column": 48400
                },
                {
                  "Text": "I love this tea and drink it all the time. The taste is very nice and I do not even have to sweeten it or use lemon, as it has an almost sweet taste all it's own. I take alot of medicine and have much trouble with my bowels. When I drink 2 cups of your Senna tea I am opened up within 2 hours.<br />Thank you very much, I would not use that much laxative.<br /><br />Pat Kamadulski",
                  "count": 21,
                  "_deepnote_index_column": 101348
                },
                {
                  "Text": "My husband is a paraplegic and was having UTIs constantly.  Since he started drinking a cup of this tea every morning, he hasn't had a UTI for a year.",
                  "count": 21,
                  "_deepnote_index_column": 175662
                },
                {
                  "Text": "Stale, tastless crap. Dont bother. The hassle to return is riduclous, you have to pay and it has to be thrown out anyway, Why put customer thru all this for cheap little item.",
                  "count": 21,
                  "_deepnote_index_column": 202506
                },
                {
                  "Text": "I ordered this product because of the Dr Oz show for anti-aging, a nice by product is I swear my knee pain has improved since I started drinking a cup a day, oh yeah and it taste good.",
                  "count": 21,
                  "_deepnote_index_column": 107539
                },
                {
                  "Text": "I read some of the reviews on here and I almost didn't purchase.  But I reached a point where due to my erratic work schedule, trying to fit in my studying time and completing assignments, my sleep pattern was disrupted and it was affecting my mood and concentration.  So I bit the bullet and purchased this at a local B&M store.  When I got home after work, I boiled some water and opened the package.  I noticed that this tea was packaged in a plastic bag so I guess it did has a pungent smell.  I opened the plastic bag and took a big whiff.  I was kind of disappointed.  It doesn't smell as bad as some of the other reviewers made it out to me but then again my nose has been wonky for some time so it could be me.  Yes I will admit that it does has a funky odor but it is not that strong to me.  To me, smells like this health food store I used to frequent in the Hyde Park neighborhood.  Very musky but weirdly comforting.  I have tried it with peppermint, turmeric (for a different affliction) and I have tried it plain with stevia and it taste okay to me.  I wouldn't say I have an iron stomach because I can easily get sick if food is left out in the open not at the proper temperature.  For me, this product took about two days for it to kick in and I am now able to sleep for a full eight hours straight instead of sleeping in fits of four hours here, wake up for about two hours, sleep for three, wake up for a hour and sleep for another four hours.  For those with sensitive noses and sense of taste, you have been amply warned by other reviewers.  For others, I say give it a shot or at least pair it with some other teas to dilute the taste a bit.  For example, mints like peppermint or spearmint will help.  Some folks will use lavender to mask the smell.",
                  "count": 21,
                  "_deepnote_index_column": 112052
                },
                {
                  "Text": "When I opened this alot of the tea sacks were broken and the tea emptied out and spilled everywhere. I steeped some inside my cup and noticed that all sorts of the tea leaves had come out (I even took a picture and posted it under customer pics) and when I sipped my drink, tea leave crumbs got inside my mouth! I havent noticed any effect from the tea though but I have only used it for a few days so maybe it takes awhile. However, if they'd be able to keep the sacks closed that would help alot!",
                  "count": 21,
                  "_deepnote_index_column": 289915
                },
                {
                  "Text": "I paid over $13.00 for \"expedited\" delivery and the product still took FIVE days to arrive. Would not buy from them again.",
                  "count": 21,
                  "_deepnote_index_column": 108385
                },
                {
                  "Text": "Its a really delicious earthy, herbal tea. Every cup makes me feel warm and comfy. I love it! his will definitely be a repeat order.",
                  "count": 21,
                  "_deepnote_index_column": 155637
                },
                {
                  "Text": "I didn't realize it but my tea wasn't arriving as promptly as suggested. The company also noticed and sent a box out immediately! WOW! I was very impressed!",
                  "count": 21,
                  "_deepnote_index_column": 61115
                },
                {
                  "Text": "I love Valerian and I love it's earthy smell! But just because a previous reviewer hated the smell and threw a tantrum, (which is ironic because Valerian is used for its relaxing properties) doesn't mean it doesn't work! Keep that in mind when making your decision to purchase a natural product! Valerian is not like raw garlic! It's simply a very safe and effective herb which, to me, has a wonderful smell!",
                  "count": 21,
                  "_deepnote_index_column": 93465
                },
                {
                  "Text": "I have been having problems with my bladder. Interstital Cystitis is a chronic condition and also effects the colon. I suffer from severe constipation (IBS) also.  I take fiber during the day and make sure I get enough in my diet. In the morning I drink a cup of Alvita Senna tea and within 1 to 1/2 hrs. I have elimination. This is the only thing that has worked for me. I have tried many other laxatives which do not work and bother my bladder. This product does not. I have also drank it at night with good results in the morning. Doctors have said not to use this continually because you could develop dependence. However, my condition is unbearable without it. At last my doctor agreeded that if I was going to take something daily then he suggested this tea.  I highly recommend it for people with my condition or for individuals who take a lot of medications that tend to slow down the system. I have placed an order for more and will continue to use this great product. By the way, I had purchased another brand before I bought this brand and it was of terrible quality. What a difference. This product has great quality and also I like the tea bags being natural and not bleached with chemicals.",
                  "count": 21,
                  "_deepnote_index_column": 77307
                },
                {
                  "Text": "I have purchased this brand of tea before and knew the quality was great but glad to have gotten a great price also!!  Delivery was prompt and service was great!",
                  "count": 21,
                  "_deepnote_index_column": 82024
                },
                {
                  "Text": "This tea was very good. I was Very happy I got it. A tea that is so good for you and will help many things in your body. My breathing felt better after the first cup. I will be buying more again soon. Doug in Calif...",
                  "count": 21,
                  "_deepnote_index_column": 270004
                },
                {
                  "Text": "First, let me say that I prefer extra-bold K-Cup coffees and only occasionally drink a medium blend, and never decaf. I bought three Wolfgang Puck coffees several months ago: Rodeo Drive Blend; French Roast; and Sumatra Kopi Raya. All three are quite drinkable, though they do not measure up to a few of the extra-bold blends from Coffee People: Kona Blend; Organic Blend; Jet Fuel; and Black Tiger. Even better than these, though, is my new favorite, <a href=\"http://www.amazon.com/gp/product/B003M7TTYG\">Green Mountain's Revv</a>. Those who prefer a strong, dark cup of coffee (even at the larger mug setting) should try that brand.<br /><br />Previously, I had found the dark-roast Green Mountain coffees rather boring, but Revv lives up to the hype, both in strength and flavor. Another great Green Mountain coffee is their Espresso Blend (though Amazon doesn't stock it, so the prices tend to be higher here than in brick-and-mortar stores such as Bed Bath and Beyond). Finally, a favorite regular over the years has been <a href=\"http://www.amazon.com/gp/product/B004M5W7YQ\">Emeril's Big Easy Bold</a>. It's a very nice coffee, though don't expect the New Orleans experience of chicory flavor.<br /><br />Bottom line: You won't go wrong with the Wolfgang Puck coffees, but for my taste they do not stand out among the available bold coffees.",
                  "count": 21,
                  "_deepnote_index_column": 29802
                },
                {
                  "Text": "I bought the tea for my mother who has asthma.  She said it tastes great and does wonders for her asthmas.",
                  "count": 21,
                  "_deepnote_index_column": 52732
                },
                {
                  "Text": "I study plants and I am into alternative healing.  I learned about Mullein a number of years ago and found that it's very useful for sinus, cold and flu issues.  Often times I have treated many of my friends with it to help them get back to feeling well.  This particular brand is high quality and good medicine.  I highly recommend buying this tea as we all need to get away from Western medicine as much as we can when other opportunities are out there.  The idea is to stay in balance and not get extremely sick by using products like this early on when symptoms first start developing.  I think you will find this product very useful and effective.<br /><br />*  Please note: Do not mix to many herbs and or prescriptions medicines as they can counteract and amplify the strength or effect of the meds or herbs.",
                  "count": 21,
                  "_deepnote_index_column": 118669
                },
                {
                  "Text": "I ordered this for my boyfriend because he has trouble sleeping sometimes. He loves it! It makes him a little bit loopy before he goes to sleep but he likes the feeling. The only thing I don't like is that on the shelf it smells like vomit. It grosses me out. It doesn't smell like that when it's brewed.",
                  "count": 20,
                  "_deepnote_index_column": 107098
                },
                {
                  "Text": "We use it at night to lower diabetes sugar and it works.  My husband has been able first to reduce the medications and now has been off for 2 months.  Of course this is together with exercise, weight reduction and proper nutrition.",
                  "count": 20,
                  "_deepnote_index_column": 285927
                },
                {
                  "Text": "very wonder very light melow taste tea. not over powerful. great sit down read take knote type of tea. i tryed out see how good was.<br />well worth money spend.",
                  "count": 20,
                  "_deepnote_index_column": 307380
                },
                {
                  "Text": "It seems like this product is working as I do feel better.<br /><br />Will probably order some more.  Good service after their stock was replaced.<br /><br />M. Weiner",
                  "count": 20,
                  "_deepnote_index_column": 152986
                },
                {
                  "Text": "I really recommend this product. It is well packaged and protected. Also it smells and taste better than I expected!",
                  "count": 20,
                  "_deepnote_index_column": 114202
                },
                {
                  "Text": "After reading reviews from baby sites, I was ready to get my red raspberry leaf tea on and strengthen my uterus and I was so excited that I got the first one I saw, which was the Alvita brand. I love the flavor, just LOVE the flavor, but I read more reviews and a lot of women gave the Traditional Medicinals better reviews so I after I ran out of the Alvita I purchased the TM. I have to say, the Alvita has a stronger tea taste and I actually got contractions when I drank it. I'm only 37.7 weeks along, but I have to say that I think this tea will help move my labor along quite well. I'll update this review later with how it went.<br /><br />UPDATE 3/28/2012:<br />I totally forgot to add my update! Well, as I'd previously believed, this tea helped me tremendously through my labor. I had my beautiful baby boy on December 12th. I had a 17 hour labor because my bag of waters prematurely ruptured and I wasn't dilating the way I was supposed to. I had to be put on pitocin (without meds for the first 14 hours) then I got the meds and then got the epidural about 45 minutes before I actually gave birth. Let me tell you, I only pushed for about 20 minutes and I was done. I attribute that 100% to the tea. I had friends who didn't drink the tea and were in labor for very short periods but pushed way longer. Also, my uterus went down very quickly and I stopped bleeding quickly as well, I forgot how soon but the doctors and nurses were amazed. I'd definitely drink it again next time around.",
                  "count": 20,
                  "_deepnote_index_column": 6822
                },
                {
                  "Text": "I wanted a natural product to help with hot flashes and night sweats. This makes an INCREDIBLE difference in my quality of life and sleep.  I had significant decrease in symptoms almost immediately.  I let it steep in my cup for about 5 minutes.  I had trouble with the taste so I add sugar and a little peppermint extract and it is a very pleasant drink.  I have a cup morning and evening and now am able to sleep much better. I also find I am not exhausted and dont have that anxious feeling. I would advise anyone to try this as it has helped me so much.",
                  "count": 20,
                  "_deepnote_index_column": 126325
                },
                {
                  "Text": "I purchased these tea bags in hope for a good night sleep. The first night I drank it, I slept great.  I have continued to drink this every night and I still sleep well but I find myself waking up in the middle of the night once in a while.  I do find myself urinating more often so maybe it is cleaning me out.  No bad side effects, tastes good alone, no sugar or honey needed.  I recommended this to my family and co workers and they all love it.  I discovered this from Dr. Oz.  Hoping to continue to sleep well.",
                  "count": 20,
                  "_deepnote_index_column": 110246
                },
                {
                  "Text": "My midwife recommended this product, and I drank it throughout my second and third trimesters. My labor was slow, but I experienced nothing you might really call pain (pressure and some discomfort) all the way to 9 centimeters. Then I pushed 3 times and my son was born. I'm not saying for sure that it was the tea...but I didn't have labors like this with my other two.<br />At any rate, it's tasty and not harmful. Just remember to tell your midwife or doctor that you're using it. I still drink it just cause I like it.",
                  "count": 20,
                  "_deepnote_index_column": 177419
                },
                {
                  "Text": "The first box I ever bought was good. The tea, to me, tasted better cold than hot so I would make an ice tea of it and refrigerate it until I wanted it. The last few boxes I bought, however, were awful. I would boil the water and steep it and the tea would make this oily film over the top. It would just float and wasn't tasty to drink. I know sometimes plants have oils in them but this was excessive and killed the flavor. Not buying this brand again.",
                  "count": 20,
                  "_deepnote_index_column": 211565
                },
                {
                  "Text": "this red clover tea is worth my money, i have shed 8 pounds in 3 weeks, i know its not a diet tea or anything but, i drink this twice a day eat my 3 regular small meals, and a fruit or a rice cake or something lowfat, the tea coupled with better<br />eating habits and i ride my exercise bike and do a few stretches, lunges, lift a 5 pound weight in sets of 5's twice, for<br />about 15 minutes total2 times a day, nothing long and drawn out. before 3 weeks ago i honestly weighed 199, that's a lot of weight if you are 5'2, mostly in my butt and thighs. today i weigh 190, today meaning march 20, 2012. i have a long way to<br />go but that is a good start for me i love food it is hard but i find lowfat and sugarfree things to snack on. being overweight makes you tired easily, and the more tired you feel the more you will just sit around and when you sit around,<br />yep you tend to snack. my goal is 170 pounds, yea that is still a lot of weight but i am a realistic person, i will not<br />set myself up for a let down. if a should lose anything beyond 170 i will be very happy, i will update my quest on april 20, 2012. thanks",
                  "count": 20,
                  "_deepnote_index_column": 306738
                },
                {
                  "Text": "For me the tea has light taste, I drink it once a day for about 2 months, hoping to have better hair and nails (after seeing it on Dr.Oz). So far, I haven't seen the result, yet, but I'm hopeful.",
                  "count": 20,
                  "_deepnote_index_column": 30754
                },
                {
                  "Text": "This rosehip tea is surprisingly good, reminds me slightly of rhubarb with a subtle regular black tea undertone. The package did take 9 days to arrive & it was all crushed up inside the jiffy-bag so it's a good job it wasn't ordered as a gift. I also think the price is a bit steep for teabags. I just couldn't find this flavor in supermarkets, so I had to get it online.",
                  "count": 20,
                  "_deepnote_index_column": 265881
                },
                {
                  "Text": "This is a great product to help with insomnia.  Really great.  Some do not like the smell or taste, but I actually love it.  Maybe it is an acquired test.  A+++ for this product, it is excellent.",
                  "count": 20,
                  "_deepnote_index_column": 244885
                },
                {
                  "Text": "Its a nice wind down at night.  Taste takes some getting used to but not too bad.  Sweeten with a litte honey.  The health benefits make up for the taste.  The product arrived as reported.",
                  "count": 20,
                  "_deepnote_index_column": 155633
                },
                {
                  "Text": "This stuff works. As reported by real doctors, do not use this all the time, only when needed.  Listen to what your body is telling you.",
                  "count": 20,
                  "_deepnote_index_column": 268198
                },
                {
                  "Text": "My dog seems to be allergic to poultry so we thought we would switch him to this lamb-based formula.  Usually he is a good eater, but my dog had one smell of this stuff and wouldn't come back.  I understand Wellness puts higher-end ingredients in their food but if a dog doesn't like it there goes your money right down the drain.",
                  "count": 20,
                  "_deepnote_index_column": 171522
                },
                {
                  "Text": "This tea works for me.  It calms down my anciety and makes me sleep better.  It may not work for everyone.  Thank you!",
                  "count": 20,
                  "_deepnote_index_column": 270017
                },
                {
                  "Text": "Love the aroma and the taste. Orange honey goes great with it. I drink it daily. Seems to work great when I get any stomach issues... would highly recommend this product.",
                  "count": 20,
                  "_deepnote_index_column": 160835
                },
                {
                  "Text": "I bought this for my wife who is pregnant, and she drinks it everyday and likes it. I guess it helps to reduce delivery pains, but I'm no expert on the subject.",
                  "count": 20,
                  "_deepnote_index_column": 55555
                },
                {
                  "Text": "Are you supposed to avoid sugars if you have a urinary tract infection?",
                  "count": 20,
                  "_deepnote_index_column": 10645
                },
                {
                  "Text": "The tea taste is very good, I've taken it yesterday for the first time. I'm taking it because of my pregnancy, many friends told me about its precious toning for the uterus.",
                  "count": 20,
                  "_deepnote_index_column": 218454
                },
                {
                  "Text": "Tea comes in bags inside a large foil lined pouch.  There are 2 bags 'attached', and you peel them apart to use one.  They are not individually wrapped, and they do not have strings.  Strong flavor, great price.",
                  "count": 19,
                  "_deepnote_index_column": 205377
                },
                {
                  "Text": "What can I say?  It's herbal tea, it tastes a bit grassy, but I like it.  I'd say try some before you buy a bunch of it because people either seem to love it or hate it.",
                  "count": 19,
                  "_deepnote_index_column": 288695
                },
                {
                  "Text": "I drank 3 cups brewed with 2 tea bags each of this tea for the last few months of my pregnancy.  The amount of time I spent pushing my son out totaled 5 minutes.  My midwife had said there were lots of anecdotal reports of raspberry leaf tea causing easier labors but I was skeptical.  Obviously, my experience made me a believer!<br /><br />I found this tea's taste to be no different from the more expensive brands.  And I appreciate that the design of these teabags is less wasteful by not using strings, tags, or staples like most teas.",
                  "count": 19,
                  "_deepnote_index_column": 63508
                },
                {
                  "Text": "If I can't find this at my local market or in a near by store, I order it from Amazon. I drink this tea after a night of drinking alcohol in order to help cleanse my liver.",
                  "count": 19,
                  "_deepnote_index_column": 145618
                },
                {
                  "Text": "Charlee Bears are small and low calorie, so you can use them en masse for training.  We use them both for standard training (sit, stay, drop it, leave it) and behavioral training (no bark).  They're not stinky or messy, so you can put them in your pocket, purse, or car without worry.  We keep a small bag in the car for travel to reinforce when our puppy doesn't bark at people walking by, one by the door to reinforce when she goes to the bathroom outside, and a bunch of treats in a treat bag for travel.<br /><br />The one downside to these is that because they're not as stinky, it can be harder to use them to get your dog's attention if he or she is distracted, like at the dog park or if you have a bunch of visitors.  Our trick to get around this is that we put some stinky treats in the treat bag with these, and they'll take on some of the scent (We use <a href=\"http://www.amazon.com/gp/product/B0002DGRSY\">Pro-Treat Beef Liver, Freeze Dried Dog Treats, 21 Ounce</a>).<br /><br />Our dog loves all flavors.",
                  "count": 19,
                  "_deepnote_index_column": 19633
                },
                {
                  "Text": "this is a great product,it helps to relieve my bloating.I will order it again.Thank you.its better then anything else i have tryed",
                  "count": 19,
                  "_deepnote_index_column": 305920
                },
                {
                  "Text": "A friend suggested this as I have been taking pain medication which tends to bind the bowels. He told me that this would help keep me regular. He was so right. A cu p of Senna Tea with my dinner has been better then metamucel for regularity. It tastes good, and I recommend it to anyone who has constipation problems due to medications. If you eat out, you can take the tea bag with you and ask for a cup of hot water to steep your tea in, and you do not have to worry about missing a dose.",
                  "count": 19,
                  "_deepnote_index_column": 3548
                },
                {
                  "Text": "The health benefits are uncertain, but this is a nice variant of another favorite, Celestial Seasonings' Cranberry Apple Zinger. The Alvita tea is tart, light, and refreshing - and Alvita has a long history making healthful products that are also surprisingly good values.",
                  "count": 19,
                  "_deepnote_index_column": 212813
                },
                {
                  "Text": "These reviews are wrong.It may work but I could not swallow this disgusting swill. I have many Teas. Let me describe this one. Get compost from a gardening store and brew that in a french press. The burnt leaf taste is pungent. Take the pills and buy some earl grey.",
                  "count": 19,
                  "_deepnote_index_column": 231872
                },
                {
                  "Text": "When I bought this I didn't think it would be so tasty. This tea has a very flavorful, sweet, natural taste. I am a big tea drinker and always hunt for a new taste and this is definitely at the top of my list.",
                  "count": 19,
                  "_deepnote_index_column": 289278
                },
                {
                  "Text": "Received in good condition and in a timely manner.  Great for relaxing the heart.",
                  "count": 19,
                  "_deepnote_index_column": 196593
                },
                {
                  "Text": "The taste is not great, but it's bearable. I could not get used to the smell, the unfinished box is still sitting in my drawer and I've no plans to stock up in future.",
                  "count": 19,
                  "_deepnote_index_column": 218083
                },
                {
                  "Text": "I have always wanted a natural delivery.  My friend who's had 2 other kids told me to take red raspberry tea leaf to strengthen our uterus, birth canal, etc... I started drinking this during my whole pregnancy. 1 tea bag during the first trimester and the 2nd trimester and on my third trimester, i put 2 bags, the last two weeks, i drink 2 bags every meal...<br /><br />I only had to push for 1.5 hours. didn't feel pain during contraction until 10 CM. and no epidural",
                  "count": 19,
                  "_deepnote_index_column": 75676
                },
                {
                  "Text": "The sage tea is OK, but I was surprised that for 2 boxes from the same sender was I charged double the postage -- the tea weighs next to nothing.  Why not charge for the actual weight instead of a set price for each item?",
                  "count": 19,
                  "_deepnote_index_column": 217152
                },
                {
                  "Text": "This was a gift for mom who had run out.  She swears by it for calming her stomach, says it still works.",
                  "count": 19,
                  "_deepnote_index_column": 270690
                },
                {
                  "Text": "I'd continue to buy but I'm moving over to more home made finger foods and away from glass jars...shattered too many. They like all the flavors though. Great textures too.",
                  "count": 19,
                  "_deepnote_index_column": 135156
                },
                {
                  "Text": "This tea smells so bad I cant get the smell outta my house.  I know Valerian root doesn't smell like roses but this smell is putrid.  The affects work ok but not the best",
                  "count": 19,
                  "_deepnote_index_column": 269857
                },
                {
                  "Text": "If you are looking for something natural to relieve (and possible stop) hot flashes--sage tea will do it. A glass in the morning and one at night and WOW what a difference it made!",
                  "count": 19,
                  "_deepnote_index_column": 146584
                },
                {
                  "Text": "I read some of the reviews on here and I almost didn't purchase.  But I reached a point where due to my erratic work schedule, trying to fit in my studying time and completing assignments, my sleep pattern was disrupted and it was affecting my mood and concentration.  So I bit the bullet and purchased this at a local B&M store.  When I got home after work, I boiled some water and opened the package.  I noticed that this tea was packaged in a plastic bag so I guess it did has a pungent smell.  I opened the plastic bag and took a big whiff.  I was kind of disappointed.  It doesn't smell as bad as some of the other reviewers made it out to me but then again my nose has been wonky for some time so it could be me.  Yes I will admit that it does has a funky odor but it is not that strong to me.  To me, smells like this health food store I used to frequent in the Hyde Park neighborhood.  Very musky but weirdly comforting.  I have tried it with peppermint, turmeric (for a different affliction) and I have tried it plain with stevia and it taste okay to me.  I wouldn't say I have an iron stomach because I can easily get sick if food is left out in the open not at the proper temperature.  For me, this product took about two days for it to kick in and I am now able to sleep for a full eight hours straight instead of sleeping in fits of four hours here, wake up for about two hours, sleep for three, wake up for a hour and sleep for another four hours.  For those with sensitive noses and sense of taste, you have been amply warned by other reviewers.  For others, I say give it a shot or at least pair it with some other teas to dilute the taste a bit.  There are some great suggestions mentioned by other reviewers, like mint for example.",
                  "count": 19,
                  "_deepnote_index_column": 112053
                },
                {
                  "Text": "I ordered Valerian Root tea. The price was a great deal, and shipment was really fast! I would recommend this seller to anyone, and I would definitely do business with them again.",
                  "count": 19,
                  "_deepnote_index_column": 105298
                },
                {
                  "Text": "i really have to say I love this chamomile tea. Especially when I have a cough and/or cold I brew some and pour it in a bowl to inhale the chamomile vapors. It works just great. Of course I also love to drink it when I'm sick. I like the chamomile taste and that there are not other ingredients in it but the chamomile.",
                  "count": 19,
                  "_deepnote_index_column": 300763
                },
                {
                  "Text": "These treats are my picky cat's favorite.  I've tried about 8 different brands in the past and these are always the preferred kind.  Highly recommended!",
                  "count": 19,
                  "_deepnote_index_column": 233176
                },
                {
                  "Text": "Arrived on time.  What a deal !!! So glad I could find this product on amazon !  I used this when i feel like im getting sick<br />Thanks !",
                  "count": 19,
                  "_deepnote_index_column": 10803
                },
                {
                  "Text": "Maybe this is a placebo effect however, since I have been drinking this tea, sometimes in the morning and some times at night, I have felt more calm and my mood is somewhat lifted. The taste is fine- I sometimes add a little honey but it is fine as is. I will continue to use this tea. I do think it helps with your mood.",
                  "count": 19,
                  "_deepnote_index_column": 163720
                },
                {
                  "Text": "I purchased this item a month ago and i drink a cup morning and night. I love it! I drink it with clover honey...",
                  "count": 19,
                  "_deepnote_index_column": 110826
                },
                {
                  "Text": "This tea was suggested by Dr. Oz on his show about how to sleep better. I suffer from insomnia<br />so I bought the wheat germ, Chia seeds and Valerian tea he said would help. Haven't used the wheat germ yet, the Chia seeds we are absolutely loving, especially on top of a crisp salad, but the Valerian tea tastes so horrible I can't even force myself to sip it while holding my nose! It has a real earthy, almost \"manure\" like taste. The woman he had try it on the show sipped it and said \"Oh, that's not bad!\" So I took a chance. I swear, they must have paid her to give it a tasty review. It's vile and I already threw all three boxes of it in the trash!",
                  "count": 19,
                  "_deepnote_index_column": 269993
                },
                {
                  "Text": "Wellness wet cat food is terrific.<br />My three cats gobble it up.<br />Healthy too.<br />My diabetic cat went didn't need insulin anymore after I switched from dry food to this wet food.<br />And she went from highly overweight to just fine.",
                  "count": 19,
                  "_deepnote_index_column": 288051
                },
                {
                  "Text": "It was touted by a friend as a sleep inducer, so I tried it and it works.  It tastes kinda mediciney, but it definitely does the job.",
                  "count": 19,
                  "_deepnote_index_column": 153720
                },
                {
                  "Text": "Seems to help, I sleep well and if I do wake up I'm not long getting back to sleep.<br />I ordered two boxes and I'm about to buy two more.",
                  "count": 19,
                  "_deepnote_index_column": 198402
                },
                {
                  "Text": "I trust Alvita's brand because all of the teas I have tried from them are pure and excellent quality. The Raspberry leaf is no exception. The taste is mild and it works like a charm to ease menstrual cramps. A must have during your moon cycle. Good value for the price.<br /><br />Also check out <a href=\"http://www.amazon.com/gp/product/B0009F3QLQ\">Yogi Woman's Moon Cycle, Herbal Tea Supplement, 16-Count Tea Bags (Pack of 6)</a>",
                  "count": 19,
                  "_deepnote_index_column": 122500
                },
                {
                  "Text": "Excellent Peppermint tea - can't beat the price - would pay quite a bit more on store shelves...highly recommend the chamomile also",
                  "count": 19,
                  "_deepnote_index_column": 26455
                },
                {
                  "Text": "I think these had been sitting around in a warehouse for a long time, because it took them a long time to send it to me and, when I got it, the tea tasted like cardboard. I've had red rasberry leaf tea before, so I know it's not supposed to taste like this...",
                  "count": 18,
                  "_deepnote_index_column": 119660
                },
                {
                  "Text": "Supposedly increases milk production? Yeah, I didn't see a difference after drinking this for a good 3+ weeks. Aside from that, it doesn't smell or taste very good. Very herbal medicine-like.",
                  "count": 18,
                  "_deepnote_index_column": 203284
                },
                {
                  "Text": "You can compare it to unsweetened black tea, but palpable and soothing.  It is one of nature's best blood purifiers in addition to being great for women anytime.  It's great year round and for flu season, and you can ice it too.  Sweeten it up with a bag of chamomile or red clover. Spearmint & peppermint tea compliment it well too -- or add value to that flavored stuff from the supermarket w/this.<br /><br />You can drink this like water and I can't say enough about how good this tea is for well being, you'll probably instantly feel better.",
                  "count": 18,
                  "_deepnote_index_column": 295700
                },
                {
                  "Text": "I usually dont like black herbal tea, but this one i was able to sip on the whole cup without making a face. It is full of aroma and tastes much better than the usual herbal teas that i have tasted in the past. The Rose flavour is the best. How much it really calms u, god only knows, but the pleasure is unbeatable.",
                  "count": 18,
                  "_deepnote_index_column": 125818
                },
                {
                  "Text": "I drank this tea after my first trimester of pregnancy for its numerous health benefits.  It is pure red raspberry leaves and great organic package.  They are  not individually packaged, they come in a foil lined paper lije package and there are no strings or tags, just steep add agave or honey to sweeten...it is a little bitter but not bad and drink!",
                  "count": 18,
                  "_deepnote_index_column": 63549
                },
                {
                  "Text": "I have used this tea for 2 of my 3 pregnancies. It's a little hard to 1st get used to the taste but now I love it. It helps strengthen the uterus. I started drinking it in my 3rd trimester and drank it for a few weeks postpartum as well.",
                  "count": 18,
                  "_deepnote_index_column": 85861
                },
                {
                  "Text": "I have very bad insomnia and panic attacks, and this tea calms me down and helps me to sleep. Research suggests that Valerian works on the brains in similar ways to benzodiazepines, and was used in the past as a muscle relaxant and for DTs. This tea has an obvious effect, though it takes about half an hour to kick in. I smells like crap, but if you mix it with mint tea, it isn't as noticeable. I don't see any problem with the flavor, it does not taste like it smells.",
                  "count": 18,
                  "_deepnote_index_column": 85897
                },
                {
                  "Text": "These took FOREVER to ship and when they did arrive they were not as durable as advertized.  Was looking for a bone to keep our dogs busy, these were more like a snack.",
                  "count": 18,
                  "_deepnote_index_column": 233026
                },
                {
                  "Text": "Better than many I have tried.  With a little honey this is a terrific cup of tea.  Going to order more.  Nice and smooth.",
                  "count": 18,
                  "_deepnote_index_column": 15986
                },
                {
                  "Text": "The tea helped me tremendously with getting a more restful sleep.  I do however, think you should take it when you know you have more time to sleep in.",
                  "count": 18,
                  "_deepnote_index_column": 218335
                },
                {
                  "Text": "I started drinking this tea after a Doctor of alternative medicine recommended it to cure a Yeast Infection. It worked! I did not had to do to a GYN to cure my yeast infection. Also, it helped me in other way. After I started drinking the tea I stopped craving sugar. Needless to say, I lost like 15 pounds while drinking it. Is amazing and very medicinal. It also helps me with menstrual cramps. I love it! You can find it here online or in any natural health food store near you.",
                  "count": 18,
                  "_deepnote_index_column": 118229
                },
                {
                  "Text": "Excellent Tea. I enjoy a cup every now and then. It's really aromatic as well. Shipping was fast and hassle free.",
                  "count": 18,
                  "_deepnote_index_column": 26475
                },
                {
                  "Text": "Tastes Great!  My wife and I drink this tea on occasion and regular grocery stores dont usually have it in stock.",
                  "count": 18,
                  "_deepnote_index_column": 204759
                },
                {
                  "Text": "I bought this tea thinking it would taste like a rose. I was only half right. While the rose flavor is still there, you have to really search for it. I think it takes a few cups to do that because this is primarily a fruity tea. After you knock the first few cups down and find the subtle rose flavor, you'll find that it tastes like what a rose would taste like if it were a fruit. Which is basically what rose hips are. After drinking this entire box, I found that I really liked it. I was sad when the box was gone and I do intend to get some more soon.<br /><br />Just as an added note, I feel this needs to be mentioned. If you're like me and like to suck on the teabag, I do not recommend doing it with this tea! The bags themselves are not very thick and will break and you will have an explosion of mushy rose hips in your mouth!",
                  "count": 18,
                  "_deepnote_index_column": 56809
                },
                {
                  "Text": "Too early to know.  I was recommended that this product helps out the joints.  I have been enjoying the tea going on one week.",
                  "count": 18,
                  "_deepnote_index_column": 273673
                },
                {
                  "Text": "Alvita changed their lea licorice tea not the same - but my daughter likes it.  She normally uses tea in her tea but she said she does not use tea in licorice tea - it is sweet enough.",
                  "count": 18,
                  "_deepnote_index_column": 9209
                },
                {
                  "Text": "A refreshing cold beverage and a soothing, perfect, hot cup of tea. Offers healthful benefits.",
                  "count": 18,
                  "_deepnote_index_column": 4473
                },
                {
                  "Text": "This tea is weak at best when compared to other rose hip teas I have tried. The bags have no string and tag. The bags are the limpest and often fall apart while squeezing. The only brand of tea I have ever had do this. I drink 4 to six cups of tea a day of various types and this is a very lame tea.",
                  "count": 18,
                  "_deepnote_index_column": 269710
                },
                {
                  "Text": "We tried this as per our ped recommendation for our colicky acid reflux baby who just did not sleep well at all starting at about 2 months old 2-3 oz mixed with her bottle in before bed. From day one this worked great. Just enough to help calm and sooth her and definitely helped relieve some tummy problems and gas from colic crying. She still didn't start sleeping through the night but it definitely helped as she started sleeping at least one 6 hour block at night which is a godsend when you are only getting 3-4 hours total per night.",
                  "count": 18,
                  "_deepnote_index_column": 285749
                },
                {
                  "Text": "I use this tea for menstral cramps.  I drink a lot of it and it works fantasticly on cramps and mood.  Here is the catch - you can't expect to drink one cup and feel better.  I make big containers of ice tea - and I start drinking it all the time about two days before my period even starts.  Also, once my period starts, I try to make sure I have a cup every two hours- sometimes I have even more.  So again, it works but drink alot.",
                  "count": 18,
                  "_deepnote_index_column": 124060
                },
                {
                  "Text": "This tea is great.  I cook it in gallon batches and sweeten it with agave nectar and keep it in the fridge.  I guess it \"worked\" because my daughter was born after just 4 hours of labor and 20 minutes of pushing.  I'm still drinking it since I had just ordered another 3-pack of boxes of it the day before our baby was born.  My husband loves the tea too and he doesn't even have a uterus.",
                  "count": 18,
                  "_deepnote_index_column": 269300
                },
                {
                  "Text": "i ordered this tea to produce more breastmilk after reading on forums how good it is. thinking that it is a very good item I ordered 4 box at one shot! What a mistake! I thought I could drink anything but this is the worst thing ever i ever tasted! Like few others say, it also stinks up your place. I dont know what to do with the whole 4 box, i wasnt even able to drink up the one single cup!",
                  "count": 18,
                  "_deepnote_index_column": 300689
                },
                {
                  "Text": "I know nettle tea has a pretty distinct taste, but this particular brand was just unbearable. The smell reminded me of fish food pellets, and it had a fishy taste, too. I bought a pound of loose nettles from somewhere else for a lot cheaper, and the taste is so much better.",
                  "count": 18,
                  "_deepnote_index_column": 88648
                },
                {
                  "Text": "The first time I drank Fenagreek Seed tea I did not like the smell or the taste very much.  I added a very small amount of Stevia to sweeten it.  The more I drank it, the more the taste grew on me.  It is now my favorite tea by a long shot!",
                  "count": 18,
                  "_deepnote_index_column": 211775
                },
                {
                  "Text": "Let me start off by saying that I am not a tea drinker at all! I am more of a coffee person. Anyway, I decided that I was gonna dry up my milk supply and read somewhere that sage tea decreases milk supply. I went ahead and ordered this tea for that purpose. It says on the box that the tea is very bitter so I went ahead and added 1 teaspoon of honey. It worked perfectly. I do see that it has diminish my need to pump dramatically. I went from pumping 4-5 times a day to twice a day the 1st two days since I started drinking the tea. Yesterday I only did it once and today none so far. I am not in pain, though my breasts are still tender to the touch. I would 100% recommend this to any mother trying to stop her milk supply.",
                  "count": 18,
                  "_deepnote_index_column": 158943
                },
                {
                  "Text": "I had very painful cramps with Very Heavy bleeding that lasted for 5 days! and this cycle repeated every 21 days! So I would have a full period twice a month!! I was miserable and had to schedule my life around my cycle, because I was doubled over in pain or afraid of the embarrasment of bleeding onto my clothes! A friend recomended drinking this tea and my life changed!! I no longer have ANY Cramps!! the bleeding has subsided to 3 days with a normal flow and now my cycle is regulated to every 26 days or once a month. I have more energy and vitality and dont have to call in sick anymore!! This tea is blessing not only for pregnancy but for your menstrual cycle as well!! I tell every woman I know about this tea!! No need for birth control pills or other hormonal intervention. I love its pleasant light taste and enjoy drinking a cup a day.",
                  "count": 18,
                  "_deepnote_index_column": 73270
                },
                {
                  "Text": "I wanted good quality, fresh chamomile tea.  This one is fragrant which is a proof of freshness.  Chamomile is wonderfully calming and soothing.",
                  "count": 18,
                  "_deepnote_index_column": 126363
                },
                {
                  "Text": "I have one cup a day and it really decreases my night sweats. I'm in amazement at how much it helps!<br /><br />The taste isn't great, but I don't think it's as bad as some other reviews have said. If you're concerned about the taste, you can use some sage from your spice cabinet and make a cup. It tastes pretty much the same, but it didn't seem cost effective to use the sage you buy in the spice aisle.",
                  "count": 18,
                  "_deepnote_index_column": 81284
                },
                {
                  "Text": "I love this tea.. It was recomended to me by my Dr. to help during pregnancy.. Doesn't taste too bad with some honey, and makes me feel more relaxed.",
                  "count": 18,
                  "_deepnote_index_column": 101752
                },
                {
                  "Text": "This is a good tasting tea at a great price. If you don't normally like raspberry flavor, this isn't really raspberry flavor, if that makes sense. No heavy flavor.",
                  "count": 18,
                  "_deepnote_index_column": 243890
                },
                {
                  "Text": "I did a little bit more research online before taking this tea...One time I bought Senna tea out of the blue, just for the heck of it...and decided to drink it one night and the next day I was exploding downstairs.<br /><br />So I decided not to do the same with this one. This tea should be taken carefully. It is used as an immune system booster. I think drinking it four times a week is good enough.<br /><br />I really enjoy the warming up effect it has. Although it is suggested to drink with a meal.",
                  "count": 18,
                  "_deepnote_index_column": 60406
                },
                {
                  "Text": "It has been over three weeks and I still have not received this product.  And, they have charged me for it already...",
                  "count": 18,
                  "_deepnote_index_column": 151747
                },
                {
                  "Text": "I do like herbal teas in general and this fennel seed tea has a very pleasant aroma and taste to it.",
                  "count": 18,
                  "_deepnote_index_column": 61738
                },
                {
                  "Text": "I bought this product and love the flavor.  A great and relaxing way for me to end or begin a day.",
                  "count": 17,
                  "_deepnote_index_column": 56192
                },
                {
                  "Text": "I love this tea. It is delicious. It came in a timely manner and I was very pleased.",
                  "count": 17,
                  "_deepnote_index_column": 101716
                },
                {
                  "Text": "It is good and soothing to drink. I have not tried it too many times yet. I am sharing with my sister.",
                  "count": 17,
                  "_deepnote_index_column": 152128
                },
                {
                  "Text": "OUR BEAGLE JUST  LOVES THIS PRODUCT<br />SHE TAKES ONE WITH HER WHEREVER SHE GOES<br />ESPECIALLY LIKES O CHEW WHILE IN THE CAR",
                  "count": 17,
                  "_deepnote_index_column": 186134
                },
                {
                  "Text": "I heard about drinking sage tea on the Dr. Oz show. Though sage is most commonly used in cooking, sage tea has been shown to boost alertness and mood, while decreasing anxiety, I was told.<br /><br />I find it very soothing. I was surprised that I actually like the taste. It's a woodsy taste just very appealing. It always makes me feel good afterward. The tea is caffeine free so I normally drink it in the afternoon or evening as I still need the caffeine coffee provides in the morning.<br /><br />This is a great product and I will most likely order it again.",
                  "count": 17,
                  "_deepnote_index_column": 86336
                },
                {
                  "Text": "My father has been drinking this tea for years. Its so good for you. Especially men.",
                  "count": 17,
                  "_deepnote_index_column": 173398
                },
                {
                  "Text": "Thought this tea would have been more bitter, but it is surprisingly pleasant to drink without sweeteners!  Less bitter than a black or earl grey tea.  The pack of 3 is a wonderful deal as well.  Had to get creative with storing so much tea in my cupboard, but for the amount you get, the price cannot be beat. Highly recomended!",
                  "count": 17,
                  "_deepnote_index_column": 272834
                },
                {
                  "Text": "There is very little meat in this food and there are toxic chemicals.<br /><br />Various Meat By Products--lower quality than whole meat or meals and harder to digest than actual meat.<br /><br />Caramel coloring is only necessary when there is not enough meat.  Caramel color may be carcinogenic.<br /><br />\"Liquid Top Sirloin flavor\"  \"Grilled chicken flavor\"--  Flavoring is only necessary when the product has insufficient meat.  Top Sirloin flavoring is made from manure of cattle.<br /><br />Carageenan causes cancer, including breast cancer.  Read an interview with Joanne Tobacman, MD, professor of internal medicine, University of Iowa at [...]<br /><br />There are no vegetables in this food.<br /><br />Cesar has repeatedly stated that his entire goal in coming to the United States was to go to Hollywood and be famous.  I think that that focus on fame (and money) is apparent in his approach to dog food:  Give crummy food nice packaging and an appealing name.<br /><br />That one's dog will eat it is no advertisement.  First, the only thing one really has to do to sell dog food is make it so the dogs will eat it.  That the dog will eat it is no measure of the quality or benefit of the food.  Dogs eat anything--including manure, which is part of this food as the meat flavoring.",
                  "count": 17,
                  "_deepnote_index_column": 220024
                },
                {
                  "Text": "I love this stuff. It has really helped me with a lot of things. I absolutely swear by it. I probably drink this tea at least once a week. Sometimes several times a day if I feel the need.",
                  "count": 17,
                  "_deepnote_index_column": 101238
                },
                {
                  "Text": "My 3 year old miniature schnauzer loves these bones. I'm really glad that they started making them wheat-free because he has food allergies.",
                  "count": 17,
                  "_deepnote_index_column": 165650
                },
                {
                  "Text": "Was told by a friend to try Nettle tea for allergies. Brought it & it works great & quickly. Long time allergy suffer who loves Nettle tea. I'm able to use it & stopped all the other medications....",
                  "count": 17,
                  "_deepnote_index_column": 278966
                },
                {
                  "Text": "I bought this to help me fall asleep and it works although it tastes and smell really bad. Make sure to put this in some sort of a glass jar to prevent your kitchen from stinking. I found that if i added cream to this tea it would help the taste but its still pretty bad.",
                  "count": 17,
                  "_deepnote_index_column": 56926
                },
                {
                  "Text": "...and something seems to be working! It could be this alfalfa tea which tastes just like...alfalfa tea. My aunt has pain too and does not like to be without this tea.",
                  "count": 17,
                  "_deepnote_index_column": 955
                },
                {
                  "Text": "This tea tastes nasty.  Maybe I just dont like sage but it made me gag!",
                  "count": 17,
                  "_deepnote_index_column": 269926
                },
                {
                  "Text": "\"They found that two of the licorice compounds, licoricidin and licorisoflavan A, were the most effective antibacterial substances. These substances killed two of the major bacteria responsible for dental cavities and two of the bacteria that promote gum disease. One of the compounds -- licoricidin -- also killed a third gum disease bacterium. The researchers say that these substances could treat or even prevent oral infections.\"<br /><br />file:///Users/roaeja/Desktop/Health/Dried%20licorice%20root%20fights%20the%20bacteria%20that%20cause%20tooth%20decay%20and%20gum%20disease,%20study%20finds.webarchive",
                  "count": 17,
                  "_deepnote_index_column": 258
                },
                {
                  "Text": "The product was fine, but the cost of shipping was more than the cost<br />of the tea.  Won't make that mistake again.",
                  "count": 17,
                  "_deepnote_index_column": 216581
                },
                {
                  "Text": "After one of my cats experienced some tummy problems, I decided to look for some grain free options.  My cats love this stuff.  I've tried several flavors, and they like them all.  They are excited again at meal time.  The best benefit is that the \"tummy problems\" are so much better.",
                  "count": 17,
                  "_deepnote_index_column": 6606
                },
                {
                  "Text": "Our westies love the Caesar Canine Cuisine foods, they seem to prefer the pates to the sauced varieties, but they eat all of them. I like to give them a big variety of flavors and Caesar's food comes in so many wonderful flavors. This is one of their favorites.  And it is a better deal than in the stores.  So that is super for me.",
                  "count": 17,
                  "_deepnote_index_column": 191496
                },
                {
                  "Text": "Dr. Oz recommended fenugreek tea for your digestive track,(not this brand specifically). It was a good introduction.<br />Personally, don't care for the taste by itself, but with a bit of honey,yum! Will purchase again.",
                  "count": 17,
                  "_deepnote_index_column": 24131
                },
                {
                  "Text": "I use it to help jump start my weight loss regime. I sometimes flip flop up and down 8 pounds when I am not careful and i drink this tea for about 3 days and I shed it all. It is NOT a gentle cleanser though it will have your stomach turning and yearning but in 8-12 hours it does the cleansing job and it usually only does it for the first go round.<br />I would say go for it, if you need to get a jump start but DONT expect a good tasting tea very bitter. I DONT sweeten at all, I break the bags so i can swallow some of the bark in the tea as well. Good Luck",
                  "count": 17,
                  "_deepnote_index_column": 123104
                },
                {
                  "Text": "I have a friend who is a dandelion warrior.  Everytime she see's one, she pounces and that plant is history.  As a little joke, I ordered and sent her the tea.  To my surprise, she reported that she actually liked it, mentioning it had a rather nice smooth flavor.  Although that has not stopped her from still being a dandelion ninja, I give it 5 start just knowing that if she liked it - it HAS to be good!",
                  "count": 17,
                  "_deepnote_index_column": 74704
                },
                {
                  "Text": "It came in a timely fashion & it was a good price for the quantity I received. This tea is good for occasional constipation or to help your body along when it feels irregular.",
                  "count": 17,
                  "_deepnote_index_column": 151363
                },
                {
                  "Text": "Our Boston Terrier loves these bones - we give them to her as a treat or to keep her busy when we have company.  For a 16 lbs. dog she's a mighty chewer and these last her a couple of hours, with breaks to investigate if she's missing anything!  We'll buy more of these!",
                  "count": 17,
                  "_deepnote_index_column": 189902
                },
                {
                  "Text": "In ayurvedic medidicne and in yoga exxercises some times you need to use herbal meds for balancing the chakras and energy channels, so this is one of the needed ones<br />but please use under instruction of your yoga and ayurvedic teacher",
                  "count": 17,
                  "_deepnote_index_column": 150276
                },
                {
                  "Text": "I bought this because I heard about the benefits of Sage tea. I got used to the taste pretty quickly and love to pour it in a glass of ice to enjoy during the summer days.<br /><br />I took a star off because I've been drinking it for several weeks and I'm not seeing the work of benefits that is claimed of Sage tea (but then, I've always believed that you lose some benefits when the teas are in bags as opposed to still being in leaf form?).",
                  "count": 17,
                  "_deepnote_index_column": 54645
                },
                {
                  "Text": "I do not really like tea but I needed to drink it for medical reasons.  Shipping was really fast and the price was good.  I am sure those who like Sage Tea would love it.",
                  "count": 17,
                  "_deepnote_index_column": 61939
                },
                {
                  "Text": "Recommend it to all.  Lovely natural sweet delicate flavor and add some raw honey is a great cold kicker.  I loved it during a URI, upper respiratory infection and it was fabulous.  Soothed my sore throat and helped ease the coughing.  I now brew it for cold tea as well.  Very refresshing.",
                  "count": 17,
                  "_deepnote_index_column": 197045
                },
                {
                  "Text": "I have an 11 pound Couton De Tulear.  Small sharp teeth.<br /><br />Dog loves them.<br /><br />These don't last long.  From a value standpoint, I prefer \"Checkups,\" when Costco has them in stock.",
                  "count": 17,
                  "_deepnote_index_column": 75687
                },
                {
                  "Text": "Used this to help slow breast milk production when I was breastfeeding.  Worked well!  I drank 3 cups a day.",
                  "count": 17,
                  "_deepnote_index_column": 275869
                },
                {
                  "Text": "I'm not a tea drinker, so I'll start with that right off the bat.  However, I was reading online about some non-medication ways of coping with a stuffy nose.  One of them mentioned Mullein tea as a natural remedy to combat mucus, so I schlepped down to my local health food store to buy a box of 24 tea bags, for about a buck more than they are here on Amazon.  Not only did drinking this tea 3-4 times a day for a couple days have ZERO effect on my stuffy nose, but this was the worst cold/cough/flu I've had in about 10 years.  Obviously I can't prove that this was BECAUSE of the tea, but I am convinced that I wasted my money on this useless product, and that, at least for me, it provided absolutely no results for anything.  Sorry.",
                  "count": 17,
                  "_deepnote_index_column": 137820
                },
                {
                  "Text": "I drank this tea at least 4 days a week during the last 6 weeks of my pregnancy.  I wish I did it the entire last trimester and everyday!  I had a 6 hour natural labor and delivery and I only pushed for 15 minutes.  My contractions, even at their most intense, only felt like strong menstrual cramps.  I brewed my tea double strength and then drank it with lemonade.  Delicious and refreshing!  Even on it's own as a hot tea, it's pretty palatable.  My last trimester was in the summer though, so I always drank it iced.  I also used Evening Primrose Oil suppositories for the last 5 weeks. I really believe that these two factors are the main reason why my labor and delivery was so fast and EASY!",
                  "count": 17,
                  "_deepnote_index_column": 63551
                },
                {
                  "Text": "I bought this product because I read on a couple other sites that it can help with head and chest congestion. I also read it is safe to use while breastfeeding. So I tried it. If I drink it on an empty stomache it does seem to help with my cronic nasal congestion due to allergies. I saw no difference with chest congestion. I only drank the recommended 2 to 3 cups a day. Maybe I would see longer or more results at higher doses. I have noticed that I do smell alot like maple syrup even 4 days after not drinking the tea. I do mix it with Honey, if not it tastes awful to me. I never noticed a maple syrup smell on my 3 year old breastfeeding son like another site mentioned might happen. He does only nurse a few times a day now tho. Overall I like the product and will continue to use it when I am feeling congested. I even recommended it to somebody I know.",
                  "count": 16,
                  "_deepnote_index_column": 56259
                },
                {
                  "Text": "Milk Thistle is said to be good for the liver. It has a very mellow and pleasant flavor. I really enjoy drinking it. Alvita brand has always had good quality teas.",
                  "count": 16,
                  "_deepnote_index_column": 164045
                },
                {
                  "Text": "I was surprised to see that this product actually works, but they don't warn you about the god-awful smell. It's horrid, truly.",
                  "count": 16,
                  "_deepnote_index_column": 132159
                },
                {
                  "Text": "I had a hard time drinking this tea as it tastes like cardboard! There's no taste or flavor. I don't know if it actually works to strengthen the uterus as I wasn't able to make myself have it for the couple of months required. I'm not sure if all raspberry tea tastes like this or just this brand.",
                  "count": 16,
                  "_deepnote_index_column": 71092
                },
                {
                  "Text": "When I bought the first box I had a cup of tea every night and thought the hot flashes subsided a bit, so I bought another box.  The second box, not so much.  I am not sure if the tea builds up in your system and stops working or if it is just me.  The tea does not have a bad taste, doable for its purpose.  Sage tea has been recommended by many as a means of cutting down hot flashes, vs taking meds that can be linked to cancer.  Give it try, it might work for you.",
                  "count": 16,
                  "_deepnote_index_column": 289260
                },
                {
                  "Text": "I ordered this to serve at a \"tea\" where I was speaking about roses.  It was a hit with those who were brave enough to try it.",
                  "count": 16,
                  "_deepnote_index_column": 107816
                },
                {
                  "Text": "My dog really enjoys the Booda bones.  I was very pleased with the price I received and also the fact that they arrived  earlier than expected.",
                  "count": 16,
                  "_deepnote_index_column": 171466
                },
                {
                  "Text": "I also had heard from my lamaze class that red rasberry tea was suppose to ease and assist in the birthing process(It is a uterine toner). Well, in my case it couldn't have been more true. I literally pushed 3 times and the baby was out, and that was my first baby. I drank the tea every day for the last two months of pregnancy, up to delivery day. I must say...this time in my 2nd pregnancy i'm going to do it the exact same way. I recommend this product to any woman who wants to have an easier, shorter delivery.",
                  "count": 16,
                  "_deepnote_index_column": 45279
                },
                {
                  "Text": "I use red clover tea a lot and so do my friends, it helps cure insomnia and is also known as a cleanser of the body organs. I feel rejuvenated, refreshed and cheerful after I use it, which is between once a week and once a month.",
                  "count": 16,
                  "_deepnote_index_column": 123176
                },
                {
                  "Text": "My dog loves the chicken, steak, and peanut butter booda bones, but he's not as fond of the spearmint/peppermint variety.  My dog will eat it if offered, but my dad's dog who I often sit for will not even touch these.  I wouldn't recommend for a dog who prefers meat.",
                  "count": 16,
                  "_deepnote_index_column": 170974
                },
                {
                  "Text": "Prompt Service and I'm grateful to be able to order my rose hip tea on-line, from a reliable source, instead of running around from store to store looking for it.",
                  "count": 16,
                  "_deepnote_index_column": 194813
                },
                {
                  "Text": "This review is about the product the seller was great!<br /><br />I heard it was good for sleep couldn't find it local so i bought it here. It stunk up my house, taste awful. save your money and buy any other tea out there.",
                  "count": 16,
                  "_deepnote_index_column": 265643
                },
                {
                  "Text": "This is the only flavor of Science Diet (or any other brand) they will all eat without complaint. I don't know what I'll do if they stop making it. I have 3 cats, two Maine Coons who get hairballs, and this stuff really works to prevent that. As long as they eat some of it daily no more hairballs on the floor. It's a great product. I hope they never try to \"improve\" the recipe or change it in any way, or my cats will probably reject it as they have so many others! If it ain't broke please don't fix it, Science Diet! It's a winner as is.",
                  "count": 16,
                  "_deepnote_index_column": 258228
                },
                {
                  "Text": "My chihuahua loves these, especially the peanut butter, chicken, and bacon varities. They have become increasingly hard to find at pet stores so I was happy to find them on amazon. I like that they are safer than rawhide bones and easy to digest and she really seems to enjoy them more than other bones I've bought for her. I tried a few other brands when I stopped being able to find the booda bones at pet stores and she would not even eat some of them. You can't go wrong with these, they are reasonibly priced, safe, help reduce tartar, and dogs seem to love them.",
                  "count": 16,
                  "_deepnote_index_column": 168866
                },
                {
                  "Text": "These are great, but my dog likes to augment them with other types of bones",
                  "count": 16,
                  "_deepnote_index_column": 223288
                },
                {
                  "Text": "I purchased this tea because it is recommended for helping women's PMS symptoms and menopause symptoms.  I've only had one cup of it, so I can't say if it has helped my symptoms or not.  I have purchased other teas of this brand.  I would recommend their teas.  I wasn't crazy about the taste of the red clover, but that is just my personal opinion.  It's a little bitter but bearable.  Add some sugar and you're good to go.",
                  "count": 16,
                  "_deepnote_index_column": 111350
                },
                {
                  "Text": "This tea really works. Drink a big cup before bed and in the morning you will have to use the bathroom. Sometimes I have to eat just a little something before it kicks in, but it always works within 1-2 hours after waking up. It does not really taste that great, but it is okay. Definitely helps me keep my weight even.<br /><br />Personally I like Kleritea better (more gentle, tastes better) but that costs almost 4 times as much. So I stick to Alvita Senna Leaf Tea now.",
                  "count": 16,
                  "_deepnote_index_column": 269822
                },
                {
                  "Text": "Let me start by saying our dogs love these. As soon as they see the bag they stop whatever they're doing and run to their crates (where we typically give these to them). However, for our dogs these are definitely more of a treat then an activity. I have one dog who is an aggressive chewer who finishes these in under five minutes. He doesn't chew them as much as bite of chunks of it. My other dog isn't quite as strong of a chewer but it usually takes her just around fifteen minutes to eat the whole thing (this review is specific to the Biggest Boodas). So for my dogs this is less of a chewing experience and more of a treat. And when the eat them this quickly, they do get expensive quick.",
                  "count": 16,
                  "_deepnote_index_column": 158889
                },
                {
                  "Text": "The vet showed me that my 14-year-old cat's teeth and gums were in bad shape. Her teeth were stained and layered with plaque. Her guns were bright red along the edges. She had Gingivitis. I was facing a $300+ teeth cleaning bill for the cat. The vet recommended I try Hill's Dental Diet first. After two months of eating it, the cat returned to the vet. The large, hard nuggets had cleaned the plaque from her teeth. Her gums were no longer red, but pink and healthy. Hill's did what was needed. I am thrilled with the results.<br /><br />Yes, this food is expensive, but so is a teeth cleaning bill for a cat, as well as dental problems if you don't. Once my cat's mouth improved, I cut back on the Hill's. I feed my cat a main diet of Purina dry, but I still give her 8-10 Hill's nuggets a day. She's been on this mixed diet for one year and her teeth and gums are still good and healthy. The Hill's large nuggets act like a tooth brush that scrapes against the cat's teeth.<br /><br />Pound per pound this cat food is actually less expensive than those little bags of tarter control cat treats you buy in the supermarket. Once you get control over your cat's dental problems you can maintain her by giving her several Hill's Dental Diet nuggets a day. If your cat has no problems yet, consider giving her a small handful of Hill's Dental nuggets to ward off any future problems. This stuff works!",
                  "count": 16,
                  "_deepnote_index_column": 219053
                },
                {
                  "Text": "I read about the benefits of Pau D'Arco tea and decided to give it a try. It's hard to find this tea in the market. The Whole Foods near my house doesn't have it either.<br /><br />The taste of this herbal tea is interesting: it's got a hint of sweetness with a very slight medicinal bitterness. Feels quite dry and alkaline to me. Color is light brown. Not particularly delightful or tasty, neither does it have a strong, captivating aroma like the Japanese roasted green tea - it's just weird beyond description. Reminds me of dried summer leaves. Not unpleasant though; I am still glad that I tried it!",
                  "count": 15,
                  "_deepnote_index_column": 111892
                },
                {
                  "Text": "I've a difficult time drinking red raspberry leaf tea in the past. I wanted to try it again during my second pregnancy for uterine health. This time I steeped it in boiling water, added lots of honey, and poured it over ice. It's still not the best tasting tea variety, but this particular brand seems a bit more palletable than some others. As far as it's potency/effectiveness, I suppose I won't know until the baby comes (although realistically I'm not sure I'll even know then).<br /><br />This price is amazing, too. I kicked myself for paying twice as much at a local health food store. I will definitely be buying my next box here instead.",
                  "count": 15,
                  "_deepnote_index_column": 139498
                },
                {
                  "Text": "I dont do this as much as i should becuase it makes you poop all day!!!! but its awesome for detox and sometimes it makes you nausous but other than that its good. tasts good",
                  "count": 15,
                  "_deepnote_index_column": 63438
                },
                {
                  "Text": "Great product. Does not completely get rid of hot flashes and night sweats, but seriously reduces their number and intensity. I tried everything else and this is the only thing that made any difference. I now get reasonable sleep at night.",
                  "count": 15,
                  "_deepnote_index_column": 37239
                },
                {
                  "Text": "I fed this product to my cat and my roommate's cat.  I was experimenting with food since the cats are almost 1, and I wanted to introduce different kinds of adult food so they'd get used to them.  I mixed half Science Diet dry kitten food with this product, and the cats began to eat less.  I was worried about how much they were eating (nearly 1/4 their original diet) so I filled one bowl with this indoor cat food and one bowl with their kitten food.  They barely touched the indoor cat food, while eating most of their kitten food.  I ended up having to mix some canned cat food in with it to get them to eat.<br /><br />Part of it might be that the food is triangular and much larger than the kitten food.  They had a hard time eating it at first, since they were used to the small pieces of the kitten food.<br /><br />Don't be discouraged, though.  My cat can't tell the difference between the kitten food and the regular adult food.  They really enjoy Science Diet's fish flavored food, so give that a try.",
                  "count": 15,
                  "_deepnote_index_column": 65199
                },
                {
                  "Text": "I bought this for my cat, who suddenly started vomiting on a daily basis. No rhyme or reason for it either, not hairballs, or some kind of illness. This didn't help the vomiting issue and considering the cost of the food and composition, I've since switched her to a product richer in proteins that costs a similar amount and actually seems to have quickly cleared up the problem.",
                  "count": 15,
                  "_deepnote_index_column": 55308
                },
                {
                  "Text": "Was feeding my 3 cats - Blue Buffalo Blue Wilderness Chicken Dry Cat Food - which is one of the best brands out there... No grain, all meat, blah blah.  Cats loved it over all the other 'meat only' brands...<br /><br />Only problem was... soft stools...  Talked to the vet and she said that sometimes cats need some form of fiber, even if it isn't nutritious, it helps to bulk up the stools and get rid of the God awful odor...<br /><br />So went up and down the food aisle and this particular brand/version had the highest fiber content of all of the bags of food.  The BWC food has 3.5% fiber... This indoor cat food has 10% fiber... yes it is indigestible corn... that's the whole idea... a form of roughage to helps the bowels.  This food also has added fiber on top of the corn stuff etc...<br /><br />So I'm going to see if this helps with the soft very stinky stools... if it does, I'm sticking with it.<br /><br />So far the cats haven't seemed to mind the larger kibble size.  They chomp a piece in half, and eat both halves...",
                  "count": 15,
                  "_deepnote_index_column": 278758
                },
                {
                  "Text": "What can I say...this is the only brand of food my cat will eat. She tears into the bag by chewing on it as soon as I get it. I have to pour in into a plastic container. It also controls hair balls.",
                  "count": 15,
                  "_deepnote_index_column": 288682
                },
                {
                  "Text": "its cat food that was offered at a good price...and being a premier member, i got free speedy shipping.  cat food starts out hard when it enters the cat.  it exits the kitty as a soft item a day later, minus nutrients/vitamins (hopefully).",
                  "count": 15,
                  "_deepnote_index_column": 301765
                },
                {
                  "Text": "the tea is very good with honey and I have seen a difference. I have lost 3lbs since taking it.",
                  "count": 15,
                  "_deepnote_index_column": 304868
                },
                {
                  "Text": "My mother-in-law recommended this tea to me to help me naturally alleviate my menstrual cramps. I have to warn that the tea doesn't \"kick in\" for a couple of cycles, so don't drink this expecting a magic cure-all within the first cup. I used to be very dependent on Advil, Tylenol, etc. so this tea was a lifesaver.<br /><br />It's a very mild tea and you don't need a lot of sugar or honey in it. I recommend it.",
                  "count": 15,
                  "_deepnote_index_column": 177767
                },
                {
                  "Text": "I have a hard time finding nettle leaf tea at regular grocery stores, so I purchased mine from Amazon.  I generally enjoy English Breakfast, Earl Grey, Japanese green, and Oolong teas; this is a great addition to my current mix.  The tea bags make it easy to enjoy at work.",
                  "count": 15,
                  "_deepnote_index_column": 74765
                },
                {
                  "Text": "We have five cats - one an elderly cat of 15 years, the other four in the 9-11 year range.  The oldest cat was diagnosed a couple of months ago with the beginning stages of chronic kidney disease.  His numbers didn't warrant being on prescription food yet, but we needed to start paying attention to things like protein and phosphorus levels in his food.  Because we have five cats, and some of them are nibblers eating four or five nuggets at a time, we decided to switch them all to an acceptable food for the oldest, so we picked the active longevity because it specifically mentioned kidney support and calories appropriate for less active older cats.<br /><br />Since we made the switch 6 weeks ago, all of the cats have gained weight.  This was fine for the little old guy as he was a bit underweight; not good for the rest of them.  Our other male went from a slightly chunky 18.5 lbs to an obese 21.25 lbs - almost three pounds in 6 weeks!  The 3 females gained between 1.5 to 2 pounds each.  We noticed them making a lot more visits to the food bowl, like they couldn't seem to get full.  We also saw a lessening of coat quality - lots of shedding even though they are brushed regularly (including with a furminator) and one developed bad dandruff.  The stools developed a really bad odor, although I do have to say nobody developed diarrhea which I am grateful for.  Most worrisome was that the lab results on the old guy came back with some of the kidney values of concern having worsened.<br /><br />I am very disgusted with Science Diet - they are actively fooling the public with the nutritional claims on the bags. One of the sites I researched on for chronic renal failure has charts detailing the nutritional breakdown of most of the various foods available.  If you compare the various Science diet formulae that have different health claims on them - the nutritional values for the components listed are all within a tenth of a point or two.  Basically from the nutritional analysis it appears that they are  the same base formula with maybe a slight difference in a vitamin or additive.  With other brands, such as innova or royal canin, there appears to be an actual difference between the different formulae.<br /><br />Now to deal with the weight gain, as well as the other problems we noted, we are switching foods again.  This time we are trying royal canin indoor mature.  Wish us luck.",
                  "count": 15,
                  "_deepnote_index_column": 282364
                },
                {
                  "Text": "This is the best magnesium supplement. Highly effective and absorbable. It tastes great and doesn't have any sugar in it, how cool is that?! It's sweetened with stevia, what a novel idea, a health product that's thoroughly healthy for you! I love the raspberry-lemon flavor-yummy!",
                  "count": 15,
                  "_deepnote_index_column": 256525
                },
                {
                  "Text": "Check the first 4 ingredients: Brewers Rice, Chicken By-Product Meal, Corn Gluten Meal, Powdered Cellulose. Rice is ok but not as a first ingredient in a cat food; meat by-product is sketchy in general in a food this expensive; corn meal I have no great opinion of, but whatever; but the 4th ingredient - powdered cellulose - is sawdust. SAWDUST is not what I want to feed my cat, even to help her lose weight.<br /><br />No wonder this food feels so \"light\" physically.  The color is lighter, and it is less dense than normal food because it's truly just fillers.<br /><br />I give it a second extra star because my cat would willingly eat this food and didn't seem to mind a whole lot, but I switched her (50/50 at first) to Blue Buffalo, which has real food ingredients and which she actually does prefer.",
                  "count": 15,
                  "_deepnote_index_column": 19708
                },
                {
                  "Text": "This is a great jerkey substitute if you're vegetarian. The problem is, when it is stale, it's very hard to chew* (but still tastes good). When it is fresh, it is absolutely awesome.<br /><br />Stonewall's is my favorite brand of vegetarian jerkey. If you don't like your jerkey hot, I suggest you try mild or teriyaki. Otherwise, this is the stuff for you!<br /><br />*Edit: Someone suggested heating in microwave for about 10 seconds to soften it, and that works beautifully!",
                  "count": 15,
                  "_deepnote_index_column": 244510
                },
                {
                  "Text": "We have a dog with a liver shunt - so she can't have a lot of protein / can't digest protein.  Booda Bones are the BEST treat for her (and our other dog loves them as well!).  The only 'downside' whatsoever is that they're a tad expensive - but they're worth it!",
                  "count": 15,
                  "_deepnote_index_column": 281700
                },
                {
                  "Text": "The story goes that I adopted a cat from an agency last summer. Having always grown up with dogs and not cats, I went ahead and wandered down to my Target to get a bag of Friskies. About a week later, my kitty (named Sugar) starting vomiting. Confused, I assumed it was the wet food we were feeding her in the morning. So we changed it. Then we changed it again. No results. I took her to the vet and asked. He checked her out and said likely the problem was having a sensitive stomach and he recommended Science Diet. Bam. My cat does great now. She's lost a little bit of weight so she's the right size now. She doesn't vomit anymore. This food works and it works well. I read the negative review here and I would say the problem was unique to the cat. My cat loves it and is doing brilliantly now.",
                  "count": 15,
                  "_deepnote_index_column": 217838
                },
                {
                  "Text": "I drink this tea because I love the taste and now, I still enjoy it, even though I was informed that it has some medicinal value, as well.",
                  "count": 15,
                  "_deepnote_index_column": 63983
                },
                {
                  "Text": "I have two litter mates.  One can eat anything with no problem.  The other always vomits ten minutes after eating, no matter what she eats: canned or dried makes no difference and I've tried every store brand there is.  Hairball treatments had no effect.  I figured \"cats throw up\" and didn't worry about it.  When I moved and switched vets the new vet asked if the cats ever threw up.  When she heard about the one cat she said cats do NOT just throw up and told me to get the Science Diet sensitive stomach food.  Yes, it's 4x the price of what I'd been buying, but I noticed a difference with the first bowl.  Instead of throwing up ten minutes after literally every meal, now she throws up maybe once a month.  If only I'd switched to this brand years ago we both would have been saved a lot of misery.  Even tho it costs more I've noticed that the bag seems to last longer than the same amount of cat chow did.",
                  "count": 15,
                  "_deepnote_index_column": 85100
                },
                {
                  "Text": "I don't like all the controversy surrounding rawhide bones and don't want take the risk of my Lab getting a blockage so I exclusively give him Booda bones which are safe. My lab is an aggressive chewer and considering this is edible it makes him that much more excited as he LOVES food. He enjoys these bones but devours them in less than 20 minutes. I usually give it to him for a few minutes until he eats half of it and then I take it away to save for next time. This obviously would get very expensive so he has his non-edible Nylabones most of the time and these are special treats.",
                  "count": 15,
                  "_deepnote_index_column": 62857
                },
                {
                  "Text": "My cats have been on Hill's Science Diet since they came home as kittens. This food is great and keeps them very healthy, it's what the vet has always recommended and I've stuck with for my cats. I get the big bag because it's easier to store it in a large air-tight container near their food and not have to worry about buying food every other week or so. So glad to see this on Amazon Prime now, I used to have to go out of my way to speciality pet stores just to get it as places like PetCo out here don't always carry it.",
                  "count": 15,
                  "_deepnote_index_column": 168504
                },
                {
                  "Text": "I purchased this tea because I was told that it helps with excess gas but this tea has made worsen my gas problem. I am very disappointed with the purchase",
                  "count": 15,
                  "_deepnote_index_column": 111348
                },
                {
                  "Text": "Worked great. A Good must have for breastfeeding mothers. Helped in restoring my breastmilk supply and only took two to three days. Will buy again!",
                  "count": 15,
                  "_deepnote_index_column": 294035
                },
                {
                  "Text": "I found that this tea really helped increase my milk supply. It tasted a little funny at first, but I quickly got used to it. The price on Amazon is unbeatable, especially if you use subscribe and save.",
                  "count": 15,
                  "_deepnote_index_column": 67178
                },
                {
                  "Text": "This tea was surprisingly hard to find at the health food store, so I bought it online. Reading about possible ways to off-set liver damage 2/2 medications (statins in particular), I figured, why not--I drink tea, so I can try this one. It tastes ok. Not great. But drinkable.<br />I think this tea is a fair alternative to taking another pill.",
                  "count": 15,
                  "_deepnote_index_column": 269996
                },
                {
                  "Text": "My little yourkie absolutely loves these treats. He chews all the chicken off first, which I think helps keep his teeth clean, and then goes to work on the rawhide.<br /><br />GREAT product, but the packaging wasn't too great. The bones were falling out when I got them... a little concerning.",
                  "count": 15,
                  "_deepnote_index_column": 177239
                },
                {
                  "Text": "I was very disappointed by the product.  They are NOT long lasting as I was lead to believe.  I was going to buy Chewlotta's which take my dog about 2 hrs to go through 1, but I thought it was too pricey at $3 a pop.  My dog could eat this whole bag in less than 2 hours.  He does enjoy them though.",
                  "count": 15,
                  "_deepnote_index_column": 132589
                },
                {
                  "Text": "The tea has a mild, pleasant flavor and is easy to combine with others, without overpowering the mix. I've just moved to a new town, and I don't know where to look for the teas I need. Buying online saved me a lot of headaches. The boxes I ordered arrived promptly.",
                  "count": 15,
                  "_deepnote_index_column": 218329
                },
                {
                  "Text": "This stuff taste the worse, no sweetner helps and it stinks up the place...Stay away from this stuff, what a waste of money.",
                  "count": 15,
                  "_deepnote_index_column": 268071
                },
                {
                  "Text": "I have been buying this food locally but began to have a hard time fInding it. I searched online and it was a little more cost effective. My pups seem to love this food.",
                  "count": 15,
                  "_deepnote_index_column": 76393
                },
                {
                  "Text": "I appreciate being able to buy this larger, more economical size from Amazon.  However, I didn't examine the picture closely enough, because I was surprised to see that the cans were not pull-tab and I had to dig out a can opener.  Inconvenient, especially since I feed my cats in the laundry room in the basement, not in our tiny kitchen.  Five or six of the cans were dented (I ordered a total of 24), a couple pretty severely.  I'm not sure what the box went through with the shippers, but even the cans need better padding!",
                  "count": 15,
                  "_deepnote_index_column": 50832
                },
                {
                  "Text": "My dog gets sick eating a lot of dog treats (even Milkbones), but has always done well with all the Booda bones.  She really loves them & they're good for getting rid of the tartar on her teeth.  I highly recommend these.",
                  "count": 15,
                  "_deepnote_index_column": 170297
                },
                {
                  "Text": "I have no problem w/my dog eating these.  He loves these booda bones. I had never seen the yogurt ones; he loves them.",
                  "count": 14,
                  "_deepnote_index_column": 81012
                },
                {
                  "Text": "I have loved Kettle Brand Sea Salt and Vinegar chips since the first time i tried them.  The fact that i was able to find them on-line for such a great price, was wonderful.  I would definitely make the purchase again.  THey are a quick and simple snack for lunch and it goes great with my cold sandwich.",
                  "count": 14,
                  "_deepnote_index_column": 80422
                },
                {
                  "Text": "I took in a foster cat almost one year ago and have tried almost everything to rid him of diarrhea.  The vets were unable to diagnose any parasite or physical problems, and his behavior has always appeared happy and healthy.  The vets said it could be a food allergy, so I began trying different foods.  A couple of months ago, I bought SD Sensitive Stomach.  I had been reluctant because of the ingredients - I strive to avoid foods with \"meal\" of any kind - as well as the price ($40 for 15.5 lbs).  After a year, five other foods and several supplements, though, I was desperate.  Sensitive Stomach did the trick.  There was a noticeable difference within a few weeks, and the stools are completely normal now.  His weight gain has been constant regardless of food, so I do not attribute that to the Science Diet brand.<br /><br />The drawback is that my other two cats prefer this food to their original brand, so it's quite expensive for three cats.  The other two have not gained weight with this product, and their appetite does not appear to have increased at all.",
                  "count": 14,
                  "_deepnote_index_column": 120959
                },
                {
                  "Text": "Freeze dried liver has a hypnotic effect on dogs.  They LOVE it and will do just about anything for it, so it is a great treat to use for training.  (Powdered freeze dried liver is even added to many dog medicines nowadays-- heartworm and arthritis tablets, etc.-- because it causes the dog to scarf the medicine down like a treat.)<br /><br />Freeze dried liver has a dry, hard, yet powdery/easy to chew consistency.  It comes chopped/cubed.  It is extremely lightweight due to the fact there is so little moisture in the product (thus the low weights on product labels).<br /><br />Even though your dog will love liver treats, you shouldn't overfeed it.  The manufacturer recommends 1-2 cubes daily for small dogs, 2-3 cubes for medium dogs, and 3-4 cubes for large dogs.<br /><br />The largest package sizes of liver treats tend to be far more economical.  I recommend buying the larger tubs, as you will save lots of money, you'll have a handy treat supply around for a longer time, and your dog will never tire of this product.<br /><br />~~~~~~~~~~~~~~~~~~<br />Here's the nutritional analysis:<br /><br />-100% freeze dried liver<br />-NO additives or preservatives.<br /><br />-Crude protein..... not less than 50%<br />-Crude fat.....  not less than 5%<br />-Crude fiber.....  not more than 3%<br />-Moisture.....  not more than 6%",
                  "count": 14,
                  "_deepnote_index_column": 32016
                },
                {
                  "Text": "I used a higher priced senna for several years and out of the need to economize I tried alvita. Works just as well and is not individually wrapped as the others are and for me it's just one less thing I have to do considering I fix this every evening for me and hubby... I have medical problems so anything that saves me extra step I'm happy for it...",
                  "count": 14,
                  "_deepnote_index_column": 124287
                },
                {
                  "Text": "This tea has a strong pungent smell that my husband hates (he says stinky socks) but call me weird I really like it.  I like parmasean cheese too though and that stinks.  Anyhow, I find both the aroma very relaxing and find that after a cup I am tired and ready to go to bed.  I am not even sure if it is the aroma or the actual tea that is knocking me out but for some reason it is so right for this body.",
                  "count": 14,
                  "_deepnote_index_column": 268811
                },
                {
                  "Text": "I took my 10 year old cat in to the vet today for his yearly check up.  Turns out my cat is the picture of health, but needs to drop about 2 pounds.  The vet recommended I switch my cat over to this cat food. I checked it out at the store, but after reading the ingredients I thought this can't be right.  First, its labeled for cats up to 6 years old, second it appears to be jammed will fillers, and third, its rather pricey.  I'm glad I came home and started researching this product and reading about others experiences with this food, and I'm definitely not feeding this stuff to my cat!",
                  "count": 14,
                  "_deepnote_index_column": 120963
                },
                {
                  "Text": "I have three King Charles Cavalier Spaniels and they are picky, picky eaters even when it comes to Treats.  They love the peanut flavored Booda Bones and have one every day.  They insisted I write this review on Amazon so their opinions could be known.  They're pushy that way...",
                  "count": 14,
                  "_deepnote_index_column": 82857
                },
                {
                  "Text": "He really loves these treats more than any other treats out there. He flips backwards just to get these LOL. These are a just a little bigger than a pencil eraser. They are great for training. I like to cut them in half to yield even more. I tried cutting them in quarters but they seem a little too small for my dogs big mouth. They come in a resealable package so that helps to keep them nice and fresh and especially soft. I forgot to close the bag one day and the treats got pretty hard but the dog didn't mind.",
                  "count": 14,
                  "_deepnote_index_column": 40842
                },
                {
                  "Text": "Works great for me and also help me with my weight.  I don't like the drink as much but I drink it as needed.",
                  "count": 14,
                  "_deepnote_index_column": 294086
                },
                {
                  "Text": "Please do your research on pet foods and what is actually good for your cats.  Hills science diet is a horrible food filled with horrible ingredients.  They charge an outrageous price because it's the #1 vet recommended food.  This is a joke and the only reason why it's rated #1 buy vets is because Hills gives money to soon to be vets to help them go through school.  Then they sell the cat food to them cheap so they can jack up the price and make a nice profit off of your marketing foolishness.  Read the back of the labels of Hills brand and you will see that most of the top ingredients are grains or cheap meat by products which are the feathers, bones, unwanted organs from animals, basically all of the stuff we wouldn't eat.  Please try another brand like orijen or evo.  your cat will thank you.",
                  "count": 14,
                  "_deepnote_index_column": 193368
                },
                {
                  "Text": "My 2 indoor cats have been on this food forever.  They do not get any canned food supplements.  However, with all the Science Diet flavors I often find that the large bag of this one is not in stock when I go to buy it in my local pet stores including the big box stores like Petco or Petsmart.  so finding it on Amazon and eligible for Prime shipping made my day.",
                  "count": 14,
                  "_deepnote_index_column": 165443
                },
                {
                  "Text": "I was getting VERY worried, when I read some of the other reviews here.  Specifically, the \"One Star\" reviews, to which I always go, to see if the faults these other reviewers find with any merchandise would prevent me from buying it.<br /><br />WOW!  They sure seemed to hate the KETTLE CHIPS, BACKYARD BARBECUE 9-OUNCE BAGS, (PACK OF 12), that I had bought as 1 ounce bags, liked A LOT, decided to subscribe....and then, for good measure, got 2 orders of the 9 ounce bags.<br /><br />Yes...I love potato chips....especially these KETTLE CHIPS, BACKYARD BARBECUE FLAVOUR....but others seemed to really HATE them...or at least, hate how they had changed.<br />But then I realized they were talking about OTHER FLAVOURS!  Amazon, in it's deep wisdom, has obviously seen fit to put ALL comments concerning ALL flavours of KETTLE, (and other brands of?????) potato chips, TOGETHER!<br /><br />Of course, this DOES have SOME advantages, because most potato-chip lovers, (like me!), enjoy eating several flavour, and brand varieties.  So, comparisons can be made easily.  Also, as we're all potato-chip lovers, but each person has his or her very favourite flavour that they are reviewing, we are, here a sort of \"United Nations of Potato Chip Lovers\"....all different, but all united in our love of Potato Chips!  (The rest of the world can REALLY benefit from the example of our tightly-knit, but ever...er,...expanding...group here, I think! : )  But -- not at first realizing that these<br />different flavour reviews were all together, did cause me a little confusion and dismay.... at least to begin with.... (Amazon should have mentioned that this is the \"Kettle Potato Chip Review Forum\"! : )<br /><br />I am happy to report that KETTLE CHIPS, BACKYARD BARBEQUE FLAVOUR, are totally delicious!  (At least they are in the one-ounce bags...hopefully the same product in the 9 ounce bags will taste the same!)  These are definitely chips for ADULTS, however -- and/or children whose stronger-than-adult taste buds can withstand the very strong flavour of these chips.  They are NOT the strongest flavour I have ever had...that was from a jalapeno pepper chip which was far too strong for even me!<br />These Backyard Barbeque chips by Kettle, however, have just the right amount of sweetness, (with honey powder, onion and sugar), to take the edge of the stonger flavours<br />(paprika, chili pepper, cayenne pepper, and natural smoke flavour), of which there is less, (they come further down in the list of ingredients than the sweeteners.)<br /><br />The complete list of ingredients of these KETTLE BACKYARD BARBECUE CHIPS, (in the 1-ounce bags, and hopefully, in the 9 ounce bags as well), is as follows:<br /><br />Potatoes<br />Vegetable Oil, (Safflower and Sunflower Oil),<br />Honey Powder, (Dried cane sugar, honey),<br />Rice Powder<br />Sugar<br />Salt<br />Onion Powder<br />Tomato Powder<br />Paprika<br />Torula Yeast<br />Garlic Powder<br />Chili Pepper<br />Citric Acid<br />Cayenne Pepper<br />Paprika Oleoresin, (Colour)<br />Natural Smoke Flavour<br /><br />Naturally cooked, natural ingredients.  The combination is a true taste treat!<br /><br />Of course, as with all ptato chips, moderation is the key.<br />Potatoes contain a LOT of potassium....which gives energy and othr good things....but too much of which can damage kindneys.  The vegetable oil is great -- but too much oil, (as well as too much starch, from the potatoes), can hurt the eyes.  Natural smoke flavour is SO yummy....but it, (as well as sugar), has -- in very large amounts -- been linked to cancer production<br /><br />As far as the starch from the potatoes and oil go, this<br />can be ameliorated, (a bit), by drinking TEA...which is good for the eyes.  But as far as the potassium, (energy - good, too much -- bad for the kidneys), and the sugar and natural smoke flavour, (too much leading to cancer production) -- the only thing is to do what is good in everything.....M O D E R A T I O N...!<br /><br />Twice or three times a month, I allow myself to go on what I call a \"Potato Chip Diet\".  I eat only one large bag, (or the equivalent in small ones), of potato chips all day.  I supplement this with tea, coffee, and lemonade, as well as several servings of Carnation Instant Breakfast Essentials, (I like the Dark Chocolate flavour)  This adds up to fewer calories than I would normally eat, if I had my normal three meals a day plus snacks.  It also teaches me to eat s-l-o-w-l-y, because that one big bag, (or many little bags), never lasts as long as I'd like.  Anyway, with excercise and sensible eating, the rest of the month, (and keeping my scale nearby, and weighing myself at least twice a day, every day), I've taken off ten pounds in the last three months! : )<br /><br />These BACKYARD BARBEQUE flavour potato chips from KETTLE,<br />are totally scrumptious.  Except for those jalapino chips, (which tasted good, but were far too spicy for my own taste buds), I have yet to meet a potato chip I didn't like to eat.  These Kettle BACKYARD BARBEQUE flavour potato chips, with their combination of potatoes, sweetness, and spices, have truly become one of my top five favourites....if not the VERY first favourite, of all!<br /><br />Flavoured potato PERFECTION!",
                  "count": 14,
                  "_deepnote_index_column": 128516
                },
                {
                  "Text": "arrived really fast very happy with it. and molly really likes it. and yuna wants to try it to. so very happy and it also was seal up well thank you seller.",
                  "count": 14,
                  "_deepnote_index_column": 297566
                },
                {
                  "Text": "Have always enjoyed Balsen products. Found  the nuss-dessert cookies while on vacation at Sanibel Island Florida. We were really excited to find them on Amazon, we had searched through out the Chicago area since last April.<br />They are the best. Taste like fresh hazelnuts and are great with either coffee or tea. (or later with wine).<br />So good that I bought a case, but they are reserved for special moments(like now).",
                  "count": 14,
                  "_deepnote_index_column": 39762
                },
                {
                  "Text": "This is probably the best mass-produced beef jerky on the market.  It isn't too tough or dry like cheaper brands, isn't too sweet or spicy either.  Only problem is that as a snack I feel it isn't overly healthy.  (It has MSG, sodium nitrite and a lot of sodium).  However it is a low-fat, high-protein food, and very tasty.",
                  "count": 14,
                  "_deepnote_index_column": 254376
                },
                {
                  "Text": "My cat is picky.  He also gets an upset stomach over other varieties of cat food.  However, Science diet adult optimal works best.  It was used at the shelter we bought him and he loves it and this big bag, as long as it is put in a Gallon sized tupperware type container is about half price of any pet food store.",
                  "count": 14,
                  "_deepnote_index_column": 167943
                },
                {
                  "Text": "I posted my review for the quality of this cat food here: <a href=\"http://www.amazon.com/gp/product/B003MWBFXY\">Hill's Science Diet Adult Sensitive Stomach Dry Cat Food - 15.5-Pound Bag</a>, which is the same food as this but in a larger bag.  Here, I just wanted to point out that this smaller size bag is actually much more expensive.  As of the date I'm writing this, this 3.5-pound bag costs $3.71 per pound, whereas the 7-pound bag costs $3.50 per pound and the 15.5-pound bag costs $2.32 per pound.  So you pay over 50% more per pound for this size compared with the largest size.  Just wanted to point this out in case it could save anyone money!  I like the cat food a lot.",
                  "count": 14,
                  "_deepnote_index_column": 108827
                },
                {
                  "Text": "I have two cats and have always been feeding them this food,one is 5 and the other 9 years old and they are both 15 pounds.So they are fat and I could never figure out why,since they only got to share on cup between each other all day.So about two weeks ago I did some research on this food and my eyes were opened.I feel horrible that I fed them this junk food and I thought I was giving them the Best out there,since my Vet gave it to me and said it was great for them.<br />So anyways my male cat is now on Wellness Indoor dry and expensive wet food like Blue Buffalo,Wellness and Merrick.He loves it and I had no problem switching him over and I already notice the difference in his energy level.But my biggest issue is my female cat,she will not touch any other food than her Science junk food.I tried mixing it with the new food,starting at 75% old to 25% new,nothing she wouldn't touch it.So I tried 90% to 10%,still nothing.She cried and wined and didn't eat one morsel in four days and was just laying in one spot all day having even less energy than before.So I called my new Vet and she said now it is getting dangerous because she wouldn't eat at all.I had to give her her old junk food back,because I did not want her to die.I have no idea what to do,she is so addicted to this food and I can't get her of it.She hates wet food with a passion.I am worried about Diabetes if she will get any bigger.So I am really sad that nothing seems to work with her.<br />I made her a junk food addict,it's my fault.I wish I never started her on this food at all.",
                  "count": 14,
                  "_deepnote_index_column": 84929
                },
                {
                  "Text": "These are the only treats my wife's cats eats.  Give them anything else the dogs end up eating them.  Its funny because they like them so much they have learned to beg for them.  You can't lose with these treats, your cat will love them.",
                  "count": 14,
                  "_deepnote_index_column": 225881
                },
                {
                  "Text": "Cats are carnivores.<br /><br />Science Diet has no meat.<br /><br />Instead, you get cheap corn filler, spent rice leftover from brewing beer, and meatless chicken parts that humans don't eat, like beaks.",
                  "count": 14,
                  "_deepnote_index_column": 19425
                },
                {
                  "Text": "I grew up eating these cookies.  Got a case for a great price.  Will be looking for them again this fall.",
                  "count": 14,
                  "_deepnote_index_column": 70486
                },
                {
                  "Text": "It's a nice snack with salsa when I'm watching tv.  Just kidding, the cats seem to like it. I'm supposed to write more words so I can submit this review. That should do it.",
                  "count": 14,
                  "_deepnote_index_column": 154080
                },
                {
                  "Text": "I was hesitant to buy this at my local grocery store, Lunds, but they were on sale, so I bought a bag.  I've found that going beyond the simply-flavored chips, like cheddar or vinegar, usually results in disappointment.  Tried the Thai or asian-inspired chips by Target, Archer Farms, and they were awful.  These Kettle Spicy Thai chips are just awesome...so much so, that I'm considering buying them in bulk from Amazon.  The taste is complicated and stimulates different parts of the palate.  The taste sensations prevalent in real Thai food is baked into this chip...sweet, salty, spicy.  Was sour in there too?  I don't know, but this is a well-made well-balanced chip that is addicting.",
                  "count": 14,
                  "_deepnote_index_column": 128845
                },
                {
                  "Text": "I thought I would try this stuff for my finicky dog who needs moist food along with his kibble.  He was not a big fan of it and it was the most expensive moist food at Petsmart.  The other problem is this stuff hardens up like concrete in his bowl. If he wouldn't eat the food in about two hours the stuff turned as hard as a sidewalk and I had to literally scrape it out of his bowl.",
                  "count": 14,
                  "_deepnote_index_column": 120147
                },
                {
                  "Text": "I bought these for the office and no one can put them down. I'm ordering more today and it has only been 2 weeks. Didn't have to shop for them either, Amazon brought it to my door!",
                  "count": 14,
                  "_deepnote_index_column": 53593
                },
                {
                  "Text": "My little one loves these and you cannot beat the subscribe & save price!  It's a better price than any sale at a retail store!",
                  "count": 14,
                  "_deepnote_index_column": 177203
                },
                {
                  "Text": "Our Siberian Husky is overweight and on a diet.  She also is great at building placque and tartar on her teeth - baad breath! She has a touchy stomach on top of it all.  Tried these bones in all flavors and she loves them.  They help with her teeth and breath.  She gets one bone for her lunch (she's a 3 meals a day gal).  Her other meals are now canned green beans with either yogurt (plain) or low fat cottage cheese.  She has lost about 11 lbs and is doing great!  No more throwing up her food!",
                  "count": 14,
                  "_deepnote_index_column": 190035
                },
                {
                  "Text": "This product was recommended by my vet, and literally saved my cat's life. I was very worried and was willing to try any diet on the market. Really, I have tried many diets etc but nothing seemed to help out my cat after the sudden onset of irritable bowel syndrome (IBS).  I have no idea of where that came from. I always gave him clean water; fresh food etc but this caught me off guard. I have been feeding him \"Friskies\" prior to Hill's and everything was fine until one weekend. After a couple of days of feeding him, I noticed an immediate difference. My cat was no longer passing soft stools (diarrhea), and was eating as he normally did. The diet also seems to have been helping him regulate his weight also. He was a very big guy (~20 lbs) but now he is down to 16, after about 4 months on Hill's. Thumbs up and 5 stars for this product!",
                  "count": 14,
                  "_deepnote_index_column": 265164
                },
                {
                  "Text": "Amazon's suggestion for a 4 star review is \"I like it.\"  That being said, I gave a 5 star review to the Spicy Thai chips.  These chips are perfect for people that enjoy a spicy chip, but whose taste buds don't appreciate the added sweetness and ginger flavor.  The only thing I REALLY dislike about these chips (along with the rest of the flavors) is that the serving size is HALF the bag.  Really?  Who can eat half and save the rest for later???  Not me...",
                  "count": 14,
                  "_deepnote_index_column": 9727
                },
                {
                  "Text": "Best one if you are looking for pure St John Wort Tea, all the other St John tea have other items in them hence you effects like high blood pressure get this instead it is better then a regular anti depressant and works right away",
                  "count": 14,
                  "_deepnote_index_column": 15704
                }
              ],
              "rows_bottom": [
                {
                  "Text": "Some products like this pour in the scent so that a person smells like they spilled the whole bottle in the bathroom, but not this product. I can still smell this scent on my husband for several hours but it is very light. This product says that it is for face and body but my husband uses it for shampoo also. It takes only a small amount for loads of suds.  Even though my water tends to be hard, it is still hard to get this product off and in fact needs to be gotten off with a wash cloth. Would recommend this product but maybe not if you have soft water.",
                  "count": 2,
                  "_deepnote_index_column": 201728
                },
                {
                  "Text": "I love Chai tea and was hoping to find one to use with my Keurig machine. This is way too sweet and lacking the spices that make Chai so delicious. I was disappointed with this one and won't buy it again.",
                  "count": 2,
                  "_deepnote_index_column": 92402
                },
                {
                  "Text": "Some pieces were kinda hard to chew, but overall I love this jerky. Taste is great. Price seems good considering it's dried salmon.",
                  "count": 2,
                  "_deepnote_index_column": 201726
                },
                {
                  "Text": "Some people say these are a high fat , high calorie , high glycemic , glorified candybar. I say otherwise. Concerning fat, not all fats are equal , some being healthy . Since this bar is raw all of the fat,protein and sugar have not been denatured  which means you get the full health benefit. As far as being high calorie , considering how nutrient dense these babies are I don't consider 200 calories high in calories at all. For me 200 calories is a perfect number allowing it to be used an nutrient dense snack or a quick meal on the go.<br /><br />Concerning these supposedly being high glycemic , sure , if you were to eat the dates in these by themselves it would be , but the nuts in them bring the glycemic load of the entire bar way down , which is another benefit of the healthy fats in these bars , it allows for the sugars to be released slower and for it to digest slower making you feel full and satisfied longer.<br /><br />As far as these not being any better than a candybar I say noway! No preservatives, no high fructose corn syrup , etc, in these babies , just a healthy combo of fruit and nuts. How many nutrients does a candybar have ? Now look at the nutrient in these , loaded with minerals . Also, unlike many other foods these aren't naturally low in nutrients and then \"fortified\" with man made vitamins and minerals to make them then appear healthy. All the nutrients in these are naturally occuring which gives you the benefits in a synergistic way where other healthy compounds such as flavonoids and phenols work together with naturally occurring vitamins and minerals.<br /><br />People need to let go of the old dogma which makes them think all fat is bad but if it's sugar free then it MUST be good. If that were true then cotton candy , pepsi and skittles would all be great for ya !Fruit and nuts makes for a good healthy breakfast or snack. I'll eat my greens/green smoothies in the other meals of the day. A person shouldn't eat only fruit and nuts during the day but they shouldn't only eat greens either . These bars help make it easy to strike a balance in your diet on the go. Larabars, Pure bars , SmartMonkey bars and ThinkOrganic bars are all healthy brands of raw bars that amazon sells and all worth a try . Experiment and see what flavors you like best , or make your own !",
                  "count": 2,
                  "_deepnote_index_column": 201719
                },
                {
                  "Text": "I love Chai. But, I know that green tea is healthy, right? Well, green tea, let's face it, often tastes a lot like grass. Stash's Green Chai is green tea at its best. It's a nice blend of spices that really does taste very much like my favorite Chai. So, go ahead, enjoy Chai and feel good about drinking healthy green tea too. Just let it steep a bit longer than you normally would for black tea, add some honey and some milk (or creamer if you're lactose intolerant like I am). MMMM.",
                  "count": 2,
                  "_deepnote_index_column": 92407
                },
                {
                  "Text": "I love Cheez-Its, always have and always will. I like the convenience of being able to point, click and have them delivered to my door. I have ordered these several times and the product is always quality.",
                  "count": 2,
                  "_deepnote_index_column": 92415
                },
                {
                  "Text": "Some of this stuff can get rather expensive but this particular brand is the most cost effective product of its kind that I have come across and it still delivers the unique and delicious flavor you are looking for.  I was a bit skeptical at first, due to the price, but after tasting it at a friend's house, I became a true believer.  Like another reviewer here, I add a dash to steamed veggies and a wee bit to some of my salad dressings and to be frank, it will tickle your tongue while knocking your socks off.  The best part is that you get all this quality and you do not have to lay awake at nights worrying about what you spent on the stuff.",
                  "count": 2,
                  "_deepnote_index_column": 201690
                },
                {
                  "Text": "I love Combos.  This is a great \"energy good\" for when I'm on the road.  Packs easily and is very filling.  If you're looking for a good like this and are tired of energy bars, try some Combos.",
                  "count": 2,
                  "_deepnote_index_column": 92458
                },
                {
                  "Text": "Some of the other flavors in this brand of Coconut water's are very good. This one is nasty in my opinion. Also the screw on lid and the part it screw onto had come unglued. This is the only flavor I had trouble with but out of my 2 cases half were unglued. The product wasn't hurt so I just poured them into a glass but it was a little inconvenient. Otherwise I LOVE this brand. I like the pineapple coconut the best.",
                  "count": 2,
                  "_deepnote_index_column": 201669
                },
                {
                  "Text": "I love Diamond brand foods, and was reccomended to use them by my vet when my dog developed allergies to preservatives/food colors.  I thought the Biscuits would follow the same standards.  I was disappointed to open them and find a rainbow of colored biscuits.  I try to give the bright red ones to the dog that is not allergic.  The dogs like them well enough.  They were a good deal, and if you buy colored treats, you'd probably give them 5 stars.",
                  "count": 2,
                  "_deepnote_index_column": 92506
                },
                {
                  "Text": "Some of the jerkey is chewey and hard to eat. I am a big fan of jack links beef jerkey. I wouldnt buy again because so many pieces are hard to eat being chewy or vainy. Ah well have 3 more packs to give a try. The price was good but still I personally couldn't eat 1 out of 3 pieces. Could be just spoiled with others i guess.",
                  "count": 2,
                  "_deepnote_index_column": 201665
                },
                {
                  "Text": "I love Earl Grey tea, but I'm trying to avoid caffeine. I was happy to find the Twinings Decaf Earl Grey tea, because locally I can only get herbal tea K-cups if I want to go caffeine-free. I have had the Twinings brand Earl Grey tea (with caffeine) in both tea bags and in a Tassimo T-disc. The K-cup version of their Earl Grey tea seems to have a much stronger bergamot taste than the other versions. I like my tea on the weak side, so I brew on the 10 oz. or 12 oz. setting - even so, the bergamot taste is still very strong (almost too much). If you are looking for Earl Grey K-cups and don't mind caffeine, I would try the Celestial Seasonings or Bigelow brands - they are better. If you are trying to avoid caffeine, these will give you more options and although not great - they still make a decent drink.",
                  "count": 2,
                  "_deepnote_index_column": 92537
                },
                {
                  "Text": "Some of the best tasting jerky and at a terrific price!  You can't stop eating this jerky, it's soo good.  I have regular shipments coming to me and because of that I also get free shipping and another price discount.  Amazon and Wild Ride Beef Jerky paired together ... brilliant!",
                  "count": 2,
                  "_deepnote_index_column": 201646
                },
                {
                  "Text": "Some of the best coffee EVER!!! We love waking up to caramel vanilla aromas. It's also a great way to cap an evening with the love of my life!",
                  "count": 2,
                  "_deepnote_index_column": 201632
                },
                {
                  "Text": "Some of the best burgers I have had made at home in a long long time. The meat is extremely good I think the people who rated it 1 star and said it was terrible must be haters or competition.",
                  "count": 2,
                  "_deepnote_index_column": 201628
                },
                {
                  "Text": "I love Earth's Best and I was a little weary of ordering it online. But, everything was great and just what I would expect from this brand. I do have to say that it was not as chunky as I thought it would be. My son is almost 10 months old (only has 2 bottom teeth) and he is somewhat picky about textures, so I mix it with oatmeal and he is a happy camper.",
                  "count": 2,
                  "_deepnote_index_column": 92545
                },
                {
                  "Text": "Some of my friends were using Earth's Best formula and were raving about it so we decided to switch from Enfamil Infant Premium to the Earth's Best organic infant formula since it was available on Amazon subscription and was a little cheaper. I have to say that I was very disappointed with this product. It does not disolve well at all and leaves chunks of formula in the bottle regardless how well you mix it and whether you use warm or cold water to dilute it with. The baby does not seem to like it any more or less, so we will be going back to Enfamil Infant Premium, which has all the same vitamns and completely disolves within seconds.<br />After mentioning about the chunks to a friend, I was told that it is a common problem with this brand of formula.",
                  "count": 2,
                  "_deepnote_index_column": 201616
                },
                {
                  "Text": "I love Caribou Decaf or Regular. For me the flavor is just right, not too strong and not weak. Good value for money plus free shipping.",
                  "count": 2,
                  "_deepnote_index_column": 92377
                },
                {
                  "Text": "I love Cafe Escapes Cafe Mocha but it seems to sell-out at the stores quicker then they can stock it.  I'm used to buying the 18-Count Packs which is what they sell in the stores and when I ordered these I didn't realize they were 12-Count Packs.  The 18-Count Packs run about $11-$12 per Pack in stores so you're not saving any money here by buying 3 12-Count Packs but on the other hand, they always seem to be out of stock in my local stores so the convenience of being able to order it through Amazon was a plus and delivery was very quick!",
                  "count": 2,
                  "_deepnote_index_column": 92367
                },
                {
                  "Text": "Some may find this hard to get down, the taste and texture aren't the most pleasant, but by simply mixing it with some fruit or juice, you'll hardly notice it",
                  "count": 2,
                  "_deepnote_index_column": 201595
                },
                {
                  "Text": "Some time ago I ran out of chicken-flavored bouillon cubes and the store had none. However, they had 7.9 ounce jars of same. Well, I'd never tried the jars before but why not? As it turned out, I preferred the jar to the cubes. Well, next I was out of beef bouillon cubes and ran into the same problem. Same solution too. I bought the 7.9 ounce jar. It's excellent. Just yesterday I made a beef-flavored soup/stew and used the bouillon as a flavoring agent. Everything turned out perfect. This stuff has a real high sodium content, so I eliminated salt as an ingredient. The result was excellent!<br /><br />Gary Peterson",
                  "count": 2,
                  "_deepnote_index_column": 201762
                },
                {
                  "Text": "I look forward to this every fall! If you love pumpkin you will love this; it is delicious! The only bad thing for me, is when GMCR stops selling it each year :( But, then there is Spicy Eggnog!",
                  "count": 2,
                  "_deepnote_index_column": 92072
                },
                {
                  "Text": "I look forward to weekends and my Keurig coffee maker. I have a variety of coffee flavors and this is one of them. I add a little more French vanilla creamer and it tastes great. This currently is available directly from Green Mountain for much less.",
                  "count": 2,
                  "_deepnote_index_column": 92075
                },
                {
                  "Text": "Sometimes you just want a little variety in your morning coffee!! This is an excellent way to try different flavors!!  I was quite impressed with the flavors I hadn't known were available!",
                  "count": 2,
                  "_deepnote_index_column": 201986
                },
                {
                  "Text": "I looked at a lot of different types of holders for Kcups then finally decided on this one.  I am not regretting that decision. It's great that it has three segrated drawers.  I use one for decaf, one for regular and one for teas and hot cocoas.  Everyone knows just where to find their favorite.  It is also of very sturdy construction -- heavy, not cheap.  Top acts as a little shelf for condiments too.  Very happy with this purchase!",
                  "count": 2,
                  "_deepnote_index_column": 92096
                },
                {
                  "Text": "I looked at a lot of k cup samplers and the reviews were mixed, with many saying they didn't get a good variety of flavors. I decided to try this seller and the variety was awesome! i only got 3 or 4 doubles, most were singles and great flavors i can't wait to try! i'll definitely buy from this seller again.",
                  "count": 2,
                  "_deepnote_index_column": 92097
                },
                {
                  "Text": "I looked everywhere for a decaf that had real coffee taste.  I have tried many brands, but the Green Mountain Extra Bold is the best by far!",
                  "count": 2,
                  "_deepnote_index_column": 92114
                },
                {
                  "Text": "Sometimes health discoveries, (wonders), are simply amazing.  Hemp seeds are helping me turn my health around because I'm nurturing my cells.  How I know is because I don't crave or binge on junk food and sugars like before, as well as \"diet\" products, and I no longer feel like I'm starving. This became forefront to looking for real food, other nutrition<br />\"secrets\" and, basically, gave me motivation to come out of a slump I was<br />in while not looking after my health like I should have been.  A good friend threw me this life-line which I gladly pass on.  Amazon.com had the best price with the free shipping so I'm sticking with good people, and powerful nutrition.  My overall health is only getting better day by day, and a good outlook itself becomes good medicine.  Do the research, you'll be amazed.  Lucky you for discovering hemp seeds.  A. prouty",
                  "count": 2,
                  "_deepnote_index_column": 201956
                },
                {
                  "Text": "I looked forward to amazing popcorn... Instead what I received was the driest popcorn I ever made.  We went back to Orville's which actually tastes better!  This was a total waste of money.",
                  "count": 2,
                  "_deepnote_index_column": 92141
                },
                {
                  "Text": "Sometimes I want a coffee but not the caffeine.<br />Decided to try a box of these cups and was pleasantly rewarded.  Some reviews are too light, some are too string.  I find the \"standard\" Keurig poor is just right for me with about one tablespoon of regular Coffee Mate powder.  Enough body to be flavorful without overpowering.",
                  "count": 2,
                  "_deepnote_index_column": 201946
                },
                {
                  "Text": "Sometimes I think mangos are my favourite fruit. Then I remember watermelon! Sweet, juicy watermelon - oh yes! Both of these fruits can share the spotlight - but only when they are ripe, juicy and flavourful! Why did I pick some of the messiest fruits to be my favourite?<br /><br />Luckily, the only thing that gets messy when I whip up a cup of this matcha is my cup and whisk! (...and my white shirt. That's a story for another time) But hey! Virtually mess free! At least it's not all over my face... although this matcha is delicious enough that I wouldn't mind sticking my face into a huge bowl of it. Oh yes, can you tell that I am happy with this matcha? So happy! The flavour is sweet and true watermelon flavour! I like watermelon candies, but I hate watermelon jolly ranchers (too chemically), so I was very happy that this flavour lies between a watermelon flavouring and a real watermelon. That doesn't really make sense, but I guess you'll have to take my word for it lol.<br /><br />Making this hot with a sprinkle of sugar takes it into treat territory! Seriously delicious matcha that has me drooling just thinking about it! Another great summer treat. Chopping up some watermelon to make a watermelon puree to go with this matcha (and a splash of vodka) is definitely on my to-do list.<br /><br />I prefer my watermelon fruit straight from the fridge and icy cold, so it goes without saying that my favourite way to prepare this drink is ICED. I still haven't gotten into the habit of just mixing matcha with cold water - so I mix it up double strong with 170 F water, add ice cubes and top with more water. This gives me a perfect result every time - no clumps (if I drink it right away!) and smooth as the rind of an in season watermelon. Oh yes, I went there.<br /><br />For an extra treat, I experimented with cream and tried a \"watermelon and cream\" dessert tea. It was delicious! Let it be known - any fruit + cream = wonder! Too bad most flavours stick to strawberries&cream or peaches&cream, because I think I'm on to something here ;)<br />This also went well with vanilla soy milk and plain almond milk! I'm not picky - I always buy almond milk when it's on sale because it's so delish, creamy, and doesn't affect my acid reflux! That's the joy of these flavoured matchas - delicious flavour minus the calories! They don't need milk and sugar to tantalize my tastebuds - even the basic matcha is smooth, grassy and even creamy!",
                  "count": 2,
                  "_deepnote_index_column": 201944
                },
                {
                  "Text": "Sometimes I like to indulge, and an ice cold caffeinated drink often hits the spot this time of year.<br /><br />I like how quick and easy this makes iced coffee. I substitute milk, and after mixing, I add LOTS of ice. It tastes like I got it at a cafe somewhere, yet it is at least half the cost. I don't measure, but after taste testing, I find I have to use my largest set of tall and wide cups (these little packets make a lot of iced coffee for one person!) The first one I made with a whole packet seemed to at LEAST be Venti sized, and that was BEFORE I added the ice. It was crazy big. So I've started to make two servings with each packet, which doubles the value.<br /><br />The biggest surprise: this stuff mixes VERY well VERY quickly. You won't have any grit in your glass at all. And it hardly tastes instant. I enjoy the level of sweetness it comes with. When I bought this, I did not realize it was pre-sweetened, and I was nervous for a moment. I was afraid it would have a really strong sugar or fake sweetener aftertaste. But luckily, the amount of sweetness is perfect! It definitely has sugar, but it is not THAT much sugar. It actually could have been much worse. This is obviously not a health drink! I consider this stuff to be like dessert...<br /><br />The best part of all is that my husband thinks I worked super hard when I whip these up. He's picky, yet even he thinks they turn out perfect.",
                  "count": 2,
                  "_deepnote_index_column": 201942
                },
                {
                  "Text": "I looked in all the stores around me and couldn't find a cappuccino that i really liked or that even tasted good. I came across this cappuccino on here and it was affordable and you get a lot in the box..... so i decided to try it. It is amazing sooooo good....i actually like it better than i do the gas station cappuccinos!! So happy that i found it on here and am finding myself wanting it every day. A+ from me!!! =)",
                  "count": 2,
                  "_deepnote_index_column": 92148
                },
                {
                  "Text": "I looked up good cat food for indoor cats and this was at the top of the list.  The ingredients are appropriate.",
                  "count": 2,
                  "_deepnote_index_column": 92163
                },
                {
                  "Text": "Someone left these in the kitchen at work to take. I brought them home for my daughter and had to fight her for the last one. I can't believe how good these are!!",
                  "count": 2,
                  "_deepnote_index_column": 201857
                },
                {
                  "Text": "I love 5 Hour Energy! It is better than any other energy supplement out there, in my opinion. There really is no crash and it helps me focus and get through my tasks of the day. I recently started work and waking up early and being tired and exhausted for the first week go hand in hand. 5 Hour Energy helped me get through the first week and I'm now on to my second and 5 Hour Energy is along for the ride. Try it today and you'll see results! I received a free sample of 5-Hour ENERGY® from Smiley360.",
                  "count": 2,
                  "_deepnote_index_column": 92213
                },
                {
                  "Text": "Somehow of late there is lot of talk about this great grain. My friends report that their cholesterol level has greatly reduced after taking it. The health benefits seem to be amazing. I have just started using it and will wait for 6-9 months to see the benefits. It is definitely tasty making it variety of dishes with vegetables.",
                  "count": 2,
                  "_deepnote_index_column": 201798
                },
                {
                  "Text": "I love Bavarian cream, it's such a nice luscious flavor. Though a big part of the reason I like it is the texture--and surely, a matcha couldn't really capture that, right? Well once again Red Leaf proves that they cam turn ANY flavor into a matcha and make it work! This is creamy, dreamy, vanilla custard with of course a lovely hint of grassy green matcha in the background. But the feel is smooth, creamy, and luscious. It really is like Bavarian Cream in a cup! It's got that same smooth custard-like texture as their Cheesecake Matcha, but I think Bavarian Cream edges it out a bit in terms of my favorites. Highly recommended!",
                  "count": 2,
                  "_deepnote_index_column": 92297
                },
                {
                  "Text": "I love Earth's Best products (except their diapers, they are very hard and stiff and seem uncomfortable for my baby) and this isn't an exception. Baby doesn't really like it but we keep trying because babies tastes change. I only buy Earth's best babyfood and the thick consistency is much better than Gerber's stage 3 veggies.",
                  "count": 2,
                  "_deepnote_index_column": 92547
                },
                {
                  "Text": "Some find the orange taste too strong. I don't. They are a bit pricey for cookies, but the Amazon price is good. Not for compulsive eaters, though--half a cookie is 130 calories.",
                  "count": 2,
                  "_deepnote_index_column": 201570
                },
                {
                  "Text": "I love Jerky. I use to order it on eBay and other sellers mainly from Seattle. Like pizza, everyone has their preference to the type of jerky they like best. My preference is the harder type and then I'll leave it in my mouth and slowly chew on it. I don't like the soft gooey type. To me, the hard dried out jerky is the best, as 20 or so seconds in your mouth will soften it like a piece of gum ready for chewing. Being a vegetarian my preference is the salmon and tuna jerky. SnackMasters makes both. I ordered a box of each. It arrived in short time and I could not wait to jump in. You must watch out when your friends come over as the jerky will be consumed in record time. I had a friendly poker game with 6 friends and we went through 5 packages of jerky! My friends are now all sold on SnackMasters jerky. This by far is the best jerky I have ever had and I highly recommend it.",
                  "count": 2,
                  "_deepnote_index_column": 92802
                },
                {
                  "Text": "So, I'm trying to be a responsible parent.  I buy these and give my kids the \"It's these or nothing- no more pop-tarts\" speech.<br /><br />Result- my kids eat a lot more cereal.  Even my 2 year old, who eats anything, won't eat them.<br /><br />Personally, I think they're pretty good toasted, not so hot (pun!) un-toasted.  I took 5 boxes to work, and the opinions were universally the same.<br /><br />So, if your satisfaction in eating somewhat healthier outweighs your taste buds, have at 'em!",
                  "count": 2,
                  "_deepnote_index_column": 201384
                },
                {
                  "Text": "I love Hot Coco and this is by far the best I have tasted.",
                  "count": 2,
                  "_deepnote_index_column": 92722
                },
                {
                  "Text": "So, I opened the bag just to have a quick taste to see if I would put a little sprinkling of this granola on my homemade yogurt in the morning..... Yea, hubby and I couldn't keep our hands out of the bag.  Well, what is not to love, dark chocolate and little freeze dried berries and nice big pieces of granola.  Delicious!  Nutritionally, you are getting 140 calories, 55 from fat, 6g of total fat, 1 g of saturated fat, no transfat, no cholesterol, 55 mg sodium, 2g fiber, 6g sugar and 2 g of protein, 2% vitamin c and 4% iron.  Serving size is 1/4 cup and the bag serves 10.<br /><br />Likes-organic, 33% of your daily omega 3's, delicious chocolate, sweet berries, tasty granola in nice big chunks. Oh, did I mention a nice little serving of whole grains? This food is Non GMO-I believe this is non-genetically modified.  A portion of the proceeds of the sale go to food banks which is also way cool in my humble opinion.  I also like reading the ingredients and not seeing a bunch of words I can't pronounce and wouldn't want to put in my body.  Just good old normal ingredients that you know.<br /><br />Dislikes-um, the bag seems small now?  Really, can't seem to come up with a con on this one.  I have never purchased from Nature's Path before, but if I happen to see this I would definitely buy.  It is delicious and I normally make my own granola, so I'm a bit picky and used to a really natural granola.<br /><br />All said, great product that I would definitely buy and would recommend to others.",
                  "count": 2,
                  "_deepnote_index_column": 201358
                },
                {
                  "Text": "I love Iced Tea & always have two half-gallon bottles of tea in the fridge. I use <a href=\"http://www.amazon.com/gp/product/B0013Z9NY0\">Luminarc Quadro 2-Liter Glass Pitcher with Lid</a>. My favorites are <a href=\"http://www.amazon.com/gp/product/B004FELZLK\">Newman's Own Organic Tea, 4.95-Ounce Packages (Pack of 6)</a> & <a href=\"http://www.amazon.com/gp/product/B000SAPXGS\">Davidson's Tea Bulk, Moroccan Green with Mint, 16-Ounce Bag</a> which I brew in a <a href=\"http://www.amazon.com/gp/product/B000FQ7KLG\">Swissgold TF 200 Tea Ball</a>. So yes, I am a Major Tea Lover.  I ordered the Passion Tea, based on the reviews. It seemed expensive, but after using it for the past ten days, I am very impressed. It is refreshing & easy to brew. Be prepared for a packaging surprise; it arrived in a plain brown commercial box, the same one they send to the stores. Easy to prepare after the first batch.<br /><br />I like to have tea ready to go, so I fill my<a href=\"http://www.amazon.com/gp/product/B003XPISEO\">6-pack of Aquasana 18 Oz. Glass Bottles</a>and season my tea with<a href=\"http://www.amazon.com/gp/product/B00181YL7I\">Nellie & Joe's Famous Key LEMON Juice, The Original- 16 oz</a> and sip through a <a href=\"http://www.amazon.com/gp/product/B003YJMDCM\">Zak Reusable Polycarbonate Stripe Straws - Set of 12</a>  which I keep clean with a <a href=\"http://www.amazon.com/gp/product/B000QD5GAA\">Brushtech Sports Bottle Straw Washing Brush  B23C</a>. And YES, I am a PRIME shopper and love Amazon.  At 70, I am a mainly home bound caretaker for my mom, who is 96, so shopping at Amazon is efficient and economical.",
                  "count": 2,
                  "_deepnote_index_column": 92734
                },
                {
                  "Text": "So, I get home from work, and either have a choice of eating, waiting two hours, and going swimming or running...<br /><br />...or eating one of these, having a half glass of water, putting my shoes on, and just go exercise.<br /><br />The vanilla flavor is great; it's a slightly salty vanilla cake frosting.  Five stars on taste and utility.<br /><br />Four stars because I'm paying more than a dollar for a tablespoon of cake frosting.",
                  "count": 2,
                  "_deepnote_index_column": 201335
                },
                {
                  "Text": "I love Indian food and when I discovered Patak's cooking sauces it al-lowed me have delicious Indian food at home with very little effort.  I am am able to get 3 or 4 dinners out of one jar container.<br /><br />I use this Vindaloo paste as a base and add the following ingredients: coconut milk, fresh cilantro, and garlic.<br />I typically make either chicken or lamb cut up in small pieces.  I also often add vegetable into the same pan, potatoes and onions work very well.  Sometimes I also like adding broccoli, cauliflower or chickpeas for variety.<br /><br />The best price for this sauce I found in a local Indian store.  They have a very large variety of Patak's sauces: different flavors and different hotness. I usually buy a large variety and store unopened jars in the basement. They keeps very well for a long time.<br /><br />I have tried a variety of Indian cooking sauces and Patak's is my favorite.<br /><br />Ali Julia review",
                  "count": 2,
                  "_deepnote_index_column": 92747
                },
                {
                  "Text": "So, I am always on the lookout for a good quality, tasty protein as a person who had weight loss surgery 1.5 years ago.  Thanks to MeltingMama, I found Click about a year ago.  Click (in either flavor!) is a flavorful, healthy protein source that keeps me going through long shifts at work or when I just need an energy burst.  I can honestly say that I have found no other product that does this much for me and doesn't break the bank!  I am thrilled that the peeps at Click added the Vanilla Latte flavor.  As much as I liked the original Mocha flavor, I LOVE the Vanilla Latte flavor that much more.  Thank you, thank you, thank you!!  :)",
                  "count": 2,
                  "_deepnote_index_column": 201327
                },
                {
                  "Text": "So, I am a peanut butter fiend - I admit it!  However, I am very health conscious, and I realize I can't eat peanut butter all day and stay thin. However, you really could eat PB2 all day and still successfully watch your weight.  This stuff is remarkably good, and I've tried just about everything out there in terms of lower calorie peanut butter substitutes.  I absolutely crave this stuff - So, if you love your PB&J but don't want to trade in for a larger pair of pants, then PB2 is the way to go.  It really does taste great.  When it comes in these 16 oz. bags like this, they're a bit messy. Powder seems to get everywhere.  I usually pour them into a large zip-lock bag (but a canister would be even better) to scoop out what I want, when I want it. Just a little tip there.",
                  "count": 2,
                  "_deepnote_index_column": 201325
                },
                {
                  "Text": "So yummy... Drinking it Black coffee or w cream this coffee is delish .... One of my favs... I would recommend this coffee to everyone :)",
                  "count": 2,
                  "_deepnote_index_column": 201319
                },
                {
                  "Text": "I love Indian food. I own two Indian food cookbooks, but find the list of spices so daunting that I've never tried any of their recipes. I heard from a coworker that prepared Indian curry pastes were available at specialty stores, so I looked for them here at Amazon and was delighted to find Patak's curry pastes. The spice level is nice, for those of us who like our food hot and spicy, and you can always add more paste if you want more kick.<br /><br />Here are the ingredients: Vegetable oil, cilantro, salt, tamarind, water, cumin, turmeric, chile pepper, ground ginger, garlic powder, maize flour, spices, acetic acid, citric acid, lactic acid.<br /><br />And here is a basic recipe from the label:<br /><br />Shrimp Vindaloo, serves 2<br /><br />1 medium onion, diced<br />2 tbsp vegetable oil<br />8 oz. fresh shrimp, peeled (or any other meat)<br />3/4 cup water<br />4 tbsp Patak's hot vindaloo curry paste<br />1/2 cup diced canned tomatoes<br />hot, cooked rice<br /><br />Saute onion in oil. Add shrimp and saute until pink. Stir in curry paste and cook about 1 minute. Add tomatoes and water. Simmer, uncovered until the shrimp is cooked, about 5 minutes. Serve over hot, cooked rice.<br /><br />I tried it with beef (which you'd never be able to order at an Indian restaurant) and simmered for 25 minutes, and it turned out pretty well. Not exactly restaurant quality, but very good for a prepared paste. I now keep Patak's paste and some tomatoes on hand, in case I want to whip up a quick, spicy dish using leftover roast chicken or beef. I look forward to trying the other Patak's pastes.",
                  "count": 2,
                  "_deepnote_index_column": 92754
                },
                {
                  "Text": "I love Italian roast coffee and wanted this in K-Cup pods to use in my Keurig maker. I have used San Francisco Bay's French Roast but could not get Italian roast in that brand. This brand is a close second to other, smoother brands of Italian roast and works well as a basis of my Latte's made with my HIC milk frother. My order arrived on time as expected with Amazon Prime.",
                  "count": 2,
                  "_deepnote_index_column": 92769
                },
                {
                  "Text": "So while this product may be for men, I think a woman could use it as well.  I loved the exfoliating beads that were in this body wash.  The exfoliating beads help make you feel nice and fresh.  The scent isn't overwhelming, you don't feel like you have been doused with a scent when you use this body wash.  I really think this body wash can be used by everyone in the house.  In fact, I have enjoyed this body wash far more than many other body washes I have used in the past.",
                  "count": 2,
                  "_deepnote_index_column": 201284
                },
                {
                  "Text": "So when I opened the package it was one of those OMG moments - it smelled SOooooo good! I instantly started singing Fa la la la la ...<br />A huge smile came to my face. &#8232;I knew this was going to be a re-order SOON!<br />Then I took my first sip.<br />It needed sugar.<br />I was a little deflated.<br />I mean it was good and all but its one of those flavors you just know needs a little push to make it POP.<br />So a little sugar was added.<br />Better but it does not have the wow factor I was hoping.<br />Now please, bear in mind, I about had a special moment when I smelled it in dry form. My eyes literally rolled back in my head so my expectations were REALLY high!<br />It is quite pleasing nonetheless but its not going to knock Butterscotch or Macadamia Nut out of my top two list.<br />I will play around with this one some more though to see what I can do with it. It may be better iced as I had this one straight with a little milk which made it sort of luke warm.<br />Still, this is going to score in the high 80' as really there is nothing bad you could get from Red Leaf its just now that I have tried so many I do have my favorites that others need to stand up to.",
                  "count": 2,
                  "_deepnote_index_column": 201280
                },
                {
                  "Text": "So when I first smelled the dry powder I thought, oh tart, crisp, light, berry!<br />My daughter's first impression was \"Mom this smells like Red Bull energy drink.\"<br />I was like OMG you are SO right!<br />It does! I have to admit. I do love Red Bull. Actually I had a bit of a Red Bull problem not too long ago, before tea! Thank you tea!<br />Nonetheless it has that exact same tart smell to it!<br />Don't worry though this is totally healthy!<br />Plus after preparing my matcha, adding some ice and milk, it tastes NOTHING like a red bull!<br />Okay maybe a little something like it in the sense that it is light, crisp, refreshing, not too tart but just a slight berry tartness but nothing that is going to make you pucker!<br />I love this!<br />I feel bad and I owe an apology to summer. Here I was craving autumn and forgot all about berries, fruits, juicy ripe tasting delights and had went totally for heavier, richer, creamier, flavors. But you know what ... it is still summer and I am going to totally enjoy drinking this and many other light matchas to come!<br />As I am sitting here in delight sipping away I am noticing this almost earthy flavor to it - no not the normal earthy grassy flavor of a matcha or green tea, but something else. The prominent flavors are still the same, tart, juicy, etc, not to be redundant, but there is something more, its one of those flavors you swish around in your mouth, tap tap tap your tongue around, make those smacking sounds trying so hard to pin point it but it is eluding me! I want someone else to get some of this so they can help me figure it out.<br />Yes this one is a delight and to think I almost passed it up I mean I was not too sure what to expect and didn't want something too overly tart but thank goodness I went for it!",
                  "count": 2,
                  "_deepnote_index_column": 201278
                },
                {
                  "Text": "I love Jack Link Pickled Sausage, plus they are hard to find in the store and when they are found they are old. I find if you store them in a cold environment they taste better and last longer.",
                  "count": 2,
                  "_deepnote_index_column": 92775
                },
                {
                  "Text": "So we love this product.  We mix is about 1/3 of this with his other dog food (Blue Buffalo).  Our dog builds up a lot of tarter on his teeth, and this really helps clean his teeth in addition to brushing and greenies.  As this product is a bit pricey we mix it in with 2/3 other dog food (which is also pricey lol).  I think its works great on its own or as a mix.  The dog really looks for the bigger bites and I think encourages him to eat more.  He is not picky but really doesn't eat a lot.  I order online and have gotten free shipping sometimes.",
                  "count": 2,
                  "_deepnote_index_column": 201270
                },
                {
                  "Text": "So we got this toy for our dog who gets bored easily, but loves treats. Unfortunately we left this \"everlasting\" treat ball with him for 15 minutes unsupervised and he managed to crack the large treat disc and gobbled it all up. We use the rubber toy now to fill it with kibble, a milkbone or jerky when we leave him in the apt by himself. It keeps him occupied for maybe 5-10 minutes because he knows he has to bite down in the center to crunch up the treats. It makes a huge mess so be warned. However, the pro to this toy is that it withstands his powerful chewing.",
                  "count": 2,
                  "_deepnote_index_column": 201268
                },
                {
                  "Text": "So versatile! White pearl can be used to decorate almost anything! Dust or paint it onto chocolate decorations (see Whimsical Bakehouse book), directly onto icing and cookies!<br /><br />Highly recommend you check your local Michaels or Joann's. Amazon usually has competitive prices but these are $3-4 at your local craft store - $8 is WAYY overprice on amazon.com.",
                  "count": 2,
                  "_deepnote_index_column": 201254
                },
                {
                  "Text": "So, I thought I was getting a great deal on this product. My fault I guess for not reading the reviews and just going by the Lipton description: \"sweetened with honey\". Sucralose ... \"Splenda\" is the actual sweetener NOT honey. The sickening artificial taste ruins what could have been a lovely product. Splenda is not a natural product, has no relation to honey and along with other reviews - also gives me fierce migraines. For an added kick, these are not available for returns. Shame on Lipton! Last Lipton product I will ever buy!",
                  "count": 2,
                  "_deepnote_index_column": 201370
                },
                {
                  "Text": "So, for some god-awful reason, I opened one of the care packages I'd received and this was in there. I only ate it on a dare, and I am glad I did. It smells inticing and salty and one taste of it and I was hooked. It has the consistency of cream of wheat, except it felt like small bits of sand, and the beef flavor is just mildly infused. Now I am hooked and will probably order a bunch of it. In fact, I sure hope I'll never have a child, because s/he isn't going to be left with any food. I am eating it all!",
                  "count": 2,
                  "_deepnote_index_column": 201398
                },
                {
                  "Text": "Solay caramels are the most delicious buttery salty & sweet confection I have ever eaten.  They are pricey but they are such a treat.  Soft and chewy.  Makes a great gift when you don't know what to get someone.  This is delicious!",
                  "count": 2,
                  "_deepnote_index_column": 201524
                },
                {
                  "Text": "So, ideally we'd all make gravy totally from scratch using only the pan drippings from whatever meat we're cooking, but... sometimes you just don't get that much in the way of pan drippings, and yet you want LOTS of gravy. And sometimes you're cooking, say, sausages (bangers & mash, anyone??) or something else that isn't going to result in juices you can make gravy from, and yet you still require a big jug of gravy to pour over everything. Lucky for all concerned, the marvellous product that is Bisto exists. I'm English (but have lived in the US for the past several years) and am very happy that this product is reasonably easy to obtain over here. My American husband is an enormous fan and starts to get a bit worried if we don't have at least one unopened tub of Bisto in the cupboard, lest he should want bangers & mash or toad in the hole for dinner and find we're unable to make enough gravy to float a small boat to accompany it.<br /><br />Bisto does come in a few different varieties, but these \"favourite\" granules are the original and work really well as an all-purpose gravy. I prefer to use this version no matter what meat I'm cooking - it works just as well with chicken or turkey as it does with beef or with pork sausages, and it's an essential ingredient in shepherd's pie (lamb), cottage pie (beef), steak \"pot\" pie (as they call it over here), you can throw a spoonful in the crockpot when making a stew... it's very versatile and adds a lovely rich, deep flavor to all kinds of dishes.<br /><br />When making gravy, you can have a jug of the stuff ready within a couple of minutes if you do it the easy way (boil kettle, pour boiling water over a couple of spoonfuls of Bisto granules, stir quickly) but for REALLY good gravy I prefer to soften some onion and garlic in a little butter (just let it sweat over a low heat in a covered pan) until it caramelises slightly, then dump in the Bisto granules and boiling water, give it a good stir, and you will have some heavenly gravy ready to go. Only takes a few minutes. Even better is if you use the water from boiling vegetables and stir in meat juices from the roasting pan if you have some, but it works just as well without.<br /><br />The downside of this product (if you care about such things) is that it's pretty high on the sodium content and has a few artificial flavorings etc in there. As far as I'm concerned: meh. It tastes great, I'm sparing with the salt just about everywhere else in my diet, and I don't use Bisto in great enough quantities to worry about it.<br /><br />In short: Bisto is a wonderful taste of home, and while I could live without it, I'd really rather not!",
                  "count": 2,
                  "_deepnote_index_column": 201405
                },
                {
                  "Text": "I love Ella's Kitchen organic baby food. It's easy to take on the go. It is also the first baby food my child ever ate. She refused Earth's best and Gerber. The sweet potato, pumpkin, apple, blueberry flavor was always her favorite. I tasted it...and it is actually really good!  Great product and healthy!",
                  "count": 2,
                  "_deepnote_index_column": 92564
                },
                {
                  "Text": "Sojos Grain-Free Dog Food Mix has made it so easy to prepare and provide a raw diet to my two dogs.  It travels easily, can be made quickly and gives me peace of mind that I am feeding the way Mother Nature intended my pets to eat.<br /><br />Thank you Sojos!",
                  "count": 2,
                  "_deepnote_index_column": 201519
                },
                {
                  "Text": "I love Ella's because there are so many great mixes of fruits and vegetables for my baby to try.  The best way to prevent a picky eater in the toddler years is to give a wide variety of flavors and textures when they're still babies.  I love all the pouches, because I don't want to get jars with BPA in the lining of the lid and I also don't have time to make baby food either.  Ella's says they hope to introduce recyclable packaging in the next year or two, but that right now, this is the best way to protect the foods that are made without preservatives.  I would definitely recommend this product to anyone looking for a different flavor profile to introduce to their little one.  '",
                  "count": 2,
                  "_deepnote_index_column": 92565
                },
                {
                  "Text": "Soft gum, good for my teeth, doesnt turn hard, not hard on my teeth, high in Xylitol, I actually allow my kids to have some... no complaints!!! Worth the money",
                  "count": 2,
                  "_deepnote_index_column": 201508
                },
                {
                  "Text": "Sofie and Bella, my 8 yr. old Italian Greyhounds just love this pet food. They are very fussy and I am in a constant search of foods that keep their interest. Glad I found this quality food and will continue with it until they if ever will turn it down.",
                  "count": 2,
                  "_deepnote_index_column": 201496
                },
                {
                  "Text": "Soap is soap.  At least that's what I thought.  Frankly, I could care less about what soap I had used in the past.  Bar, body wash, whatever was available, I'd use it.  Maybe I'm in the minority here, but my biggest goal in the shower as a guy was to see how quickly I could get out.  Speed is the name of the game in the shower for me...no 5, 10 or 15 minute showers.  Get in and get out.  Just like at the mall.<br /><br />However, this body wash may have me extending my shower time.  It smells good, not \"nice\" but good.  Not manly per se, but not girly either. It lathers quickly and holds the suds.<br /><br />Now for the kicker.  I live in a dry climate and would always have to use lotion on my hands by the time I had gotten to work.  I haven't had to use it since I've been using this body wash!  Great news for me as I can kill two birds with one stone.<br /><br />All in all, I really could care less about my shower routine and how I smell coming out.  However, if this stuff keeps me from having to use lotion on my hands afterwards, then that just might make me keep on using it.<br /><br />And I can keep my man card in my wallet for now.",
                  "count": 2,
                  "_deepnote_index_column": 201484
                },
                {
                  "Text": "So... my preferred breakfast is 9 or 12 grain toast with peanut butter. But at the end of the week that's a LOT of calories and fat. So I started having cereal or oatmeal and I started losing some of the 10 pounds or so that I've put on in the last couple of years.<br />No matter how much I exercised or ate carefully, that peanut butter was doing me in.  Now I mix a bit of PB2 every morning and save hundreds of calories per week-- and I still get to have my preferred breakfast.<br />The taste? Not going to lie- it isn't exactly the same. But it's damn close and was EASY to make the switch. I don't even measure anymore-- just add a few drops of water at a time till I like the consistency. It takes about a minute-- long enough for my bread to be toasted- so no big deal.<br />I'm lazy and always hungry-- but this absolutely works for me.<br />I'm so delighted to have discovered it.",
                  "count": 2,
                  "_deepnote_index_column": 201471
                },
                {
                  "Text": "So.. Our family got a gift card for Christmas for this company. We paid a small amount for shipping over the<br />gift card, but what a headache it has been!<br /><br />The Steaks were nothing to write home about, nor were the hamburgers or baked potatoes.<br /><br />We have have just as good or better from the grocery store butcher.<br /><br />The killer is, once you order something they call your home like every freaking day. Even on Saturdays.<br />We just got a call like 2 mins. ago and nobody was on the line and the caller ID says 'Omaha Steaks'. What<br />is up with that?<br /><br />Save yourself the hassle and go to a real butcher ( but don't give him your phone number either ).",
                  "count": 2,
                  "_deepnote_index_column": 201465
                },
                {
                  "Text": "So-So coffee.  Okay if you are not into rich, robust coffee.  For decaf I prefer Tully's French Roast Decaf.  Also, try Tully's House Blend Decaf.",
                  "count": 2,
                  "_deepnote_index_column": 201461
                },
                {
                  "Text": "So, what happens when Coca-Cola gets involved in a perfectly good all natural tasting drink with all natural ingredients and no big plastic waste? It gets industrialized of course! This tastes like some number crunchers worked on lowering the price per unit to boost the profit margin and marketers worked on bottle material and bottle shape with a test group until it scored a good percentile and voila, you get a processed liquid in a plastic bottle. One of their biggest problems with all of this was that their original customers' palates had only experienced pure CW, so we all knew better. We were used to the good stuff and then our dealer got greedy and cut our coke, I mean our coconut water, and they lost alot of buyers to others dealing the pure stuff. Now I buy ZICO in the 33.8oz tetrapacks. It's the pure stuff.<br /><br />Knowing that ZICO sometimes reads these reviews I'm wondering out loud here if someone inside ZICO, with a sense of taste, just HAS to be saying \"I told you so\" ever since this version was released. If so many customers hate it you just know that someone inside ZICO must have hated it too. Whoever that discerning person is has since been acknowledged I'm sure...",
                  "count": 2,
                  "_deepnote_index_column": 201454
                },
                {
                  "Text": "So, we had researched the benefits of living a more alkalized lifestyle, and had looked into Alkalized water or water with a high pH level.<br /><br />We thought we'd try this water instead of getting an expensive machine that could raise the pH of your water for you.<br /><br />Hoping that the water would be beneficial to my wife's health with RA, we had her try it for a few days as pretty much the main source of water that she drank.<br /><br />Unfortunately, she started to not feel good. Light-headed, and just not right. So she stopped drinking the water and felt better.<br /><br />We had high hopes for the water. We tested the pH with pH strips, but it doesn't come out right in the results as Essentia states you need a special machine to test the pH when the pH is so high.<br /><br />Unfortunately, there wasn't much information that Essentia could offer about the health benefits of using water with a high pH. So, we were disappointed.<br /><br />We read elsewhere that using a high pH water could be good in the short term, but not necessarily in the long term.<br /><br />So do your research to see if it's what you want, and then go easy on it when starting to use it and monitor how you do as you might not feel great after using it as was the case with my wife.<br /><br />I tested it. Drinking it for a while, but really couldn't tell any difference in energy levels or overall well being, so your mileage may vary.",
                  "count": 2,
                  "_deepnote_index_column": 201450
                },
                {
                  "Text": "I love Gloria Jean's coffee's. But this is by far one of the best coffee's out there.  It tastes really good and not overpowering. It's the second time I'm purchasing this flavor and bought the 50 pack because everyone in the house is drinking my coffee. I highly recommend this flavored coffee.  Enjoy!!",
                  "count": 2,
                  "_deepnote_index_column": 92626
                },
                {
                  "Text": "I love Gloria Jeans coffee and since they closed the store closest to me this is the only why I can get my fix! the Butter Toffee is just delicious!",
                  "count": 2,
                  "_deepnote_index_column": 92628
                },
                {
                  "Text": "I love Green Mountain Coffee from Amazon, and Hazelnut is my favorite. Not too strong or too artificial like other brands, but a nice smooth taste.",
                  "count": 2,
                  "_deepnote_index_column": 92652
                },
                {
                  "Text": "I love Green Mountain's Mocha Nut Fudge k-cups. The chocolate and nut flavors are nice and strong, and it's fabulous with just a little sweetener and creamer (with most coffees I find myself using a ton of both). So I was really excited when I received the alert saying it was now available through Amazon. I've been purchasing this elsewhere online for months, and looked forward to ditching the shipping costs.<br /><br />Unfortunately, even with shipping, the price of two 24-count boxes on the other site is a good $10 cheaper than the $38.99 offered here. Definitely try this coffee, but shop around and I guarantee you'll find it for less.",
                  "count": 2,
                  "_deepnote_index_column": 92659
                },
                {
                  "Text": "I love Happy Baby and Happy Tot food pouches. They are a lifesaver! My son eats one every day, and I know he's getting good, healthy fruits and veggies. This brand is my favorite of the various pouches out there, because it also has antioxidants, omega 3s, as well as fiber and protein. So on those days when he doesn't eat as much (due to teething or whatever), I feel like he's still getting a lot of nutrition from this one pouch. We stock our pantry with them!",
                  "count": 2,
                  "_deepnote_index_column": 92671
                },
                {
                  "Text": "So, if you are a cinnamon junky like myself, you will eat this cereal and find yourself thinking, \"Hey! Where did all the cinnamon go?!\" The cereal looks like shredded wheat, but it is more a solid piece than individual layers. The cinnamon flavor is rather faint and muted, but it is still pretty tasty. My husband thought the cinnamon was the perfect amount, so it might just be my insatiable need for tons of cinnamon that left me wanting with this cereal. The little squares aren't hollow, so they are really quite filling. I have been eating them by handful as a snack, but I imagine they would be good in milk like standard cereal as well.<br /><br />Pretty good cereal, but want more cinnamon!",
                  "count": 2,
                  "_deepnote_index_column": 201406
                },
                {
                  "Text": "I love Starbucks coffee.  I stop twice a week on my way to work for an espresso or just a cup of coffee, and I have Starbucks Via instant coffee at work for the other days.  I do like the occasional flavored coffee as well, and, when in season, get the Starbucks gingerbread or egg nog lattes, or have the Starbucks Via Cinnamon instant coffee.  So it was that I had high hopes for Starbucks Natural Fusions Vanilla coffee.  The coffee had a strong, lovely vanilla aroma upon opening the bag of ground coffee.  I quickly prepared myself a cup and sat down with much anticipation at enjoying some wonderful coffee.  Well... it's coffee.  I guess that's about all I can say about it.  The actual coffee part of the 'taste experience' seemed humdrum.  Starbucks is known for robust coffees, but this was lackluster at best.  And while the vanilla scent was strong upon opening the package, the vanilla flavor is all but dissipated upon brewing.  There is a hint of vanilla flavor upon drinking, but it's not enough in my opinion.  I can smell it more than I can taste it by quite a bit.<br /><br />Perhaps some of the 'infusion' was lost due to the coffee being already ground when bagged, which I've heard causes the coffee to lose some of its flavor very quickly, but can't state that for a fact since I buy only whole beans and grind them myself (this product wasn't available in whole bean to try).  Overall, I was disappointed and would not recommend this to anyone who likes some body and rich flavor to their coffee or likes a distinctly flavored coffee, and I won't be buying it in future.",
                  "count": 2,
                  "_deepnote_index_column": 93319
                },
                {
                  "Text": "So basically I realized about 3 weeks ago that I hadn't eaten anything but sandwiches, burgers, or fast food, for as long as I could actually remember. I'm 22 and absolutely have not been eating my vegetables. I'm not overweight, because I don't really eat very much, maybe 2 meals a day, but I wanted to make sure I was healthy and nutritious. I started taking a Multi-V (GNC Men's Energy) but needed to it with food, and I normally do not eat breakfast, so I found Amazing Meal.<br /><br />This certainly, by no means, tastes like pomegranate or mango. Get that thought out of your head now and you'll be much better off. It tastes like hay/magic mushrooms with an undefinable whiff of fruitiness (not sweet).<br /><br />To get this down easiest, I mix a half scoop of the powder with a small amount of water, maybe 1 cup. I stir it up until it is very dark colored but not sludgy. I chug that down followed by some clean water. Not to bad. Then I take a quarter scoop of the powder and make a smoothie (frozen strawberries, frozen cranberries, frozen raspberries, half a banana, almond milk, Greek yogurt, and 2 teaspoons of coconut oil (I'm working slowly up to 2 tablespoons)).<br /><br />That's my breakfast. I also take 1 Alpha Brain each day and 2 ShroomTech Immune every other day. It is completely night and day from when I ate unhealthy and didn't take any nutrients. Just three weeks ago. Pretty nuts.",
                  "count": 2,
                  "_deepnote_index_column": 200575
                },
                {
                  "Text": "I love coffee flavored candy, so I figured this would be right up my alley.<br /><br />In my opinion, the Coffee Candy is the best of the three. No filling, nothing fancy, just nice rich, yummy, coffee flavor.<br /><br />The Latte Candy would be my second favorite. These have a sweet, milky center. It tastes nice, but has a slightly chalky texture.<br /><br />The Espresso Candy wasn't so great. These have a gooey coffee center. The flavor is good. I didn't like the texture of the filling. Another issue with the Espresso is that many of the ones in my assortment were broken, making them a sticky inedible mess inside the wrapper. The Coffee and Latte flavors were all unbroken.<br /><br />I have no regrets ordering the assortment, but in the future, I'll stick to ordering the Coffee candy and pass on the Espresso and Latte.",
                  "count": 2,
                  "_deepnote_index_column": 94275
                },
                {
                  "Text": "Since beginning a gluten free diet nearly 2 years ago, my husband & I have been in search for the perfect pasta.  Pasta should have a texture that inspires one to actually eat more than they \"need\" to because it's so good. Le Veneziane has that perfect bite. You could easily serve this pasta to non-GF guests...it's that delicious...but you won't want to as you will want it for yourself!",
                  "count": 2,
                  "_deepnote_index_column": 199631
                },
                {
                  "Text": "I love cappucchino & carmel. After reading the reviews I decided to go ahead and buy this. The only thing I wish I had done was buy a smaller box. It doesn't taste bad but it isn't so DELISH that I would be running back for more. I am not a real coffee drinker and before Mcdonalds switched over to the stronger mud tasting cap I LOVED theirs so I thought this would taste like it. It is not real sweet (as other reviewers have indicated). I didn't add anything to it but I will have to doctor it up in order to drink all three boxes. I did not taste any aftertaste either. For me it wasn't that bad but it wasn't that GOOD either. It was just ok. I would be willing to try a sample of the French Vanilla. It might taste better.",
                  "count": 2,
                  "_deepnote_index_column": 93979
                },
                {
                  "Text": "Since going gluten free, what I have missed the most is a good cookie.  The gluten free breads and cookies on the market are not very good.  When I found these, I thought I had died and gone to heaven.  Can't live without them.",
                  "count": 2,
                  "_deepnote_index_column": 199688
                },
                {
                  "Text": "I love cappuccino, with this I can make each cup as needed. It has a great taste, it has just the right amount of caramel flavoring. It is not to strong, and not to weak. It is the perfect thing for those cold winter mornings to get you going.",
                  "count": 2,
                  "_deepnote_index_column": 93983
                },
                {
                  "Text": "Since getting a Kuerig Coffee maker for Christmas, I have tries several brands of K-cups.<br /> I love the deep aroma and taste of Nantucket blend the best.<br />It has the right combination of a medium to strong brew blends.<br />I would rate it better than the coffee shop varieties.",
                  "count": 2,
                  "_deepnote_index_column": 199672
                },
                {
                  "Text": "Since flowers are mostly bought either for or by women, it seems self destructive to support someone who denigrates your entire customer base.  Not all of us have bought into the conservative war on women's health led by Rush and his Republican cronies., nor will we continue to support companies that do.<br /><br />The personal attack made on a college student is unacceptable and I do not accept any apology from this misogynist bully.<br />I imagine my daughter in this position and go ballistic! All women are someone's daughter, wife or mother. How would you feel if these comments were made about your wife, mother or daughter?<br /><br />Rush Limbaugh has been getting away with these kind of personal attacks for years... well no more.  The climate in this country is changing and we will not stand for this any more.",
                  "count": 2,
                  "_deepnote_index_column": 199671
                },
                {
                  "Text": "Since buying my Keurig B145 a few months ago, I have been looking for a coffee that tastes great EVEN when you use the 10oz setting for a travel mug.  This one is it.  If you like good coffee flavor that does not taste watered down, then Jet Fuel is the one for you!",
                  "count": 2,
                  "_deepnote_index_column": 199652
                },
                {
                  "Text": "Since breakfast is the most important meal of the day, I start mine with a 'Smoothie',containing wheatgrass as a base, and then add fresh fruit,(your choice), flaxseed, fresh spinach and 1- 1/2 cups of POM juice. Blend and enjoy. I do not add ice...I drink it at room temperature...the choice is yours again..add or not to add ice. There's something about the wheatgrass that not only tastes good, but I know what it does for the body! Good stuff! Try: 1 cup of 2% milk, 1 lg. scoop vanilla ice cream and 1 lg. scoop of wheatgrass...mix in blender and drink. En-er-GEE, soooooo good!!",
                  "count": 2,
                  "_deepnote_index_column": 199650
                },
                {
                  "Text": "I love caviar, but can only have it once in a great while because of the expense.  My brother gave me a jar of this Season's brand capelin caviar from the cold waters of Iceland... and it was fantastic.  Some of the best caviar I've ever had and I've had some pretty expensive caviar.  When I discovered the price!  Well, I won't have to do without caviar any more.  The eggs are very small, firm, black, and just the right amount of saltiness.  Delicious.  I highly recommend this brand for anyone who loves caviar and enjoys that clean snap of fresh roe.  <a href=\"http://www.amazon.com/gp/product/B000HDJZEM\">Season Black Capelin Caviar from Iceland, 3.5-Ounce Glass Jars (Pack of 4)</a>",
                  "count": 2,
                  "_deepnote_index_column": 94017
                },
                {
                  "Text": "Since Joy, our Bischon Frise, started eating this food, her fur is no longer oily.  She smells much better.<br /><br />The pieces are very small and easy for her to eat.",
                  "count": 2,
                  "_deepnote_index_column": 199592
                },
                {
                  "Text": "I love Starbucks iced coffee.  Although an iced coffee is actually one of Starbucks more affordable options, I've spent the summer spending about $50 a month... just in iced coffee!  In an effort to get my spending under control, I thought I would try Starbucks VIA caramel iced coffee.  Although I like the convenience and the lower cost, the drink is VERY sweet.  And certainly, 12g of sugar in a 8 oz serving is more than I would typically add to coffee on my own (a typical sugar packet is 2-4 g).  As someone who prefers to eat her calories as opposed to drinking them, I hope Starbucks will come out with a lightly sweetened option soon, as I do enjoy the caramel flavor.",
                  "count": 2,
                  "_deepnote_index_column": 93323
                },
                {
                  "Text": "I love cereal and eat a lot of it. I'm not a fan of regular Cheerios as I think the flavor is very bland and cardboard like. And it's not that sweet and I like at least a little sweetness in my cereals. Honey Nut Cheerios is better because it is sweeter and has a little more flavor. Still it's not one of my favorites and I don't buy it that often.",
                  "count": 2,
                  "_deepnote_index_column": 94019
                },
                {
                  "Text": "I love cereal. I eat a lot of it. And, while these Oatmeal Squares are good, they won't be replacing my usual brands on my shopping list.<br /><br />The good: It's sweet enough but not too sweet. The squares are crunchy and they stayed crunchy in milk long enough for me to finish my bowl.<br /><br />The mediocre: There isn't much that is distinctive or special about this cereal. The flavor is quite bland.<br /><br />The not so good: This is marketed as a healthy cereal, but when I compared the nutritional information on the box to that on the other boxes of cereal in my cupboard, it didn't stand out on that front, either. It has about the same amount of sugar as a serving of my guilty pleasure sugary childhood favorite, not as much fiber as a serving of my grown-up favorite store brand raisin bran, and is higher in calories than either.<br /><br />With respect to whether or not I would recommend this cereal, I'm sort of neutral on that. As I said, I like it fine, I just don't love it. If you have had other Quaker brand cereals and liked them or if you like other oat-based cereals, then you might want to try this one.",
                  "count": 2,
                  "_deepnote_index_column": 94024
                },
                {
                  "Text": "I love chai and I love green tea.  Together they are perfect.  Tastes pretty good for a kcup.  Got this in a bigelow tea sampler and immediately had to buy more after one cup!",
                  "count": 2,
                  "_deepnote_index_column": 94027
                },
                {
                  "Text": "Since I've been cutting back my budget and eating in instead of carryout, I've found myself craving my old favorites.  One of them being Chinese food. Fried rice and pan-fried noodles have always been comfort foods for me and I found myself longing for them.<br /><br />Following my instincts, I made my first batch of fried rice using Kikkoman's, veggies and two eggs.  The soy sauce was all I used other than a pinch of pepper and it was all that was needed.  Kikkoman's is flavorful without being overly salty. (That's a lot coming from me being as I can't stand overly salty foods or condiments.) It's no where near as salty as those soy sauce condiment packets you get at the restaurants.<br /><br />I actually found myself adding more after the dish was done to add more flavor.<br /><br />I think the sauce is a tad pricey, so if you can find it cheaper elsewhere, great.",
                  "count": 2,
                  "_deepnote_index_column": 199576
                },
                {
                  "Text": "I love chai... hot, cold, in recipes (chai granola, chai muffins). However, after 2 in the afternoon, I don't tolerate caffeine very well. I got this tea to make Chai Latte concentrate for a nice evening treat. I brew 4 tea bags in a quart of water and add Stevia to equal about 1/2 cup sugar. I keep the quart jar of concentrate in the fridge and mix about 6 ounces of concentrate with about 6 ounces of cold milk, then add a tablespoon or two of French Vanilla creamer. If it's really hot out, I can serve it over ice. If it's a cool evening, I can warm it up on stovetop or microwave.<br /><br />This is a no-frills purchase. The 100 tea bags come loosely packed in a box. That doesn't matter one bit when you're enjoying your chai latte, though! ;-)",
                  "count": 2,
                  "_deepnote_index_column": 94037
                },
                {
                  "Text": "I love cheerio's multi grain.  Even tho is has that sweet coating.<br /><br />Taste is far better than straight cheerios, but I do mix them.<br /><br />Why, oh why, does General Mills think that corn should be one of the grains, is beyond me.  There are far too many corn based foods in the American diet, they could have left that one out.<br /><br />Otherwise, excellent.  No corn, more of the other grains.  How about flax ?<br /><br />Ingredients label:  Whole Grain Corn, Whole Grain Oats, Sugar, Whole Grain Barley, Whole Grain Wheat, Whole Grain Rice, Corn Starch, Brown Sugar Syrup, Corn Bran Salt,<br /><br />Corn is FIRST, CORN starch, CORN bran salt.  Three corn based products in the first nine ingredients.<br /><br />General Mills used to have a cereal that was like Rice Crispies:  Triple-something.  I LOVED it.  I'm sure it didn't meet their sales goals, but truly they didn't give it time.  It too was corn, wheat and rice.<br /><br />Lets leave corn for bio-fuels and get lots of it out of our diets.  I truly love corn-on-the-cob; I love sweet corn;  I love corn pudding, but it doesn't need to be in our cereal supply so much.  General Mills?  Make corn the LAST of the multi grains....I bet it would work.",
                  "count": 2,
                  "_deepnote_index_column": 94042
                },
                {
                  "Text": "Since I was a kid, I have loved chewing sugarless gum. I have read that it is a good habit, as it helps clean your teeth after meals and prevent cavities, and may even help prevent acid reflux. Chewing cinnamon gum has even been shown to boost mental performance in a study. However, I became concerned about the possible heath risks from artificial sweeteners like potassium acesulfame used in the gum available at local stores, so I was chewing less often. I decided to try this Xlear Spry cinnamon gum, sweetened with Xylitol. According to Wikipedeia, xylitol has a lot of heath benefits, including reducing dental caries, ear and upper respiratory infections, and Candida yeast growth; it also helps remineralize teeth and bones.  I am happy with Spry cinnamon gum as a substitute for the name-brand gums I had bought previously, though it isn't perfect.  I do have to chew two pieces, as the gum seems to shrink over time, and the flavor is pleasant but doesn't seem to be quite as strong or last as long.  Also the cost of Spry is higher, since I can't take advantage of sales and coupons like with other gum.  These are minor complaints, though, and I am happily switching my family to healthier xylitol-based gum.",
                  "count": 2,
                  "_deepnote_index_column": 199558
                },
                {
                  "Text": "I love cheese and things made with cheese, so I've had many cheese puffs.  These have a little blue cheese added which gives them a sharper flavor than just cheddar.  I've noticed a bit of inconsistency in the flavor from bag to bag.  Sometimes there will be a great flavor with a good bite and sometimes a more mild flavor like normal cheese puffs.  If you want to be assured of a milder flavor try the white cheddar.  I don't like those - too mild.  Be aware that the oil tends to settle in the puffs on the bottom half of the bag - so the puffs on top of the bag are lighter than the ones on the bottom.  Personally, I think the bottom of the bag is a little better!",
                  "count": 2,
                  "_deepnote_index_column": 94044
                },
                {
                  "Text": "Since it's the worst part of the summer in Texas, it was hard for me to say no to \"free\" water from the Amazon Vine program. With daily average temperatures of 105 plus (and no end in sight until September), I am always dying to keep hydrated and it just seems like I never have enough water (and I get sick of buying it so often). So, I thought this was worth a try, despite the seemingly bloated health boasts on the label.<br /><br />First, this tastes like normal filtered water -nothing special. Then, there's the health claims -since I only had one bottle of this and I didn't have the opportunity to see if it makes a difference over time. But let me put it this way: in the harsh Texas heat, this water didn't seem to make a difference at all when it came to hydration, health or anything else. Maybe it's just the heat, but I seemed to have the same benefits as drinking regular (and not-so-expensive) water from the store brand. Perhaps, if I used this over a period of time I would be able to see a difference, but since Vine only sent one bottle it's a little difficult to tell.<br /><br />Verdict: this is an over-priced item that promises more health benefits than it actually delivers. Not worth the price and not the time.",
                  "count": 2,
                  "_deepnote_index_column": 199716
                },
                {
                  "Text": "Since kcups are becoming more and more expensive, we've tried some alternative coffees for our Keurig. These \"soft bottom cups\" allow easier brewing and I think they make a stronger coffee. I like the decaf brew, and my husband loves the Fog Chaser. The only down side is they are not sealed, they have a soft filter bottom and they need to be stored in an airtight container, but who cares if it's cheaper and tastes good? We will continue to buy from San Francisco.",
                  "count": 2,
                  "_deepnote_index_column": 199719
                },
                {
                  "Text": "Since my WLS, August of last year, I have searched/tasted many a protein drinks and this is it......awesome.",
                  "count": 2,
                  "_deepnote_index_column": 199740
                },
                {
                  "Text": "Since my cat Hudson cannot yet write reviews, I'll do my best though I haven't personally tasted these treats.  Hudson LOVES these treats!  I am somewhat skeptical of the dental hygiene claims, but he really likes them, which is rare... he often turns his nose up at treats.  I'll definitely reorder these!",
                  "count": 2,
                  "_deepnote_index_column": 199742
                },
                {
                  "Text": "Since the lovely topic of food introduction has been brought up recently I decided to do my own research and came across this Beaba Babycook, boy am I happy that I did! I couldn't be happier with it. I am no Julia Child or Paula Deen, nor do I claim to be but with this little machine I do feel like my own version of a Top Chef. Its extremely easy to use and its even easier to clean, thank goodness because who has the time to clean anymore with a little one. I've pureed a bunch of stuff thus far, veggies, fruits and they all turn out well. Well worth it and I think I may start giving this out as a Baby Shower gift from here on out.",
                  "count": 2,
                  "_deepnote_index_column": 199850
                },
                {
                  "Text": "Since the formula change, this tea is nothing special.  For many years, I have been addicted to Starbucks Black Iced Tea.  I live in a little town in the midwest that doesn't even have a Starbucks, but I have a gold Starbucks card.  I would check every route when travelling to plan stops for this iced tea.  I have purchased the quart sized bags from Starbucks and Target when available and ordered the gallon bags when that was my only option to brew this tea daily.  I started noticing a change when I was in South Carolina in March, 2012.  I thought maybe southerners just have a different tea preference.  I then noticed it in Nashville over the summer.  Since I spend time regularly in Nashville, I knew a change was on the way.  The tea has lost its crispness and citrus finish.  It seems Starbucks has purchased Tazo from Steven Smith and decided to change it.  I hate to think it was to make more money with a cheaper blend, but I haven't been able to find another reason.  Given the fact that I was paying over $3.00 per Trenta, I can't imagine the mark up was unfair to them no matter what the cost of the original tea.  By buying Tazo, Starbucks cut out the middle man to make way for more profits, then made major change.  Couldn't it just have started its own tea brand?  It has lost a loyal customer in me (and many transfers from my bank account to the Starbucks card).  If you are loyal to taste rather than brand, start your search for a new tea.  I have started my search with the former owner of Tazo who has opened a new business.  Maybe the old formula will come back before we find something we like better.",
                  "count": 2,
                  "_deepnote_index_column": 199845
                },
                {
                  "Text": "I love bringing these to work for a snack. Of the Kashi Go Lean! snacks, this flavor is my favorite. They're filling and satisfy both salt & sugar cravings, and I feel satisfied for a long time. Yum!",
                  "count": 2,
                  "_deepnote_index_column": 93926
                },
                {
                  "Text": "I love brittle, and let me say this - this brittle is THE BEST I've ever had.  It is made with milk - I think most other brittles are made with water.  The brittle itself is somewhat opaque and absolutely fantastic.  I would order this stuff without the peanuts, just the brittle, if it was sold that way - it is that good.  It is somewhat less hard and at the same time actually more \"brittle\" than other peanut brittles.  Did I say that it is really fantastic?  I tell you, if I lived out West, I would be 20lbs heavier because of this stuff.",
                  "count": 2,
                  "_deepnote_index_column": 93927
                },
                {
                  "Text": "I love buffalo jerky but don't eat it too often because of the cost.  One company in Jacksonhole, WY charges nearly half the cost of the product for shipping and handling.  And at $45 a pound plus $21 for shipping, it's just way too pricy no matter the taste. Another company out of Texas has jerky that is so hard that you need to soak it in water to soften it up for eating - yuck!  So when I decided to try Golden Valley, I did so without much anticipation that it would be pliable to eat due to the cost.  Instead I love it!  The jerky is delicious with the perfect amount of pepper and just enough sweetness to give it a pleasant under taste.  I don't have to tussle with the jerky trying to eat it as it is pliable yet gives that chewy pleasure that good jerky properly prepared has.  I will be ordering over and over again now that I've found a brand that is good value and delicious!  Thank you Golden Valley!",
                  "count": 2,
                  "_deepnote_index_column": 93941
                },
                {
                  "Text": "I love bumblebars, but Chai has a very strong flavor. I would recommend tasting it before you order a whole box of them. I tasted it before, and I liked it. It seems that after awhile it got too strong, and I canceled the subscription. Chocolate and Almond are my favorite flavors.",
                  "count": 2,
                  "_deepnote_index_column": 93944
                },
                {
                  "Text": "Since recieving my brewer I have been buying all sorts of combo packs and experimenting looking for trhe best flavor for me and was excited to see the Folgers become available as I used to drip brew it, and liked it. Unfortunately I don't, or haven't yet, find the same flavor in the Keurig K Packs. Hmmmmmmm..... what changed?",
                  "count": 2,
                  "_deepnote_index_column": 199817
                },
                {
                  "Text": "Since purchasing our Keurig I have been consistently disappointed in getting a bold cup of decaf (or a bold cup, period!)  This decaf is an exception, and while it's still not up to regular brew standards, it's the best bold decaf I've found yet in a K-cup.  It's a deep, complex taste without being bitter or harsh.  Good coffee!",
                  "count": 2,
                  "_deepnote_index_column": 199803
                },
                {
                  "Text": "I love butter chicken. I order it almost every time I go to Indian restaurants. I even make it from scratch at home when the craving sets in. I have had A LOT of it. So when I was looking for a quick and easy dinner at the grocery store and found a jar of this stuff, I was pretty excited to take it home. Man, was I let down. This tasted more like barbecue sauce than butter chicken! I even added peppers, onions, curry powder, and cayenne in attempts to make it better. Nope. Just spicy barbecue sauce. Where's the butter!?!",
                  "count": 2,
                  "_deepnote_index_column": 93947
                },
                {
                  "Text": "Since people can't seem to figure out that the reviews are for the products and not the companies delivering them, I've decided to write a review exclusively FOR THIS PRODUCT.<br /><br />Despite it's juvenile sounding name, this isn't a child's energy drink that's for sure.  Each tube packs about 42,000% the recommended daily dose of Vitamin B12.  The high from this is extremely stable and hasn't yet given me the jitters.  I feel very awake, alert, and clear headed.  I use it before a workout and several of the ingredients make it perfect for the gym.  The let down is probably the smoothest you'll find among energy drinks.  And if you feel a cold coming on, downing one of these may help tremendously.<br /><br />The name comes from the interaction the mix has with water.  You pour one vile into a 16-20 oz bottle of water and the stuff fizzes like crazy!  If you don't get the lid on fast enough, you'll quickly find there will be a mess!  I've found using a wide mouthed nalgene bottle is the best way to prevent these types of accidents.<br /><br />In addition to the massive amounts of Vitamin B12, it has a good amount of Vitamin C (500mg), Niacin (10mg), Vitamin B6 (2.5mg), Calcium (60mg), Magnesium (100mg), and Potassium (905mg).  It has almost every water soluble vitamin meaning that a lot of the excess that your body doesn't utilize, will be flushed through your kidneys.  With that being said, drink a lot of liquid with this and don't over use the product (company recommends no more than 3 a day) or the chance of getting kidney stones exists.<br /><br />It has a 317mg \"proprietary\" blend blend of L-Arginine, L-Taurine, Caffeine from guarana, Alpha-lipoic acid, Grape seed extract, Green tea leaf extract, Ginger root, and Ginseng root.  I don't know how much each compound contributes to the 317mg but they do acknowledge that 100mg of it is caffeine (about the same as a cup of coffee).<br /><br />There are multiple flavors but I'm partial to Grape and Orange Soda.  The flavors are very sweet and candy-like but they surprisingly have no sugar. 10 total Calories and only 2g Total Carb.<br /><br />This is an excellent product and recommend it over any other energy drink.",
                  "count": 2,
                  "_deepnote_index_column": 199799
                },
                {
                  "Text": "Since our little one was diagnosed with multiple food allergies our options have been limited.  We make everything from scratch, of course, but sometimes, it is nice to be able to toss something in the diaper bag that requires no work and is a little sturdier than home-baked goodies.  These are it!  We can't really distinquish the animals too well, but that aside, for allergy-free treats, these cookies taste great!  Any child who doesn't take to them right away should just be offered them again & again...eventually they will appreciate them with gusto!  Our daughter did.  It is hard to adjust to allergy-free eating in general, especially if your kids have had the pleasure of tasting \"normal\" food.  Now she LOVES these cookies, though, and for me it is a convenient & simple treat to give her.",
                  "count": 2,
                  "_deepnote_index_column": 199793
                },
                {
                  "Text": "Since my usual source of venison is gifts from generous sportsmen (and ladies), I wasn't sure what to expect from Buffalo Bills Venison Jerky. I was pleasantly surprised by how very good it is... moist and tasty with a rich hickory smoke flavor. Even the hunters in the family enjoyed this one! The 7\" strips are the perfect size for a healthy and satisfying snack too. Low carbs, low calories and good taste - I know I'll order these again. I can always count on Choo Choo R Snacks for quality products, quick shipping and excellent customer service.",
                  "count": 2,
                  "_deepnote_index_column": 199786
                },
                {
                  "Text": "I love buying quinoa because it is such a healthy grain but it tends to be very expensive at the supermarket. Buying in bulk is definately more convenient and saves me a ton of money.",
                  "count": 2,
                  "_deepnote_index_column": 93957
                },
                {
                  "Text": "I love buying these and drinking them after my workout.  You lose not just fluids but minerals/vitamins and this helps replenish you.  Water is good too for you too but I just love these post-workout.  They are also good for anytime when you could use a sweet but natural drink (like you don't want milk or soda or water but want something tasty and refreshing).",
                  "count": 2,
                  "_deepnote_index_column": 93959
                },
                {
                  "Text": "Since my dogs are \"my children\", I read labels on what I feed them, much more closely than on what I eat. I did a lot of research and found the ingredients in Premium Edge to be excellent. One of my dogs would throw up regularly. Since being on Premium Edge for over two years, she stopped vomiting. I tried other top brands of dog food, including Nutros, Merrick and Halo. None of them have matched my satisfaction with Premium Edge.",
                  "count": 2,
                  "_deepnote_index_column": 199758
                },
                {
                  "Text": "Since my daughter was 18 months old until now (she's almost 3) she has loved this oatmeal and eaten the whole bowl (when I add organic raisins).  She's a picky eater, so the other review is a surprise to me.",
                  "count": 2,
                  "_deepnote_index_column": 199750
                },
                {
                  "Text": "Since my daughter is 14 months old she pretty much eats what I prepared for meals, however sometimes I don't think what I have made is something she should eat such as steak (too hard to chew).  So I like to have these available for a quick meal to prepare for my daughter.  She likes the taste, simple to prepare, and you have meat and vegetables all in one meal.",
                  "count": 2,
                  "_deepnote_index_column": 199746
                },
                {
                  "Text": "Since I retired I seem to spend more time in the kitchen and down to the camper. I enjoy doing it to share with others now that I don't have to hurry up and cook. It seems, me included, enjoy oatmeal raisin,craisin cookies and they always seem to be easy to grab for a snack or to finish a meal for a light desert. Even my 28 year old grandson thinks they are good and he is not a sweet eater. His comment is that they don't taste like oatmeal and I assured him there is oatmeal in there.I bought the big 10 pound container and split them up into smaller packages. I ususally put more that just the one cup in the recipe that it calls for because we all like the taste of the fruit.<br />Linda",
                  "count": 2,
                  "_deepnote_index_column": 199537
                },
                {
                  "Text": "Since I purchased a case of this, it arrived to me shrink wrapped.  I put the entire case on the shelf.  When I opned it weeks later, I learned that each and every can was dented, some severely.  When I tried to return this to Amazon, they declined saying that too much time had passed to return it (about a month).<br /><br />Unfortunately this has turned me off of Lick Your Chops brand.  They were clearly dented before they were shipped, not by Amazon.  Is their quality control that bad?<br /><br />Lesson learned:  when purchasing a case, open it immedately; perhaps I could have returned it then.<br /><br />I regret not being able to give the product more stars as the food inside has been historically good.  But I won't feed anybody food from cans with gashes in them.",
                  "count": 2,
                  "_deepnote_index_column": 199529
                },
                {
                  "Text": "Since I love figs, these were just great.  Slightly nutty flavor to the cookie dough (since whole wheat) and the fig paste tasted like dense, flavorful figs.  At 60 calories per cookie, I found consuming 300 calories to happen mighty quick!",
                  "count": 2,
                  "_deepnote_index_column": 199520
                },
                {
                  "Text": "Simply put: Beetlejuice is the funniest comedy of its kind since Ghostbusters.<br />  Michael Keaton plays the title character, a fun-loving ghost that likes to do mischief.  Beetlejuice is called by a couple (Davis and Baldwin) to get rid of the people who live in thier house.",
                  "count": 2,
                  "_deepnote_index_column": 199316
                },
                {
                  "Text": "I love coffee & I love my Keurig coffee maker. What I don't love is when you order coffee and you are sent mostly tea & cappuccino. It would be ok if some tea was sent with the coffee but that was not the case. I will not be ordering this again; very disappointed in the selection I was sent.",
                  "count": 2,
                  "_deepnote_index_column": 94238
                },
                {
                  "Text": "Simply put, my daughter has decided to stuff as many as possible into her mouth at once, which signifies how much she enjoys the product.  We also now need to teach her patience, slight portion control techniques (\"One at a time, sweetie!\" works fine, thankfully!), and taking one's time to enjoy their food.  :)  Here are our thoughts:<br />1) Lightly sweetened, when compared to other brands and flavors.  In fact, I'm pretty sensitive to over-sweetened foods, and I likened these to regular Cheerios with a hint of sugar and other flavors.<br />2) I'm able to interpret the toughest of often-unpronouncable ingredients found in many \"food\" products these days, but that's just me since it has a tie to my current occupation.  So, I was surprised at how simple and straightforward the ingredient list is; I'd encourage purchase of this organic product based upon that alone (assuming that the company is truthful in its advertising).  Although our child appears to eat whatever is placed in front of her (this is her daddy's sense of adventure already poking through), I'm not worried about her getting enough greens into her developing body; however, if your child is fussy about veggies, this could be a nice substitute until you find a more creative way to blend in greens into the child's diet (current articles appear to lean more towards \"trickery,\" \"disguising,\" and \"entertaining\" the child when it comes to getting them to eat foods which we ordinarily would have had forced down our throats -so to speak- when we were little!).  This product may partially solve that issue.<br />3) Like competitor brands, this product does \"melt\" into a newly teething baby's mouth within an appropriate amount of time whether it's chewed or sucked upon by the baby, rendering it less of a choking hazard if you're concerned about that as we once were.<br />4) The container itself contains more product per container than do its competitors, which is quite nice.  Depending upon where you purchase a competitor brand, this one may be slightly higher per ounce, but it's worth it.  We don't forsee a need to purchase another case until 1-2 months pass.<br />5) The containers themselves are rather durable.  Unless your child is body-slamming it to the ground or you're stepping on it with all your weight, don't count on it shattering easily at all.  Plus, it's conveniently recyclable, and the opening is not too flimsy and snaps closed well enough.",
                  "count": 2,
                  "_deepnote_index_column": 199292
                },
                {
                  "Text": "I love coffee - even some \"flavored\" brews, particularly vanilla (the recent try out of Melitta's Vanilla was a total delight).  That said, I was not favorably impressed with Starbuck's \"Vanilla infused\" coffee.  While it smelled decent enough, the brew itself had a burnt taste that I have found in most of Starbuck's products which many seem to enjoy, but I do not.  It wasn't \"undrinkable\" - but I wouldn't ask for a second cup!",
                  "count": 2,
                  "_deepnote_index_column": 94240
                },
                {
                  "Text": "Simply put, Amadei produces the best chocolate in the world.  It's not an opinion, as much as it's a restatement of the results of the past three World Chocolate Awards.  Chuao is a lot different than the Porcelana variety.  Both are amazing, with Porcelana being the pure chocolate flavor and Chuao having more hints of fruit in the flavor.  Either way, each bar comes in ten squares.  I couldn't imagine having more than one square at a sitting.  I'd highly recommend either one of them.",
                  "count": 2,
                  "_deepnote_index_column": 199285
                },
                {
                  "Text": "I love coffee and I'm a big fan of Starbucks regular brewed coffee which I buy a lot of in the stores. I don't drink much instant coffee but I've tried several other brands in the past and didn't think this Starbucks instant coffee could be much better. I was wrong. Starbucks Via instant coffee tastes as close as you can get to regular brewed coffee. I was shocked at how good it is. It's rich, bold, and flavorful. The only downside is the price - it's significantly more than other brands of instant coffees. I still drink mostly fresh brewed coffee but when I can't and need instant I drink Starbucks Via",
                  "count": 2,
                  "_deepnote_index_column": 94249
                },
                {
                  "Text": "I love coffee and at night really miss out if I don't have the decaff.",
                  "count": 2,
                  "_deepnote_index_column": 94250
                },
                {
                  "Text": "Simply love the iced coffee and buy it to bring home whenever I can , but I simply cannot find any way of getting it in the UK , it's crazy , I'd buy it to take to work or a great change for an evening drink when it's hot, come on someone get it over here please !!!!!Buy the way you may of realised I love this stuff ....;-)",
                  "count": 2,
                  "_deepnote_index_column": 199268
                },
                {
                  "Text": "Simply great! My son really Love his cereals, AND are Great for his allergies... Definitely a MUST for every mommy with allergic kids",
                  "count": 2,
                  "_deepnote_index_column": 199267
                },
                {
                  "Text": "I love coffee and especially grinding my own beans. I use a fairly fancy Krups that makes excellent coffee. I have some favorites and few are flavored.  I do like the occasional hazelnut or vanilla flavors.  I was hoping to have a hint of the flavor, not an overwhelming one.  I was not disappointed.  The smell of vanilla was a lot stronger than the actual taste.<br /><br />The coffee was good, not great or otherwise outstanding, but good.  I'd call this an easy drinking coffee and I feel I could serve it without mentioning that it was vanilla flavored.  All in all, it's a good coffee with a *hint* of vanilla.",
                  "count": 2,
                  "_deepnote_index_column": 94255
                },
                {
                  "Text": "Simply delicious! Moist, soft and rich! Totally delectable and satisfying... I'd order them again. These have always been a favorite of mine and my family.",
                  "count": 2,
                  "_deepnote_index_column": 199256
                },
                {
                  "Text": "Simply delectable assortment. The only negative I can think of is the lack of an assortment guide. But, I guess that adds to the surprise. The package is beautifully and lovingly packaged, and my chocolates arrived without melting! Great service! The chocolates themselves melt in your mouth and their coffee-hazlenut pralines are to die for! The hazlenut is just that-pure, unadulterated nuts-that said, some people might expect ferrero rocher like taste-its very different, and for some people, even distasteful. But I love it! There are around three layers in the box, and each layer has around seven pieces. Pretty good value actually, and makes an excellent gift!",
                  "count": 2,
                  "_deepnote_index_column": 199254
                },
                {
                  "Text": "Simply Wild dog food is a tiny kibble, suitable for a small dog like my Yorkie.<br />Better yet, he loves it.  Shipping was fast, I actually had the product before I<br />expected it!",
                  "count": 2,
                  "_deepnote_index_column": 199236
                },
                {
                  "Text": "I love coffee and get really bored if I have to drink the same kind on a regular  basis.  This sampler pack provided me with so many different kinds of coffee so that I didn't have to purchase an entire pack of some kind that I might not have liked.  I really enjoyed trying so many new ones and deciding which I like and dislike.",
                  "count": 2,
                  "_deepnote_index_column": 94256
                },
                {
                  "Text": "Simply NOT the same quality tea one gets from a pot - you know: boiling water, leaves (even bags), ceramic pot, 5 minutes of steeping...  My boys like being able to make their own tea so convenience trumps quality.  Love the Keurig coffees so wanted to try the tea.  It is resoundingly OK - no more, no less.  As of January, 2010, it has become a staple - via Amazon Subscription, it's pretty reaasonable and all others in the family like the convenience.  I stick with my PG Tips and a pot for that wonderful British truck stop tea flavor (or is it \"flavour\"?).",
                  "count": 2,
                  "_deepnote_index_column": 199227
                },
                {
                  "Text": "I love coffee and if it's Starbucks I love it even more.  This ground coffee is not too strong and has a nice vanilla taste.  Since it's ground, I used it up pretty quickly.  My guests liked it too so I'm chaulking this up as very paletable.",
                  "count": 2,
                  "_deepnote_index_column": 94258
                },
                {
                  "Text": "I love coffee and this is not bitter or too strong,this goes wonderful with the senseo flavor Barista Blend additions- check it out!<a href=\"http://www.amazon.com/gp/product/B0013A0QXC\">Senseo Espresso Coffee Pods, 16-Count, 3.92-Ounce Packages (Pack of 6)</a><a href=\"http://www.amazon.com/gp/product/B000U61O2M\">Senseo Barista Blends Variety Pack, 10.72-Ounce Box (Pack of 3)</a>",
                  "count": 2,
                  "_deepnote_index_column": 94261
                },
                {
                  "Text": "I love coffee but its not economical to brew a whole pot when I just want a cup or two.  This is a super solution. The coffee is very good and its one cup at a time. Great flavor too, I am very happy with my Senseo machine and these coffee pods are perfect!",
                  "count": 2,
                  "_deepnote_index_column": 94272
                },
                {
                  "Text": "I love coconut water... and I love chocolate and putting them together only seemed like a match made in heaven. The first time I tried it I became hooked but once you are 1/2 - 3/4 of the way through the 12pk I felt like I may have had enough of it and wanted just plain coconut water. I definitely like the chocolate flavor but it is more of \"I need to be in the mood\" type of thing rather than being able to drink it daily like I can with plain.",
                  "count": 2,
                  "_deepnote_index_column": 94233
                },
                {
                  "Text": "Simply said, both delicious and nutritious - either as a snack, just by grabbing a handful, or as a breakfast cereal, in milk. Probably, also fine over yogurt.",
                  "count": 2,
                  "_deepnote_index_column": 199319
                },
                {
                  "Text": "Since I have to drink decaf tea, it's great to find a company that will provide all my old favorites.  I enjoy having Earl Grey available and the price is great!",
                  "count": 2,
                  "_deepnote_index_column": 199498
                },
                {
                  "Text": "Simply the best K-cup I've sampled so far (and I've sampled many).  If you like bold, rich coffee than you should definitely try this one. When it comes right down to it, it's still cheaper than buying a cup of coffee outside of the home (even at a donut store) so I don't see the price as that exorbitant. Sometimes quality comes at a price.",
                  "count": 2,
                  "_deepnote_index_column": 199335
                },
                {
                  "Text": "I love chips, so when I was looking for a healthier option - I found these. They are yummy! And are a lot less calories and fat than regular chips. I would recommend them to anyone liking to snack but wants to eat a little healthier.",
                  "count": 2,
                  "_deepnote_index_column": 94093
                },
                {
                  "Text": "I love chocolate and I love sweets. My favorite of all donuts is the Chocolate Glazed donuts. When I seen this product I had to try it. I love coffee, how bad can it be? Answer: Gross! Don't waste your money. This doesn't taste like Chocolate or Glazed donut. This tastes like a really old burnt cup of stale coffee. It's so bad I may have to toss the unused portion, as it's really hard to drink.",
                  "count": 2,
                  "_deepnote_index_column": 94104
                },
                {
                  "Text": "Since I have been buying Firstmate dog food for my dog, I've noticed a remarkable change in his coat, his health, and, the reader should know, in his well-formed stool.  Another benefit of Firstmate is that the flavors are interchangeable, making eating kibble much more interesting for the dog. Try any flavor to begin -- I liked the idea of of my dog eating blueberries and chicken, so that's what I started him on -- and I think you'll agree with my review.",
                  "count": 2,
                  "_deepnote_index_column": 199478
                },
                {
                  "Text": "I love chocolate coffee, I was hoping this would be strong but its not. It has a small hint of chocolate, nothing like my favorite Mud Slide ( Which smells my kitchen up with lovely chocolate/coffee smell! ) The coffee flavor is also very mild. I won't be buying again, not strong enough for me!",
                  "count": 2,
                  "_deepnote_index_column": 94122
                },
                {
                  "Text": "Since I got my Keurig about 6 months ago I've been trying different coffees to see which I like best.<br /><br />So far, this is the worst.  It's thin and tasteless.<br /><br />Like another reviewer, I usually make the 10 ounce mug.  But with this item the results were dreadful.<br /><br />Now I make a 6oz cup and it's STILL bad.<br /><br />I don't understand why others seem to like this coffee.  Did I get a bad batch?  I don't know.<br /><br />For comparison, I like Cafejo Adrenaline Explosion for my Senseo.  So far I haven't found it for the Keurig.",
                  "count": 2,
                  "_deepnote_index_column": 199465
                },
                {
                  "Text": "Since I got Senseo coffee machine, I only drink Senseo. I choose dark roast, because I make 8 oz/pod and it still taste great.",
                  "count": 2,
                  "_deepnote_index_column": 199462
                },
                {
                  "Text": "I love chocolate everything and have purchased and used three brands of hot cocoa, from Amazon, in our Keurig K-cup brewer which was a 2011 Christmas gift. The best milk chocolate flavor consumed was Cafe Escapes followed by Grove Square and totally unacceptable Green Mountain Coffee, Hot cocoa, which went to our local refuse hauler. I feel that you get what you pay for as Cafe Escapes was the highest cost and Green Mountain the cheapest and worst. I noticed that both Cafe Escapes and Grove Square were labeled Milk chocolate flavor,Hot Cocoa, Green Mountain was not which may account for it's strange flavor. I wish there was a means of securing product samples rather than purchasing two boxes of some products like green Mountain.",
                  "count": 2,
                  "_deepnote_index_column": 94128
                },
                {
                  "Text": "I love chocolate glazed donut coffee, especially when I add Bailey's (non-alcoholic) chocolate creamer to it. Magnificent flavor. I think I'll go make a cup!",
                  "count": 2,
                  "_deepnote_index_column": 94130
                },
                {
                  "Text": "I love cinnamon gum.  It is like dessert to me.  I was excited to try some gum made with real cinnamon oil.  My other \"go to\" brand has every type of \"tol\"(manitol, sorbitol etc.) sweetener made and that scares me just a little.  This has a nice peppery, cinnamon flavor to start but only lasts a few minutes.  Maybe this is the true cost of a natural flavoring?  My \"go to\" brand lasts and lasts but is probably killing me on the inside.  The quest for a true cinnamon gum continues.",
                  "count": 2,
                  "_deepnote_index_column": 94165
                },
                {
                  "Text": "Since I discovered Blueberry Coffee I'm hooked.It's the best Coffee I have ever tasted.I would give it a 5 star.",
                  "count": 2,
                  "_deepnote_index_column": 199433
                },
                {
                  "Text": "I love coconut but this coffee tastes like tanning lotion. I couldn't even finish my cup of coffee, which is very rare. Two thumbs down!",
                  "count": 2,
                  "_deepnote_index_column": 94189
                },
                {
                  "Text": "Since I can't eat wheat, whole eggs, yeast or soybean oil, I'm very limited in my cookie choices unless I bake them myself.<br /><br />These are GREAT with coffee in the morning or when you want a snack.  Not too sweet, good chocolate taste and very crunchy.  Unfortunately, they're almost five dollars a box at the health food store, so I'm happy to have found them on Amazon.<br /><br />I'll be buying eight boxes of them, so I guess that says it all!",
                  "count": 2,
                  "_deepnote_index_column": 199423
                },
                {
                  "Text": "I love coconut coffee and I was extremely excited to give this coffee a go on my new Keurig B60. All of the rave reviews made me even more eager to try this seemingly great flavor. Unfortunately this coffee fails to deliver. There is hardly any aroma when it brews and the coffee itself on the smallest cup setting looks and tastes like dirty water with a hint of coconut flavor. Since this coffee was the first coffee I ever brewed in my Keurig I thought the machine was faulty. But then I tried out other flavors and it turns out that the coffee itself is to blame. I usually have my coffee with a generous amount of flavored creamer so for ME to think certain coffees are weak means that it is EXTREMELY weak. I even tried the coffee without any creamer or sugar and it was STILL without much flavor. I will NOT be purchasing this coffee EVER again.",
                  "count": 2,
                  "_deepnote_index_column": 94190
                },
                {
                  "Text": "Since I am diabetic, I have tried every artificial sweetener on the market. For me, all of them have too much of a bitter aftertaste to be usable. I had read that xylitol is more or less a 'natural' product, and after having heard a professional chef give glowing reports of Ideal (xylitol) on a radio program, I ordered the three bulk forms of the product.<br />It tastes fine in beverages. Of all the sweeteners I've tried it IS actually the closest to the taste of sugar, with the least noticeable aftertaste. It does measure like sugar, too, as advertised on the package.<br />However, baked goods made with the granular, confectioners' and brown sugar mixtures of Ideal product were unsatisfactory. Cookies made measure for measure with Ideal were mealy and did not brown. There's no way to get a crisp cookie or moist cake because the xylitol does not carmelize, so the only texture it contributes is dry grainy-ness. I suppose the radio chef raved about the product because he was trying to sell his cookbook dealing with the use of xylitol as a sugar substitute.<br />I will continue using Ideal in my coffee, but not for baking. I'm very disappointed that Ideal does not perform at all well in baked goods.",
                  "count": 2,
                  "_deepnote_index_column": 199396
                },
                {
                  "Text": "I love coconut so I don't have a problem using it in my foods! My children like it too, and so does my husband! he says it gives the food an exquisite taste. I use it instead of butter to fry or saute onions, cook eggs, steamed vegetables, and even in my rice, plus a little bit goes a long way! we rally like it most of all because you get a lot of omega from it. Very healthy! One thing is the price... I found better price on other websites and even at local Vitamin stores.",
                  "count": 2,
                  "_deepnote_index_column": 94214
                },
                {
                  "Text": "I love coconut water in all its raw incarnations: Brazilian, Thai, Indian. I'm hit or miss with the fruit juice blended beverages of any brand. Along comes chocolate Zico. It doesn't seem right given the consistency and flavor of coconut water. Well, it is creamier in appearance than any other water or blend -- as it, well, should be. You wouldn't mistake this in a glass beside the plain variety. The flavor is rich, very cocoa and in surprising harmony with the coconut core of it all. I enjoy it because it tastes more like a treat than the regular and goes down smooth just in case I really need the hydrating lift! You've done juice blended coconut waters. Now try this. Be careful of price they really shouldn't be more than twenty dollars per case!",
                  "count": 2,
                  "_deepnote_index_column": 94226
                },
                {
                  "Text": "Simply this is a good product among breakfast cereals.  It is has good protein content, it is low glycemic, and tastes good.  However I have found the Bear Naked products (<a href=\"http://www.amazon.com/gp/product/B000CROPGG\">Bear Naked Fit Vanilla Almond Crunch Granola, 12-Ounce Pouches (Pack of 6)</a>) to have higher protein, and better flavor, so try both and decide for yourself.",
                  "count": 2,
                  "_deepnote_index_column": 199362
                },
                {
                  "Text": "I love brewing loose leaf tea, except for the bits of tea leaves that inevitably end up in the bottom of my tea cup!  I have bought so many tea infusers hoping to find one that keeps the sediment to a minimum.  I might have found that with the TeaSpot Tuffy Steeper.  This is such a great idea!  I love the fact that you can collapse it to make it easier to carry with you.  It comes with a lid to cover the infuser while the tea is steeping, keeping the tea nice and hot.  The holes in the infuser are so small!  If you use a good quality loose leaf tea, I don't think you will have any problem with bits of tea leaves getting through.  The little handle on top is kind of odd.  I am not sure why it doesn't go the other way but you can use it to pick the infuser up out of the tea when you are done brewing.  It does displace a lot of water, so fill your cup up as much as you can while the infuser is in the cup.  The shape does allow the tea leaves to open up during the steeping process which gives you a great cup of tea.  Love it! Will use it all the time!",
                  "count": 2,
                  "_deepnote_index_column": 93924
                },
                {
                  "Text": "I love both the Lemonmint and Peppermint flavored water!  I was first introduced to this product at a Whole Foods market and loved it, but since I live 2 hours from the closest Whole Foods, I was delighted when I found it on Amazon.  This water is served best very cold and the flavor is cool and refreshing.  The lemon is not overpowering at all.  I also like it because the mint/lemon flavors seem to decrease my appetite as well, which is nice since I'm currently trying to shed a few extra pounds!!  Definitely a 5-star product and I will be buying more!!",
                  "count": 2,
                  "_deepnote_index_column": 93915
                },
                {
                  "Text": "I love bold, robust coffee and decided to purchase Green Mountain Dark Magic k-cups. Definitely a bold coffee, but so acidic it's not enjoyable. Severely disappointed in this coffee. Am trying other brands but because of this experience trying to steer clear of all coffees distributed by Green Mountain; and that's a shame because they offer so many choices. Money is too hard to come by to blow it on coffee you can't drink!",
                  "count": 2,
                  "_deepnote_index_column": 93904
                },
                {
                  "Text": "So I didn't know what to expect when trying this product...  I suppose I thought I'd detect a slightly off or metallic taste, with all the electrolytes added, but I did not.<br /><br />Though the product advertises itself as \"silky smooth\" I don't think I'd describe it that way.  It tasted fine, but not \"better\" than water, and not any worse.<br /><br />If you really are struggling to find water that has some of these characteristics, then I'd give it a try.  Me, I'm going to stick with filtered water, because I really couldn't tell the difference.",
                  "count": 2,
                  "_deepnote_index_column": 200368
                },
                {
                  "Text": "I love Twinings English Breakfast Tea.  Then to add the convenience of the Keurig K-Cup machine, it is a match made in heaven.  In about 45 seconds I have a perfectly made for me cup of tea.  The price on this product is fantastic with the added reduction made for the subscribe and save program.  I will never run out!  I am a happy girl!",
                  "count": 2,
                  "_deepnote_index_column": 93449
                },
                {
                  "Text": "I love Vita Coco and I like Rihanna but this flavor is just terrible. I like all of the other Vita Coco flavors except this one. When I first tasted it, I immediately checked the expiration date to make sure it did not go bad. Then I tried a few more hoping I will eventually like it and convince myself that Vita Coco can't possibly be this bad. But in the end I came across a bottle that just had a very foul taste so I decided to throw all of the remaining drinks away.",
                  "count": 2,
                  "_deepnote_index_column": 93481
                },
                {
                  "Text": "So I am mightly impressed with matcha. For a few weeks now, I've been having a cup almost daily, and I have to say I'm seeing benefits. I don't know if it can all be blamed on the matcha, but the matcha is the only real change I've made recently. When a tea company makes claims about the healthiness of their teas and how this tea will make you skinny or that tea will calm your anger, I tend to just laugh it off. Just another marketing ploy, I mean, really, it's just tea. It's delicious and better for you than soda (if you don't weigh it down with tons of sugar and cream like I used to do), but it's still just tea, not some magic potion that's going to solve all of your problems.<br /><br />Well. Since matcha came into my life, I'm more alert (obviously) and my system seems...cleaner. I don't feel bogged down by the terrible foods I sometimes indulge in, and somehow my system seems less responsive to my dairy allergy. Don't get me wrong, it still makes me sick, but it's not the gut-wrenching \"I'm gonna die\" feeling I'm used to, it's more of a \"Oh man, I forgot and ate dairy again\". On the whole, I just feel healthier. Which is awesome. Everyone can afford to feel a little bit healthier, am I right?<br /><br />Anyway, this tea smells amazing. Like juicy Granny Smith apples, sweet and tart all at the same time. I want to dip this tea in caramel. The flavor is perfect. It's exactly what I expected this tea to taste like. It's very juicy, my mouth is watering after every sip, and it's tart without being stomach-turning sour. I am having a really hard time not adding some of my Red Leaf Tea Caramel matcha to this. They're just begging to be blended. In college, I was big fan of the Caramel Apple shot, which is basically one part sour apple Pucker to one part butterscotch Schnapps. This seems like a good alternative for me to take to work and not get fired! Though now I'm wondering about matcha cocktails...<br /><br />I love these matchas that are encouraging me to mix and match, play with different blends, bake...I love it! I wish I had the time to just lock myself in my kitchen with my matchas and experiment to my little heart's content.",
                  "count": 2,
                  "_deepnote_index_column": 200329
                },
                {
                  "Text": "So I am always looking for healthy snacks for my dogs, and my dogs go nuts for these. The only issue is they eat them extremely fast even though they are hard, its a little worrisome versus the chicken jerky products I usually give. Regardless I love mixing it up for my 4 legged friends and feel good about feeding these to my dogs!",
                  "count": 2,
                  "_deepnote_index_column": 200325
                },
                {
                  "Text": "I love Watermelon! At work one day, a friend offered me a Dunkin Donuts Watermelon coolatta. I didnt think I would care for a slush drink - but it was fantastic and soon, I was buying one every day. I have a home snow cone and slushy maker, so I went in search of a good Watermelon Syrup.<br /><br />I tried Monin, Torani, DaVinci, and Best Bargain brands Watermelon syrup. Let me warn you so you dont waste your money like I did - DO NOT BUY ANY OF THESE PRODUCTS. #1, not even one of these products contains ANY Watermelon. They are all basically the same with Sugar, Lemon juice, Melon flavoring (NOT Watermelon), and red dye. NOT one single bit of Watermelon in any of them. #2, They dont taste even remotely like Watermelon, and in fact all but Best Bargain have disgusting taste to them. I tried various quantities of the syrup from very little to a lot - and either way, they taste horrible! #3, you can EASILY make your own delicious Watermelon syrup. There are a number of recipies on the web. Some require rendering (boiling down) but you dont have to use those to get a very good homemade, TRUE tasting syrup.<br /><br />Avoid these products like the plague!!!<br /><br />Note - Dunkin Donuts does not seem to sell their syrup, however you can go to their web site and click the \"Contact Us\" button and send them a note that you would like to purchase their syrup (if you like it - and it is the best) and if you have a local shop, you can ask the manager if he/she wouldnt mind buying an extra one for you!<br /><br />Otherwise, make your own! Its the only way to get good taste. However, these products, Monin, Torani, DaVinci and Best Bargain are horrible and while they look like transmission fluid - I will wager THAT tastes better!",
                  "count": 2,
                  "_deepnote_index_column": 93504
                },
                {
                  "Text": "So Far this is the only K-cup I've found thats tastes great with a normal brew!  It's not watered down like the regular stuff, and dosen't taste burnt like the bold stuff. They only K-cup i'm buying from now on!",
                  "count": 2,
                  "_deepnote_index_column": 200316
                },
                {
                  "Text": "I love Zevia Ginger Rootbeer! I thought it might have a bitter aftertaste like other diet soft drinks but it didn't. I started drinking it because I am watching my carbs and sugar grams but like a good rootbeer once in a while. I wanted to be able to have one without a lot of sugar and without artificial sweeteners. I'm so glad I found out about this one. It hits the spot every time.<br /><br />This past weekend I took a sip of regular rootbeer and didn't care for it because I'm used to Zevia ginger rootbeer and prefer it. My husband enjoys it too and he's not watching his sugar or on a weight loss plan. He just likes the taste.<br /><br />I didn't think we'd work our way through our 24 cans so quickly. I'm looking forward to our next shipment.",
                  "count": 2,
                  "_deepnote_index_column": 93535
                },
                {
                  "Text": "I love Zevia.  Can't say anything bad about a soda with no calories, no caffeine, and no aspartame.  My most recent shipment however, was less than satisfactory.  One case had a can that had ruptured, soaking the inside of the box, and the cardboard had begun to mold as a result.  Yuck.  It was not a particularly hot day when it was delivered, between that and the mold I'm sure the can burst long before it arrived at my door.<br /><br />Another case not only had a ruptured can, but was missing one as well!  One of the four sixpacks had only five cans, and an empty plastic ring where a sixth should have been.<br /><br />Maybe the packagers got thirsty.",
                  "count": 2,
                  "_deepnote_index_column": 93540
                },
                {
                  "Text": "I love Zico after a hard workout (or before if I haven't eaten).  It immediately re-energizes me, and best of all, it tastes great!",
                  "count": 2,
                  "_deepnote_index_column": 93543
                },
                {
                  "Text": "Snapea crisps are a fun and delicious snack for me. My only complaint is that they are not exactly gluten free,<br />there is a chance that there could be cross contamination. So I take a risk every time I eat them. But other than that, they are a tasty, crispy and crunchy snack. (I don't really like peas but when I tried these I really liked them!) So grab yourself a bag of original snapea crisps today and you'll be hooked!",
                  "count": 2,
                  "_deepnote_index_column": 200286
                },
                {
                  "Text": "Snap peas taste so good!<br />I don't use it with my salads but substitute it for a snack whenever I'm in the mood for any kind of chips!",
                  "count": 2,
                  "_deepnote_index_column": 200281
                },
                {
                  "Text": "Snackmaster's makes the best Jerky I've ever had. All of their Turkey Jerky product are exceptional, but I'm quite partial to the Teriyaki. It has a faint hint of sweetness that's very nice. Most turkey jerkies I've tasted had a slight chemical taste. And most were somewhat powdery. Not the case with this brand. Great taste and nice and chewy.",
                  "count": 2,
                  "_deepnote_index_column": 200269
                },
                {
                  "Text": "SnackMasters Teriyaki turkey jerky is a great option for high-protein, low fat snacks. It's tasty stuff & I use it all the time. Just keep an eye on the sodium intake!",
                  "count": 2,
                  "_deepnote_index_column": 200265
                },
                {
                  "Text": "SnaPea Crisps are one fabulous food, or snack.  I do not feel a bit guilty eating an entire bag, the way I would with, say, Doritos.  They are full of nutrition and hit the spot, in the middle of a long day.  And they taste wonderful.  I plan to keep ordering them by the case, and I won't mind that my two dogs root in and steal a bag or two, lol.<br /><br />Ta!<br /><br />DonnaBahama...getting my veggies, whether I want to or not.../-:",
                  "count": 2,
                  "_deepnote_index_column": 200259
                },
                {
                  "Text": "Smoothest green tea yet....good all day",
                  "count": 2,
                  "_deepnote_index_column": 200249
                },
                {
                  "Text": "I love a bold, strong coffee without a bitter taste, and this has proven to be my favorite. Strong and flavorful, even the decaf version is excellent. My second favorites are Green Mountain's French Roast and Timothy's espresso blend, if that's any help. If you like strong coffee, definitely give this a try!",
                  "count": 2,
                  "_deepnote_index_column": 93553
                },
                {
                  "Text": "I love a crunchy breakfast cereal and these Oatmeal squares deliver a satifying crunch and a nifty cinnamon taste. The word Oatmeal in the name suggested to me that this might be a healthy cereal.  Not so much.  I found it to be too sweet, abd check this out: 210 calories per cup before you add milk.  I'd use these in a trail mix, but not for breakfast.",
                  "count": 2,
                  "_deepnote_index_column": 93556
                },
                {
                  "Text": "So I bought these treats for my cat, Gucci. He's 3 years old, and has carried a bit of excess weight most of his life. Even through continuing efforts to bring him to and maintain a healthier weight, he has never been much of an agile cat. He struggled just to jump onto the couch sometimes. I never thought he may have been having joint issues until my vet mentioned it. Which led me to try these.<br />First, both of my cats LOVE the flavors. They gobble these things up no problem, which is saying a lot for Gucci who is a bit picky. As for whether or not they actually work, I am a firm believer that they do. About a week after starting these, I watched Gucci leap from the doorway of my bedroom all the way onto my bed in a single bound. He now runs up and down his cat tower as if he were a kitten again. I'm so glad I decided to purchase these. I would recommend them every time!",
                  "count": 2,
                  "_deepnote_index_column": 200349
                },
                {
                  "Text": "So I got a box of these for my 3 year old Norwegian Elkhound. All dog owners know that there are many, many products out there that claim to clean your dog's teeth. So do it better than others, and some my dog flat out won't eat.<br /><br />When I first opened the box of these I was amazed at the size of them. The box does say large, but these things are huge. I would recommend this size for much larger breed dogs than my 50 pound elkhound.<br /><br />The benefit of them being so big is it does take her a little bit of time to chew the whole thing up and eat it.<br /><br />Results? Not really sure. The box says to feed at least two of these to your dog per day. But quite honestly, that would get really expensive and I am not sure what the dietary 'after effects' would be with that dose and I really  don't want to find out. So I can not really speak to the cleanabability that this product does.<br /><br />I can say my dog enjoys them and does take a little time eating them.",
                  "count": 2,
                  "_deepnote_index_column": 200379
                },
                {
                  "Text": "I love a cup of Starbucks coffee, and I love a good flavored coffee. When Starbucks announced Natural Fusions Ground Coffee, I really looked forward to purchasing and tasting it. Vanilla-flavored coffee is one of my personal favorites - as long as it is not sickenly artificial. I love Gevalia's French Vanilla, but prefer not to have to get regular shipments of a product.  I'd much rather be able to purchase my coffee as needed and at the local grocer.  Based on my experience with regular Starbucks ground coffees, I was sure Starbucks would be able to produce an excellent flavored coffee.<br /><br />Unfortunately, I feel Starbucks missed the mark, just as they did with the Caramel Flavored Natural Fusions. The Vanilla Flavored Natural Infusions Ground Coffee has almost no vanilla odor and has even less vanilla taste. Since the coffee I purchased was just being put onto the grocer's shelf, I know it was fresh and had not lost scent or flavor due to aging. In an attempt to be sure my dissatisfaction was not due to drinking my coffee black with sweetner only, I added cream to the cup. This did nothing to enhance or elevate the intensity of the vanilla flavor. Rather, this coffee is a very good coffee, but does not have any layers of other flavors, either subtle or more noticeable.  For those looking for a flavored coffee which disguises the taste of coffee, this is definitely not for you.<br /><br />I am less than pleased with Starbucks Natural Fusions Vanilla Flavored coffee and have rated it as an average brew. If you are interested in trying this coffee, visit the manufacturer's website and put the word \"fusions\" in the search box. You will be able to print two coupons for $1.50 off a bag of this coffee so that you can decide for yourself whether Starbucks has produced a brew that meets its usual quality standards.",
                  "count": 2,
                  "_deepnote_index_column": 93560
                },
                {
                  "Text": "So I got this for my Belgian Malinois who is ball-crazy and always destroys both plushy toys and kongs alike. A friend of mine who has a large shepherd said her dog loved to toss it around the house, chew on the treat on the inside, repeat. He absolutely loved it. In hopes mine would love it the same, I got it. BOTH treats were out of the ball in about five minutes(not exaggerating!) but lucky me my dog loved the bounce the ball had and continued to play with it. I put some rolled cooked bacon mixed with raw beef in the very center of it, and he is hard at work right now trying to pry it out of the center. Overall it was a good buy, but not because of the \"challenge\". Only because my dog loves the ball itself. I wouldn't purchase the treat inserts again, thats for sure!",
                  "count": 2,
                  "_deepnote_index_column": 200389
                },
                {
                  "Text": "So after reading the list of things in these i noticed Propylene glycol.<br />While listed safe for most animals, i would not want my dog eating it.<br />It is used in many things as a humidification agent, notably in tobacco products.",
                  "count": 2,
                  "_deepnote_index_column": 200555
                },
                {
                  "Text": "So according to Essentia's website, \"Most bottled waters offer purity but not additional benefits. With Essentia, you get added electrolytes as well as a much higher pH level, providing superior hydration.\"<br /><br />I looked up the additional ingredients and found that it's pretty much filtered water with scant amounts of sodium bicarbonate (baking soda) included.  In fact, each of the other additives (dipotassium phosphate, magnesium sulfat, and calcium chloride) are pretty much added salts.  Factoring that in with the 0s across the board for calories, sodium, carbohydrates, proteins, etc, you're really getting water with ridiculously scant amounts of mineral in it.  Will it make a huge difference in your life, such as giving you a better night sleep or amazingly clear skin?  Probably not - the placebo effect of you believing that you feel better will, though.  When it comes down to it, you can be chugging all this 9.5 ph water, but it won't matter much once you eat something...the acidity or the alkalinity will change immediately once you eat.<br /><br />When it comes to taste, the water actually tastes like the bottle water I chugged in China.  That said, it tastes like water, but with a metallic tinge to it.  It's not bad, but it's something I personally don't like tasting in my water.  If I had to say a water tasted \"silky smooth\", I would immediately turn to Voss water, but that's just me.<br /><br />All in all, it's still water, and if offered it, I would drink it.  But I do ding some stars for taste, hype, and cost.  It's probably cheaper to buy a reverse osmosis distiller over time - at least you can filter enough water the entire family!",
                  "count": 2,
                  "_deepnote_index_column": 200546
                },
                {
                  "Text": "I love Steaz!  Tea is so good for your but it is hard to find a brand that does not contain 40g of sugar.  This product is much lower in sugar and much better for you than soda.",
                  "count": 2,
                  "_deepnote_index_column": 93337
                },
                {
                  "Text": "So I was pleased to see that the cereal arrived before it's intended ship date, however when I poured my first bowl this morning and went for my first bite, I was pretty upset. I let it soak in the milk for a few minutes and then went to grab a big clump for my first bite, when I went to bite into it, it was rock-solid. I mean a hammer couldn't break through this stuff. It turns out all the clumps are the exact same way, and that's my favorite part of the cereal. So I'm still eating it and just not eating the clumps because it still tastes good, I was just ultimately let down by this.",
                  "count": 2,
                  "_deepnote_index_column": 200491
                },
                {
                  "Text": "I love Sumatra coffee and was delighted to find it in the Senseo Pods.  It is a little lighter than the Sumatra I used to brew but still is low acid.<br /><br />There are less pods in these pkgs than in the dark roast.  16 as opposed to 18.<br /><br />I love my Senseo but hate to clean it.",
                  "count": 2,
                  "_deepnote_index_column": 93346
                },
                {
                  "Text": "So I usually drink Arrowhead water, but thought I would try this since drink more ph balanced water is supposed to be good for your health.  The taste was not too far off from my Arrowhead water...the difference I would say is the electrolytes which can have a minor taste.  Overall, was happy with the taste and it did seem to \"quench my thirst\" better.  I only had one bottle to try, so I can't attest to any health benefits, but I would definitely drink it again.",
                  "count": 2,
                  "_deepnote_index_column": 200483
                },
                {
                  "Text": "So I thought thinkthin creamy peanut butter was my favoooorite (but) white chocolate chip has won my heart. I love having one of these when I'm in a rush with a tall glass of unsweetened almond milk ..mmm. They are super good and contain 20 grams of PROTEIN! I love them :). Never have I ordered them from amazon I pick mine up at whole foods/HEB/ or kroger. Try them!",
                  "count": 2,
                  "_deepnote_index_column": 200480
                },
                {
                  "Text": "So I thought these were just regular cappuccino cups, when I got them, I saw the Hazelnut and thought oh boy....much to my surprise, they're very tasty!  I've always been a hazelnut fan, but wow!  They're very creamy and flavorful.  So this will be a re-order when I need to re-stock on my cups, very pleased!!",
                  "count": 2,
                  "_deepnote_index_column": 200479
                },
                {
                  "Text": "I love Sweet Tea.  The Sweeter, the better for me.  This is good, it is sweet, it is drinkable...it does not have artificial sweeteners so it doesn't leave a bad aftertaste.  It doesn't have a strong lemon flavor like some teas have, which is a plus in my book.  If you want a sweetened tea, this is it.  But, if you want a super sweet tea, keep looking.",
                  "count": 2,
                  "_deepnote_index_column": 93359
                },
                {
                  "Text": "I love Teavana teas and am glad I found this one.  So delicious and it relaxes you before bed...or whenever you want to relax.  I add a little liquid lemon stevia and it is amazing!  Try this one you will not be disappointed!",
                  "count": 2,
                  "_deepnote_index_column": 93387
                },
                {
                  "Text": "So I ordered this upon a colleague's recommendation. I figured I would at least try it out. I was extremely surprised at how good PB2 tasted. I am a Reese's and Jif (creamy) fanatic and this is definitely yummy. I strongly recommend this if you are looking to lose weight or watch your caloric intake, while still treating yourself to foods that you enjoy!",
                  "count": 2,
                  "_deepnote_index_column": 200456
                },
                {
                  "Text": "I love The Meadow.  So I guess this review is more about how much I adore this store, than it is about the salt (which by the way is fabulous).  I got my order way faster than I expected, which was nice.  I would recommend purchasing anything from these amazing folks, and even better if you can visit their lovely store in Portland.  This is one of the most romantic stores that exists.  Opening my box of truffle salt, and smelling that fragrant scent, was just not as magical as walking into their gorgeous store filled with flowers, salt, chocolate and wine.  Ah, it is a taste of heaven.<br /><br />The salt's great.  thanks Meadow people.",
                  "count": 2,
                  "_deepnote_index_column": 93400
                },
                {
                  "Text": "So I just have to say this matcha is delicious!  It tastes like a rasberry truffle and the lingering taste after you drink it is exactly like the lingering taste that is left when you eat an actual truffle.  Besides the great taste Red Leaf has terrific customer service!",
                  "count": 2,
                  "_deepnote_index_column": 200429
                },
                {
                  "Text": "I love Timothy's coffee pods, so when I bought a Keurig, naturally I bought Timothy's.  I bought two flavored coffees but they are way too bold and strong for a morning coffee drinker.  I am now trying Gloria Jean, Emeril and Caribou, looking for a pleasant morning cup.  I may consider opening up the K-cups to see if I can dump the contents into a toddy maker, I hate to toss these, but find them unpleasantly harsh.",
                  "count": 2,
                  "_deepnote_index_column": 93414
                },
                {
                  "Text": "I love Tully's Italian Roast. It is my favorite of all the robust coffees available. I bought this 50 pack and when it arrived there was a note that it was \"outdated.\" I was given the opportunity to return it for a refund, but I don't have time to fool around with returns unless absolutely necessary.  This coffee was good enough to keep, but no where as good as it usually is. The coffee is excellent, but the company from whom I purchased this should have not sent me outdated coffee. Obviously, I will never by from this company. I will, however, continue to buy good Tully's Italian Roast.",
                  "count": 2,
                  "_deepnote_index_column": 93439
                },
                {
                  "Text": "So I had to try this flavor as I like the other two ZEVIA Natural Cola - With Stevia (Case of 24) and ZEVIA Natural Twist - With Stevia (Case of 24).<br /><br />I haven't drank Orange Soda since I was a kid and for some reason I don't remember really liking Orange Crush but Zevia Orange is great and my kids love it as well.",
                  "count": 2,
                  "_deepnote_index_column": 200404
                },
                {
                  "Text": "I love Tully's coffee, and I love the convenience and consistency of making coffee by the cup using the K-Cup product. However, when I ordered the Tully's Decaf French Roast, what I received was the Tully's Decaf French Roast BOLD product instead. I didn't really notice it until I made the first cup.<br /><br />Next time, I'd appreciate getting the precise product that I order. The Decaf French Roast BOLD is good, it's Tully's, but it is not what I ordered!<br /><br />DanHill",
                  "count": 2,
                  "_deepnote_index_column": 93443
                },
                {
                  "Text": "Smooth texture, very light. Not too binding like the others. My son didn't have constipation issues with these. great for starters on solids.",
                  "count": 2,
                  "_deepnote_index_column": 200226
                },
                {
                  "Text": "Smooth coffee, but a bit to big for senseo, interestingly all the other Melitta One pod flavors fit just fine in senseo, my fav are french kisses and vanilla haze.",
                  "count": 2,
                  "_deepnote_index_column": 200214
                },
                {
                  "Text": "I love bold, rich coffee--and have never liked de-caf. I really like Tully's regular French Roast, but for health reasons, decided to try Tully's de-caf French Roast. It is so good, that I actually prefer it to regular French Roast now. Great stuff!",
                  "count": 2,
                  "_deepnote_index_column": 93903
                },
                {
                  "Text": "I love all rooibos tea as a decaf wind-down in the evenings (incidentally I've heard South Africans pronounce it closer to roy-bos with a long O). I started out with the Bigelow Asian Pear Rooibos and loved it but thought I would take one for the team and try this one too. To my taste, this is less sweet, less woody and more earthly - I prefer the Bigelow but this might be a better choice for black tea drinkers.",
                  "count": 2,
                  "_deepnote_index_column": 93680
                },
                {
                  "Text": "I love anyhing pomegranite!  Its not too strong and not too week, perfect for a 16ounce bottle of water and can be carried in a purse or briefcase without breaking and spilling all over!",
                  "count": 2,
                  "_deepnote_index_column": 93770
                },
                {
                  "Text": "I love anything \"pumpkin\", so of course this coffee fit the bill.  I find that one cannot go wrong with Green Mountain. All of their seasonal K-cups are great! -Just so you know, I prefer Dunkin'Donuts over Starbucks, so if you are with me on that, you will probably like \"Green Mountain.\" I do not like \"bitter\" coffee.",
                  "count": 2,
                  "_deepnote_index_column": 93771
                },
                {
                  "Text": "I love anything pumpkin flavored, so when I received a promotional bag of this coffee I was very excited. The aroma is great, but unfortunately the pumpkin flavor just isn't strong enough. Of course, I would purchase this if it were on sale and I had a coupon, but it isn't worth the full price.",
                  "count": 2,
                  "_deepnote_index_column": 93782
                },
                {
                  "Text": "Slightly crumbly, but overall a very good cookie.  In my opinion very similar to Chips Ahoy but more airy, less dense.",
                  "count": 2,
                  "_deepnote_index_column": 200047
                },
                {
                  "Text": "I love bananas so, when we got this bars I was pleased with the way they tasted..But the best part is all the good stuff the use to make them.They have a few ingredients..They are 90% raw..Is all good!! They are worth the money!!.I like the fact that they don't contain soy..People think soy is really healthy but is has estrogen components that help you storage fat around your waist..  Anyways buy them!!",
                  "count": 2,
                  "_deepnote_index_column": 93832
                },
                {
                  "Text": "Sleepytime has long been one of my favorites. I love the minty, herbal flavor and the fact that it is caffeine free.  Now, with the Keurig cups, it couldn't be easier to have a hot cup of tea in the afternoon.  Keurig isn't the least expensive way to go, for sure.  Much higher than tea bags.  But it makes a flavorful cup of whatever you brew - tea, coffee, mochas, cider. It's all good.",
                  "count": 2,
                  "_deepnote_index_column": 200039
                },
                {
                  "Text": "Skip this!  I like vanilla coffee. This is a noooo.  Didn't even smell good.  Threw. It. Out.",
                  "count": 2,
                  "_deepnote_index_column": 200022
                },
                {
                  "Text": "Skip eating questionable food from China and demand USA grown food. You can get garlic grown in the USA at your farmer's market. You can also get it from farmers online and distributors such as: spicesinc.com. Or you can search under \"garlic not grown in China\" like I did. It does exist.<br /><br />Please join me in encouraging Amazon to get an organic source of garlic that is from the USA; they currently have none. Let's help our own economy and not buy food from communist China.<br /><br />UPDATE 1/14/12: spicesinc.com carries USA garlic whenever possible, but they can't always find it. When I wrote the review, they had it in stock. I spoke with Greg, the CEO, today and he is searching for more USA sources. Just call to verify when you place your order.<br /><br />Another way to search the internet is to list a state such as: \"California organic garlic powder\".",
                  "count": 2,
                  "_deepnote_index_column": 200017
                },
                {
                  "Text": "I love beef jerky but this is not good in any way.  It's very, very fatty, greasy to the touch and too bland.  Maybe under cooked or something??  It's chewy, not tough chewy but chewy like chicken chewy.  Didn't come on site to write a review but to contact the seller about a refund/return but since I don't think I can, thought I'd warn you so you aren't disappointed like me :(",
                  "count": 2,
                  "_deepnote_index_column": 93840
                },
                {
                  "Text": "I love beef jerky, but my jaw gets tired when I eat too much.  I found this at a gas station in Montana while traveling, and it was great.  I looked all over for it when I got home, but no one carries it locally.  Thanks to Amazon, I can now order jerky any time I want.",
                  "count": 2,
                  "_deepnote_index_column": 93842
                },
                {
                  "Text": "I love beef jerky. It is one of my favorite snacks and these are awesome. They have a unique taste unlike anything else on the market.  Calling them \"extra smokey\" is not a joke. You can smell the smoke in the bag, and on the meat. After the first bite I thought, \"wow never had anything like that before\" then I though \"I want more.\"<br />These are pretty tough, but I like tougher jerky. The soft stuff is not for me at all.  These are salty, but traditional type dried meat is supposed to be and they say this is an \"old world\" recipe. Like another reviewer stated, I was well taken care of by Choo Choo R snacks when a problem came up that was not of their control. Customer service is great. I have tried a few products in the Buffalo Bills line, and this to me is by far the best. I have had nothing like this before, and I like-em.",
                  "count": 2,
                  "_deepnote_index_column": 93845
                },
                {
                  "Text": "Sinfully good! I wish they were healthier, but they are crispy, sweet, and the cinnamon just puts it over the top! They didn't last 3 days at my house. I'll be ordering more.",
                  "count": 2,
                  "_deepnote_index_column": 199972
                },
                {
                  "Text": "I love being able to make coffee on the run - and am very happy with the K-Cups.  I liked the auto-delivery discount but was very disappointed with all the extra packaging before.  This is a wonderful alternative.  This coffee is strong - so if you like a mellow coffee try a different Coffee People blend.  I love the flavor and the kick!",
                  "count": 2,
                  "_deepnote_index_column": 93857
                },
                {
                  "Text": "Since we have found the San Francisco brand of K-cups for Keurig brewers, we will NEVER go back to the enclosed K-cups.<br />We love ALL the San Francisco blends.  The French Roast is perfect for a bolder cup, it also seems to be the only one in Decaf which my husband uses...I like either the Rainforest or Breakfast Blend for a softer cup in the evening.<br />We live above 7,000 feet elevation in Colorado and had trouble with the enclosed cups because of the pressure created inside so we had to puncture the tops with a toothpick before placing them in the machine, otherwise the grounds would shoot up into the water spout and cause it to clog up...<br />With the mesh type cup of the San Francisco brand, this never happens and I have noticed there is no more coffee ground residue to be cleaned out of the cup area either.<br />I only put a few at a time in the 'coffee basket' each day and keep the rest in their package, folded and clipped to keep them semi airtight..<br />We LOVE them all and they have solved any of the functional problems we occasionally had with the brewer.",
                  "count": 2,
                  "_deepnote_index_column": 199942
                },
                {
                  "Text": "I love blow pops. They taste great and last a long time. They have a big problem. It's very difficult to remove the wrapper. What happens is the wrapper sticks to the stick and you can't pull it off. They must use super glue. You might think it's a safety feature, but you can take the wrapper off the portion that covers the edible part fairly easily. You're forced to eat the lollipop with a plastic wrapper in your mouth. What I do is if the wrapper doesn't come off, I throw it out and try another. So instead of 100 lollipops per box, I get maybe 80 or so I can actually eat.",
                  "count": 2,
                  "_deepnote_index_column": 93887
                },
                {
                  "Text": "Since we first got our dog, a Siberian Husky named River, she always have reactions to everything. She first had a reaction to the chicken in the puppy food. Salmon was good for a while but only a certain kind. We've always had her on Blue Buffalo and our other dogs as well but it was causing too many issues. We found this brand and slowly introduced it into her bland diet per the vet's instructions and no problems yet! She only poops about twice a day & our other 2 dogs (corgis) are about to be switched to it since they poop 4-5 times a day! On the plus side as well that it's cheaper than Blue Buffalo!",
                  "count": 2,
                  "_deepnote_index_column": 199936
                },
                {
                  "Text": "Since we eat quite a bit of salmon we've found this seasoning to be essential to our enjoyment of it. We've never tried it on other foods, but it would probably be great on a lot of things.",
                  "count": 2,
                  "_deepnote_index_column": 199935
                },
                {
                  "Text": "I love all the baby food my baby eats but this tasted horrible.  I think the ascorbic acid in the bananas makes it taste funny.  It's a little bit bitter and doesn't really taste like a fresh mushed up banana.  I'm going to try giving him fresh banana instead.  Don't stock up until you know they love the taste.",
                  "count": 2,
                  "_deepnote_index_column": 93710
                },
                {
                  "Text": "Smart Puffs are a really delicious and healthy snack. The ingredients are all  natural, the fat content is low and they are baked not fried.My kids really like these, today I am ordering my second case. Great low price too!!",
                  "count": 2,
                  "_deepnote_index_column": 200108
                },
                {
                  "Text": "I love a cup of bold black tea to start off my day.  Twinings English Breakfast K-cups fit that bill perfectly.  They are stronger than traditional tea bags and have a nice bold flavor.",
                  "count": 2,
                  "_deepnote_index_column": 93561
                },
                {
                  "Text": "Smart product, even smarter cat.  For the first couple days we were so happy not to have to force pills down kitty's throat...then she figured out the pills are inside and stopped eating them.  Worth a try tho!",
                  "count": 2,
                  "_deepnote_index_column": 200112
                },
                {
                  "Text": "I love a good cup of coffee, but I'm definitely not a coffee snob.  Some of my best cups are diner coffee (to give you an indication of my equal opportunity pallet).  I foud this one to be too overpowered by the Vanilla.  Even after I mixed it 50/50 with a non flavored coffee it still was too much \"flavor\" for my tastes.  The aroma hit me before each sip and was distracting.  If your looking for a subtel flavor I suggest buying a regular coffee and adding your own.",
                  "count": 2,
                  "_deepnote_index_column": 93571
                },
                {
                  "Text": "Smells wonderful, tastes great with a little sugar and vegan creamer.<br />Not as strong as I like but with Keurig cups, it never is.",
                  "count": 2,
                  "_deepnote_index_column": 200183
                },
                {
                  "Text": "I love a nice homemade bowl of oatmeal with butter, cinnamon, honey and fruit. This is just as tasty, but better since it comes right out of a box.<br /><br />  I love the taste with a hint of cinnamon, just as promised on the box.  It's slightly sweet and very crunchy.  Don't use much milk if you want it to stay crunchy.  A healthy snack and breakfast.  I do feel good after eating a serving size bow, with a splash of milk.  A good way to get those great grains into your day.",
                  "count": 2,
                  "_deepnote_index_column": 93603
                },
                {
                  "Text": "Smells like it's been dipped in chemicals.  My dog loves them, but I can't see how they can be healthy with that coating.  They will dirty light-colored carpets.",
                  "count": 2,
                  "_deepnote_index_column": 200163
                },
                {
                  "Text": "I love a really bold cup of coffee. I wish StarBuck would make pods.<br />I was disappointed with the Jet Fuel so I ordered the Bold Coffee variety pack.<br />For me the Black Tiger is better.<br />I will be ordering that one from now on.",
                  "count": 2,
                  "_deepnote_index_column": 93607
                },
                {
                  "Text": "Smells great... too bad it didn't taste good too. I tasted no vanilla, and the coffee itself was very bitter for a medium roast. I wouldn't buy this product myself as I like to have FLAVOR in my flavored coffee and I don't think this had any. Overall, it was a disappointment.",
                  "count": 2,
                  "_deepnote_index_column": 200154
                },
                {
                  "Text": "I love a really rich dark coffee. I thought I would give the fog chaser a try. The price was nice and I liked the idea of alot less plastic. I could tell when I opened the box that I was going to love the taste! Nice strong coffee!! Brought some to work with me and one of the Doctors I work with is going to order some. Will be ordering more myself.",
                  "count": 2,
                  "_deepnote_index_column": 93609
                },
                {
                  "Text": "Smells good, tastes good, and the price is right! I love the cup design- it's not a k-cup but is compatible and it seems more environmentally friendly- the top is the same and the bottom is a sturdy filter instead of a plastic cup, I actually prefer this design. This is our new coffee!",
                  "count": 2,
                  "_deepnote_index_column": 200144
                },
                {
                  "Text": "Smells good, makes me feel clean, feels good while applying to my body in the shower. Never thought I would be reviewing shower gel but Amazon sent me an email to do so....and I do everything Amazon says. This is good stuff thought. I also have the other varieties and they all are nice.",
                  "count": 2,
                  "_deepnote_index_column": 200142
                },
                {
                  "Text": "Smells good, lathers well, easy on the body. I highly recommend this product to all the fellas out there! You will love it!",
                  "count": 2,
                  "_deepnote_index_column": 200141
                },
                {
                  "Text": "Smells a lot like curry.....the capsules could be of better quality in terms of packaging , but this product absolutely works. I have twins and I dont even take the capsules as often as recommended but I am seeing an increase in my milk production.",
                  "count": 2,
                  "_deepnote_index_column": 200129
                },
                {
                  "Text": "Smells (and tastes) awful to me, but baby seems to like it! We like this brand for baby prunes as well, as the formula has iron that constipates baby.",
                  "count": 2,
                  "_deepnote_index_column": 200126
                },
                {
                  "Text": "Smelled wonderful as I was brewing it. Sadly, it smells more blueberry than it really tastes-however! I do have a bit of a cold, so I may not be tasting in it fully. I just added creamer and it was splendid. Would totally order again. Really awesome with fresh scones.",
                  "count": 2,
                  "_deepnote_index_column": 200125
                },
                {
                  "Text": "I love a strong hazelnut flavor, but this KCup coffee is too mild for me. If you like a hint of hazelnut then this coffee is for you.",
                  "count": 2,
                  "_deepnote_index_column": 93613
                },
                {
                  "Text": "Smell good, nice texture, but i am a little disappointment because one of the ingredients are PETROLATUM. Why Dove use that ingredient?",
                  "count": 2,
                  "_deepnote_index_column": 200119
                },
                {
                  "Text": "I love all of Chef Paul seasonings. Poultry, Veal & Pork, Meat..... I make a lot of his recipies so I like to buy it in this size can.",
                  "count": 2,
                  "_deepnote_index_column": 93648
                },
                {
                  "Text": "I love all of the Blue Diamond Almond flavors and they are my favorite snack. This one is one of my favorite flavors and I eat these almonds for a snack because I view them as being healthier than other types of snack foods. This flavor is ideal as you get the freshness of perfectly roasted almonds with just a little dose of salt.<br /><br />One serving of these nuts is 170 Calories and it contains 6 grams of protein, 5 grams of carbohydrates, 3 grams of fiber and only 1 gram of sugar and 1 gram of saturated fat. You also get calcium, vitamin E and magnesium from the almonds which are good for your body, heart and bones. I would rather eat 28 of these almonds for 170 calories than 11 potato chips for the same calories and none of the dietary benefits.<br /><br />This flavor has only 2% of your daily intake of sodium which is good for any snack food.<br /><br />The only problem with these almonds is that they taste so good you have to be able to close the can and walk away. If you don't like the super bold and spicy flavors then this flavor is the perfect one for you. This is as good as it gets in snack foods and good for your body and diet.<br /><br />I like all of the Blue Diamond Almond products as I feel that they are healthier for you as long as you don't overdo it in eating them.",
                  "count": 2,
                  "_deepnote_index_column": 93661
                },
                {
                  "Text": "\"BUFFY\" LOOKS FORWARD TO HER \"TOY\" EVERY AFTERNOON.  MY BIGGEST FEAR IS RUNNING OUT OF REFILLS BEFORE I CAN ORDER AND RECEIVE MORE.",
                  "count": 2,
                  "_deepnote_index_column": 26
                }
              ]
            },
            "text/plain": "                                                     Text  count\n265760  This review will make me sound really stupid, ...    140\n22744   Diamond Almonds<br />Almonds are a good source...     94\n84958   I have two cats, one 6 and one 2 years old. Bo...     41\n215118  The pet food industry can be one of the most i...     37\n136541  I'm addicted to salty and tangy flavors, so wh...     32\n...                                                   ...    ...\n93613   I love a strong hazelnut flavor, but this KCup...      2\n200119  Smell good, nice texture, but i am a little di...      2\n93648   I love all of Chef Paul seasonings. Poultry, V...      2\n93661   I love all of the Blue Diamond Almond flavors ...      2\n26      \"BUFFY\" LOOKS FORWARD TO HER \"TOY\" EVERY AFTER...      2\n\n[46054 rows x 2 columns]",
            "text/html": "<div>\n<style scoped>\n    .dataframe tbody tr th:only-of-type {\n        vertical-align: middle;\n    }\n\n    .dataframe tbody tr th {\n        vertical-align: top;\n    }\n\n    .dataframe thead th {\n        text-align: right;\n    }\n</style>\n<table border=\"1\" class=\"dataframe\">\n  <thead>\n    <tr style=\"text-align: right;\">\n      <th></th>\n      <th>Text</th>\n      <th>count</th>\n    </tr>\n  </thead>\n  <tbody>\n    <tr>\n      <th>265760</th>\n      <td>This review will make me sound really stupid, ...</td>\n      <td>140</td>\n    </tr>\n    <tr>\n      <th>22744</th>\n      <td>Diamond Almonds&lt;br /&gt;Almonds are a good source...</td>\n      <td>94</td>\n    </tr>\n    <tr>\n      <th>84958</th>\n      <td>I have two cats, one 6 and one 2 years old. Bo...</td>\n      <td>41</td>\n    </tr>\n    <tr>\n      <th>215118</th>\n      <td>The pet food industry can be one of the most i...</td>\n      <td>37</td>\n    </tr>\n    <tr>\n      <th>136541</th>\n      <td>I'm addicted to salty and tangy flavors, so wh...</td>\n      <td>32</td>\n    </tr>\n    <tr>\n      <th>...</th>\n      <td>...</td>\n      <td>...</td>\n    </tr>\n    <tr>\n      <th>93613</th>\n      <td>I love a strong hazelnut flavor, but this KCup...</td>\n      <td>2</td>\n    </tr>\n    <tr>\n      <th>200119</th>\n      <td>Smell good, nice texture, but i am a little di...</td>\n      <td>2</td>\n    </tr>\n    <tr>\n      <th>93648</th>\n      <td>I love all of Chef Paul seasonings. Poultry, V...</td>\n      <td>2</td>\n    </tr>\n    <tr>\n      <th>93661</th>\n      <td>I love all of the Blue Diamond Almond flavors ...</td>\n      <td>2</td>\n    </tr>\n    <tr>\n      <th>26</th>\n      <td>\"BUFFY\" LOOKS FORWARD TO HER \"TOY\" EVERY AFTER...</td>\n      <td>2</td>\n    </tr>\n  </tbody>\n</table>\n<p>46054 rows × 2 columns</p>\n</div>"
          },
          "metadata": {}
        }
      ]
    },
    {
      "cell_type": "markdown",
      "source": "We've discovered that 46,054 reviews have duplicates, with one even having as many as 140 duplicates.",
      "metadata": {
        "cell_id": "00034-59841992-a53f-46ef-b8e8-5b13373f7475",
        "deepnote_cell_type": "markdown"
      }
    },
    {
      "cell_type": "code",
      "metadata": {
        "cell_id": "00035-bf212b1b-c66e-404e-8682-0c02aeb077cb",
        "deepnote_to_be_reexecuted": false,
        "source_hash": "2007f58",
        "execution_millis": 12,
        "execution_start": 1612899484342,
        "deepnote_cell_type": "code"
      },
      "source": "data.shape",
      "execution_count": null,
      "outputs": [
        {
          "output_type": "execute_result",
          "execution_count": 26,
          "data": {
            "text/plain": "(426305, 13)"
          },
          "metadata": {}
        }
      ]
    },
    {
      "cell_type": "code",
      "metadata": {
        "cell_id": "00036-368293b6-7f41-4405-bf30-236148b721b8",
        "deepnote_to_be_reexecuted": false,
        "source_hash": "67b55dc7",
        "execution_millis": 818,
        "execution_start": 1612899484349,
        "deepnote_cell_type": "code"
      },
      "source": "data.drop_duplicates(subset='Text', keep='first', inplace=True)\ndata.shape",
      "execution_count": null,
      "outputs": [
        {
          "output_type": "execute_result",
          "execution_count": 27,
          "data": {
            "text/plain": "(308235, 13)"
          },
          "metadata": {}
        }
      ]
    },
    {
      "cell_type": "markdown",
      "source": "We have removed 118,070 duplicated entries",
      "metadata": {
        "cell_id": "00037-f6067eda-2a62-45aa-bb49-501b22fff439",
        "deepnote_cell_type": "markdown"
      }
    },
    {
      "cell_type": "code",
      "metadata": {
        "cell_id": "00038-fed5e24f-c87f-4d70-b4e3-8ec7563be7ee",
        "deepnote_to_be_reexecuted": false,
        "source_hash": "f689d95e",
        "execution_millis": 1271,
        "execution_start": 1612899485097,
        "deepnote_cell_type": "code"
      },
      "source": "counts = data.groupby('Text').size().reset_index(name='count')\ncounts[counts['count']>1].sort_values('count', ascending=False)",
      "execution_count": null,
      "outputs": [
        {
          "output_type": "execute_result",
          "execution_count": 28,
          "data": {
            "application/vnd.deepnote.dataframe.v2+json": {
              "row_count": 0,
              "column_count": 2,
              "columns": [
                {
                  "name": "Text",
                  "dtype": "object",
                  "stats": {
                    "unique_count": 0,
                    "nan_count": 0,
                    "categories": []
                  }
                },
                {
                  "name": "count",
                  "dtype": "int64",
                  "stats": {
                    "unique_count": 0,
                    "nan_count": 0,
                    "min": null,
                    "max": null,
                    "histogram": [
                      {
                        "bin_start": 0,
                        "bin_end": 0.1,
                        "count": 0
                      },
                      {
                        "bin_start": 0.1,
                        "bin_end": 0.2,
                        "count": 0
                      },
                      {
                        "bin_start": 0.2,
                        "bin_end": 0.30000000000000004,
                        "count": 0
                      },
                      {
                        "bin_start": 0.30000000000000004,
                        "bin_end": 0.4,
                        "count": 0
                      },
                      {
                        "bin_start": 0.4,
                        "bin_end": 0.5,
                        "count": 0
                      },
                      {
                        "bin_start": 0.5,
                        "bin_end": 0.6000000000000001,
                        "count": 0
                      },
                      {
                        "bin_start": 0.6000000000000001,
                        "bin_end": 0.7000000000000001,
                        "count": 0
                      },
                      {
                        "bin_start": 0.7000000000000001,
                        "bin_end": 0.8,
                        "count": 0
                      },
                      {
                        "bin_start": 0.8,
                        "bin_end": 0.9,
                        "count": 0
                      },
                      {
                        "bin_start": 0.9,
                        "bin_end": 1,
                        "count": 0
                      }
                    ]
                  }
                },
                {
                  "name": "_deepnote_index_column",
                  "dtype": "int64"
                }
              ],
              "rows_top": [],
              "rows_bottom": null
            },
            "text/plain": "Empty DataFrame\nColumns: [Text, count]\nIndex: []",
            "text/html": "<div>\n<style scoped>\n    .dataframe tbody tr th:only-of-type {\n        vertical-align: middle;\n    }\n\n    .dataframe tbody tr th {\n        vertical-align: top;\n    }\n\n    .dataframe thead th {\n        text-align: right;\n    }\n</style>\n<table border=\"1\" class=\"dataframe\">\n  <thead>\n    <tr style=\"text-align: right;\">\n      <th></th>\n      <th>Text</th>\n      <th>count</th>\n    </tr>\n  </thead>\n  <tbody>\n  </tbody>\n</table>\n</div>"
          },
          "metadata": {}
        }
      ]
    },
    {
      "cell_type": "markdown",
      "source": "We can see that we do not have any more duplicates",
      "metadata": {
        "cell_id": "00039-8af39e7c-a6fb-4bcc-a0cf-1cfb837ebc04",
        "deepnote_cell_type": "markdown"
      }
    },
    {
      "cell_type": "markdown",
      "source": "<a style='text-decoration:none;line-height:16px;display:flex;color:#5B5B62;padding:10px;justify-content:end;' href='https://deepnote.com?utm_source=created-in-deepnote-cell&projectId=5f7cd34f-fff5-42b6-b8d8-aed6c2192391' target=\"_blank\">\n<img style='display:inline;max-height:16px;margin:0px;margin-right:7.5px;' src='data:image/svg+xml;base64,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' > </img>\nCreated in <span style='font-weight:600;margin-left:4px;'>Deepnote</span></a>",
      "metadata": {
        "tags": [],
        "created_in_deepnote_cell": true,
        "deepnote_cell_type": "markdown"
      }
    }
  ],
  "nbformat": 4,
  "nbformat_minor": 4,
  "metadata": {
    "kernelspec": {
      "display_name": "Python 3",
      "language": "python",
      "name": "python3"
    },
    "language_info": {
      "codemirror_mode": {
        "name": "ipython",
        "version": 3
      },
      "file_extension": ".py",
      "mimetype": "text/x-python",
      "name": "python",
      "nbconvert_exporter": "python",
      "pygments_lexer": "ipython3",
      "version": "3.8.3"
    },
    "deepnote_notebook_id": "5cc076e9-84cf-42c5-801e-3d9dabb16655",
    "deepnote_execution_queue": [],
    "deepnote": {}
  }
}